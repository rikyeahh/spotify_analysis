{
 "cells": [
  {
   "cell_type": "code",
   "execution_count": 34,
   "id": "d11467d4",
   "metadata": {},
   "outputs": [],
   "source": [
    "import pandas as pd\n",
    "\n",
    "a = pd.read_csv(r'.\\lsb_.csv', encoding = \"utf-8\")\n",
    "b = pd.read_csv(r'.\\lsb.csv', encoding = \"utf-8\")\n",
    "\n",
    "a = a.sort_values('Track Name').reset_index(drop=True)\n",
    "b = b.sort_values('Song').reset_index(drop=True)"
   ]
  },
  {
   "cell_type": "code",
   "execution_count": 35,
   "id": "774769a7",
   "metadata": {},
   "outputs": [],
   "source": [
    "a = a.sort_values('Track Name').reset_index(drop=True)\n",
    "b = b.sort_values('Song').reset_index(drop=True)\n"
   ]
  },
  {
   "cell_type": "code",
   "execution_count": 36,
   "id": "0581c47f",
   "metadata": {},
   "outputs": [],
   "source": [
    "concat = pd.concat([a, b], axis=1)\n",
    "concat[[\"Track Name\", \"Song\"]].head(10)\n",
    "concat = concat.loc[:,~concat.columns.duplicated()].copy()"
   ]
  },
  {
   "cell_type": "code",
   "execution_count": 37,
   "id": "665b3c70",
   "metadata": {},
   "outputs": [],
   "source": [
    "concat[\"MinorMajor\"] = concat[\"Mode\"].map({1: \"Major\", 0: \"Minor\"})"
   ]
  },
  {
   "cell_type": "code",
   "execution_count": 38,
   "id": "bfe129e1",
   "metadata": {},
   "outputs": [],
   "source": [
    "columns_to_delete = [\"Track Name\", \"#\", \"Spotify Track Id\", \"Artist Name(s)\", \"Loud (Db)\", \"Camelot\", \"Album Date\", \"Mode\", \"Live\", \"Album Name\", \"Instrumental\", \"Loudness\", \"Acoustic\", \"Time\", \"Speech\", \"Dance\", \"Tempo\", \"Valence\"]\n",
    "for col in columns_to_delete:\n",
    "    if col in concat.columns:\n",
    "        concat = concat.drop(columns=col)"
   ]
  },
  {
   "cell_type": "code",
   "execution_count": 39,
   "id": "b6b00c15",
   "metadata": {},
   "outputs": [],
   "source": [
    "username_to_user = {\n",
    "    \"3172n4ykfida5xhdvoynxxppdkoa\": \"Riccardo\",\n",
    "    \"velvetvals\": \"Valentina\",\n",
    "    \"mralecolo\": \"Alessandro\",\n",
    "    \"15ap198hsn5e4balkq3gqjv3t\": \"Giulia\",\n",
    "    \"bob_varney\": \"Pietro\",\n",
    "    \"316ds5hibyn3gvdiaeoukbfd7one\": \"Lidia\",\n",
    "}\n",
    "concat[\"Added By\"] = concat[\"Added By\"].apply(lambda x: username_to_user.get(x, x))"
   ]
  },
  {
   "cell_type": "code",
   "execution_count": 40,
   "id": "f854b528",
   "metadata": {},
   "outputs": [
    {
     "data": {
      "text/plain": [
       "Added By\n",
       "Riccardo      35\n",
       "Alessandro    35\n",
       "Giulia        35\n",
       "Lidia         35\n",
       "Pietro        35\n",
       "Valentina     11\n",
       "Name: count, dtype: int64"
      ]
     },
     "execution_count": 40,
     "metadata": {},
     "output_type": "execute_result"
    }
   ],
   "source": [
    "concat[\"Added By\"].value_counts()"
   ]
  },
  {
   "cell_type": "code",
   "execution_count": 41,
   "id": "4c46fed0",
   "metadata": {},
   "outputs": [],
   "source": [
    "df = concat"
   ]
  },
  {
   "cell_type": "markdown",
   "id": "e041d05e",
   "metadata": {},
   "source": [
    "# 1. Landing page"
   ]
  },
  {
   "cell_type": "code",
   "execution_count": 42,
   "id": "40f787fb",
   "metadata": {},
   "outputs": [
    {
     "name": "stdout",
     "output_type": "stream",
     "text": [
      "SPOTIFY PLAYLIST ANALYSIS\n"
     ]
    }
   ],
   "source": [
    "print(\"SPOTIFY PLAYLIST ANALYSIS\")"
   ]
  },
  {
   "cell_type": "markdown",
   "id": "5c7d1ab0",
   "metadata": {},
   "source": [
    "# 2. General info"
   ]
  },
  {
   "cell_type": "code",
   "execution_count": 43,
   "id": "067fd62e",
   "metadata": {},
   "outputs": [
    {
     "name": "stdout",
     "output_type": "stream",
     "text": [
      "186 songs in the playlist\n",
      "Total duration: 12 hours and 0 minutes\n"
     ]
    }
   ],
   "source": [
    "print(df.shape[0], \"songs in the playlist\")\n",
    "hours = df[\"Duration (ms)\"].sum() / 3600000\n",
    "remaining_minutes = (hours - int(hours)) * 60\n",
    "print(f\"Total duration: {int(hours)} hours and {int(remaining_minutes)} minutes\")"
   ]
  },
  {
   "cell_type": "markdown",
   "id": "053189d6",
   "metadata": {},
   "source": [
    "# 3. Time"
   ]
  },
  {
   "cell_type": "code",
   "execution_count": 44,
   "id": "60ff61e2",
   "metadata": {},
   "outputs": [
    {
     "data": {
      "text/plain": [
       "Added By\n",
       "Riccardo      35\n",
       "Alessandro    35\n",
       "Giulia        35\n",
       "Lidia         35\n",
       "Pietro        35\n",
       "Valentina     11\n",
       "Name: count, dtype: int64"
      ]
     },
     "execution_count": 44,
     "metadata": {},
     "output_type": "execute_result"
    }
   ],
   "source": [
    "# TODO nostre immagini profilo con counter\n",
    "df[\"Added By\"].value_counts()"
   ]
  },
  {
   "cell_type": "code",
   "execution_count": 12,
   "id": "c7263bfd",
   "metadata": {},
   "outputs": [],
   "source": [
    "df[\"Added At\"] = pd.to_datetime(df[\"Added At\"])"
   ]
  },
  {
   "cell_type": "code",
   "execution_count": 33,
   "id": "52032a14",
   "metadata": {},
   "outputs": [
    {
     "data": {
      "application/vnd.plotly.v1+json": {
       "config": {
        "plotlyServerURL": "https://plot.ly"
       },
       "data": [
        {
         "customdata": [
          [
           "9 PM (Till I Come) - Radio Edit",
           [
            "ATB"
           ]
          ],
          [
           "ANDIAMO",
           [
            "Ardian Bujupi",
            "Capital T"
           ]
          ],
          [
           "Ain't No Mountain High Enough",
           [
            "Marvin Gaye",
            "Tammi Terrell"
           ]
          ],
          [
           "Cocaine Sunday",
           [
            "Eyedress"
           ]
          ],
          [
           "Comet",
           [
            "L I M"
           ]
          ],
          [
           "DDU-DU DDU-DU",
           [
            "BLACKPINK"
           ]
          ],
          [
           "Doomad",
           [
            "Shahram Shabpareh"
           ]
          ],
          [
           "Doot Doot",
           [
            "Freur"
           ]
          ],
          [
           "Father Stretch My Hands Pt. 1",
           [
            "Kanye West"
           ]
          ],
          [
           "Fire Meet Gasoline",
           [
            "Sia"
           ]
          ],
          [
           "Get Free",
           [
            "Major Lazer",
            "Amber of Dirty Projectors"
           ]
          ],
          [
           "I Can't Say No! - Broiler Remix",
           [
            "Lea Rue",
            "Broiler"
           ]
          ],
          [
           "Latch",
           [
            "Disclosure",
            "Sam Smith"
           ]
          ],
          [
           "One More Try - Remastered",
           [
            "George Michael"
           ]
          ],
          [
           "Ridin Round",
           [
            "Kali Uchis"
           ]
          ],
          [
           "SHYNE",
           [
            "Travis Scott",
            "GloRilla"
           ]
          ],
          [
           "SHYNESS BOY",
           [
            "Anri"
           ]
          ],
          [
           "Say It",
           [
            "Flume",
            "Tove Lo"
           ]
          ],
          [
           "Scusa - prod. thasup",
           [
            "Mara Sattei"
           ]
          ],
          [
           "September",
           [
            "Earth",
            " Wind & Fire"
           ]
          ],
          [
           "Sh-Boom",
           [
            "The Chords"
           ]
          ],
          [
           "Show Me Love",
           [
            "Robin S"
           ]
          ],
          [
           "Spacco Tutto",
           [
            "Club Dogo"
           ]
          ],
          [
           "Spirit Season",
           [
            "Blank Banshee"
           ]
          ],
          [
           "Stereo Love",
           [
            "Edward Maya",
            "Vika Jigulina"
           ]
          ],
          [
           "The Kill",
           [
            "Thirty Seconds To Mars"
           ]
          ],
          [
           "To Ü (feat. AlunaGeorge)",
           [
            "Jack Ü",
            "Skrillex",
            "Diplo",
            "Aluna",
            "AlunaGeorge"
           ]
          ],
          [
           "Tunak Tunak Tun",
           [
            "Daler Mehndi"
           ]
          ],
          [
           "Twilight",
           [
            "bôa"
           ]
          ],
          [
           "Una cosa stupida",
           [
            "i cani"
           ]
          ],
          [
           "Weapon",
           [
            "CAZZETTE"
           ]
          ],
          [
           "Welcome To The Disco",
           [
            "Yung Bae",
            "Macross 82-99"
           ]
          ],
          [
           "abcdefu (angrier)",
           [
            "GAYLE"
           ]
          ],
          [
           "Зима в сердце",
           [
            "Moya Mishel"
           ]
          ],
          [
           "Тоска",
           [
            "Molchat Doma"
           ]
          ]
         ],
         "hovertemplate": "<b>%{customdata[0]}</b><br>Artist: %{customdata[1]}<br>Added by: Riccardo<br>Date: %{x}<br><extra></extra>",
         "marker": {
          "color": "rgb(228,26,28)",
          "line": {
           "color": "white",
           "width": 1
          },
          "opacity": 0.7,
          "size": 8
         },
         "mode": "markers",
         "name": "Riccardo",
         "type": "scatter",
         "x": [
          "2025-09-07T14:53:23.000000000",
          "2025-08-19T20:24:16.000000000",
          "2025-09-14T10:57:05.000000000",
          "2025-09-03T14:49:44.000000000",
          "2025-09-14T11:10:13.000000000",
          "2025-08-07T13:52:36.000000000",
          "2025-08-19T20:35:50.000000000",
          "2025-08-11T10:25:11.000000000",
          "2025-09-14T10:36:44.000000000",
          "2025-09-07T14:55:48.000000000",
          "2025-08-11T10:00:28.000000000",
          "2025-09-03T14:49:25.000000000",
          "2025-09-07T14:55:19.000000000",
          "2025-08-11T10:26:26.000000000",
          "2025-08-11T10:25:24.000000000",
          "2025-08-07T13:54:36.000000000",
          "2025-08-19T20:19:52.000000000",
          "2025-08-07T13:52:22.000000000",
          "2025-08-25T17:09:37.000000000",
          "2025-09-03T14:51:15.000000000",
          "2025-09-14T10:56:19.000000000",
          "2025-08-07T13:55:09.000000000",
          "2025-08-25T17:09:00.000000000",
          "2025-09-07T14:56:09.000000000",
          "2025-09-07T14:53:45.000000000",
          "2025-08-25T17:09:11.000000000",
          "2025-08-11T10:36:07.000000000",
          "2025-08-19T20:54:53.000000000",
          "2025-09-03T14:49:05.000000000",
          "2025-08-25T17:08:20.000000000",
          "2025-09-03T14:50:17.000000000",
          "2025-09-14T11:03:21.000000000",
          "2025-08-25T17:08:39.000000000",
          "2025-08-19T20:26:55.000000000",
          "2025-08-07T13:52:19.000000000"
         ],
         "y": [
          0.0014373469186247621,
          0.005369989431170936,
          -0.10934960296457952,
          -0.04297984334825219,
          -0.08359818622052269,
          0.02069088017069544,
          0.00040874890534147015,
          0.06587570038427012,
          0.03526446752668759,
          0.09756979999454568,
          -0.008701610226305202,
          0.06649843327920701,
          0.045369810285050965,
          -0.09523334873895643,
          0.021364301517909363,
          0.086018029785602,
          -0.02306736284886754,
          0.01860411257577351,
          0.04965679723344968,
          -0.05010608254599213,
          0.035576051334834505,
          0.1533911221627188,
          0.09138078173470444,
          0.012684551867201358,
          -0.0017265805172985785,
          0.10324805812812149,
          0.04946663188649969,
          -0.07958734447662873,
          0.1195122802457051,
          0.09548984652009734,
          0.0507675025223734,
          0.024469760510293592,
          -0.05426968579335481,
          0.14832666038693132,
          0.21324984197762253
         ]
        },
        {
         "customdata": [
          [
           "Alter Ego (with JT)",
           [
            "Doechii",
            "JT"
           ]
          ],
          [
           "Back On 74",
           [
            "Jungle"
           ]
          ],
          [
           "Burnin' Up",
           [
            "Jonas Brothers"
           ]
          ],
          [
           "DARE (feat. Shaun Ryder & Roses Gabor)",
           [
            "Gorillaz",
            "Shaun Ryder",
            "Roses Gabor"
           ]
          ],
          [
           "Everybody (Backstreet's Back) - Radio Edit",
           [
            "Backstreet Boys"
           ]
          ],
          [
           "GIOVANNA HARDCORE",
           [
            "M¥SS KETA"
           ]
          ],
          [
           "I'm Outta Love",
           [
            "Anastacia"
           ]
          ],
          [
           "I'm with You",
           [
            "Avril Lavigne"
           ]
          ],
          [
           "Love Me",
           [
            "The 1975"
           ]
          ],
          [
           "Telephone",
           [
            "Lady Gaga",
            "Beyoncé"
           ]
          ],
          [
           "Welcome To My Island - George Daniel & Charli XCX Remix",
           [
            "Caroline Polachek",
            "Charli xcx",
            "George Daniel"
           ]
          ]
         ],
         "hovertemplate": "<b>%{customdata[0]}</b><br>Artist: %{customdata[1]}<br>Added by: Valentina<br>Date: %{x}<br><extra></extra>",
         "marker": {
          "color": "rgb(55,126,184)",
          "line": {
           "color": "white",
           "width": 1
          },
          "opacity": 0.7,
          "size": 8
         },
         "mode": "markers",
         "name": "Valentina",
         "type": "scatter",
         "x": [
          "2025-08-10T20:23:15.000000000",
          "2025-08-10T20:38:23.000000000",
          "2025-09-07T15:31:01.000000000",
          "2025-08-12T10:26:12.000000000",
          "2025-09-07T15:21:37.000000000",
          "2025-09-08T05:27:40.000000000",
          "2025-08-10T18:24:13.000000000",
          "2025-09-07T15:27:51.000000000",
          "2025-09-07T15:35:45.000000000",
          "2025-08-10T20:17:59.000000000",
          "2025-08-09T11:20:42.000000000"
         ],
         "y": [
          0.17006805933468996,
          0.17997744622868045,
          0.43139993130115317,
          0.30140635422705553,
          0.18285817932429432,
          0.09590199243641459,
          0.4176319301449548,
          0.31819382430894577,
          0.23314718324777148,
          0.28632623563912313,
          0.37781245823932846
         ]
        },
        {
         "customdata": [
          [
           "Apho",
           [
            "Alfa Mist",
            "Bongeziwe Mabandla"
           ]
          ],
          [
           "BIZCOCHITO",
           [
            "ROSALÍA"
           ]
          ],
          [
           "Be Quiet and Drive (Far Away)",
           [
            "Deftones"
           ]
          ],
          [
           "Blue Ridge Mountains",
           [
            "Fleet Foxes"
           ]
          ],
          [
           "Bring the Noise",
           [
            "Public Enemy",
            "Benny Benassi"
           ]
          ],
          [
           "Buddy Holly",
           [
            "Weezer"
           ]
          ],
          [
           "Dang",
           [
            "Caroline Polachek"
           ]
          ],
          [
           "Delilah (pull me out of this)",
           [
            "Fred again..",
            "Delilah Montagu"
           ]
          ],
          [
           "Experimental Skin",
           [
            "Jane Remover"
           ]
          ],
          [
           "Falling Away from Me",
           [
            "Korn"
           ]
          ],
          [
           "Fear Of A Blank Planet - 2024 Remaster",
           [
            "Porcupine Tree"
           ]
          ],
          [
           "Fogh In Nakhal - 2008 Remaster",
           [
            "Franco Battiato",
            "Abdul Halim Sabra"
           ]
          ],
          [
           "Freeee (Ghost Town Pt. 2)",
           [
            "KIDS SEE GHOSTS",
            "Ty Dolla $ign"
           ]
          ],
          [
           "Fuck You",
           [
            "Lily Allen"
           ]
          ],
          [
           "Guess featuring billie eilish",
           [
            "Charli xcx",
            "Billie Eilish"
           ]
          ],
          [
           "Heaven Knows I'm Miserable Now - 2011 Remaster",
           [
            "The Smiths"
           ]
          ],
          [
           "Illegal",
           [
            "PinkPantheress"
           ]
          ],
          [
           "In the Aeroplane Over the Sea",
           [
            "Neutral Milk Hotel"
           ]
          ],
          [
           "KLK",
           [
            "Arca",
            "ROSALÍA"
           ]
          ],
          [
           "Les Cactus",
           [
            "The Last Shadow Puppets"
           ]
          ],
          [
           "Mayonaise - 2011 Remaster",
           [
            "The Smashing Pumpkins"
           ]
          ],
          [
           "NEVER ENOUGH",
           [
            "Turnstile"
           ]
          ],
          [
           "Non, je ne regrette rien",
           [
            "Édith Piaf"
           ]
          ],
          [
           "Oh Such A Spring",
           [
            "Fontaines D.C."
           ]
          ],
          [
           "Pega a Voga, Cabeludo",
           [
            "Gilberto Gil"
           ]
          ],
          [
           "Riquiquí",
           [
            "Arca"
           ]
          ],
          [
           "Rush (feat. PinkPantheress & Hyunjin of Stray Kids)",
           [
            "Troye Sivan",
            "PinkPantheress",
            "Hyunjin"
           ]
          ],
          [
           "SEE U DANCE (feat. Rebecca Black)",
           [
            "Joey Valence & Brae",
            "Rebecca Black"
           ]
          ],
          [
           "Space Song",
           [
            "Beach House"
           ]
          ],
          [
           "THINGS BEHIND THINGS BEHIND THINGS",
           [
            "Bon Iver"
           ]
          ],
          [
           "TITS, LIPS, HIPS, KISS (10/10 Remix)",
           [
            "COBRAH",
            "VTSS",
            "MCR-T"
           ]
          ],
          [
           "The Pot",
           [
            "TOOL"
           ]
          ],
          [
           "Un Blu Sincero",
           [
            "Verdena"
           ]
          ],
          [
           "Watching T.V.",
           [
            "Magdalena Bay"
           ]
          ],
          [
           "World Hold On (Children of the Sky) - Radio Edit",
           [
            "Bob Sinclar",
            "Steve Edwards"
           ]
          ]
         ],
         "hovertemplate": "<b>%{customdata[0]}</b><br>Artist: %{customdata[1]}<br>Added by: Alessandro<br>Date: %{x}<br><extra></extra>",
         "marker": {
          "color": "rgb(77,175,74)",
          "line": {
           "color": "white",
           "width": 1
          },
          "opacity": 0.7,
          "size": 8
         },
         "mode": "markers",
         "name": "Alessandro",
         "type": "scatter",
         "x": [
          "2025-08-19T20:08:43.000000000",
          "2025-08-11T08:13:58.000000000",
          "2025-08-25T10:05:47.000000000",
          "2025-09-02T08:47:28.000000000",
          "2025-09-09T12:31:06.000000000",
          "2025-09-14T10:20:43.000000000",
          "2025-08-07T11:29:33.000000000",
          "2025-09-14T10:15:08.000000000",
          "2025-08-11T08:17:35.000000000",
          "2025-09-08T17:57:12.000000000",
          "2025-09-14T09:59:32.000000000",
          "2025-08-19T20:19:27.000000000",
          "2025-09-09T12:33:25.000000000",
          "2025-08-25T10:05:54.000000000",
          "2025-08-07T11:32:02.000000000",
          "2025-08-25T10:05:28.000000000",
          "2025-08-07T11:30:05.000000000",
          "2025-09-02T08:48:21.000000000",
          "2025-08-11T08:13:41.000000000",
          "2025-08-19T20:12:17.000000000",
          "2025-09-02T08:50:26.000000000",
          "2025-08-07T11:29:11.000000000",
          "2025-08-25T10:06:06.000000000",
          "2025-09-09T12:34:17.000000000",
          "2025-08-23T12:56:49.000000000",
          "2025-08-19T20:16:03.000000000",
          "2025-08-12T09:59:54.000000000",
          "2025-08-12T10:03:42.000000000",
          "2025-09-02T08:50:13.000000000",
          "2025-09-02T08:58:40.000000000",
          "2025-08-11T08:12:47.000000000",
          "2025-08-25T10:05:37.000000000",
          "2025-09-14T10:01:34.000000000",
          "2025-09-14T10:08:12.000000000",
          "2025-09-09T12:30:01.000000000"
         ],
         "y": [
          0.5812082320968293,
          0.6140003320866488,
          0.6017342233456429,
          0.5968233506810758,
          0.6351216561041139,
          0.7660932851824478,
          0.4191622964907834,
          0.6015013555015304,
          0.5269799199483675,
          0.5441462568694329,
          0.7194220648827472,
          0.5064680516897029,
          0.6460661461535819,
          0.8267082394735126,
          0.6175537397744867,
          0.4840884547310225,
          0.5804033798312432,
          0.5588770311042777,
          0.74205383064587,
          0.6981112823821296,
          0.5126061377200952,
          0.5556633643121224,
          0.7244541391275146,
          0.7862180600890579,
          0.6978640795076461,
          0.5959875312675111,
          0.6886797311178592,
          0.5809722084969156,
          0.6742517201165753,
          0.6246340807669594,
          0.38639715339376546,
          0.7634147771139139,
          0.6946265919066091,
          0.4250195328432806,
          0.6765646885891156
         ]
        },
        {
         "customdata": [
          [
           "Applause",
           [
            "Lady Gaga"
           ]
          ],
          [
           "Back In Black",
           [
            "AC/DC"
           ]
          ],
          [
           "Black Celebration",
           [
            "Depeche Mode"
           ]
          ],
          [
           "Black No. 1 (Little Miss Scare -All)",
           [
            "Type O Negative"
           ]
          ],
          [
           "Breaking Point",
           [
            "Dead by April"
           ]
          ],
          [
           "Cinnamon Girl",
           [
            "Type O Negative"
           ]
          ],
          [
           "Devil Trigger",
           [
            "Casey Edwards"
           ]
          ],
          [
           "DotA - Radio Edit",
           [
            "Basshunter"
           ]
          ],
          [
           "Dragostea din tei",
           [
            "O-Zone"
           ]
          ],
          [
           "Enjoy the Silence",
           [
            "Depeche Mode"
           ]
          ],
          [
           "Enter Sandman - Radio Edit",
           [
            "Metallica"
           ]
          ],
          [
           "Eva (Kavkaz remix)",
           [
            "Vintage",
            "Bedanokov",
            "Люай"
           ]
          ],
          [
           "Eyes on Fire",
           [
            "Blue Foundation"
           ]
          ],
          [
           "Fade to Black",
           [
            "Sonata Arctica"
           ]
          ],
          [
           "I Can't Breathe",
           [
            "Dead by April"
           ]
          ],
          [
           "I Wish You Were Dead",
           [
            "Lacuna Coil"
           ]
          ],
          [
           "Infinity",
           [
            "Datura",
            "U.S.U.R.A."
           ]
          ],
          [
           "Kill All the White People",
           [
            "Type O Negative"
           ]
          ],
          [
           "Love Like Blood",
           [
            "Killing Joke"
           ]
          ],
          [
           "Montagem Nada Tropica",
           [
            "Eternxlkz"
           ]
          ],
          [
           "My Demons",
           [
            "STARSET"
           ]
          ],
          [
           "My Girlfriend's Girlfriend",
           [
            "Type O Negative"
           ]
          ],
          [
           "My Land",
           [
            "Sonata Arctica"
           ]
          ],
          [
           "Paint It, Black",
           [
            "Ciara"
           ]
          ],
          [
           "Prada",
           [
            "cassö",
            "RAYE",
            "D-Block Europe"
           ]
          ],
          [
           "Raise Your Banner",
           [
            "Within Temptation",
            "Anders Friden"
           ]
          ],
          [
           "S&M",
           [
            "Rihanna"
           ]
          ],
          [
           "Shakira: Bzrp Music Sessions, Vol. 53",
           [
            "Bizarrap",
            "Shakira"
           ]
          ],
          [
           "Sonne",
           [
            "Rammstein"
           ]
          ],
          [
           "Storytime",
           [
            "Nightwish"
           ]
          ],
          [
           "Swarm Mode",
           [
            "Dead by April"
           ]
          ],
          [
           "This Love",
           [
            "Maroon 5"
           ]
          ],
          [
           "Wake Me up When September Ends",
           [
            "Green Day"
           ]
          ],
          [
           "War is the Answer",
           [
            "Five Finger Death Punch"
           ]
          ],
          [
           "Wrong Side of Heaven",
           [
            "Five Finger Death Punch"
           ]
          ]
         ],
         "hovertemplate": "<b>%{customdata[0]}</b><br>Artist: %{customdata[1]}<br>Added by: Lidia<br>Date: %{x}<br><extra></extra>",
         "marker": {
          "color": "rgb(152,78,163)",
          "line": {
           "color": "white",
           "width": 1
          },
          "opacity": 0.7,
          "size": 8
         },
         "mode": "markers",
         "name": "Lidia",
         "type": "scatter",
         "x": [
          "2025-08-11T19:05:42.000000000",
          "2025-09-17T05:44:23.000000000",
          "2025-09-17T05:39:16.000000000",
          "2025-09-17T05:38:22.000000000",
          "2025-08-27T05:37:06.000000000",
          "2025-09-06T06:04:40.000000000",
          "2025-08-25T19:47:23.000000000",
          "2025-08-19T19:43:00.000000000",
          "2025-08-19T19:43:37.000000000",
          "2025-09-06T06:10:32.000000000",
          "2025-09-07T10:13:21.000000000",
          "2025-08-19T19:50:56.000000000",
          "2025-09-06T06:02:43.000000000",
          "2025-09-17T05:31:29.000000000",
          "2025-08-07T18:49:57.000000000",
          "2025-08-11T19:08:51.000000000",
          "2025-09-07T10:15:26.000000000",
          "2025-08-27T05:34:44.000000000",
          "2025-09-06T06:09:09.000000000",
          "2025-08-19T19:42:06.000000000",
          "2025-08-25T19:48:17.000000000",
          "2025-08-11T19:05:06.000000000",
          "2025-09-07T10:19:23.000000000",
          "2025-09-17T05:39:53.000000000",
          "2025-08-07T18:53:54.000000000",
          "2025-08-07T18:52:53.000000000",
          "2025-08-11T19:05:27.000000000",
          "2025-08-11T19:08:38.000000000",
          "2025-08-19T20:11:23.000000000",
          "2025-08-07T18:55:59.000000000",
          "2025-09-07T10:23:07.000000000",
          "2025-09-07T10:17:18.000000000",
          "2025-09-06T06:00:21.000000000",
          "2025-08-27T05:39:45.000000000",
          "2025-08-07T18:53:30.000000000"
         ],
         "y": [
          0.893475838310191,
          0.8414457720750176,
          0.9816656712622338,
          0.9031475938406369,
          0.9088661807467584,
          0.8849286523056532,
          0.9679596800115451,
          0.7290930118354144,
          0.9780684502058403,
          0.9867591804035433,
          0.7682377687516501,
          0.9651664055349886,
          1.0184674440848704,
          0.9453502472767579,
          0.8486663577449872,
          0.8340903914590733,
          0.8868050764063053,
          1.0901051837882187,
          0.8533039217046323,
          0.8841611800353399,
          0.9228042951632554,
          0.851462784337264,
          0.7447653711747363,
          0.8800759929226334,
          0.8433442794146783,
          0.8862320753356241,
          0.9248655587537904,
          0.6886664496975899,
          0.8170433308829615,
          0.8151598022762693,
          0.7275639718980137,
          1.0385378639426008,
          0.7980108443451935,
          0.8532033151017049,
          0.9152167126924017
         ]
        },
        {
         "customdata": [
          [
           "Ave Maria - Schubert",
           [
            "Hannah Holgersson"
           ]
          ],
          [
           "Bad Romance",
           [
            "Lady Gaga"
           ]
          ],
          [
           "Barbie World (with Aqua) [From Barbie The Album]",
           [
            "Nicki Minaj",
            "Ice Spice",
            "Aqua"
           ]
          ],
          [
           "Blinding Lights",
           [
            "The Weeknd"
           ]
          ],
          [
           "Bloody Mary",
           [
            "Lady Gaga"
           ]
          ],
          [
           "Bust Your Windows",
           [
            "Glee Cast"
           ]
          ],
          [
           "Cinnamon Girl",
           [
            "Lana Del Rey"
           ]
          ],
          [
           "Dance The Night - From Barbie The Album",
           [
            "Dua Lipa"
           ]
          ],
          [
           "Dernière danse",
           [
            "Indila"
           ]
          ],
          [
           "End of Beginning",
           [
            "Djo"
           ]
          ],
          [
           "Finesse",
           [
            "Bruno Mars"
           ]
          ],
          [
           "Gangnam Style (강남스타일)",
           [
            "PSY"
           ]
          ],
          [
           "Harder, Better, Faster, Stronger",
           [
            "Daft Punk"
           ]
          ],
          [
           "Hips Don't Lie (feat. Wyclef Jean)",
           [
            "Shakira",
            "Wyclef Jean"
           ]
          ],
          [
           "Houdini",
           [
            "Dua Lipa"
           ]
          ],
          [
           "I Dreamed A Dream - From  Les Misérables ",
           [
            "Anne Hathaway"
           ]
          ],
          [
           "I'm Still Standing",
           [
            "Elton John"
           ]
          ],
          [
           "Jerusalema (feat. Nomcebo Zikode)",
           [
            "Master KG",
            "Nomcebo Zikode"
           ]
          ],
          [
           "Karma",
           [
            "Taylor Swift"
           ]
          ],
          [
           "Lady Marmalade - From  Moulin Rouge  Soundtrack",
           [
            "Christina Aguilera",
            "Lil' Kim",
            "Mýa",
            "P!nk"
           ]
          ],
          [
           "Las Divinas",
           [
            "Las Divinas"
           ]
          ],
          [
           "Made You Look",
           [
            "Meghan Trainor"
           ]
          ],
          [
           "My Kink Is Karma",
           [
            "Chappell Roan"
           ]
          ],
          [
           "Nothing's New",
           [
            "Rio Romeo"
           ]
          ],
          [
           "Pink Pony Club",
           [
            "Chappell Roan"
           ]
          ],
          [
           "Pink Skies",
           [
            "Zach Bryan"
           ]
          ],
          [
           "Postcards",
           [
            "James Blunt"
           ]
          ],
          [
           "Queen of the Night - Radio Edit",
           [
            "Whitney Houston"
           ]
          ],
          [
           "Starships",
           [
            "Nicki Minaj"
           ]
          ],
          [
           "The Winner Takes It All - From  Mamma Mia! ",
           [
            "Meryl Streep"
           ]
          ],
          [
           "Wannabe",
           [
            "Spice Girls"
           ]
          ],
          [
           "What Is This Feeling?",
           [
            "Ariana Grande",
            "Cynthia Erivo"
           ]
          ],
          [
           "YA YA",
           [
            "Beyoncé"
           ]
          ],
          [
           "cardigan",
           [
            "Taylor Swift"
           ]
          ],
          [
           "we fell in love in october",
           [
            "girl in red"
           ]
          ]
         ],
         "hovertemplate": "<b>%{customdata[0]}</b><br>Artist: %{customdata[1]}<br>Added by: Giulia<br>Date: %{x}<br><extra></extra>",
         "marker": {
          "color": "rgb(255,127,0)",
          "line": {
           "color": "white",
           "width": 1
          },
          "opacity": 0.7,
          "size": 8
         },
         "mode": "markers",
         "name": "Giulia",
         "type": "scatter",
         "x": [
          "2025-08-19T19:54:26.000000000",
          "2025-09-07T11:48:48.000000000",
          "2025-09-14T09:55:56.000000000",
          "2025-09-07T11:52:04.000000000",
          "2025-08-07T10:48:12.000000000",
          "2025-08-25T10:13:49.000000000",
          "2025-09-01T07:02:58.000000000",
          "2025-09-14T09:55:36.000000000",
          "2025-08-19T19:40:58.000000000",
          "2025-09-01T07:02:51.000000000",
          "2025-09-07T11:51:23.000000000",
          "2025-08-19T19:44:08.000000000",
          "2025-09-07T11:48:00.000000000",
          "2025-08-12T07:01:20.000000000",
          "2025-08-07T10:49:03.000000000",
          "2025-08-25T10:13:22.000000000",
          "2025-08-25T10:14:08.000000000",
          "2025-08-19T19:50:08.000000000",
          "2025-08-07T10:48:56.000000000",
          "2025-08-12T07:01:43.000000000",
          "2025-08-19T19:40:50.000000000",
          "2025-09-14T09:56:21.000000000",
          "2025-08-07T10:48:29.000000000",
          "2025-09-01T07:02:29.000000000",
          "2025-09-14T09:53:52.000000000",
          "2025-09-14T09:54:37.000000000",
          "2025-09-07T11:49:30.000000000",
          "2025-08-12T07:02:31.000000000",
          "2025-08-12T06:59:30.000000000",
          "2025-08-25T10:14:01.000000000",
          "2025-08-12T07:01:58.000000000",
          "2025-08-25T10:13:32.000000000",
          "2025-08-07T10:48:03.000000000",
          "2025-09-01T07:02:05.000000000",
          "2025-09-01T07:02:12.000000000"
         ],
         "y": [
          1.184626333360442,
          1.0617009431663116,
          1.2518457709000448,
          1.1807395291210674,
          1.2999108167921378,
          1.1352978188215397,
          1.2505257345597136,
          1.1133071667326695,
          1.281806317612574,
          1.108372006223218,
          1.1088718183132313,
          1.158292274766579,
          1.2844985560471538,
          1.1115928683717449,
          0.9489233856917112,
          1.0928155643916775,
          1.2825258894874727,
          1.4126513943924761,
          1.1612776896741392,
          1.1759519852283273,
          1.1676315750328417,
          1.1054019964202881,
          1.2610005403614746,
          0.9997146733289091,
          1.2880806832889509,
          1.1142562347269866,
          1.186335843216202,
          1.2216290109677879,
          1.265792684092666,
          1.2268726236600438,
          1.1244899886981474,
          1.0258024136211275,
          1.0411382387775412,
          1.2978831046743495,
          1.2078657415345613
         ]
        },
        {
         "customdata": [
          [
           "Big Dick Energy",
           [
            "Lambrini Girls"
           ]
          ],
          [
           "Big Poe (feat. Sk8brd)",
           [
            "Tyler",
            " The Creator",
            "Pharrell Williams"
           ]
          ],
          [
           "Break Stuff",
           [
            "Limp Bizkit"
           ]
          ],
          [
           "Bulls on Parade - triple j Like A Version",
           [
            "Denzel Curry"
           ]
          ],
          [
           "Crystal Ball",
           [
            "Verdena"
           ]
          ],
          [
           "Desert Rose",
           [
            "Sting",
            "Cheb Mami"
           ]
          ],
          [
           "Ei Raat Tomar Amar",
           [
            "Hemant Kumar"
           ]
          ],
          [
           "Festa da Carne",
           [
            "Crizin da Z.O."
           ]
          ],
          [
           "Fuck the System",
           [
            "System Of A Down"
           ]
          ],
          [
           "Green Man",
           [
            "Type O Negative"
           ]
          ],
          [
           "Green Onions - 2022 Remaster",
           [
            "Booker T. & the M.G.'s"
           ]
          ],
          [
           "Green Valley",
           [
            "Puscifer"
           ]
          ],
          [
           "Idols Pt. I",
           [
            "YUNGBLUD"
           ]
          ],
          [
           "Impressioni di settembre",
           [
            "Franco Battiato"
           ]
          ],
          [
           "In the Shadows",
           [
            "Venamoris",
            "Dave Lombardo"
           ]
          ],
          [
           "Into the Sun",
           [
            "The Parlor Mob"
           ]
          ],
          [
           "La vie à 2",
           [
            "Manu Chao"
           ]
          ],
          [
           "Leviatan",
           [
            "Dalila Kayros"
           ]
          ],
          [
           "M.I.L.F. $",
           [
            "Fergie"
           ]
          ],
          [
           "Maneater",
           [
            "Nelly Furtado"
           ]
          ],
          [
           "Mushroom Men",
           [
            "Les Claypool"
           ]
          ],
          [
           "Niente - Radio Edit",
           [
            "Bodam Project",
            "Pierpaolo Capovilla"
           ]
          ],
          [
           "Non farò mai quello che vuoi",
           [
            "Skiantos"
           ]
          ],
          [
           "People = Shit",
           [
            "Slipknot"
           ]
          ],
          [
           "Schäfer",
           [
            "Honningbarna"
           ]
          ],
          [
           "September Sun",
           [
            "Type O Negative"
           ]
          ],
          [
           "Summertime Sadness",
           [
            "Within Temptation"
           ]
          ],
          [
           "The Gentle Art of Making Enemies - 2016 Remaster",
           [
            "Faith No More"
           ]
          ],
          [
           "The Grass Is Green",
           [
            "Nelly Furtado"
           ]
          ],
          [
           "The Humbling River",
           [
            "Puscifer"
           ]
          ],
          [
           "The Longest Wave",
           [
            "Red Hot Chili Peppers"
           ]
          ],
          [
           "Tutto L'Universo Obbedisce All'Amore",
           [
            "Franco Battiato",
            "Carmen Consoli"
           ]
          ],
          [
           "Utrennyaya gimnastika",
           [
            "Vinicio Capossela"
           ]
          ],
          [
           "Vértükör",
           [
            "Rothadás"
           ]
          ],
          [
           "Wireless",
           [
            "Within Temptation"
           ]
          ]
         ],
         "hovertemplate": "<b>%{customdata[0]}</b><br>Artist: %{customdata[1]}<br>Added by: Pietro<br>Date: %{x}<br><extra></extra>",
         "marker": {
          "color": "rgb(255,255,51)",
          "line": {
           "color": "white",
           "width": 1
          },
          "opacity": 0.7,
          "size": 8
         },
         "mode": "markers",
         "name": "Pietro",
         "type": "scatter",
         "x": [
          "2025-08-11T17:06:19.000000000",
          "2025-08-07T12:57:36.000000000",
          "2025-08-25T12:31:12.000000000",
          "2025-08-07T13:04:00.000000000",
          "2025-09-15T17:07:21.000000000",
          "2025-09-07T09:34:02.000000000",
          "2025-08-19T19:17:30.000000000",
          "2025-08-07T13:09:38.000000000",
          "2025-08-25T12:47:38.000000000",
          "2025-09-15T16:57:40.000000000",
          "2025-09-15T17:32:17.000000000",
          "2025-09-15T16:58:04.000000000",
          "2025-08-07T13:03:35.000000000",
          "2025-09-05T18:07:49.000000000",
          "2025-08-07T13:18:46.000000000",
          "2025-09-07T10:25:07.000000000",
          "2025-08-19T19:27:14.000000000",
          "2025-08-19T19:38:16.000000000",
          "2025-08-11T18:57:27.000000000",
          "2025-08-11T19:34:07.000000000",
          "2025-09-05T20:35:25.000000000",
          "2025-08-11T17:09:49.000000000",
          "2025-08-25T12:39:48.000000000",
          "2025-08-25T12:32:32.000000000",
          "2025-08-11T16:58:13.000000000",
          "2025-09-05T18:15:16.000000000",
          "2025-09-06T20:18:14.000000000",
          "2025-08-25T12:34:08.000000000",
          "2025-09-15T16:59:06.000000000",
          "2025-09-06T16:50:55.000000000",
          "2025-09-07T10:38:53.000000000",
          "2025-09-07T10:10:52.000000000",
          "2025-08-19T19:33:51.000000000",
          "2025-08-19T19:30:45.000000000",
          "2025-09-07T10:43:50.000000000"
         ],
         "y": [
          1.5685384500153259,
          1.5845890221910257,
          1.5329269462320745,
          1.5845358099334221,
          1.6332873515420028,
          1.5799394422883077,
          1.576497515177024,
          1.4703519065637796,
          1.7344203375619962,
          1.605608451002305,
          1.4637810868153318,
          1.6254255611270603,
          1.392212772923306,
          1.5159946583133455,
          1.499790305935547,
          1.3884435163186064,
          1.6183298994236552,
          1.6497852861897278,
          1.6451871152987467,
          1.6046593231677933,
          1.3937764013663638,
          1.5141973691962607,
          1.2837948301628954,
          1.4345700231325114,
          1.6696346463364036,
          1.5159491293269287,
          1.3793381383358807,
          1.5422413872555936,
          1.5813914829329925,
          1.3617419117679903,
          1.3976035752521774,
          1.3849103607620488,
          1.537720095367558,
          1.4709130642346564,
          1.495392755146336
         ]
        }
       ],
       "layout": {
        "height": 600,
        "hovermode": "closest",
        "showlegend": true,
        "template": {
         "data": {
          "bar": [
           {
            "error_x": {
             "color": "#2a3f5f"
            },
            "error_y": {
             "color": "#2a3f5f"
            },
            "marker": {
             "line": {
              "color": "#E5ECF6",
              "width": 0.5
             },
             "pattern": {
              "fillmode": "overlay",
              "size": 10,
              "solidity": 0.2
             }
            },
            "type": "bar"
           }
          ],
          "barpolar": [
           {
            "marker": {
             "line": {
              "color": "#E5ECF6",
              "width": 0.5
             },
             "pattern": {
              "fillmode": "overlay",
              "size": 10,
              "solidity": 0.2
             }
            },
            "type": "barpolar"
           }
          ],
          "carpet": [
           {
            "aaxis": {
             "endlinecolor": "#2a3f5f",
             "gridcolor": "white",
             "linecolor": "white",
             "minorgridcolor": "white",
             "startlinecolor": "#2a3f5f"
            },
            "baxis": {
             "endlinecolor": "#2a3f5f",
             "gridcolor": "white",
             "linecolor": "white",
             "minorgridcolor": "white",
             "startlinecolor": "#2a3f5f"
            },
            "type": "carpet"
           }
          ],
          "choropleth": [
           {
            "colorbar": {
             "outlinewidth": 0,
             "ticks": ""
            },
            "type": "choropleth"
           }
          ],
          "contour": [
           {
            "colorbar": {
             "outlinewidth": 0,
             "ticks": ""
            },
            "colorscale": [
             [
              0,
              "#0d0887"
             ],
             [
              0.1111111111111111,
              "#46039f"
             ],
             [
              0.2222222222222222,
              "#7201a8"
             ],
             [
              0.3333333333333333,
              "#9c179e"
             ],
             [
              0.4444444444444444,
              "#bd3786"
             ],
             [
              0.5555555555555556,
              "#d8576b"
             ],
             [
              0.6666666666666666,
              "#ed7953"
             ],
             [
              0.7777777777777778,
              "#fb9f3a"
             ],
             [
              0.8888888888888888,
              "#fdca26"
             ],
             [
              1,
              "#f0f921"
             ]
            ],
            "type": "contour"
           }
          ],
          "contourcarpet": [
           {
            "colorbar": {
             "outlinewidth": 0,
             "ticks": ""
            },
            "type": "contourcarpet"
           }
          ],
          "heatmap": [
           {
            "colorbar": {
             "outlinewidth": 0,
             "ticks": ""
            },
            "colorscale": [
             [
              0,
              "#0d0887"
             ],
             [
              0.1111111111111111,
              "#46039f"
             ],
             [
              0.2222222222222222,
              "#7201a8"
             ],
             [
              0.3333333333333333,
              "#9c179e"
             ],
             [
              0.4444444444444444,
              "#bd3786"
             ],
             [
              0.5555555555555556,
              "#d8576b"
             ],
             [
              0.6666666666666666,
              "#ed7953"
             ],
             [
              0.7777777777777778,
              "#fb9f3a"
             ],
             [
              0.8888888888888888,
              "#fdca26"
             ],
             [
              1,
              "#f0f921"
             ]
            ],
            "type": "heatmap"
           }
          ],
          "histogram": [
           {
            "marker": {
             "pattern": {
              "fillmode": "overlay",
              "size": 10,
              "solidity": 0.2
             }
            },
            "type": "histogram"
           }
          ],
          "histogram2d": [
           {
            "colorbar": {
             "outlinewidth": 0,
             "ticks": ""
            },
            "colorscale": [
             [
              0,
              "#0d0887"
             ],
             [
              0.1111111111111111,
              "#46039f"
             ],
             [
              0.2222222222222222,
              "#7201a8"
             ],
             [
              0.3333333333333333,
              "#9c179e"
             ],
             [
              0.4444444444444444,
              "#bd3786"
             ],
             [
              0.5555555555555556,
              "#d8576b"
             ],
             [
              0.6666666666666666,
              "#ed7953"
             ],
             [
              0.7777777777777778,
              "#fb9f3a"
             ],
             [
              0.8888888888888888,
              "#fdca26"
             ],
             [
              1,
              "#f0f921"
             ]
            ],
            "type": "histogram2d"
           }
          ],
          "histogram2dcontour": [
           {
            "colorbar": {
             "outlinewidth": 0,
             "ticks": ""
            },
            "colorscale": [
             [
              0,
              "#0d0887"
             ],
             [
              0.1111111111111111,
              "#46039f"
             ],
             [
              0.2222222222222222,
              "#7201a8"
             ],
             [
              0.3333333333333333,
              "#9c179e"
             ],
             [
              0.4444444444444444,
              "#bd3786"
             ],
             [
              0.5555555555555556,
              "#d8576b"
             ],
             [
              0.6666666666666666,
              "#ed7953"
             ],
             [
              0.7777777777777778,
              "#fb9f3a"
             ],
             [
              0.8888888888888888,
              "#fdca26"
             ],
             [
              1,
              "#f0f921"
             ]
            ],
            "type": "histogram2dcontour"
           }
          ],
          "mesh3d": [
           {
            "colorbar": {
             "outlinewidth": 0,
             "ticks": ""
            },
            "type": "mesh3d"
           }
          ],
          "parcoords": [
           {
            "line": {
             "colorbar": {
              "outlinewidth": 0,
              "ticks": ""
             }
            },
            "type": "parcoords"
           }
          ],
          "pie": [
           {
            "automargin": true,
            "type": "pie"
           }
          ],
          "scatter": [
           {
            "fillpattern": {
             "fillmode": "overlay",
             "size": 10,
             "solidity": 0.2
            },
            "type": "scatter"
           }
          ],
          "scatter3d": [
           {
            "line": {
             "colorbar": {
              "outlinewidth": 0,
              "ticks": ""
             }
            },
            "marker": {
             "colorbar": {
              "outlinewidth": 0,
              "ticks": ""
             }
            },
            "type": "scatter3d"
           }
          ],
          "scattercarpet": [
           {
            "marker": {
             "colorbar": {
              "outlinewidth": 0,
              "ticks": ""
             }
            },
            "type": "scattercarpet"
           }
          ],
          "scattergeo": [
           {
            "marker": {
             "colorbar": {
              "outlinewidth": 0,
              "ticks": ""
             }
            },
            "type": "scattergeo"
           }
          ],
          "scattergl": [
           {
            "marker": {
             "colorbar": {
              "outlinewidth": 0,
              "ticks": ""
             }
            },
            "type": "scattergl"
           }
          ],
          "scattermap": [
           {
            "marker": {
             "colorbar": {
              "outlinewidth": 0,
              "ticks": ""
             }
            },
            "type": "scattermap"
           }
          ],
          "scattermapbox": [
           {
            "marker": {
             "colorbar": {
              "outlinewidth": 0,
              "ticks": ""
             }
            },
            "type": "scattermapbox"
           }
          ],
          "scatterpolar": [
           {
            "marker": {
             "colorbar": {
              "outlinewidth": 0,
              "ticks": ""
             }
            },
            "type": "scatterpolar"
           }
          ],
          "scatterpolargl": [
           {
            "marker": {
             "colorbar": {
              "outlinewidth": 0,
              "ticks": ""
             }
            },
            "type": "scatterpolargl"
           }
          ],
          "scatterternary": [
           {
            "marker": {
             "colorbar": {
              "outlinewidth": 0,
              "ticks": ""
             }
            },
            "type": "scatterternary"
           }
          ],
          "surface": [
           {
            "colorbar": {
             "outlinewidth": 0,
             "ticks": ""
            },
            "colorscale": [
             [
              0,
              "#0d0887"
             ],
             [
              0.1111111111111111,
              "#46039f"
             ],
             [
              0.2222222222222222,
              "#7201a8"
             ],
             [
              0.3333333333333333,
              "#9c179e"
             ],
             [
              0.4444444444444444,
              "#bd3786"
             ],
             [
              0.5555555555555556,
              "#d8576b"
             ],
             [
              0.6666666666666666,
              "#ed7953"
             ],
             [
              0.7777777777777778,
              "#fb9f3a"
             ],
             [
              0.8888888888888888,
              "#fdca26"
             ],
             [
              1,
              "#f0f921"
             ]
            ],
            "type": "surface"
           }
          ],
          "table": [
           {
            "cells": {
             "fill": {
              "color": "#EBF0F8"
             },
             "line": {
              "color": "white"
             }
            },
            "header": {
             "fill": {
              "color": "#C8D4E3"
             },
             "line": {
              "color": "white"
             }
            },
            "type": "table"
           }
          ]
         },
         "layout": {
          "annotationdefaults": {
           "arrowcolor": "#2a3f5f",
           "arrowhead": 0,
           "arrowwidth": 1
          },
          "autotypenumbers": "strict",
          "coloraxis": {
           "colorbar": {
            "outlinewidth": 0,
            "ticks": ""
           }
          },
          "colorscale": {
           "diverging": [
            [
             0,
             "#8e0152"
            ],
            [
             0.1,
             "#c51b7d"
            ],
            [
             0.2,
             "#de77ae"
            ],
            [
             0.3,
             "#f1b6da"
            ],
            [
             0.4,
             "#fde0ef"
            ],
            [
             0.5,
             "#f7f7f7"
            ],
            [
             0.6,
             "#e6f5d0"
            ],
            [
             0.7,
             "#b8e186"
            ],
            [
             0.8,
             "#7fbc41"
            ],
            [
             0.9,
             "#4d9221"
            ],
            [
             1,
             "#276419"
            ]
           ],
           "sequential": [
            [
             0,
             "#0d0887"
            ],
            [
             0.1111111111111111,
             "#46039f"
            ],
            [
             0.2222222222222222,
             "#7201a8"
            ],
            [
             0.3333333333333333,
             "#9c179e"
            ],
            [
             0.4444444444444444,
             "#bd3786"
            ],
            [
             0.5555555555555556,
             "#d8576b"
            ],
            [
             0.6666666666666666,
             "#ed7953"
            ],
            [
             0.7777777777777778,
             "#fb9f3a"
            ],
            [
             0.8888888888888888,
             "#fdca26"
            ],
            [
             1,
             "#f0f921"
            ]
           ],
           "sequentialminus": [
            [
             0,
             "#0d0887"
            ],
            [
             0.1111111111111111,
             "#46039f"
            ],
            [
             0.2222222222222222,
             "#7201a8"
            ],
            [
             0.3333333333333333,
             "#9c179e"
            ],
            [
             0.4444444444444444,
             "#bd3786"
            ],
            [
             0.5555555555555556,
             "#d8576b"
            ],
            [
             0.6666666666666666,
             "#ed7953"
            ],
            [
             0.7777777777777778,
             "#fb9f3a"
            ],
            [
             0.8888888888888888,
             "#fdca26"
            ],
            [
             1,
             "#f0f921"
            ]
           ]
          },
          "colorway": [
           "#636efa",
           "#EF553B",
           "#00cc96",
           "#ab63fa",
           "#FFA15A",
           "#19d3f3",
           "#FF6692",
           "#B6E880",
           "#FF97FF",
           "#FECB52"
          ],
          "font": {
           "color": "#2a3f5f"
          },
          "geo": {
           "bgcolor": "white",
           "lakecolor": "white",
           "landcolor": "#E5ECF6",
           "showlakes": true,
           "showland": true,
           "subunitcolor": "white"
          },
          "hoverlabel": {
           "align": "left"
          },
          "hovermode": "closest",
          "mapbox": {
           "style": "light"
          },
          "paper_bgcolor": "white",
          "plot_bgcolor": "#E5ECF6",
          "polar": {
           "angularaxis": {
            "gridcolor": "white",
            "linecolor": "white",
            "ticks": ""
           },
           "bgcolor": "#E5ECF6",
           "radialaxis": {
            "gridcolor": "white",
            "linecolor": "white",
            "ticks": ""
           }
          },
          "scene": {
           "xaxis": {
            "backgroundcolor": "#E5ECF6",
            "gridcolor": "white",
            "gridwidth": 2,
            "linecolor": "white",
            "showbackground": true,
            "ticks": "",
            "zerolinecolor": "white"
           },
           "yaxis": {
            "backgroundcolor": "#E5ECF6",
            "gridcolor": "white",
            "gridwidth": 2,
            "linecolor": "white",
            "showbackground": true,
            "ticks": "",
            "zerolinecolor": "white"
           },
           "zaxis": {
            "backgroundcolor": "#E5ECF6",
            "gridcolor": "white",
            "gridwidth": 2,
            "linecolor": "white",
            "showbackground": true,
            "ticks": "",
            "zerolinecolor": "white"
           }
          },
          "shapedefaults": {
           "line": {
            "color": "#2a3f5f"
           }
          },
          "ternary": {
           "aaxis": {
            "gridcolor": "white",
            "linecolor": "white",
            "ticks": ""
           },
           "baxis": {
            "gridcolor": "white",
            "linecolor": "white",
            "ticks": ""
           },
           "bgcolor": "#E5ECF6",
           "caxis": {
            "gridcolor": "white",
            "linecolor": "white",
            "ticks": ""
           }
          },
          "title": {
           "x": 0.05
          },
          "xaxis": {
           "automargin": true,
           "gridcolor": "white",
           "linecolor": "white",
           "ticks": "",
           "title": {
            "standoff": 15
           },
           "zerolinecolor": "white",
           "zerolinewidth": 2
          },
          "yaxis": {
           "automargin": true,
           "gridcolor": "white",
           "linecolor": "white",
           "ticks": "",
           "title": {
            "standoff": 15
           },
           "zerolinecolor": "white",
           "zerolinewidth": 2
          }
         }
        },
        "title": {
         "text": "Advanced Swarm Plot: Songs Added Over Time"
        },
        "xaxis": {
         "title": {
          "text": "Date Added"
         }
        },
        "yaxis": {
         "showgrid": false,
         "showticklabels": false,
         "title": {
          "text": ""
         },
         "zeroline": false
        }
       }
      }
     },
     "metadata": {},
     "output_type": "display_data"
    }
   ],
   "source": [
    "import plotly.express as px\n",
    "import plotly.graph_objects as go\n",
    "import pandas as pd\n",
    "import numpy as np\n",
    "from datetime import datetime, timedelta\n",
    "\n",
    "def create_swarm_plot(df, x_col, color_col):\n",
    "    \n",
    "    fig = go.Figure()\n",
    "    # Get unique categories for coloring\n",
    "    categories = df[color_col].unique()\n",
    "    colors = px.colors.qualitative.Set1[:len(categories)]\n",
    "    \n",
    "    for i, category in enumerate(categories):\n",
    "        category_data = df[df[color_col] == category]\n",
    "        \n",
    "        # Create y-positions with some jitter for swarm effect\n",
    "        y_positions = []\n",
    "        for date in category_data[x_col]:\n",
    "            # Add random jitter around y=0\n",
    "            base_y = 0\n",
    "            jitter = np.random.normal(0, 0.1)  # Adjust 0.1 for more/less spread\n",
    "            y_positions.append(base_y + jitter + i * 0.3)  # Slight offset per category\n",
    "        \n",
    "        fig.add_trace(go.Scatter(\n",
    "            x=category_data[x_col],\n",
    "            y=y_positions,\n",
    "            mode='markers',\n",
    "            name=category,\n",
    "            marker=dict(\n",
    "                color=colors[i],\n",
    "                size=8,\n",
    "                opacity=0.7,\n",
    "                line=dict(width=1, color='white')\n",
    "            ),\n",
    "            # Enhanced hover template with song and artist info\n",
    "            hovertemplate='<b>%{customdata[0]}</b><br>' +\n",
    "                         'Artist: %{customdata[1]}<br>' +\n",
    "                         'Added by: ' + f'{category}<br>' +\n",
    "                         'Date: %{x}<br>' +\n",
    "                         '<extra></extra>',\n",
    "            # Pass song and artist data for hover\n",
    "            customdata=list(zip(category_data['Song'], category_data['Artist']))\n",
    "        ))\n",
    "    \n",
    "    fig.update_layout(\n",
    "        title='Advanced Swarm Plot: Songs Added Over Time',\n",
    "        xaxis_title='Date Added',\n",
    "        yaxis_title='',\n",
    "        yaxis=dict(showticklabels=False, showgrid=False, zeroline=False),\n",
    "        height=600,\n",
    "        hovermode='closest',\n",
    "        showlegend=True\n",
    "    )\n",
    "    \n",
    "    return fig\n",
    "\n",
    "fig2 = create_swarm_plot(df, 'Added At', 'Added By')\n",
    "fig2.show()\n",
    "# 1. Export as HTML file (interactive)\n",
    "fig2.write_html(\"1_Added_Date.html\")"
   ]
  },
  {
   "cell_type": "code",
   "execution_count": 14,
   "id": "3b216d6e",
   "metadata": {},
   "outputs": [
    {
     "data": {
      "application/vnd.plotly.v1+json": {
       "config": {
        "plotlyServerURL": "https://plot.ly"
       },
       "data": [
        {
         "alignmentgroup": "True",
         "boxpoints": "all",
         "customdata": [
          [
           "ATB",
           "9 PM (Till I Come) - Radio Edit"
          ],
          [
           "Ardian Bujupi,Capital T",
           "ANDIAMO"
          ],
          [
           "Marvin Gaye,Tammi Terrell",
           "Ain't No Mountain High Enough"
          ],
          [
           "Eyedress",
           "Cocaine Sunday"
          ],
          [
           "L I M",
           "Comet"
          ],
          [
           "BLACKPINK",
           "DDU-DU DDU-DU"
          ],
          [
           "Shahram Shabpareh",
           "Doomad"
          ],
          [
           "Freur",
           "Doot Doot"
          ],
          [
           "Kanye West",
           "Father Stretch My Hands Pt. 1"
          ],
          [
           "Sia",
           "Fire Meet Gasoline"
          ],
          [
           "Major Lazer,Amber of Dirty Projectors",
           "Get Free"
          ],
          [
           "Lea Rue,Broiler",
           "I Can't Say No! - Broiler Remix"
          ],
          [
           "Disclosure,Sam Smith",
           "Latch"
          ],
          [
           "George Michael",
           "One More Try - Remastered"
          ],
          [
           "Kali Uchis",
           "Ridin Round"
          ],
          [
           "Travis Scott,GloRilla",
           "SHYNE"
          ],
          [
           "Anri",
           "SHYNESS BOY"
          ],
          [
           "Flume,Tove Lo",
           "Say It"
          ],
          [
           "Mara Sattei",
           "Scusa - prod. thasup"
          ],
          [
           "Earth, Wind & Fire",
           "September"
          ],
          [
           "The Chords",
           "Sh-Boom"
          ],
          [
           "Robin S",
           "Show Me Love"
          ],
          [
           "Club Dogo",
           "Spacco Tutto"
          ],
          [
           "Blank Banshee",
           "Spirit Season"
          ],
          [
           "Edward Maya,Vika Jigulina",
           "Stereo Love"
          ],
          [
           "Thirty Seconds To Mars",
           "The Kill"
          ],
          [
           "Jack Ü,Skrillex,Diplo,Aluna,AlunaGeorge",
           "To Ü (feat. AlunaGeorge)"
          ],
          [
           "Daler Mehndi",
           "Tunak Tunak Tun"
          ],
          [
           "bôa",
           "Twilight"
          ],
          [
           "i cani",
           "Una cosa stupida"
          ],
          [
           "CAZZETTE",
           "Weapon"
          ],
          [
           "Yung Bae,Macross 82-99",
           "Welcome To The Disco"
          ],
          [
           "GAYLE",
           "abcdefu (angrier)"
          ],
          [
           "Moya Mishel",
           "Зима в сердце"
          ],
          [
           "Molchat Doma",
           "Тоска"
          ]
         ],
         "hovertemplate": "Added By=%{x}<br>Release Date=%{y}<br>Artist=%{customdata[0]}<br>Song=%{customdata[1]}<extra></extra>",
         "legendgroup": "Riccardo",
         "marker": {
          "color": "#636efa"
         },
         "name": "Riccardo",
         "notched": false,
         "offsetgroup": "Riccardo",
         "orientation": "v",
         "showlegend": true,
         "type": "box",
         "x": [
          "Riccardo",
          "Riccardo",
          "Riccardo",
          "Riccardo",
          "Riccardo",
          "Riccardo",
          "Riccardo",
          "Riccardo",
          "Riccardo",
          "Riccardo",
          "Riccardo",
          "Riccardo",
          "Riccardo",
          "Riccardo",
          "Riccardo",
          "Riccardo",
          "Riccardo",
          "Riccardo",
          "Riccardo",
          "Riccardo",
          "Riccardo",
          "Riccardo",
          "Riccardo",
          "Riccardo",
          "Riccardo",
          "Riccardo",
          "Riccardo",
          "Riccardo",
          "Riccardo",
          "Riccardo",
          "Riccardo",
          "Riccardo",
          "Riccardo",
          "Riccardo",
          "Riccardo"
         ],
         "x0": " ",
         "xaxis": "x",
         "y": [
          "1998-10-26",
          "2017-07-28",
          "1967-08-29",
          "2018-11-16",
          "2016-04-08",
          "2018-06-15",
          "1998-12-23",
          "1983-04-17",
          "2016-06-10",
          "2014-07-04",
          "2013-04-15",
          "2015",
          "2013-06-03",
          "1998-11-09",
          "2015-11-02",
          "2025-07-13",
          "1983-12-05",
          "2016-05-27",
          "2021-04-09",
          "1978-11-23",
          "1954-12-02",
          "1993-06-15",
          "2010-01-01",
          "2023-08-20",
          "2012-12-18",
          "2005-08-16",
          "2015-02-24",
          "1998-02-28",
          "2001-03-21",
          "2016-01-29",
          "2014-01-21",
          "2019-06-28",
          "2021-09-24",
          "2021-07-30",
          "2018-09-07"
         ],
         "y0": " ",
         "yaxis": "y"
        },
        {
         "alignmentgroup": "True",
         "boxpoints": "all",
         "customdata": [
          [
           "Doechii,JT",
           "Alter Ego (with JT)"
          ],
          [
           "Jungle",
           "Back On 74"
          ],
          [
           "Jonas Brothers",
           "Burnin' Up"
          ],
          [
           "Gorillaz,Shaun Ryder,Roses Gabor",
           "DARE (feat. Shaun Ryder & Roses Gabor)"
          ],
          [
           "Backstreet Boys",
           "Everybody (Backstreet's Back) - Radio Edit"
          ],
          [
           "M¥SS KETA",
           "GIOVANNA HARDCORE"
          ],
          [
           "Anastacia",
           "I'm Outta Love"
          ],
          [
           "Avril Lavigne",
           "I'm with You"
          ],
          [
           "The 1975",
           "Love Me"
          ],
          [
           "Lady Gaga,Beyoncé",
           "Telephone"
          ],
          [
           "Caroline Polachek,Charli xcx,George Daniel",
           "Welcome To My Island - George Daniel & Charli XCX Remix"
          ]
         ],
         "hovertemplate": "Added By=%{x}<br>Release Date=%{y}<br>Artist=%{customdata[0]}<br>Song=%{customdata[1]}<extra></extra>",
         "legendgroup": "Valentina",
         "marker": {
          "color": "#EF553B"
         },
         "name": "Valentina",
         "notched": false,
         "offsetgroup": "Valentina",
         "orientation": "v",
         "showlegend": true,
         "type": "box",
         "x": [
          "Valentina",
          "Valentina",
          "Valentina",
          "Valentina",
          "Valentina",
          "Valentina",
          "Valentina",
          "Valentina",
          "Valentina",
          "Valentina",
          "Valentina"
         ],
         "x0": " ",
         "xaxis": "x",
         "y": [
          "2024-03-29",
          "2023-08-11",
          "2008-08-12",
          "2005-05-23",
          "2014-11-28",
          "2020-08-27",
          "2000-05-01",
          "2002-06-04",
          "2016-02-26",
          "2009-08-05",
          "2023-01-19"
         ],
         "y0": " ",
         "yaxis": "y"
        },
        {
         "alignmentgroup": "True",
         "boxpoints": "all",
         "customdata": [
          [
           "Alfa Mist,Bongeziwe Mabandla",
           "Apho"
          ],
          [
           "ROSALÍA",
           "BIZCOCHITO"
          ],
          [
           "Deftones",
           "Be Quiet and Drive (Far Away)"
          ],
          [
           "Fleet Foxes",
           "Blue Ridge Mountains"
          ],
          [
           "Public Enemy,Benny Benassi",
           "Bring the Noise"
          ],
          [
           "Weezer",
           "Buddy Holly"
          ],
          [
           "Caroline Polachek",
           "Dang"
          ],
          [
           "Fred again..,Delilah Montagu",
           "Delilah (pull me out of this)"
          ],
          [
           "Jane Remover",
           "Experimental Skin"
          ],
          [
           "Korn",
           "Falling Away from Me"
          ],
          [
           "Porcupine Tree",
           "Fear Of A Blank Planet - 2024 Remaster"
          ],
          [
           "Franco Battiato,Abdul Halim Sabra",
           "Fogh In Nakhal - 2008 Remaster"
          ],
          [
           "KIDS SEE GHOSTS,Ty Dolla $ign",
           "Freeee (Ghost Town Pt. 2)"
          ],
          [
           "Lily Allen",
           "Fuck You"
          ],
          [
           "Charli xcx,Billie Eilish",
           "Guess featuring billie eilish"
          ],
          [
           "The Smiths",
           "Heaven Knows I'm Miserable Now - 2011 Remaster"
          ],
          [
           "PinkPantheress",
           "Illegal"
          ],
          [
           "Neutral Milk Hotel",
           "In the Aeroplane Over the Sea"
          ],
          [
           "Arca,ROSALÍA",
           "KLK"
          ],
          [
           "The Last Shadow Puppets",
           "Les Cactus"
          ],
          [
           "The Smashing Pumpkins",
           "Mayonaise - 2011 Remaster"
          ],
          [
           "Turnstile",
           "NEVER ENOUGH"
          ],
          [
           "Édith Piaf",
           "Non, je ne regrette rien"
          ],
          [
           "Fontaines D.C.",
           "Oh Such A Spring"
          ],
          [
           "Gilberto Gil",
           "Pega a Voga, Cabeludo"
          ],
          [
           "Arca",
           "Riquiquí"
          ],
          [
           "Troye Sivan,PinkPantheress,Hyunjin",
           "Rush (feat. PinkPantheress & Hyunjin of Stray Kids)"
          ],
          [
           "Joey Valence & Brae,Rebecca Black",
           "SEE U DANCE (feat. Rebecca Black)"
          ],
          [
           "Beach House",
           "Space Song"
          ],
          [
           "Bon Iver",
           "THINGS BEHIND THINGS BEHIND THINGS"
          ],
          [
           "COBRAH,VTSS,MCR-T",
           "TITS, LIPS, HIPS, KISS (10/10 Remix)"
          ],
          [
           "TOOL",
           "The Pot"
          ],
          [
           "Verdena",
           "Un Blu Sincero"
          ],
          [
           "Magdalena Bay",
           "Watching T.V."
          ],
          [
           "Bob Sinclar,Steve Edwards",
           "World Hold On (Children of the Sky) - Radio Edit"
          ]
         ],
         "hovertemplate": "Added By=%{x}<br>Release Date=%{y}<br>Artist=%{customdata[0]}<br>Song=%{customdata[1]}<extra></extra>",
         "legendgroup": "Alessandro",
         "marker": {
          "color": "#00cc96"
         },
         "name": "Alessandro",
         "notched": false,
         "offsetgroup": "Alessandro",
         "orientation": "v",
         "showlegend": true,
         "type": "box",
         "x": [
          "Alessandro",
          "Alessandro",
          "Alessandro",
          "Alessandro",
          "Alessandro",
          "Alessandro",
          "Alessandro",
          "Alessandro",
          "Alessandro",
          "Alessandro",
          "Alessandro",
          "Alessandro",
          "Alessandro",
          "Alessandro",
          "Alessandro",
          "Alessandro",
          "Alessandro",
          "Alessandro",
          "Alessandro",
          "Alessandro",
          "Alessandro",
          "Alessandro",
          "Alessandro",
          "Alessandro",
          "Alessandro",
          "Alessandro",
          "Alessandro",
          "Alessandro",
          "Alessandro",
          "Alessandro",
          "Alessandro",
          "Alessandro",
          "Alessandro",
          "Alessandro",
          "Alessandro"
         ],
         "x0": " ",
         "xaxis": "x",
         "y": [
          "2023-04-21",
          "2022-03-18",
          "1997-10-27",
          "2008-06-09",
          "2008",
          "1994-05-10",
          "2023-10-17",
          "2022-10-28",
          "2025-04-04",
          "1999-11-09",
          "2007-04-16",
          "1993",
          "2018-06-08",
          "2009-01-26",
          "2024-10-11",
          "1984",
          "2025-05-09",
          "1998-02-20",
          "2020-06-26",
          "2016-12-02",
          "1993-07-27",
          "2025-04-08",
          "1987-10-31",
          "2020-07-31",
          "1968-01-01",
          "2020-06-26",
          "2023-08-31",
          "2025-08-11",
          "2015-08-28",
          "2025-04-11",
          "2024-07-12",
          "2006-04-28",
          "2015-08-28",
          "2024-08-23",
          "2006-06-06"
         ],
         "y0": " ",
         "yaxis": "y"
        },
        {
         "alignmentgroup": "True",
         "boxpoints": "all",
         "customdata": [
          [
           "Lady Gaga",
           "Applause"
          ],
          [
           "AC/DC",
           "Back In Black"
          ],
          [
           "Depeche Mode",
           "Black Celebration"
          ],
          [
           "Type O Negative",
           "Black No. 1 (Little Miss Scare -All)"
          ],
          [
           "Dead by April",
           "Breaking Point"
          ],
          [
           "Type O Negative",
           "Cinnamon Girl"
          ],
          [
           "Casey Edwards",
           "Devil Trigger"
          ],
          [
           "Basshunter",
           "DotA - Radio Edit"
          ],
          [
           "O-Zone",
           "Dragostea din tei"
          ],
          [
           "Depeche Mode",
           "Enjoy the Silence"
          ],
          [
           "Metallica",
           "Enter Sandman - Radio Edit"
          ],
          [
           "Vintage,Bedanokov,Люай",
           "Eva (Kavkaz remix)"
          ],
          [
           "Blue Foundation",
           "Eyes on Fire"
          ],
          [
           "Sonata Arctica",
           "Fade to Black"
          ],
          [
           "Dead by April",
           "I Can't Breathe"
          ],
          [
           "Lacuna Coil",
           "I Wish You Were Dead"
          ],
          [
           "Datura,U.S.U.R.A.",
           "Infinity"
          ],
          [
           "Type O Negative",
           "Kill All the White People"
          ],
          [
           "Killing Joke",
           "Love Like Blood"
          ],
          [
           "Eternxlkz",
           "Montagem Nada Tropica"
          ],
          [
           "STARSET",
           "My Demons"
          ],
          [
           "Type O Negative",
           "My Girlfriend's Girlfriend"
          ],
          [
           "Sonata Arctica",
           "My Land"
          ],
          [
           "Ciara",
           "Paint It, Black"
          ],
          [
           "cassö,RAYE,D-Block Europe",
           "Prada"
          ],
          [
           "Within Temptation,Anders Friden",
           "Raise Your Banner"
          ],
          [
           "Rihanna",
           "S&M"
          ],
          [
           "Bizarrap,Shakira",
           "Shakira: Bzrp Music Sessions, Vol. 53"
          ],
          [
           "Rammstein",
           "Sonne"
          ],
          [
           "Nightwish",
           "Storytime"
          ],
          [
           "Dead by April",
           "Swarm Mode"
          ],
          [
           "Maroon 5",
           "This Love"
          ],
          [
           "Green Day",
           "Wake Me up When September Ends"
          ],
          [
           "Five Finger Death Punch",
           "War is the Answer"
          ],
          [
           "Five Finger Death Punch",
           "Wrong Side of Heaven"
          ]
         ],
         "hovertemplate": "Added By=%{x}<br>Release Date=%{y}<br>Artist=%{customdata[0]}<br>Song=%{customdata[1]}<extra></extra>",
         "legendgroup": "Lidia",
         "marker": {
          "color": "#ab63fa"
         },
         "name": "Lidia",
         "notched": false,
         "offsetgroup": "Lidia",
         "orientation": "v",
         "showlegend": true,
         "type": "box",
         "x": [
          "Lidia",
          "Lidia",
          "Lidia",
          "Lidia",
          "Lidia",
          "Lidia",
          "Lidia",
          "Lidia",
          "Lidia",
          "Lidia",
          "Lidia",
          "Lidia",
          "Lidia",
          "Lidia",
          "Lidia",
          "Lidia",
          "Lidia",
          "Lidia",
          "Lidia",
          "Lidia",
          "Lidia",
          "Lidia",
          "Lidia",
          "Lidia",
          "Lidia",
          "Lidia",
          "Lidia",
          "Lidia",
          "Lidia",
          "Lidia",
          "Lidia",
          "Lidia",
          "Lidia",
          "Lidia",
          "Lidia"
         ],
         "x0": " ",
         "xaxis": "x",
         "y": [
          "2013-11-11",
          "1980-07-25",
          "1986-03-17",
          "1994-05-10",
          "2017-04-07",
          "1996-08-19",
          "2019-03-20",
          "2008-01-15",
          "2004-02-23",
          "1990-03-19",
          "2021-09-10",
          "2025-06-26",
          "2007-09-24",
          "2009-01-01",
          "2017-04-07",
          "2025-02-14",
          "2009-07-01",
          "1994-05-10",
          "1992-01-01",
          "2025-04-18",
          "2014",
          "1996-08-19",
          "1999-01-01",
          "2015-10-09",
          "2023-08-11",
          "2019-02-01",
          "2010-11-16",
          "2024-03-22",
          "2001-04-02",
          "2011-12-02",
          "2024-01-26",
          "2002",
          "2004-09-21",
          "2009-09-22",
          "2013-07-26"
         ],
         "y0": " ",
         "yaxis": "y"
        },
        {
         "alignmentgroup": "True",
         "boxpoints": "all",
         "customdata": [
          [
           "Hannah Holgersson",
           "Ave Maria - Schubert"
          ],
          [
           "Lady Gaga",
           "Bad Romance"
          ],
          [
           "Nicki Minaj,Ice Spice,Aqua",
           "Barbie World (with Aqua) [From Barbie The Album]"
          ],
          [
           "The Weeknd",
           "Blinding Lights"
          ],
          [
           "Lady Gaga",
           "Bloody Mary"
          ],
          [
           "Glee Cast",
           "Bust Your Windows"
          ],
          [
           "Lana Del Rey",
           "Cinnamon Girl"
          ],
          [
           "Dua Lipa",
           "Dance The Night - From Barbie The Album"
          ],
          [
           "Indila",
           "Dernière danse"
          ],
          [
           "Djo",
           "End of Beginning"
          ],
          [
           "Bruno Mars",
           "Finesse"
          ],
          [
           "PSY",
           "Gangnam Style (강남스타일)"
          ],
          [
           "Daft Punk",
           "Harder, Better, Faster, Stronger"
          ],
          [
           "Shakira,Wyclef Jean",
           "Hips Don't Lie (feat. Wyclef Jean)"
          ],
          [
           "Dua Lipa",
           "Houdini"
          ],
          [
           "Anne Hathaway",
           "I Dreamed A Dream - From  Les Misérables "
          ],
          [
           "Elton John",
           "I'm Still Standing"
          ],
          [
           "Master KG,Nomcebo Zikode",
           "Jerusalema (feat. Nomcebo Zikode)"
          ],
          [
           "Taylor Swift",
           "Karma"
          ],
          [
           "Christina Aguilera,Lil' Kim,Mýa,P!nk",
           "Lady Marmalade - From  Moulin Rouge  Soundtrack"
          ],
          [
           "Las Divinas",
           "Las Divinas"
          ],
          [
           "Meghan Trainor",
           "Made You Look"
          ],
          [
           "Chappell Roan",
           "My Kink Is Karma"
          ],
          [
           "Rio Romeo",
           "Nothing's New"
          ],
          [
           "Chappell Roan",
           "Pink Pony Club"
          ],
          [
           "Zach Bryan",
           "Pink Skies"
          ],
          [
           "James Blunt",
           "Postcards"
          ],
          [
           "Whitney Houston",
           "Queen of the Night - Radio Edit"
          ],
          [
           "Nicki Minaj",
           "Starships"
          ],
          [
           "Meryl Streep",
           "The Winner Takes It All - From  Mamma Mia! "
          ],
          [
           "Spice Girls",
           "Wannabe"
          ],
          [
           "Ariana Grande,Cynthia Erivo",
           "What Is This Feeling?"
          ],
          [
           "Beyoncé",
           "YA YA"
          ],
          [
           "Taylor Swift",
           "cardigan"
          ],
          [
           "girl in red",
           "we fell in love in october"
          ]
         ],
         "hovertemplate": "Added By=%{x}<br>Release Date=%{y}<br>Artist=%{customdata[0]}<br>Song=%{customdata[1]}<extra></extra>",
         "legendgroup": "Giulia",
         "marker": {
          "color": "#FFA15A"
         },
         "name": "Giulia",
         "notched": false,
         "offsetgroup": "Giulia",
         "orientation": "v",
         "showlegend": true,
         "type": "box",
         "x": [
          "Giulia",
          "Giulia",
          "Giulia",
          "Giulia",
          "Giulia",
          "Giulia",
          "Giulia",
          "Giulia",
          "Giulia",
          "Giulia",
          "Giulia",
          "Giulia",
          "Giulia",
          "Giulia",
          "Giulia",
          "Giulia",
          "Giulia",
          "Giulia",
          "Giulia",
          "Giulia",
          "Giulia",
          "Giulia",
          "Giulia",
          "Giulia",
          "Giulia",
          "Giulia",
          "Giulia",
          "Giulia",
          "Giulia",
          "Giulia",
          "Giulia",
          "Giulia",
          "Giulia",
          "Giulia",
          "Giulia"
         ],
         "x0": " ",
         "xaxis": "x",
         "y": [
          "2012-12-11",
          "2009-11-05",
          "2023-06-23",
          "2020-03-20",
          "2011-05-23",
          "2009-11-02",
          "2019-08-30",
          "2023-05-25",
          "2014-01-01",
          "2022-09-16",
          "2016-11-17",
          "2012-01-01",
          "2001-03-12",
          "2005-11-28",
          "2024-05-03",
          "2013-01-01",
          "1983-05-30",
          "2020-01-24",
          "2022-10-21",
          "2001-09-03",
          "2009-01-01",
          "2022-10-21",
          "2023-09-22",
          "2022-09-23",
          "2023-09-22",
          "2024-05-24",
          "2013-10-16",
          "1992-11-17",
          "2012-01-01",
          "2008-01-01",
          "1996-01-01",
          "2024-11-22",
          "2024-03-29",
          "2020-07-24",
          "2018-11-21"
         ],
         "y0": " ",
         "yaxis": "y"
        },
        {
         "alignmentgroup": "True",
         "boxpoints": "all",
         "customdata": [
          [
           "Lambrini Girls",
           "Big Dick Energy"
          ],
          [
           "Tyler, The Creator,Pharrell Williams",
           "Big Poe (feat. Sk8brd)"
          ],
          [
           "Limp Bizkit",
           "Break Stuff"
          ],
          [
           "Denzel Curry",
           "Bulls on Parade - triple j Like A Version"
          ],
          [
           "Verdena",
           "Crystal Ball"
          ],
          [
           "Sting,Cheb Mami",
           "Desert Rose"
          ],
          [
           "Hemant Kumar",
           "Ei Raat Tomar Amar"
          ],
          [
           "Crizin da Z.O.",
           "Festa da Carne"
          ],
          [
           "System Of A Down",
           "Fuck the System"
          ],
          [
           "Type O Negative",
           "Green Man"
          ],
          [
           "Booker T. & the M.G.'s",
           "Green Onions - 2022 Remaster"
          ],
          [
           "Puscifer",
           "Green Valley"
          ],
          [
           "YUNGBLUD",
           "Idols Pt. I"
          ],
          [
           "Franco Battiato",
           "Impressioni di settembre"
          ],
          [
           "Venamoris,Dave Lombardo",
           "In the Shadows"
          ],
          [
           "The Parlor Mob",
           "Into the Sun"
          ],
          [
           "Manu Chao",
           "La vie à 2"
          ],
          [
           "Dalila Kayros",
           "Leviatan"
          ],
          [
           "Fergie",
           "M.I.L.F. $"
          ],
          [
           "Nelly Furtado",
           "Maneater"
          ],
          [
           "Les Claypool",
           "Mushroom Men"
          ],
          [
           "Bodam Project,Pierpaolo Capovilla",
           "Niente - Radio Edit"
          ],
          [
           "Skiantos",
           "Non farò mai quello che vuoi"
          ],
          [
           "Slipknot",
           "People = Shit"
          ],
          [
           "Honningbarna",
           "Schäfer"
          ],
          [
           "Type O Negative",
           "September Sun"
          ],
          [
           "Within Temptation",
           "Summertime Sadness"
          ],
          [
           "Faith No More",
           "The Gentle Art of Making Enemies - 2016 Remaster"
          ],
          [
           "Nelly Furtado",
           "The Grass Is Green"
          ],
          [
           "Puscifer",
           "The Humbling River"
          ],
          [
           "Red Hot Chili Peppers",
           "The Longest Wave"
          ],
          [
           "Franco Battiato,Carmen Consoli",
           "Tutto L'Universo Obbedisce All'Amore"
          ],
          [
           "Vinicio Capossela",
           "Utrennyaya gimnastika"
          ],
          [
           "Rothadás",
           "Vértükör"
          ],
          [
           "Within Temptation",
           "Wireless"
          ]
         ],
         "hovertemplate": "Added By=%{x}<br>Release Date=%{y}<br>Artist=%{customdata[0]}<br>Song=%{customdata[1]}<extra></extra>",
         "legendgroup": "Pietro",
         "marker": {
          "color": "#19d3f3"
         },
         "name": "Pietro",
         "notched": false,
         "offsetgroup": "Pietro",
         "orientation": "v",
         "showlegend": true,
         "type": "box",
         "x": [
          "Pietro",
          "Pietro",
          "Pietro",
          "Pietro",
          "Pietro",
          "Pietro",
          "Pietro",
          "Pietro",
          "Pietro",
          "Pietro",
          "Pietro",
          "Pietro",
          "Pietro",
          "Pietro",
          "Pietro",
          "Pietro",
          "Pietro",
          "Pietro",
          "Pietro",
          "Pietro",
          "Pietro",
          "Pietro",
          "Pietro",
          "Pietro",
          "Pietro",
          "Pietro",
          "Pietro",
          "Pietro",
          "Pietro",
          "Pietro",
          "Pietro",
          "Pietro",
          "Pietro",
          "Pietro",
          "Pietro"
         ],
         "x0": " ",
         "xaxis": "x",
         "y": [
          "2025-01-10",
          "2025-07-21",
          "1999",
          "2019-03-15",
          "2022-09-23",
          "1999-09-24",
          "1959-12-31",
          "2024-01-18",
          "2002-11-26",
          "1996-08-19",
          "1962-10-01",
          "2011",
          "2025-06-20",
          "2002-08-30",
          "2025-02-28",
          "2011-10-10",
          "1998-10-06",
          "2025-04-04",
          "2017-09-22",
          "2006-01-01",
          "2009-03-17",
          "2025-04-18",
          "2003-10-01",
          "2001",
          "2025-02-28",
          "2007-03-13",
          "2013-04-19",
          "1995",
          "2003-11-23",
          "2009-11-10",
          "2016-06-17",
          "2008-01-01",
          "2012-06-12",
          "2025-03-21",
          "2023-10-20"
         ],
         "y0": " ",
         "yaxis": "y"
        }
       ],
       "layout": {
        "boxmode": "overlay",
        "legend": {
         "title": {
          "text": "Added By"
         },
         "tracegroupgap": 0
        },
        "margin": {
         "t": 60
        },
        "template": {
         "data": {
          "bar": [
           {
            "error_x": {
             "color": "#2a3f5f"
            },
            "error_y": {
             "color": "#2a3f5f"
            },
            "marker": {
             "line": {
              "color": "#E5ECF6",
              "width": 0.5
             },
             "pattern": {
              "fillmode": "overlay",
              "size": 10,
              "solidity": 0.2
             }
            },
            "type": "bar"
           }
          ],
          "barpolar": [
           {
            "marker": {
             "line": {
              "color": "#E5ECF6",
              "width": 0.5
             },
             "pattern": {
              "fillmode": "overlay",
              "size": 10,
              "solidity": 0.2
             }
            },
            "type": "barpolar"
           }
          ],
          "carpet": [
           {
            "aaxis": {
             "endlinecolor": "#2a3f5f",
             "gridcolor": "white",
             "linecolor": "white",
             "minorgridcolor": "white",
             "startlinecolor": "#2a3f5f"
            },
            "baxis": {
             "endlinecolor": "#2a3f5f",
             "gridcolor": "white",
             "linecolor": "white",
             "minorgridcolor": "white",
             "startlinecolor": "#2a3f5f"
            },
            "type": "carpet"
           }
          ],
          "choropleth": [
           {
            "colorbar": {
             "outlinewidth": 0,
             "ticks": ""
            },
            "type": "choropleth"
           }
          ],
          "contour": [
           {
            "colorbar": {
             "outlinewidth": 0,
             "ticks": ""
            },
            "colorscale": [
             [
              0,
              "#0d0887"
             ],
             [
              0.1111111111111111,
              "#46039f"
             ],
             [
              0.2222222222222222,
              "#7201a8"
             ],
             [
              0.3333333333333333,
              "#9c179e"
             ],
             [
              0.4444444444444444,
              "#bd3786"
             ],
             [
              0.5555555555555556,
              "#d8576b"
             ],
             [
              0.6666666666666666,
              "#ed7953"
             ],
             [
              0.7777777777777778,
              "#fb9f3a"
             ],
             [
              0.8888888888888888,
              "#fdca26"
             ],
             [
              1,
              "#f0f921"
             ]
            ],
            "type": "contour"
           }
          ],
          "contourcarpet": [
           {
            "colorbar": {
             "outlinewidth": 0,
             "ticks": ""
            },
            "type": "contourcarpet"
           }
          ],
          "heatmap": [
           {
            "colorbar": {
             "outlinewidth": 0,
             "ticks": ""
            },
            "colorscale": [
             [
              0,
              "#0d0887"
             ],
             [
              0.1111111111111111,
              "#46039f"
             ],
             [
              0.2222222222222222,
              "#7201a8"
             ],
             [
              0.3333333333333333,
              "#9c179e"
             ],
             [
              0.4444444444444444,
              "#bd3786"
             ],
             [
              0.5555555555555556,
              "#d8576b"
             ],
             [
              0.6666666666666666,
              "#ed7953"
             ],
             [
              0.7777777777777778,
              "#fb9f3a"
             ],
             [
              0.8888888888888888,
              "#fdca26"
             ],
             [
              1,
              "#f0f921"
             ]
            ],
            "type": "heatmap"
           }
          ],
          "histogram": [
           {
            "marker": {
             "pattern": {
              "fillmode": "overlay",
              "size": 10,
              "solidity": 0.2
             }
            },
            "type": "histogram"
           }
          ],
          "histogram2d": [
           {
            "colorbar": {
             "outlinewidth": 0,
             "ticks": ""
            },
            "colorscale": [
             [
              0,
              "#0d0887"
             ],
             [
              0.1111111111111111,
              "#46039f"
             ],
             [
              0.2222222222222222,
              "#7201a8"
             ],
             [
              0.3333333333333333,
              "#9c179e"
             ],
             [
              0.4444444444444444,
              "#bd3786"
             ],
             [
              0.5555555555555556,
              "#d8576b"
             ],
             [
              0.6666666666666666,
              "#ed7953"
             ],
             [
              0.7777777777777778,
              "#fb9f3a"
             ],
             [
              0.8888888888888888,
              "#fdca26"
             ],
             [
              1,
              "#f0f921"
             ]
            ],
            "type": "histogram2d"
           }
          ],
          "histogram2dcontour": [
           {
            "colorbar": {
             "outlinewidth": 0,
             "ticks": ""
            },
            "colorscale": [
             [
              0,
              "#0d0887"
             ],
             [
              0.1111111111111111,
              "#46039f"
             ],
             [
              0.2222222222222222,
              "#7201a8"
             ],
             [
              0.3333333333333333,
              "#9c179e"
             ],
             [
              0.4444444444444444,
              "#bd3786"
             ],
             [
              0.5555555555555556,
              "#d8576b"
             ],
             [
              0.6666666666666666,
              "#ed7953"
             ],
             [
              0.7777777777777778,
              "#fb9f3a"
             ],
             [
              0.8888888888888888,
              "#fdca26"
             ],
             [
              1,
              "#f0f921"
             ]
            ],
            "type": "histogram2dcontour"
           }
          ],
          "mesh3d": [
           {
            "colorbar": {
             "outlinewidth": 0,
             "ticks": ""
            },
            "type": "mesh3d"
           }
          ],
          "parcoords": [
           {
            "line": {
             "colorbar": {
              "outlinewidth": 0,
              "ticks": ""
             }
            },
            "type": "parcoords"
           }
          ],
          "pie": [
           {
            "automargin": true,
            "type": "pie"
           }
          ],
          "scatter": [
           {
            "fillpattern": {
             "fillmode": "overlay",
             "size": 10,
             "solidity": 0.2
            },
            "type": "scatter"
           }
          ],
          "scatter3d": [
           {
            "line": {
             "colorbar": {
              "outlinewidth": 0,
              "ticks": ""
             }
            },
            "marker": {
             "colorbar": {
              "outlinewidth": 0,
              "ticks": ""
             }
            },
            "type": "scatter3d"
           }
          ],
          "scattercarpet": [
           {
            "marker": {
             "colorbar": {
              "outlinewidth": 0,
              "ticks": ""
             }
            },
            "type": "scattercarpet"
           }
          ],
          "scattergeo": [
           {
            "marker": {
             "colorbar": {
              "outlinewidth": 0,
              "ticks": ""
             }
            },
            "type": "scattergeo"
           }
          ],
          "scattergl": [
           {
            "marker": {
             "colorbar": {
              "outlinewidth": 0,
              "ticks": ""
             }
            },
            "type": "scattergl"
           }
          ],
          "scattermap": [
           {
            "marker": {
             "colorbar": {
              "outlinewidth": 0,
              "ticks": ""
             }
            },
            "type": "scattermap"
           }
          ],
          "scattermapbox": [
           {
            "marker": {
             "colorbar": {
              "outlinewidth": 0,
              "ticks": ""
             }
            },
            "type": "scattermapbox"
           }
          ],
          "scatterpolar": [
           {
            "marker": {
             "colorbar": {
              "outlinewidth": 0,
              "ticks": ""
             }
            },
            "type": "scatterpolar"
           }
          ],
          "scatterpolargl": [
           {
            "marker": {
             "colorbar": {
              "outlinewidth": 0,
              "ticks": ""
             }
            },
            "type": "scatterpolargl"
           }
          ],
          "scatterternary": [
           {
            "marker": {
             "colorbar": {
              "outlinewidth": 0,
              "ticks": ""
             }
            },
            "type": "scatterternary"
           }
          ],
          "surface": [
           {
            "colorbar": {
             "outlinewidth": 0,
             "ticks": ""
            },
            "colorscale": [
             [
              0,
              "#0d0887"
             ],
             [
              0.1111111111111111,
              "#46039f"
             ],
             [
              0.2222222222222222,
              "#7201a8"
             ],
             [
              0.3333333333333333,
              "#9c179e"
             ],
             [
              0.4444444444444444,
              "#bd3786"
             ],
             [
              0.5555555555555556,
              "#d8576b"
             ],
             [
              0.6666666666666666,
              "#ed7953"
             ],
             [
              0.7777777777777778,
              "#fb9f3a"
             ],
             [
              0.8888888888888888,
              "#fdca26"
             ],
             [
              1,
              "#f0f921"
             ]
            ],
            "type": "surface"
           }
          ],
          "table": [
           {
            "cells": {
             "fill": {
              "color": "#EBF0F8"
             },
             "line": {
              "color": "white"
             }
            },
            "header": {
             "fill": {
              "color": "#C8D4E3"
             },
             "line": {
              "color": "white"
             }
            },
            "type": "table"
           }
          ]
         },
         "layout": {
          "annotationdefaults": {
           "arrowcolor": "#2a3f5f",
           "arrowhead": 0,
           "arrowwidth": 1
          },
          "autotypenumbers": "strict",
          "coloraxis": {
           "colorbar": {
            "outlinewidth": 0,
            "ticks": ""
           }
          },
          "colorscale": {
           "diverging": [
            [
             0,
             "#8e0152"
            ],
            [
             0.1,
             "#c51b7d"
            ],
            [
             0.2,
             "#de77ae"
            ],
            [
             0.3,
             "#f1b6da"
            ],
            [
             0.4,
             "#fde0ef"
            ],
            [
             0.5,
             "#f7f7f7"
            ],
            [
             0.6,
             "#e6f5d0"
            ],
            [
             0.7,
             "#b8e186"
            ],
            [
             0.8,
             "#7fbc41"
            ],
            [
             0.9,
             "#4d9221"
            ],
            [
             1,
             "#276419"
            ]
           ],
           "sequential": [
            [
             0,
             "#0d0887"
            ],
            [
             0.1111111111111111,
             "#46039f"
            ],
            [
             0.2222222222222222,
             "#7201a8"
            ],
            [
             0.3333333333333333,
             "#9c179e"
            ],
            [
             0.4444444444444444,
             "#bd3786"
            ],
            [
             0.5555555555555556,
             "#d8576b"
            ],
            [
             0.6666666666666666,
             "#ed7953"
            ],
            [
             0.7777777777777778,
             "#fb9f3a"
            ],
            [
             0.8888888888888888,
             "#fdca26"
            ],
            [
             1,
             "#f0f921"
            ]
           ],
           "sequentialminus": [
            [
             0,
             "#0d0887"
            ],
            [
             0.1111111111111111,
             "#46039f"
            ],
            [
             0.2222222222222222,
             "#7201a8"
            ],
            [
             0.3333333333333333,
             "#9c179e"
            ],
            [
             0.4444444444444444,
             "#bd3786"
            ],
            [
             0.5555555555555556,
             "#d8576b"
            ],
            [
             0.6666666666666666,
             "#ed7953"
            ],
            [
             0.7777777777777778,
             "#fb9f3a"
            ],
            [
             0.8888888888888888,
             "#fdca26"
            ],
            [
             1,
             "#f0f921"
            ]
           ]
          },
          "colorway": [
           "#636efa",
           "#EF553B",
           "#00cc96",
           "#ab63fa",
           "#FFA15A",
           "#19d3f3",
           "#FF6692",
           "#B6E880",
           "#FF97FF",
           "#FECB52"
          ],
          "font": {
           "color": "#2a3f5f"
          },
          "geo": {
           "bgcolor": "white",
           "lakecolor": "white",
           "landcolor": "#E5ECF6",
           "showlakes": true,
           "showland": true,
           "subunitcolor": "white"
          },
          "hoverlabel": {
           "align": "left"
          },
          "hovermode": "closest",
          "mapbox": {
           "style": "light"
          },
          "paper_bgcolor": "white",
          "plot_bgcolor": "#E5ECF6",
          "polar": {
           "angularaxis": {
            "gridcolor": "white",
            "linecolor": "white",
            "ticks": ""
           },
           "bgcolor": "#E5ECF6",
           "radialaxis": {
            "gridcolor": "white",
            "linecolor": "white",
            "ticks": ""
           }
          },
          "scene": {
           "xaxis": {
            "backgroundcolor": "#E5ECF6",
            "gridcolor": "white",
            "gridwidth": 2,
            "linecolor": "white",
            "showbackground": true,
            "ticks": "",
            "zerolinecolor": "white"
           },
           "yaxis": {
            "backgroundcolor": "#E5ECF6",
            "gridcolor": "white",
            "gridwidth": 2,
            "linecolor": "white",
            "showbackground": true,
            "ticks": "",
            "zerolinecolor": "white"
           },
           "zaxis": {
            "backgroundcolor": "#E5ECF6",
            "gridcolor": "white",
            "gridwidth": 2,
            "linecolor": "white",
            "showbackground": true,
            "ticks": "",
            "zerolinecolor": "white"
           }
          },
          "shapedefaults": {
           "line": {
            "color": "#2a3f5f"
           }
          },
          "ternary": {
           "aaxis": {
            "gridcolor": "white",
            "linecolor": "white",
            "ticks": ""
           },
           "baxis": {
            "gridcolor": "white",
            "linecolor": "white",
            "ticks": ""
           },
           "bgcolor": "#E5ECF6",
           "caxis": {
            "gridcolor": "white",
            "linecolor": "white",
            "ticks": ""
           }
          },
          "title": {
           "x": 0.05
          },
          "xaxis": {
           "automargin": true,
           "gridcolor": "white",
           "linecolor": "white",
           "ticks": "",
           "title": {
            "standoff": 15
           },
           "zerolinecolor": "white",
           "zerolinewidth": 2
          },
          "yaxis": {
           "automargin": true,
           "gridcolor": "white",
           "linecolor": "white",
           "ticks": "",
           "title": {
            "standoff": 15
           },
           "zerolinecolor": "white",
           "zerolinewidth": 2
          }
         }
        },
        "title": {
         "text": "Release Date Distribution by Added By"
        },
        "xaxis": {
         "anchor": "y",
         "categoryarray": [
          "Riccardo",
          "Valentina",
          "Alessandro",
          "Lidia",
          "Giulia",
          "Pietro"
         ],
         "categoryorder": "array",
         "domain": [
          0,
          1
         ],
         "title": {
          "text": "Added By"
         }
        },
        "yaxis": {
         "anchor": "x",
         "domain": [
          0,
          1
         ],
         "title": {
          "text": "Release Date"
         }
        }
       }
      }
     },
     "metadata": {},
     "output_type": "display_data"
    }
   ],
   "source": [
    "import plotly.express as px\n",
    "\n",
    "fig = px.box(df, \n",
    "             x=\"Added By\", \n",
    "             y=\"Release Date\", \n",
    "             color=\"Added By\",  # Color each group by Added By\n",
    "             points=\"all\",\n",
    "             hover_data=[\"Artist\", \"Song\"])  # Add Artist and Song to hover\n",
    "\n",
    "# Optional: Customize the layout\n",
    "fig.update_layout(\n",
    "    title=\"Release Date Distribution by Added By\",\n",
    "    xaxis_title=\"Added By\",\n",
    "    yaxis_title=\"Release Date\"\n",
    ")\n",
    "\n",
    "fig.show()"
   ]
  },
  {
   "cell_type": "markdown",
   "id": "b3f8abc3",
   "metadata": {},
   "source": [
    "# 3. More comparisons"
   ]
  },
  {
   "cell_type": "code",
   "execution_count": 32,
   "id": "717f184b",
   "metadata": {},
   "outputs": [
    {
     "data": {
      "application/vnd.plotly.v1+json": {
       "config": {
        "plotlyServerURL": "https://plot.ly"
       },
       "data": [
        {
         "alignmentgroup": "True",
         "boxpoints": "all",
         "customdata": [
          [
           [
            "ATB"
           ],
           "9 PM (Till I Come) - Radio Edit"
          ],
          [
           [
            "Ardian Bujupi",
            "Capital T"
           ],
           "ANDIAMO"
          ],
          [
           [
            "Marvin Gaye",
            "Tammi Terrell"
           ],
           "Ain't No Mountain High Enough"
          ],
          [
           [
            "Eyedress"
           ],
           "Cocaine Sunday"
          ],
          [
           [
            "L I M"
           ],
           "Comet"
          ],
          [
           [
            "BLACKPINK"
           ],
           "DDU-DU DDU-DU"
          ],
          [
           [
            "Shahram Shabpareh"
           ],
           "Doomad"
          ],
          [
           [
            "Freur"
           ],
           "Doot Doot"
          ],
          [
           [
            "Kanye West"
           ],
           "Father Stretch My Hands Pt. 1"
          ],
          [
           [
            "Sia"
           ],
           "Fire Meet Gasoline"
          ],
          [
           [
            "Major Lazer",
            "Amber of Dirty Projectors"
           ],
           "Get Free"
          ],
          [
           [
            "Lea Rue",
            "Broiler"
           ],
           "I Can't Say No! - Broiler Remix"
          ],
          [
           [
            "Disclosure",
            "Sam Smith"
           ],
           "Latch"
          ],
          [
           [
            "George Michael"
           ],
           "One More Try - Remastered"
          ],
          [
           [
            "Kali Uchis"
           ],
           "Ridin Round"
          ],
          [
           [
            "Travis Scott",
            "GloRilla"
           ],
           "SHYNE"
          ],
          [
           [
            "Anri"
           ],
           "SHYNESS BOY"
          ],
          [
           [
            "Flume",
            "Tove Lo"
           ],
           "Say It"
          ],
          [
           [
            "Mara Sattei"
           ],
           "Scusa - prod. thasup"
          ],
          [
           [
            "Earth",
            " Wind & Fire"
           ],
           "September"
          ],
          [
           [
            "The Chords"
           ],
           "Sh-Boom"
          ],
          [
           [
            "Robin S"
           ],
           "Show Me Love"
          ],
          [
           [
            "Club Dogo"
           ],
           "Spacco Tutto"
          ],
          [
           [
            "Blank Banshee"
           ],
           "Spirit Season"
          ],
          [
           [
            "Edward Maya",
            "Vika Jigulina"
           ],
           "Stereo Love"
          ],
          [
           [
            "Thirty Seconds To Mars"
           ],
           "The Kill"
          ],
          [
           [
            "Jack Ü",
            "Skrillex",
            "Diplo",
            "Aluna",
            "AlunaGeorge"
           ],
           "To Ü (feat. AlunaGeorge)"
          ],
          [
           [
            "Daler Mehndi"
           ],
           "Tunak Tunak Tun"
          ],
          [
           [
            "bôa"
           ],
           "Twilight"
          ],
          [
           [
            "i cani"
           ],
           "Una cosa stupida"
          ],
          [
           [
            "CAZZETTE"
           ],
           "Weapon"
          ],
          [
           [
            "Yung Bae",
            "Macross 82-99"
           ],
           "Welcome To The Disco"
          ],
          [
           [
            "GAYLE"
           ],
           "abcdefu (angrier)"
          ],
          [
           [
            "Moya Mishel"
           ],
           "Зима в сердце"
          ],
          [
           [
            "Molchat Doma"
           ],
           "Тоска"
          ]
         ],
         "hovertemplate": "Added By=%{x}<br>BPM=%{y}<br>Artist=%{customdata[0]}<br>Song=%{customdata[1]}<extra></extra>",
         "legendgroup": "Riccardo",
         "marker": {
          "color": "#636efa"
         },
         "name": "Riccardo",
         "notched": false,
         "offsetgroup": "Riccardo",
         "orientation": "v",
         "showlegend": true,
         "type": "box",
         "x": [
          "Riccardo",
          "Riccardo",
          "Riccardo",
          "Riccardo",
          "Riccardo",
          "Riccardo",
          "Riccardo",
          "Riccardo",
          "Riccardo",
          "Riccardo",
          "Riccardo",
          "Riccardo",
          "Riccardo",
          "Riccardo",
          "Riccardo",
          "Riccardo",
          "Riccardo",
          "Riccardo",
          "Riccardo",
          "Riccardo",
          "Riccardo",
          "Riccardo",
          "Riccardo",
          "Riccardo",
          "Riccardo",
          "Riccardo",
          "Riccardo",
          "Riccardo",
          "Riccardo",
          "Riccardo",
          "Riccardo",
          "Riccardo",
          "Riccardo",
          "Riccardo",
          "Riccardo"
         ],
         "x0": " ",
         "xaxis": "x",
         "y": {
          "bdata": "ggBmAIIAmgC0AIwAfgCoAHEAsACwAIAAegB3AHgAlAB4AEsAYgB+AIkAeACOAH4AfwC3AKAAlgC7AK0AgACAAHoAbACgAA==",
          "dtype": "i2"
         },
         "y0": " ",
         "yaxis": "y"
        },
        {
         "alignmentgroup": "True",
         "boxpoints": "all",
         "customdata": [
          [
           [
            "Doechii",
            "JT"
           ],
           "Alter Ego (with JT)"
          ],
          [
           [
            "Jungle"
           ],
           "Back On 74"
          ],
          [
           [
            "Jonas Brothers"
           ],
           "Burnin' Up"
          ],
          [
           [
            "Gorillaz",
            "Shaun Ryder",
            "Roses Gabor"
           ],
           "DARE (feat. Shaun Ryder & Roses Gabor)"
          ],
          [
           [
            "Backstreet Boys"
           ],
           "Everybody (Backstreet's Back) - Radio Edit"
          ],
          [
           [
            "M¥SS KETA"
           ],
           "GIOVANNA HARDCORE"
          ],
          [
           [
            "Anastacia"
           ],
           "I'm Outta Love"
          ],
          [
           [
            "Avril Lavigne"
           ],
           "I'm with You"
          ],
          [
           [
            "The 1975"
           ],
           "Love Me"
          ],
          [
           [
            "Lady Gaga",
            "Beyoncé"
           ],
           "Telephone"
          ],
          [
           [
            "Caroline Polachek",
            "Charli xcx",
            "George Daniel"
           ],
           "Welcome To My Island - George Daniel & Charli XCX Remix"
          ]
         ],
         "hovertemplate": "Added By=%{x}<br>BPM=%{y}<br>Artist=%{customdata[0]}<br>Song=%{customdata[1]}<extra></extra>",
         "legendgroup": "Valentina",
         "marker": {
          "color": "#EF553B"
         },
         "name": "Valentina",
         "notched": false,
         "offsetgroup": "Valentina",
         "orientation": "v",
         "showlegend": true,
         "type": "box",
         "x": [
          "Valentina",
          "Valentina",
          "Valentina",
          "Valentina",
          "Valentina",
          "Valentina",
          "Valentina",
          "Valentina",
          "Valentina",
          "Valentina",
          "Valentina"
         ],
         "x0": " ",
         "xaxis": "x",
         "y": {
          "bdata": "fwCSAHIAeABsAH4AdwCYAGEAegCGAA==",
          "dtype": "i2"
         },
         "y0": " ",
         "yaxis": "y"
        },
        {
         "alignmentgroup": "True",
         "boxpoints": "all",
         "customdata": [
          [
           [
            "Alfa Mist",
            "Bongeziwe Mabandla"
           ],
           "Apho"
          ],
          [
           [
            "ROSALÍA"
           ],
           "BIZCOCHITO"
          ],
          [
           [
            "Deftones"
           ],
           "Be Quiet and Drive (Far Away)"
          ],
          [
           [
            "Fleet Foxes"
           ],
           "Blue Ridge Mountains"
          ],
          [
           [
            "Public Enemy",
            "Benny Benassi"
           ],
           "Bring the Noise"
          ],
          [
           [
            "Weezer"
           ],
           "Buddy Holly"
          ],
          [
           [
            "Caroline Polachek"
           ],
           "Dang"
          ],
          [
           [
            "Fred again..",
            "Delilah Montagu"
           ],
           "Delilah (pull me out of this)"
          ],
          [
           [
            "Jane Remover"
           ],
           "Experimental Skin"
          ],
          [
           [
            "Korn"
           ],
           "Falling Away from Me"
          ],
          [
           [
            "Porcupine Tree"
           ],
           "Fear Of A Blank Planet - 2024 Remaster"
          ],
          [
           [
            "Franco Battiato",
            "Abdul Halim Sabra"
           ],
           "Fogh In Nakhal - 2008 Remaster"
          ],
          [
           [
            "KIDS SEE GHOSTS",
            "Ty Dolla $ign"
           ],
           "Freeee (Ghost Town Pt. 2)"
          ],
          [
           [
            "Lily Allen"
           ],
           "Fuck You"
          ],
          [
           [
            "Charli xcx",
            "Billie Eilish"
           ],
           "Guess featuring billie eilish"
          ],
          [
           [
            "The Smiths"
           ],
           "Heaven Knows I'm Miserable Now - 2011 Remaster"
          ],
          [
           [
            "PinkPantheress"
           ],
           "Illegal"
          ],
          [
           [
            "Neutral Milk Hotel"
           ],
           "In the Aeroplane Over the Sea"
          ],
          [
           [
            "Arca",
            "ROSALÍA"
           ],
           "KLK"
          ],
          [
           [
            "The Last Shadow Puppets"
           ],
           "Les Cactus"
          ],
          [
           [
            "The Smashing Pumpkins"
           ],
           "Mayonaise - 2011 Remaster"
          ],
          [
           [
            "Turnstile"
           ],
           "NEVER ENOUGH"
          ],
          [
           [
            "Édith Piaf"
           ],
           "Non, je ne regrette rien"
          ],
          [
           [
            "Fontaines D.C."
           ],
           "Oh Such A Spring"
          ],
          [
           [
            "Gilberto Gil"
           ],
           "Pega a Voga, Cabeludo"
          ],
          [
           [
            "Arca"
           ],
           "Riquiquí"
          ],
          [
           [
            "Troye Sivan",
            "PinkPantheress",
            "Hyunjin"
           ],
           "Rush (feat. PinkPantheress & Hyunjin of Stray Kids)"
          ],
          [
           [
            "Joey Valence & Brae",
            "Rebecca Black"
           ],
           "SEE U DANCE (feat. Rebecca Black)"
          ],
          [
           [
            "Beach House"
           ],
           "Space Song"
          ],
          [
           [
            "Bon Iver"
           ],
           "THINGS BEHIND THINGS BEHIND THINGS"
          ],
          [
           [
            "COBRAH",
            "VTSS",
            "MCR-T"
           ],
           "TITS, LIPS, HIPS, KISS (10/10 Remix)"
          ],
          [
           [
            "TOOL"
           ],
           "The Pot"
          ],
          [
           [
            "Verdena"
           ],
           "Un Blu Sincero"
          ],
          [
           [
            "Magdalena Bay"
           ],
           "Watching T.V."
          ],
          [
           [
            "Bob Sinclar",
            "Steve Edwards"
           ],
           "World Hold On (Children of the Sky) - Radio Edit"
          ]
         ],
         "hovertemplate": "Added By=%{x}<br>BPM=%{y}<br>Artist=%{customdata[0]}<br>Song=%{customdata[1]}<extra></extra>",
         "legendgroup": "Alessandro",
         "marker": {
          "color": "#00cc96"
         },
         "name": "Alessandro",
         "notched": false,
         "offsetgroup": "Alessandro",
         "orientation": "v",
         "showlegend": true,
         "type": "box",
         "x": [
          "Alessandro",
          "Alessandro",
          "Alessandro",
          "Alessandro",
          "Alessandro",
          "Alessandro",
          "Alessandro",
          "Alessandro",
          "Alessandro",
          "Alessandro",
          "Alessandro",
          "Alessandro",
          "Alessandro",
          "Alessandro",
          "Alessandro",
          "Alessandro",
          "Alessandro",
          "Alessandro",
          "Alessandro",
          "Alessandro",
          "Alessandro",
          "Alessandro",
          "Alessandro",
          "Alessandro",
          "Alessandro",
          "Alessandro",
          "Alessandro",
          "Alessandro",
          "Alessandro",
          "Alessandro",
          "Alessandro",
          "Alessandro",
          "Alessandro",
          "Alessandro",
          "Alessandro"
         ],
         "x0": " ",
         "xaxis": "x",
         "y": {
          "bdata": "VAB1AF0AYgCCAHkAhwCGAJEAaACiAG4AmACCAIIAcgCNAF4AYgCCAJIAmgBXAI0AiABaAH4AeACTAJ0AkQBrAIIAjAB/AA==",
          "dtype": "i2"
         },
         "y0": " ",
         "yaxis": "y"
        },
        {
         "alignmentgroup": "True",
         "boxpoints": "all",
         "customdata": [
          [
           [
            "Lady Gaga"
           ],
           "Applause"
          ],
          [
           [
            "AC/DC"
           ],
           "Back In Black"
          ],
          [
           [
            "Depeche Mode"
           ],
           "Black Celebration"
          ],
          [
           [
            "Type O Negative"
           ],
           "Black No. 1 (Little Miss Scare -All)"
          ],
          [
           [
            "Dead by April"
           ],
           "Breaking Point"
          ],
          [
           [
            "Type O Negative"
           ],
           "Cinnamon Girl"
          ],
          [
           [
            "Casey Edwards"
           ],
           "Devil Trigger"
          ],
          [
           [
            "Basshunter"
           ],
           "DotA - Radio Edit"
          ],
          [
           [
            "O-Zone"
           ],
           "Dragostea din tei"
          ],
          [
           [
            "Depeche Mode"
           ],
           "Enjoy the Silence"
          ],
          [
           [
            "Metallica"
           ],
           "Enter Sandman - Radio Edit"
          ],
          [
           [
            "Vintage",
            "Bedanokov",
            "Люай"
           ],
           "Eva (Kavkaz remix)"
          ],
          [
           [
            "Blue Foundation"
           ],
           "Eyes on Fire"
          ],
          [
           [
            "Sonata Arctica"
           ],
           "Fade to Black"
          ],
          [
           [
            "Dead by April"
           ],
           "I Can't Breathe"
          ],
          [
           [
            "Lacuna Coil"
           ],
           "I Wish You Were Dead"
          ],
          [
           [
            "Datura",
            "U.S.U.R.A."
           ],
           "Infinity"
          ],
          [
           [
            "Type O Negative"
           ],
           "Kill All the White People"
          ],
          [
           [
            "Killing Joke"
           ],
           "Love Like Blood"
          ],
          [
           [
            "Eternxlkz"
           ],
           "Montagem Nada Tropica"
          ],
          [
           [
            "STARSET"
           ],
           "My Demons"
          ],
          [
           [
            "Type O Negative"
           ],
           "My Girlfriend's Girlfriend"
          ],
          [
           [
            "Sonata Arctica"
           ],
           "My Land"
          ],
          [
           [
            "Ciara"
           ],
           "Paint It, Black"
          ],
          [
           [
            "cassö",
            "RAYE",
            "D-Block Europe"
           ],
           "Prada"
          ],
          [
           [
            "Within Temptation",
            "Anders Friden"
           ],
           "Raise Your Banner"
          ],
          [
           [
            "Rihanna"
           ],
           "S&M"
          ],
          [
           [
            "Bizarrap",
            "Shakira"
           ],
           "Shakira: Bzrp Music Sessions, Vol. 53"
          ],
          [
           [
            "Rammstein"
           ],
           "Sonne"
          ],
          [
           [
            "Nightwish"
           ],
           "Storytime"
          ],
          [
           [
            "Dead by April"
           ],
           "Swarm Mode"
          ],
          [
           [
            "Maroon 5"
           ],
           "This Love"
          ],
          [
           [
            "Green Day"
           ],
           "Wake Me up When September Ends"
          ],
          [
           [
            "Five Finger Death Punch"
           ],
           "War is the Answer"
          ],
          [
           [
            "Five Finger Death Punch"
           ],
           "Wrong Side of Heaven"
          ]
         ],
         "hovertemplate": "Added By=%{x}<br>BPM=%{y}<br>Artist=%{customdata[0]}<br>Song=%{customdata[1]}<extra></extra>",
         "legendgroup": "Lidia",
         "marker": {
          "color": "#ab63fa"
         },
         "name": "Lidia",
         "notched": false,
         "offsetgroup": "Lidia",
         "orientation": "v",
         "showlegend": true,
         "type": "box",
         "x": [
          "Lidia",
          "Lidia",
          "Lidia",
          "Lidia",
          "Lidia",
          "Lidia",
          "Lidia",
          "Lidia",
          "Lidia",
          "Lidia",
          "Lidia",
          "Lidia",
          "Lidia",
          "Lidia",
          "Lidia",
          "Lidia",
          "Lidia",
          "Lidia",
          "Lidia",
          "Lidia",
          "Lidia",
          "Lidia",
          "Lidia",
          "Lidia",
          "Lidia",
          "Lidia",
          "Lidia",
          "Lidia",
          "Lidia",
          "Lidia",
          "Lidia",
          "Lidia",
          "Lidia",
          "Lidia",
          "Lidia"
         ],
         "x0": " ",
         "xaxis": "x",
         "y": {
          "bdata": "jAC8AJoAXgCTAGMAoACMAIIAcQB8AH0AkQCCAGEAYwCWAF8AfQB5AK0AcgC5AHsAjgCuAIAAegBLAJwAoABfAGkAuACWAA==",
          "dtype": "i2"
         },
         "y0": " ",
         "yaxis": "y"
        },
        {
         "alignmentgroup": "True",
         "boxpoints": "all",
         "customdata": [
          [
           [
            "Hannah Holgersson"
           ],
           "Ave Maria - Schubert"
          ],
          [
           [
            "Lady Gaga"
           ],
           "Bad Romance"
          ],
          [
           [
            "Nicki Minaj",
            "Ice Spice",
            "Aqua"
           ],
           "Barbie World (with Aqua) [From Barbie The Album]"
          ],
          [
           [
            "The Weeknd"
           ],
           "Blinding Lights"
          ],
          [
           [
            "Lady Gaga"
           ],
           "Bloody Mary"
          ],
          [
           [
            "Glee Cast"
           ],
           "Bust Your Windows"
          ],
          [
           [
            "Lana Del Rey"
           ],
           "Cinnamon Girl"
          ],
          [
           [
            "Dua Lipa"
           ],
           "Dance The Night - From Barbie The Album"
          ],
          [
           [
            "Indila"
           ],
           "Dernière danse"
          ],
          [
           [
            "Djo"
           ],
           "End of Beginning"
          ],
          [
           [
            "Bruno Mars"
           ],
           "Finesse"
          ],
          [
           [
            "PSY"
           ],
           "Gangnam Style (강남스타일)"
          ],
          [
           [
            "Daft Punk"
           ],
           "Harder, Better, Faster, Stronger"
          ],
          [
           [
            "Shakira",
            "Wyclef Jean"
           ],
           "Hips Don't Lie (feat. Wyclef Jean)"
          ],
          [
           [
            "Dua Lipa"
           ],
           "Houdini"
          ],
          [
           [
            "Anne Hathaway"
           ],
           "I Dreamed A Dream - From  Les Misérables "
          ],
          [
           [
            "Elton John"
           ],
           "I'm Still Standing"
          ],
          [
           [
            "Master KG",
            "Nomcebo Zikode"
           ],
           "Jerusalema (feat. Nomcebo Zikode)"
          ],
          [
           [
            "Taylor Swift"
           ],
           "Karma"
          ],
          [
           [
            "Christina Aguilera",
            "Lil' Kim",
            "Mýa",
            "P!nk"
           ],
           "Lady Marmalade - From  Moulin Rouge  Soundtrack"
          ],
          [
           [
            "Las Divinas"
           ],
           "Las Divinas"
          ],
          [
           [
            "Meghan Trainor"
           ],
           "Made You Look"
          ],
          [
           [
            "Chappell Roan"
           ],
           "My Kink Is Karma"
          ],
          [
           [
            "Rio Romeo"
           ],
           "Nothing's New"
          ],
          [
           [
            "Chappell Roan"
           ],
           "Pink Pony Club"
          ],
          [
           [
            "Zach Bryan"
           ],
           "Pink Skies"
          ],
          [
           [
            "James Blunt"
           ],
           "Postcards"
          ],
          [
           [
            "Whitney Houston"
           ],
           "Queen of the Night - Radio Edit"
          ],
          [
           [
            "Nicki Minaj"
           ],
           "Starships"
          ],
          [
           [
            "Meryl Streep"
           ],
           "The Winner Takes It All - From  Mamma Mia! "
          ],
          [
           [
            "Spice Girls"
           ],
           "Wannabe"
          ],
          [
           [
            "Ariana Grande",
            "Cynthia Erivo"
           ],
           "What Is This Feeling?"
          ],
          [
           [
            "Beyoncé"
           ],
           "YA YA"
          ],
          [
           [
            "Taylor Swift"
           ],
           "cardigan"
          ],
          [
           [
            "girl in red"
           ],
           "we fell in love in october"
          ]
         ],
         "hovertemplate": "Added By=%{x}<br>BPM=%{y}<br>Artist=%{customdata[0]}<br>Song=%{customdata[1]}<extra></extra>",
         "legendgroup": "Giulia",
         "marker": {
          "color": "#FFA15A"
         },
         "name": "Giulia",
         "notched": false,
         "offsetgroup": "Giulia",
         "orientation": "v",
         "showlegend": true,
         "type": "box",
         "x": [
          "Giulia",
          "Giulia",
          "Giulia",
          "Giulia",
          "Giulia",
          "Giulia",
          "Giulia",
          "Giulia",
          "Giulia",
          "Giulia",
          "Giulia",
          "Giulia",
          "Giulia",
          "Giulia",
          "Giulia",
          "Giulia",
          "Giulia",
          "Giulia",
          "Giulia",
          "Giulia",
          "Giulia",
          "Giulia",
          "Giulia",
          "Giulia",
          "Giulia",
          "Giulia",
          "Giulia",
          "Giulia",
          "Giulia",
          "Giulia",
          "Giulia",
          "Giulia",
          "Giulia",
          "Giulia",
          "Giulia"
         ],
         "x0": " ",
         "xaxis": "x",
         "y": {
          "bdata": "jQB3AJAAqwBkAG4AXABuAHMAoABpAIQAewBkAHUAXQCxAHwAWgBuAHAAkQBXAGAAawBVAGQAaQB9AH0AbgCYAJgAggCCAA==",
          "dtype": "i2"
         },
         "y0": " ",
         "yaxis": "y"
        },
        {
         "alignmentgroup": "True",
         "boxpoints": "all",
         "customdata": [
          [
           [
            "Lambrini Girls"
           ],
           "Big Dick Energy"
          ],
          [
           [
            "Tyler",
            " The Creator",
            "Pharrell Williams"
           ],
           "Big Poe (feat. Sk8brd)"
          ],
          [
           [
            "Limp Bizkit"
           ],
           "Break Stuff"
          ],
          [
           [
            "Denzel Curry"
           ],
           "Bulls on Parade - triple j Like A Version"
          ],
          [
           [
            "Verdena"
           ],
           "Crystal Ball"
          ],
          [
           [
            "Sting",
            "Cheb Mami"
           ],
           "Desert Rose"
          ],
          [
           [
            "Hemant Kumar"
           ],
           "Ei Raat Tomar Amar"
          ],
          [
           [
            "Crizin da Z.O."
           ],
           "Festa da Carne"
          ],
          [
           [
            "System Of A Down"
           ],
           "Fuck the System"
          ],
          [
           [
            "Type O Negative"
           ],
           "Green Man"
          ],
          [
           [
            "Booker T. & the M.G.'s"
           ],
           "Green Onions - 2022 Remaster"
          ],
          [
           [
            "Puscifer"
           ],
           "Green Valley"
          ],
          [
           [
            "YUNGBLUD"
           ],
           "Idols Pt. I"
          ],
          [
           [
            "Franco Battiato"
           ],
           "Impressioni di settembre"
          ],
          [
           [
            "Venamoris",
            "Dave Lombardo"
           ],
           "In the Shadows"
          ],
          [
           [
            "The Parlor Mob"
           ],
           "Into the Sun"
          ],
          [
           [
            "Manu Chao"
           ],
           "La vie à 2"
          ],
          [
           [
            "Dalila Kayros"
           ],
           "Leviatan"
          ],
          [
           [
            "Fergie"
           ],
           "M.I.L.F. $"
          ],
          [
           [
            "Nelly Furtado"
           ],
           "Maneater"
          ],
          [
           [
            "Les Claypool"
           ],
           "Mushroom Men"
          ],
          [
           [
            "Bodam Project",
            "Pierpaolo Capovilla"
           ],
           "Niente - Radio Edit"
          ],
          [
           [
            "Skiantos"
           ],
           "Non farò mai quello che vuoi"
          ],
          [
           [
            "Slipknot"
           ],
           "People = Shit"
          ],
          [
           [
            "Honningbarna"
           ],
           "Schäfer"
          ],
          [
           [
            "Type O Negative"
           ],
           "September Sun"
          ],
          [
           [
            "Within Temptation"
           ],
           "Summertime Sadness"
          ],
          [
           [
            "Faith No More"
           ],
           "The Gentle Art of Making Enemies - 2016 Remaster"
          ],
          [
           [
            "Nelly Furtado"
           ],
           "The Grass Is Green"
          ],
          [
           [
            "Puscifer"
           ],
           "The Humbling River"
          ],
          [
           [
            "Red Hot Chili Peppers"
           ],
           "The Longest Wave"
          ],
          [
           [
            "Franco Battiato",
            "Carmen Consoli"
           ],
           "Tutto L'Universo Obbedisce All'Amore"
          ],
          [
           [
            "Vinicio Capossela"
           ],
           "Utrennyaya gimnastika"
          ],
          [
           [
            "Rothadás"
           ],
           "Vértükör"
          ],
          [
           [
            "Within Temptation"
           ],
           "Wireless"
          ]
         ],
         "hovertemplate": "Added By=%{x}<br>BPM=%{y}<br>Artist=%{customdata[0]}<br>Song=%{customdata[1]}<extra></extra>",
         "legendgroup": "Pietro",
         "marker": {
          "color": "#19d3f3"
         },
         "name": "Pietro",
         "notched": false,
         "offsetgroup": "Pietro",
         "orientation": "v",
         "showlegend": true,
         "type": "box",
         "x": [
          "Pietro",
          "Pietro",
          "Pietro",
          "Pietro",
          "Pietro",
          "Pietro",
          "Pietro",
          "Pietro",
          "Pietro",
          "Pietro",
          "Pietro",
          "Pietro",
          "Pietro",
          "Pietro",
          "Pietro",
          "Pietro",
          "Pietro",
          "Pietro",
          "Pietro",
          "Pietro",
          "Pietro",
          "Pietro",
          "Pietro",
          "Pietro",
          "Pietro",
          "Pietro",
          "Pietro",
          "Pietro",
          "Pietro",
          "Pietro",
          "Pietro",
          "Pietro",
          "Pietro",
          "Pietro",
          "Pietro"
         ],
         "x0": " ",
         "xaxis": "x",
         "y": {
          "bdata": "bQBuAG0AWABsAHAAWACCAKsAcwCHAFUAdgCiAIIATACeAFoAoQCFAHgAewB+AHoAoQB9AHYAqgBUAJAAlABmAHAAsABbAA==",
          "dtype": "i2"
         },
         "y0": " ",
         "yaxis": "y"
        }
       ],
       "layout": {
        "boxmode": "overlay",
        "legend": {
         "title": {
          "text": "Added By"
         },
         "tracegroupgap": 0
        },
        "margin": {
         "t": 60
        },
        "template": {
         "data": {
          "bar": [
           {
            "error_x": {
             "color": "#2a3f5f"
            },
            "error_y": {
             "color": "#2a3f5f"
            },
            "marker": {
             "line": {
              "color": "#E5ECF6",
              "width": 0.5
             },
             "pattern": {
              "fillmode": "overlay",
              "size": 10,
              "solidity": 0.2
             }
            },
            "type": "bar"
           }
          ],
          "barpolar": [
           {
            "marker": {
             "line": {
              "color": "#E5ECF6",
              "width": 0.5
             },
             "pattern": {
              "fillmode": "overlay",
              "size": 10,
              "solidity": 0.2
             }
            },
            "type": "barpolar"
           }
          ],
          "carpet": [
           {
            "aaxis": {
             "endlinecolor": "#2a3f5f",
             "gridcolor": "white",
             "linecolor": "white",
             "minorgridcolor": "white",
             "startlinecolor": "#2a3f5f"
            },
            "baxis": {
             "endlinecolor": "#2a3f5f",
             "gridcolor": "white",
             "linecolor": "white",
             "minorgridcolor": "white",
             "startlinecolor": "#2a3f5f"
            },
            "type": "carpet"
           }
          ],
          "choropleth": [
           {
            "colorbar": {
             "outlinewidth": 0,
             "ticks": ""
            },
            "type": "choropleth"
           }
          ],
          "contour": [
           {
            "colorbar": {
             "outlinewidth": 0,
             "ticks": ""
            },
            "colorscale": [
             [
              0,
              "#0d0887"
             ],
             [
              0.1111111111111111,
              "#46039f"
             ],
             [
              0.2222222222222222,
              "#7201a8"
             ],
             [
              0.3333333333333333,
              "#9c179e"
             ],
             [
              0.4444444444444444,
              "#bd3786"
             ],
             [
              0.5555555555555556,
              "#d8576b"
             ],
             [
              0.6666666666666666,
              "#ed7953"
             ],
             [
              0.7777777777777778,
              "#fb9f3a"
             ],
             [
              0.8888888888888888,
              "#fdca26"
             ],
             [
              1,
              "#f0f921"
             ]
            ],
            "type": "contour"
           }
          ],
          "contourcarpet": [
           {
            "colorbar": {
             "outlinewidth": 0,
             "ticks": ""
            },
            "type": "contourcarpet"
           }
          ],
          "heatmap": [
           {
            "colorbar": {
             "outlinewidth": 0,
             "ticks": ""
            },
            "colorscale": [
             [
              0,
              "#0d0887"
             ],
             [
              0.1111111111111111,
              "#46039f"
             ],
             [
              0.2222222222222222,
              "#7201a8"
             ],
             [
              0.3333333333333333,
              "#9c179e"
             ],
             [
              0.4444444444444444,
              "#bd3786"
             ],
             [
              0.5555555555555556,
              "#d8576b"
             ],
             [
              0.6666666666666666,
              "#ed7953"
             ],
             [
              0.7777777777777778,
              "#fb9f3a"
             ],
             [
              0.8888888888888888,
              "#fdca26"
             ],
             [
              1,
              "#f0f921"
             ]
            ],
            "type": "heatmap"
           }
          ],
          "histogram": [
           {
            "marker": {
             "pattern": {
              "fillmode": "overlay",
              "size": 10,
              "solidity": 0.2
             }
            },
            "type": "histogram"
           }
          ],
          "histogram2d": [
           {
            "colorbar": {
             "outlinewidth": 0,
             "ticks": ""
            },
            "colorscale": [
             [
              0,
              "#0d0887"
             ],
             [
              0.1111111111111111,
              "#46039f"
             ],
             [
              0.2222222222222222,
              "#7201a8"
             ],
             [
              0.3333333333333333,
              "#9c179e"
             ],
             [
              0.4444444444444444,
              "#bd3786"
             ],
             [
              0.5555555555555556,
              "#d8576b"
             ],
             [
              0.6666666666666666,
              "#ed7953"
             ],
             [
              0.7777777777777778,
              "#fb9f3a"
             ],
             [
              0.8888888888888888,
              "#fdca26"
             ],
             [
              1,
              "#f0f921"
             ]
            ],
            "type": "histogram2d"
           }
          ],
          "histogram2dcontour": [
           {
            "colorbar": {
             "outlinewidth": 0,
             "ticks": ""
            },
            "colorscale": [
             [
              0,
              "#0d0887"
             ],
             [
              0.1111111111111111,
              "#46039f"
             ],
             [
              0.2222222222222222,
              "#7201a8"
             ],
             [
              0.3333333333333333,
              "#9c179e"
             ],
             [
              0.4444444444444444,
              "#bd3786"
             ],
             [
              0.5555555555555556,
              "#d8576b"
             ],
             [
              0.6666666666666666,
              "#ed7953"
             ],
             [
              0.7777777777777778,
              "#fb9f3a"
             ],
             [
              0.8888888888888888,
              "#fdca26"
             ],
             [
              1,
              "#f0f921"
             ]
            ],
            "type": "histogram2dcontour"
           }
          ],
          "mesh3d": [
           {
            "colorbar": {
             "outlinewidth": 0,
             "ticks": ""
            },
            "type": "mesh3d"
           }
          ],
          "parcoords": [
           {
            "line": {
             "colorbar": {
              "outlinewidth": 0,
              "ticks": ""
             }
            },
            "type": "parcoords"
           }
          ],
          "pie": [
           {
            "automargin": true,
            "type": "pie"
           }
          ],
          "scatter": [
           {
            "fillpattern": {
             "fillmode": "overlay",
             "size": 10,
             "solidity": 0.2
            },
            "type": "scatter"
           }
          ],
          "scatter3d": [
           {
            "line": {
             "colorbar": {
              "outlinewidth": 0,
              "ticks": ""
             }
            },
            "marker": {
             "colorbar": {
              "outlinewidth": 0,
              "ticks": ""
             }
            },
            "type": "scatter3d"
           }
          ],
          "scattercarpet": [
           {
            "marker": {
             "colorbar": {
              "outlinewidth": 0,
              "ticks": ""
             }
            },
            "type": "scattercarpet"
           }
          ],
          "scattergeo": [
           {
            "marker": {
             "colorbar": {
              "outlinewidth": 0,
              "ticks": ""
             }
            },
            "type": "scattergeo"
           }
          ],
          "scattergl": [
           {
            "marker": {
             "colorbar": {
              "outlinewidth": 0,
              "ticks": ""
             }
            },
            "type": "scattergl"
           }
          ],
          "scattermap": [
           {
            "marker": {
             "colorbar": {
              "outlinewidth": 0,
              "ticks": ""
             }
            },
            "type": "scattermap"
           }
          ],
          "scattermapbox": [
           {
            "marker": {
             "colorbar": {
              "outlinewidth": 0,
              "ticks": ""
             }
            },
            "type": "scattermapbox"
           }
          ],
          "scatterpolar": [
           {
            "marker": {
             "colorbar": {
              "outlinewidth": 0,
              "ticks": ""
             }
            },
            "type": "scatterpolar"
           }
          ],
          "scatterpolargl": [
           {
            "marker": {
             "colorbar": {
              "outlinewidth": 0,
              "ticks": ""
             }
            },
            "type": "scatterpolargl"
           }
          ],
          "scatterternary": [
           {
            "marker": {
             "colorbar": {
              "outlinewidth": 0,
              "ticks": ""
             }
            },
            "type": "scatterternary"
           }
          ],
          "surface": [
           {
            "colorbar": {
             "outlinewidth": 0,
             "ticks": ""
            },
            "colorscale": [
             [
              0,
              "#0d0887"
             ],
             [
              0.1111111111111111,
              "#46039f"
             ],
             [
              0.2222222222222222,
              "#7201a8"
             ],
             [
              0.3333333333333333,
              "#9c179e"
             ],
             [
              0.4444444444444444,
              "#bd3786"
             ],
             [
              0.5555555555555556,
              "#d8576b"
             ],
             [
              0.6666666666666666,
              "#ed7953"
             ],
             [
              0.7777777777777778,
              "#fb9f3a"
             ],
             [
              0.8888888888888888,
              "#fdca26"
             ],
             [
              1,
              "#f0f921"
             ]
            ],
            "type": "surface"
           }
          ],
          "table": [
           {
            "cells": {
             "fill": {
              "color": "#EBF0F8"
             },
             "line": {
              "color": "white"
             }
            },
            "header": {
             "fill": {
              "color": "#C8D4E3"
             },
             "line": {
              "color": "white"
             }
            },
            "type": "table"
           }
          ]
         },
         "layout": {
          "annotationdefaults": {
           "arrowcolor": "#2a3f5f",
           "arrowhead": 0,
           "arrowwidth": 1
          },
          "autotypenumbers": "strict",
          "coloraxis": {
           "colorbar": {
            "outlinewidth": 0,
            "ticks": ""
           }
          },
          "colorscale": {
           "diverging": [
            [
             0,
             "#8e0152"
            ],
            [
             0.1,
             "#c51b7d"
            ],
            [
             0.2,
             "#de77ae"
            ],
            [
             0.3,
             "#f1b6da"
            ],
            [
             0.4,
             "#fde0ef"
            ],
            [
             0.5,
             "#f7f7f7"
            ],
            [
             0.6,
             "#e6f5d0"
            ],
            [
             0.7,
             "#b8e186"
            ],
            [
             0.8,
             "#7fbc41"
            ],
            [
             0.9,
             "#4d9221"
            ],
            [
             1,
             "#276419"
            ]
           ],
           "sequential": [
            [
             0,
             "#0d0887"
            ],
            [
             0.1111111111111111,
             "#46039f"
            ],
            [
             0.2222222222222222,
             "#7201a8"
            ],
            [
             0.3333333333333333,
             "#9c179e"
            ],
            [
             0.4444444444444444,
             "#bd3786"
            ],
            [
             0.5555555555555556,
             "#d8576b"
            ],
            [
             0.6666666666666666,
             "#ed7953"
            ],
            [
             0.7777777777777778,
             "#fb9f3a"
            ],
            [
             0.8888888888888888,
             "#fdca26"
            ],
            [
             1,
             "#f0f921"
            ]
           ],
           "sequentialminus": [
            [
             0,
             "#0d0887"
            ],
            [
             0.1111111111111111,
             "#46039f"
            ],
            [
             0.2222222222222222,
             "#7201a8"
            ],
            [
             0.3333333333333333,
             "#9c179e"
            ],
            [
             0.4444444444444444,
             "#bd3786"
            ],
            [
             0.5555555555555556,
             "#d8576b"
            ],
            [
             0.6666666666666666,
             "#ed7953"
            ],
            [
             0.7777777777777778,
             "#fb9f3a"
            ],
            [
             0.8888888888888888,
             "#fdca26"
            ],
            [
             1,
             "#f0f921"
            ]
           ]
          },
          "colorway": [
           "#636efa",
           "#EF553B",
           "#00cc96",
           "#ab63fa",
           "#FFA15A",
           "#19d3f3",
           "#FF6692",
           "#B6E880",
           "#FF97FF",
           "#FECB52"
          ],
          "font": {
           "color": "#2a3f5f"
          },
          "geo": {
           "bgcolor": "white",
           "lakecolor": "white",
           "landcolor": "#E5ECF6",
           "showlakes": true,
           "showland": true,
           "subunitcolor": "white"
          },
          "hoverlabel": {
           "align": "left"
          },
          "hovermode": "closest",
          "mapbox": {
           "style": "light"
          },
          "paper_bgcolor": "white",
          "plot_bgcolor": "#E5ECF6",
          "polar": {
           "angularaxis": {
            "gridcolor": "white",
            "linecolor": "white",
            "ticks": ""
           },
           "bgcolor": "#E5ECF6",
           "radialaxis": {
            "gridcolor": "white",
            "linecolor": "white",
            "ticks": ""
           }
          },
          "scene": {
           "xaxis": {
            "backgroundcolor": "#E5ECF6",
            "gridcolor": "white",
            "gridwidth": 2,
            "linecolor": "white",
            "showbackground": true,
            "ticks": "",
            "zerolinecolor": "white"
           },
           "yaxis": {
            "backgroundcolor": "#E5ECF6",
            "gridcolor": "white",
            "gridwidth": 2,
            "linecolor": "white",
            "showbackground": true,
            "ticks": "",
            "zerolinecolor": "white"
           },
           "zaxis": {
            "backgroundcolor": "#E5ECF6",
            "gridcolor": "white",
            "gridwidth": 2,
            "linecolor": "white",
            "showbackground": true,
            "ticks": "",
            "zerolinecolor": "white"
           }
          },
          "shapedefaults": {
           "line": {
            "color": "#2a3f5f"
           }
          },
          "ternary": {
           "aaxis": {
            "gridcolor": "white",
            "linecolor": "white",
            "ticks": ""
           },
           "baxis": {
            "gridcolor": "white",
            "linecolor": "white",
            "ticks": ""
           },
           "bgcolor": "#E5ECF6",
           "caxis": {
            "gridcolor": "white",
            "linecolor": "white",
            "ticks": ""
           }
          },
          "title": {
           "x": 0.05
          },
          "xaxis": {
           "automargin": true,
           "gridcolor": "white",
           "linecolor": "white",
           "ticks": "",
           "title": {
            "standoff": 15
           },
           "zerolinecolor": "white",
           "zerolinewidth": 2
          },
          "yaxis": {
           "automargin": true,
           "gridcolor": "white",
           "linecolor": "white",
           "ticks": "",
           "title": {
            "standoff": 15
           },
           "zerolinecolor": "white",
           "zerolinewidth": 2
          }
         }
        },
        "title": {
         "text": "BPM Distribution by Added By"
        },
        "xaxis": {
         "anchor": "y",
         "categoryarray": [
          "Riccardo",
          "Valentina",
          "Alessandro",
          "Lidia",
          "Giulia",
          "Pietro"
         ],
         "categoryorder": "array",
         "domain": [
          0,
          1
         ],
         "title": {
          "text": "Added By"
         }
        },
        "yaxis": {
         "anchor": "x",
         "domain": [
          0,
          1
         ],
         "title": {
          "text": "BPM"
         }
        }
       }
      }
     },
     "metadata": {},
     "output_type": "display_data"
    }
   ],
   "source": [
    "import plotly.express as px\n",
    "\n",
    "fig = px.box(df, \n",
    "             x=\"Added By\", \n",
    "             y=\"BPM\", \n",
    "             color=\"Added By\",  # Color each group by Added By\n",
    "             points=\"all\",\n",
    "             hover_data=[\"Artist\", \"Song\"])  # Add Artist and Song to hover\n",
    "\n",
    "# Optional: Customize the layout\n",
    "fig.update_layout(\n",
    "    title=\"BPM Distribution by Added By\",\n",
    "    xaxis_title=\"Added By\",\n",
    "    yaxis_title=\"BPM\"\n",
    ")\n",
    "\n",
    "fig.show()"
   ]
  },
  {
   "cell_type": "code",
   "execution_count": 16,
   "id": "978f30e8",
   "metadata": {},
   "outputs": [
    {
     "data": {
      "application/vnd.plotly.v1+json": {
       "config": {
        "plotlyServerURL": "https://plot.ly"
       },
       "data": [
        {
         "alignmentgroup": "True",
         "boxpoints": "all",
         "customdata": [
          [
           "ATB",
           "9 PM (Till I Come) - Radio Edit"
          ],
          [
           "Ardian Bujupi,Capital T",
           "ANDIAMO"
          ],
          [
           "Marvin Gaye,Tammi Terrell",
           "Ain't No Mountain High Enough"
          ],
          [
           "Eyedress",
           "Cocaine Sunday"
          ],
          [
           "L I M",
           "Comet"
          ],
          [
           "BLACKPINK",
           "DDU-DU DDU-DU"
          ],
          [
           "Shahram Shabpareh",
           "Doomad"
          ],
          [
           "Freur",
           "Doot Doot"
          ],
          [
           "Kanye West",
           "Father Stretch My Hands Pt. 1"
          ],
          [
           "Sia",
           "Fire Meet Gasoline"
          ],
          [
           "Major Lazer,Amber of Dirty Projectors",
           "Get Free"
          ],
          [
           "Lea Rue,Broiler",
           "I Can't Say No! - Broiler Remix"
          ],
          [
           "Disclosure,Sam Smith",
           "Latch"
          ],
          [
           "George Michael",
           "One More Try - Remastered"
          ],
          [
           "Kali Uchis",
           "Ridin Round"
          ],
          [
           "Travis Scott,GloRilla",
           "SHYNE"
          ],
          [
           "Anri",
           "SHYNESS BOY"
          ],
          [
           "Flume,Tove Lo",
           "Say It"
          ],
          [
           "Mara Sattei",
           "Scusa - prod. thasup"
          ],
          [
           "Earth, Wind & Fire",
           "September"
          ],
          [
           "The Chords",
           "Sh-Boom"
          ],
          [
           "Robin S",
           "Show Me Love"
          ],
          [
           "Club Dogo",
           "Spacco Tutto"
          ],
          [
           "Blank Banshee",
           "Spirit Season"
          ],
          [
           "Edward Maya,Vika Jigulina",
           "Stereo Love"
          ],
          [
           "Thirty Seconds To Mars",
           "The Kill"
          ],
          [
           "Jack Ü,Skrillex,Diplo,Aluna,AlunaGeorge",
           "To Ü (feat. AlunaGeorge)"
          ],
          [
           "Daler Mehndi",
           "Tunak Tunak Tun"
          ],
          [
           "bôa",
           "Twilight"
          ],
          [
           "i cani",
           "Una cosa stupida"
          ],
          [
           "CAZZETTE",
           "Weapon"
          ],
          [
           "Yung Bae,Macross 82-99",
           "Welcome To The Disco"
          ],
          [
           "GAYLE",
           "abcdefu (angrier)"
          ],
          [
           "Moya Mishel",
           "Зима в сердце"
          ],
          [
           "Molchat Doma",
           "Тоска"
          ]
         ],
         "hovertemplate": "Added By=%{x}<br>Popularity=%{y}<br>Artist=%{customdata[0]}<br>Song=%{customdata[1]}<extra></extra>",
         "legendgroup": "Riccardo",
         "marker": {
          "color": "#636efa"
         },
         "name": "Riccardo",
         "notched": false,
         "offsetgroup": "Riccardo",
         "orientation": "v",
         "showlegend": true,
         "type": "box",
         "x": [
          "Riccardo",
          "Riccardo",
          "Riccardo",
          "Riccardo",
          "Riccardo",
          "Riccardo",
          "Riccardo",
          "Riccardo",
          "Riccardo",
          "Riccardo",
          "Riccardo",
          "Riccardo",
          "Riccardo",
          "Riccardo",
          "Riccardo",
          "Riccardo",
          "Riccardo",
          "Riccardo",
          "Riccardo",
          "Riccardo",
          "Riccardo",
          "Riccardo",
          "Riccardo",
          "Riccardo",
          "Riccardo",
          "Riccardo",
          "Riccardo",
          "Riccardo",
          "Riccardo",
          "Riccardo",
          "Riccardo",
          "Riccardo",
          "Riccardo",
          "Riccardo",
          "Riccardo"
         ],
         "x0": " ",
         "xaxis": "x",
         "y": {
          "bdata": "LjBSQBJKHydOOzoLUjEtSDwyHko8SCYPP085OEcnGCpALkA=",
          "dtype": "i1"
         },
         "y0": " ",
         "yaxis": "y"
        },
        {
         "alignmentgroup": "True",
         "boxpoints": "all",
         "customdata": [
          [
           "Doechii,JT",
           "Alter Ego (with JT)"
          ],
          [
           "Jungle",
           "Back On 74"
          ],
          [
           "Jonas Brothers",
           "Burnin' Up"
          ],
          [
           "Gorillaz,Shaun Ryder,Roses Gabor",
           "DARE (feat. Shaun Ryder & Roses Gabor)"
          ],
          [
           "Backstreet Boys",
           "Everybody (Backstreet's Back) - Radio Edit"
          ],
          [
           "M¥SS KETA",
           "GIOVANNA HARDCORE"
          ],
          [
           "Anastacia",
           "I'm Outta Love"
          ],
          [
           "Avril Lavigne",
           "I'm with You"
          ],
          [
           "The 1975",
           "Love Me"
          ],
          [
           "Lady Gaga,Beyoncé",
           "Telephone"
          ],
          [
           "Caroline Polachek,Charli xcx,George Daniel",
           "Welcome To My Island - George Daniel & Charli XCX Remix"
          ]
         ],
         "hovertemplate": "Added By=%{x}<br>Popularity=%{y}<br>Artist=%{customdata[0]}<br>Song=%{customdata[1]}<extra></extra>",
         "legendgroup": "Valentina",
         "marker": {
          "color": "#EF553B"
         },
         "name": "Valentina",
         "notched": false,
         "offsetgroup": "Valentina",
         "orientation": "v",
         "showlegend": true,
         "type": "box",
         "x": [
          "Valentina",
          "Valentina",
          "Valentina",
          "Valentina",
          "Valentina",
          "Valentina",
          "Valentina",
          "Valentina",
          "Valentina",
          "Valentina",
          "Valentina"
         ],
         "x0": " ",
         "xaxis": "x",
         "y": {
          "bdata": "Sk8AUygTOU0xTjU=",
          "dtype": "i1"
         },
         "y0": " ",
         "yaxis": "y"
        },
        {
         "alignmentgroup": "True",
         "boxpoints": "all",
         "customdata": [
          [
           "Alfa Mist,Bongeziwe Mabandla",
           "Apho"
          ],
          [
           "ROSALÍA",
           "BIZCOCHITO"
          ],
          [
           "Deftones",
           "Be Quiet and Drive (Far Away)"
          ],
          [
           "Fleet Foxes",
           "Blue Ridge Mountains"
          ],
          [
           "Public Enemy,Benny Benassi",
           "Bring the Noise"
          ],
          [
           "Weezer",
           "Buddy Holly"
          ],
          [
           "Caroline Polachek",
           "Dang"
          ],
          [
           "Fred again..,Delilah Montagu",
           "Delilah (pull me out of this)"
          ],
          [
           "Jane Remover",
           "Experimental Skin"
          ],
          [
           "Korn",
           "Falling Away from Me"
          ],
          [
           "Porcupine Tree",
           "Fear Of A Blank Planet - 2024 Remaster"
          ],
          [
           "Franco Battiato,Abdul Halim Sabra",
           "Fogh In Nakhal - 2008 Remaster"
          ],
          [
           "KIDS SEE GHOSTS,Ty Dolla $ign",
           "Freeee (Ghost Town Pt. 2)"
          ],
          [
           "Lily Allen",
           "Fuck You"
          ],
          [
           "Charli xcx,Billie Eilish",
           "Guess featuring billie eilish"
          ],
          [
           "The Smiths",
           "Heaven Knows I'm Miserable Now - 2011 Remaster"
          ],
          [
           "PinkPantheress",
           "Illegal"
          ],
          [
           "Neutral Milk Hotel",
           "In the Aeroplane Over the Sea"
          ],
          [
           "Arca,ROSALÍA",
           "KLK"
          ],
          [
           "The Last Shadow Puppets",
           "Les Cactus"
          ],
          [
           "The Smashing Pumpkins",
           "Mayonaise - 2011 Remaster"
          ],
          [
           "Turnstile",
           "NEVER ENOUGH"
          ],
          [
           "Édith Piaf",
           "Non, je ne regrette rien"
          ],
          [
           "Fontaines D.C.",
           "Oh Such A Spring"
          ],
          [
           "Gilberto Gil",
           "Pega a Voga, Cabeludo"
          ],
          [
           "Arca",
           "Riquiquí"
          ],
          [
           "Troye Sivan,PinkPantheress,Hyunjin",
           "Rush (feat. PinkPantheress & Hyunjin of Stray Kids)"
          ],
          [
           "Joey Valence & Brae,Rebecca Black",
           "SEE U DANCE (feat. Rebecca Black)"
          ],
          [
           "Beach House",
           "Space Song"
          ],
          [
           "Bon Iver",
           "THINGS BEHIND THINGS BEHIND THINGS"
          ],
          [
           "COBRAH,VTSS,MCR-T",
           "TITS, LIPS, HIPS, KISS (10/10 Remix)"
          ],
          [
           "TOOL",
           "The Pot"
          ],
          [
           "Verdena",
           "Un Blu Sincero"
          ],
          [
           "Magdalena Bay",
           "Watching T.V."
          ],
          [
           "Bob Sinclar,Steve Edwards",
           "World Hold On (Children of the Sky) - Radio Edit"
          ]
         ],
         "hovertemplate": "Added By=%{x}<br>Popularity=%{y}<br>Artist=%{customdata[0]}<br>Song=%{customdata[1]}<extra></extra>",
         "legendgroup": "Alessandro",
         "marker": {
          "color": "#00cc96"
         },
         "name": "Alessandro",
         "notched": false,
         "offsetgroup": "Alessandro",
         "orientation": "v",
         "showlegend": true,
         "type": "box",
         "x": [
          "Alessandro",
          "Alessandro",
          "Alessandro",
          "Alessandro",
          "Alessandro",
          "Alessandro",
          "Alessandro",
          "Alessandro",
          "Alessandro",
          "Alessandro",
          "Alessandro",
          "Alessandro",
          "Alessandro",
          "Alessandro",
          "Alessandro",
          "Alessandro",
          "Alessandro",
          "Alessandro",
          "Alessandro",
          "Alessandro",
          "Alessandro",
          "Alessandro",
          "Alessandro",
          "Alessandro",
          "Alessandro",
          "Alessandro",
          "Alessandro",
          "Alessandro",
          "Alessandro",
          "Alessandro",
          "Alessandro",
          "Alessandro",
          "Alessandro",
          "Alessandro",
          "Alessandro"
         ],
         "x0": " ",
         "xaxis": "x",
         "y": {
          "bdata": "GD9PMiNMJEcySxYONzhQUFRBMxYwNUMxDyc9MEo7LkcUN0w=",
          "dtype": "i1"
         },
         "y0": " ",
         "yaxis": "y"
        },
        {
         "alignmentgroup": "True",
         "boxpoints": "all",
         "customdata": [
          [
           "Lady Gaga",
           "Applause"
          ],
          [
           "AC/DC",
           "Back In Black"
          ],
          [
           "Depeche Mode",
           "Black Celebration"
          ],
          [
           "Type O Negative",
           "Black No. 1 (Little Miss Scare -All)"
          ],
          [
           "Dead by April",
           "Breaking Point"
          ],
          [
           "Type O Negative",
           "Cinnamon Girl"
          ],
          [
           "Casey Edwards",
           "Devil Trigger"
          ],
          [
           "Basshunter",
           "DotA - Radio Edit"
          ],
          [
           "O-Zone",
           "Dragostea din tei"
          ],
          [
           "Depeche Mode",
           "Enjoy the Silence"
          ],
          [
           "Metallica",
           "Enter Sandman - Radio Edit"
          ],
          [
           "Vintage,Bedanokov,Люай",
           "Eva (Kavkaz remix)"
          ],
          [
           "Blue Foundation",
           "Eyes on Fire"
          ],
          [
           "Sonata Arctica",
           "Fade to Black"
          ],
          [
           "Dead by April",
           "I Can't Breathe"
          ],
          [
           "Lacuna Coil",
           "I Wish You Were Dead"
          ],
          [
           "Datura,U.S.U.R.A.",
           "Infinity"
          ],
          [
           "Type O Negative",
           "Kill All the White People"
          ],
          [
           "Killing Joke",
           "Love Like Blood"
          ],
          [
           "Eternxlkz",
           "Montagem Nada Tropica"
          ],
          [
           "STARSET",
           "My Demons"
          ],
          [
           "Type O Negative",
           "My Girlfriend's Girlfriend"
          ],
          [
           "Sonata Arctica",
           "My Land"
          ],
          [
           "Ciara",
           "Paint It, Black"
          ],
          [
           "cassö,RAYE,D-Block Europe",
           "Prada"
          ],
          [
           "Within Temptation,Anders Friden",
           "Raise Your Banner"
          ],
          [
           "Rihanna",
           "S&M"
          ],
          [
           "Bizarrap,Shakira",
           "Shakira: Bzrp Music Sessions, Vol. 53"
          ],
          [
           "Rammstein",
           "Sonne"
          ],
          [
           "Nightwish",
           "Storytime"
          ],
          [
           "Dead by April",
           "Swarm Mode"
          ],
          [
           "Maroon 5",
           "This Love"
          ],
          [
           "Green Day",
           "Wake Me up When September Ends"
          ],
          [
           "Five Finger Death Punch",
           "War is the Answer"
          ],
          [
           "Five Finger Death Punch",
           "Wrong Side of Heaven"
          ]
         ],
         "hovertemplate": "Added By=%{x}<br>Popularity=%{y}<br>Artist=%{customdata[0]}<br>Song=%{customdata[1]}<extra></extra>",
         "legendgroup": "Lidia",
         "marker": {
          "color": "#ab63fa"
         },
         "name": "Lidia",
         "notched": false,
         "offsetgroup": "Lidia",
         "orientation": "v",
         "showlegend": true,
         "type": "box",
         "x": [
          "Lidia",
          "Lidia",
          "Lidia",
          "Lidia",
          "Lidia",
          "Lidia",
          "Lidia",
          "Lidia",
          "Lidia",
          "Lidia",
          "Lidia",
          "Lidia",
          "Lidia",
          "Lidia",
          "Lidia",
          "Lidia",
          "Lidia",
          "Lidia",
          "Lidia",
          "Lidia",
          "Lidia",
          "Lidia",
          "Lidia",
          "Lidia",
          "Lidia",
          "Lidia",
          "Lidia",
          "Lidia",
          "Lidia",
          "Lidia",
          "Lidia",
          "Lidia",
          "Lidia",
          "Lidia",
          "Lidia"
         ],
         "x0": " ",
         "xaxis": "x",
         "y": {
          "bdata": "TlQxPiIjPjxGLB84RCMuMR4mMzxHOSg1Ty1IOE06HlRRKEI=",
          "dtype": "i1"
         },
         "y0": " ",
         "yaxis": "y"
        },
        {
         "alignmentgroup": "True",
         "boxpoints": "all",
         "customdata": [
          [
           "Hannah Holgersson",
           "Ave Maria - Schubert"
          ],
          [
           "Lady Gaga",
           "Bad Romance"
          ],
          [
           "Nicki Minaj,Ice Spice,Aqua",
           "Barbie World (with Aqua) [From Barbie The Album]"
          ],
          [
           "The Weeknd",
           "Blinding Lights"
          ],
          [
           "Lady Gaga",
           "Bloody Mary"
          ],
          [
           "Glee Cast",
           "Bust Your Windows"
          ],
          [
           "Lana Del Rey",
           "Cinnamon Girl"
          ],
          [
           "Dua Lipa",
           "Dance The Night - From Barbie The Album"
          ],
          [
           "Indila",
           "Dernière danse"
          ],
          [
           "Djo",
           "End of Beginning"
          ],
          [
           "Bruno Mars",
           "Finesse"
          ],
          [
           "PSY",
           "Gangnam Style (강남스타일)"
          ],
          [
           "Daft Punk",
           "Harder, Better, Faster, Stronger"
          ],
          [
           "Shakira,Wyclef Jean",
           "Hips Don't Lie (feat. Wyclef Jean)"
          ],
          [
           "Dua Lipa",
           "Houdini"
          ],
          [
           "Anne Hathaway",
           "I Dreamed A Dream - From  Les Misérables "
          ],
          [
           "Elton John",
           "I'm Still Standing"
          ],
          [
           "Master KG,Nomcebo Zikode",
           "Jerusalema (feat. Nomcebo Zikode)"
          ],
          [
           "Taylor Swift",
           "Karma"
          ],
          [
           "Christina Aguilera,Lil' Kim,Mýa,P!nk",
           "Lady Marmalade - From  Moulin Rouge  Soundtrack"
          ],
          [
           "Las Divinas",
           "Las Divinas"
          ],
          [
           "Meghan Trainor",
           "Made You Look"
          ],
          [
           "Chappell Roan",
           "My Kink Is Karma"
          ],
          [
           "Rio Romeo",
           "Nothing's New"
          ],
          [
           "Chappell Roan",
           "Pink Pony Club"
          ],
          [
           "Zach Bryan",
           "Pink Skies"
          ],
          [
           "James Blunt",
           "Postcards"
          ],
          [
           "Whitney Houston",
           "Queen of the Night - Radio Edit"
          ],
          [
           "Nicki Minaj",
           "Starships"
          ],
          [
           "Meryl Streep",
           "The Winner Takes It All - From  Mamma Mia! "
          ],
          [
           "Spice Girls",
           "Wannabe"
          ],
          [
           "Ariana Grande,Cynthia Erivo",
           "What Is This Feeling?"
          ],
          [
           "Beyoncé",
           "YA YA"
          ],
          [
           "Taylor Swift",
           "cardigan"
          ],
          [
           "girl in red",
           "we fell in love in october"
          ]
         ],
         "hovertemplate": "Added By=%{x}<br>Popularity=%{y}<br>Artist=%{customdata[0]}<br>Song=%{customdata[1]}<extra></extra>",
         "legendgroup": "Giulia",
         "marker": {
          "color": "#FFA15A"
         },
         "name": "Giulia",
         "notched": false,
         "offsetgroup": "Giulia",
         "orientation": "v",
         "showlegend": true,
         "type": "box",
         "x": [
          "Giulia",
          "Giulia",
          "Giulia",
          "Giulia",
          "Giulia",
          "Giulia",
          "Giulia",
          "Giulia",
          "Giulia",
          "Giulia",
          "Giulia",
          "Giulia",
          "Giulia",
          "Giulia",
          "Giulia",
          "Giulia",
          "Giulia",
          "Giulia",
          "Giulia",
          "Giulia",
          "Giulia",
          "Giulia",
          "Giulia",
          "Giulia",
          "Giulia",
          "Giulia",
          "Giulia",
          "Giulia",
          "Giulia",
          "Giulia",
          "Giulia",
          "Giulia",
          "Giulia",
          "Giulia",
          "Giulia"
         ],
         "x0": " ",
         "xaxis": "x",
         "y": {
          "bdata": "MVRFWUw1VlBOWUlLSFVRMlJHTEIeS0VPVVM4NE5FUEZCVlQ=",
          "dtype": "i1"
         },
         "y0": " ",
         "yaxis": "y"
        },
        {
         "alignmentgroup": "True",
         "boxpoints": "all",
         "customdata": [
          [
           "Lambrini Girls",
           "Big Dick Energy"
          ],
          [
           "Tyler, The Creator,Pharrell Williams",
           "Big Poe (feat. Sk8brd)"
          ],
          [
           "Limp Bizkit",
           "Break Stuff"
          ],
          [
           "Denzel Curry",
           "Bulls on Parade - triple j Like A Version"
          ],
          [
           "Verdena",
           "Crystal Ball"
          ],
          [
           "Sting,Cheb Mami",
           "Desert Rose"
          ],
          [
           "Hemant Kumar",
           "Ei Raat Tomar Amar"
          ],
          [
           "Crizin da Z.O.",
           "Festa da Carne"
          ],
          [
           "System Of A Down",
           "Fuck the System"
          ],
          [
           "Type O Negative",
           "Green Man"
          ],
          [
           "Booker T. & the M.G.'s",
           "Green Onions - 2022 Remaster"
          ],
          [
           "Puscifer",
           "Green Valley"
          ],
          [
           "YUNGBLUD",
           "Idols Pt. I"
          ],
          [
           "Franco Battiato",
           "Impressioni di settembre"
          ],
          [
           "Venamoris,Dave Lombardo",
           "In the Shadows"
          ],
          [
           "The Parlor Mob",
           "Into the Sun"
          ],
          [
           "Manu Chao",
           "La vie à 2"
          ],
          [
           "Dalila Kayros",
           "Leviatan"
          ],
          [
           "Fergie",
           "M.I.L.F. $"
          ],
          [
           "Nelly Furtado",
           "Maneater"
          ],
          [
           "Les Claypool",
           "Mushroom Men"
          ],
          [
           "Bodam Project,Pierpaolo Capovilla",
           "Niente - Radio Edit"
          ],
          [
           "Skiantos",
           "Non farò mai quello che vuoi"
          ],
          [
           "Slipknot",
           "People = Shit"
          ],
          [
           "Honningbarna",
           "Schäfer"
          ],
          [
           "Type O Negative",
           "September Sun"
          ],
          [
           "Within Temptation",
           "Summertime Sadness"
          ],
          [
           "Faith No More",
           "The Gentle Art of Making Enemies - 2016 Remaster"
          ],
          [
           "Nelly Furtado",
           "The Grass Is Green"
          ],
          [
           "Puscifer",
           "The Humbling River"
          ],
          [
           "Red Hot Chili Peppers",
           "The Longest Wave"
          ],
          [
           "Franco Battiato,Carmen Consoli",
           "Tutto L'Universo Obbedisce All'Amore"
          ],
          [
           "Vinicio Capossela",
           "Utrennyaya gimnastika"
          ],
          [
           "Rothadás",
           "Vértükör"
          ],
          [
           "Within Temptation",
           "Wireless"
          ]
         ],
         "hovertemplate": "Added By=%{x}<br>Popularity=%{y}<br>Artist=%{customdata[0]}<br>Song=%{customdata[1]}<extra></extra>",
         "legendgroup": "Pietro",
         "marker": {
          "color": "#19d3f3"
         },
         "name": "Pietro",
         "notched": false,
         "offsetgroup": "Pietro",
         "orientation": "v",
         "showlegend": true,
         "type": "box",
         "x": [
          "Pietro",
          "Pietro",
          "Pietro",
          "Pietro",
          "Pietro",
          "Pietro",
          "Pietro",
          "Pietro",
          "Pietro",
          "Pietro",
          "Pietro",
          "Pietro",
          "Pietro",
          "Pietro",
          "Pietro",
          "Pietro",
          "Pietro",
          "Pietro",
          "Pietro",
          "Pietro",
          "Pietro",
          "Pietro",
          "Pietro",
          "Pietro",
          "Pietro",
          "Pietro",
          "Pietro",
          "Pietro",
          "Pietro",
          "Pietro",
          "Pietro",
          "Pietro",
          "Pietro",
          "Pietro",
          "Pietro"
         ],
         "x0": " ",
         "xaxis": "x",
         "y": {
          "bdata": "L1BTLhhBGA49LCcuOhkGIDAEOFMYAg5EJS0sLB8vOigKCSQ=",
          "dtype": "i1"
         },
         "y0": " ",
         "yaxis": "y"
        }
       ],
       "layout": {
        "boxmode": "overlay",
        "legend": {
         "title": {
          "text": "Added By"
         },
         "tracegroupgap": 0
        },
        "margin": {
         "t": 60
        },
        "template": {
         "data": {
          "bar": [
           {
            "error_x": {
             "color": "#2a3f5f"
            },
            "error_y": {
             "color": "#2a3f5f"
            },
            "marker": {
             "line": {
              "color": "#E5ECF6",
              "width": 0.5
             },
             "pattern": {
              "fillmode": "overlay",
              "size": 10,
              "solidity": 0.2
             }
            },
            "type": "bar"
           }
          ],
          "barpolar": [
           {
            "marker": {
             "line": {
              "color": "#E5ECF6",
              "width": 0.5
             },
             "pattern": {
              "fillmode": "overlay",
              "size": 10,
              "solidity": 0.2
             }
            },
            "type": "barpolar"
           }
          ],
          "carpet": [
           {
            "aaxis": {
             "endlinecolor": "#2a3f5f",
             "gridcolor": "white",
             "linecolor": "white",
             "minorgridcolor": "white",
             "startlinecolor": "#2a3f5f"
            },
            "baxis": {
             "endlinecolor": "#2a3f5f",
             "gridcolor": "white",
             "linecolor": "white",
             "minorgridcolor": "white",
             "startlinecolor": "#2a3f5f"
            },
            "type": "carpet"
           }
          ],
          "choropleth": [
           {
            "colorbar": {
             "outlinewidth": 0,
             "ticks": ""
            },
            "type": "choropleth"
           }
          ],
          "contour": [
           {
            "colorbar": {
             "outlinewidth": 0,
             "ticks": ""
            },
            "colorscale": [
             [
              0,
              "#0d0887"
             ],
             [
              0.1111111111111111,
              "#46039f"
             ],
             [
              0.2222222222222222,
              "#7201a8"
             ],
             [
              0.3333333333333333,
              "#9c179e"
             ],
             [
              0.4444444444444444,
              "#bd3786"
             ],
             [
              0.5555555555555556,
              "#d8576b"
             ],
             [
              0.6666666666666666,
              "#ed7953"
             ],
             [
              0.7777777777777778,
              "#fb9f3a"
             ],
             [
              0.8888888888888888,
              "#fdca26"
             ],
             [
              1,
              "#f0f921"
             ]
            ],
            "type": "contour"
           }
          ],
          "contourcarpet": [
           {
            "colorbar": {
             "outlinewidth": 0,
             "ticks": ""
            },
            "type": "contourcarpet"
           }
          ],
          "heatmap": [
           {
            "colorbar": {
             "outlinewidth": 0,
             "ticks": ""
            },
            "colorscale": [
             [
              0,
              "#0d0887"
             ],
             [
              0.1111111111111111,
              "#46039f"
             ],
             [
              0.2222222222222222,
              "#7201a8"
             ],
             [
              0.3333333333333333,
              "#9c179e"
             ],
             [
              0.4444444444444444,
              "#bd3786"
             ],
             [
              0.5555555555555556,
              "#d8576b"
             ],
             [
              0.6666666666666666,
              "#ed7953"
             ],
             [
              0.7777777777777778,
              "#fb9f3a"
             ],
             [
              0.8888888888888888,
              "#fdca26"
             ],
             [
              1,
              "#f0f921"
             ]
            ],
            "type": "heatmap"
           }
          ],
          "histogram": [
           {
            "marker": {
             "pattern": {
              "fillmode": "overlay",
              "size": 10,
              "solidity": 0.2
             }
            },
            "type": "histogram"
           }
          ],
          "histogram2d": [
           {
            "colorbar": {
             "outlinewidth": 0,
             "ticks": ""
            },
            "colorscale": [
             [
              0,
              "#0d0887"
             ],
             [
              0.1111111111111111,
              "#46039f"
             ],
             [
              0.2222222222222222,
              "#7201a8"
             ],
             [
              0.3333333333333333,
              "#9c179e"
             ],
             [
              0.4444444444444444,
              "#bd3786"
             ],
             [
              0.5555555555555556,
              "#d8576b"
             ],
             [
              0.6666666666666666,
              "#ed7953"
             ],
             [
              0.7777777777777778,
              "#fb9f3a"
             ],
             [
              0.8888888888888888,
              "#fdca26"
             ],
             [
              1,
              "#f0f921"
             ]
            ],
            "type": "histogram2d"
           }
          ],
          "histogram2dcontour": [
           {
            "colorbar": {
             "outlinewidth": 0,
             "ticks": ""
            },
            "colorscale": [
             [
              0,
              "#0d0887"
             ],
             [
              0.1111111111111111,
              "#46039f"
             ],
             [
              0.2222222222222222,
              "#7201a8"
             ],
             [
              0.3333333333333333,
              "#9c179e"
             ],
             [
              0.4444444444444444,
              "#bd3786"
             ],
             [
              0.5555555555555556,
              "#d8576b"
             ],
             [
              0.6666666666666666,
              "#ed7953"
             ],
             [
              0.7777777777777778,
              "#fb9f3a"
             ],
             [
              0.8888888888888888,
              "#fdca26"
             ],
             [
              1,
              "#f0f921"
             ]
            ],
            "type": "histogram2dcontour"
           }
          ],
          "mesh3d": [
           {
            "colorbar": {
             "outlinewidth": 0,
             "ticks": ""
            },
            "type": "mesh3d"
           }
          ],
          "parcoords": [
           {
            "line": {
             "colorbar": {
              "outlinewidth": 0,
              "ticks": ""
             }
            },
            "type": "parcoords"
           }
          ],
          "pie": [
           {
            "automargin": true,
            "type": "pie"
           }
          ],
          "scatter": [
           {
            "fillpattern": {
             "fillmode": "overlay",
             "size": 10,
             "solidity": 0.2
            },
            "type": "scatter"
           }
          ],
          "scatter3d": [
           {
            "line": {
             "colorbar": {
              "outlinewidth": 0,
              "ticks": ""
             }
            },
            "marker": {
             "colorbar": {
              "outlinewidth": 0,
              "ticks": ""
             }
            },
            "type": "scatter3d"
           }
          ],
          "scattercarpet": [
           {
            "marker": {
             "colorbar": {
              "outlinewidth": 0,
              "ticks": ""
             }
            },
            "type": "scattercarpet"
           }
          ],
          "scattergeo": [
           {
            "marker": {
             "colorbar": {
              "outlinewidth": 0,
              "ticks": ""
             }
            },
            "type": "scattergeo"
           }
          ],
          "scattergl": [
           {
            "marker": {
             "colorbar": {
              "outlinewidth": 0,
              "ticks": ""
             }
            },
            "type": "scattergl"
           }
          ],
          "scattermap": [
           {
            "marker": {
             "colorbar": {
              "outlinewidth": 0,
              "ticks": ""
             }
            },
            "type": "scattermap"
           }
          ],
          "scattermapbox": [
           {
            "marker": {
             "colorbar": {
              "outlinewidth": 0,
              "ticks": ""
             }
            },
            "type": "scattermapbox"
           }
          ],
          "scatterpolar": [
           {
            "marker": {
             "colorbar": {
              "outlinewidth": 0,
              "ticks": ""
             }
            },
            "type": "scatterpolar"
           }
          ],
          "scatterpolargl": [
           {
            "marker": {
             "colorbar": {
              "outlinewidth": 0,
              "ticks": ""
             }
            },
            "type": "scatterpolargl"
           }
          ],
          "scatterternary": [
           {
            "marker": {
             "colorbar": {
              "outlinewidth": 0,
              "ticks": ""
             }
            },
            "type": "scatterternary"
           }
          ],
          "surface": [
           {
            "colorbar": {
             "outlinewidth": 0,
             "ticks": ""
            },
            "colorscale": [
             [
              0,
              "#0d0887"
             ],
             [
              0.1111111111111111,
              "#46039f"
             ],
             [
              0.2222222222222222,
              "#7201a8"
             ],
             [
              0.3333333333333333,
              "#9c179e"
             ],
             [
              0.4444444444444444,
              "#bd3786"
             ],
             [
              0.5555555555555556,
              "#d8576b"
             ],
             [
              0.6666666666666666,
              "#ed7953"
             ],
             [
              0.7777777777777778,
              "#fb9f3a"
             ],
             [
              0.8888888888888888,
              "#fdca26"
             ],
             [
              1,
              "#f0f921"
             ]
            ],
            "type": "surface"
           }
          ],
          "table": [
           {
            "cells": {
             "fill": {
              "color": "#EBF0F8"
             },
             "line": {
              "color": "white"
             }
            },
            "header": {
             "fill": {
              "color": "#C8D4E3"
             },
             "line": {
              "color": "white"
             }
            },
            "type": "table"
           }
          ]
         },
         "layout": {
          "annotationdefaults": {
           "arrowcolor": "#2a3f5f",
           "arrowhead": 0,
           "arrowwidth": 1
          },
          "autotypenumbers": "strict",
          "coloraxis": {
           "colorbar": {
            "outlinewidth": 0,
            "ticks": ""
           }
          },
          "colorscale": {
           "diverging": [
            [
             0,
             "#8e0152"
            ],
            [
             0.1,
             "#c51b7d"
            ],
            [
             0.2,
             "#de77ae"
            ],
            [
             0.3,
             "#f1b6da"
            ],
            [
             0.4,
             "#fde0ef"
            ],
            [
             0.5,
             "#f7f7f7"
            ],
            [
             0.6,
             "#e6f5d0"
            ],
            [
             0.7,
             "#b8e186"
            ],
            [
             0.8,
             "#7fbc41"
            ],
            [
             0.9,
             "#4d9221"
            ],
            [
             1,
             "#276419"
            ]
           ],
           "sequential": [
            [
             0,
             "#0d0887"
            ],
            [
             0.1111111111111111,
             "#46039f"
            ],
            [
             0.2222222222222222,
             "#7201a8"
            ],
            [
             0.3333333333333333,
             "#9c179e"
            ],
            [
             0.4444444444444444,
             "#bd3786"
            ],
            [
             0.5555555555555556,
             "#d8576b"
            ],
            [
             0.6666666666666666,
             "#ed7953"
            ],
            [
             0.7777777777777778,
             "#fb9f3a"
            ],
            [
             0.8888888888888888,
             "#fdca26"
            ],
            [
             1,
             "#f0f921"
            ]
           ],
           "sequentialminus": [
            [
             0,
             "#0d0887"
            ],
            [
             0.1111111111111111,
             "#46039f"
            ],
            [
             0.2222222222222222,
             "#7201a8"
            ],
            [
             0.3333333333333333,
             "#9c179e"
            ],
            [
             0.4444444444444444,
             "#bd3786"
            ],
            [
             0.5555555555555556,
             "#d8576b"
            ],
            [
             0.6666666666666666,
             "#ed7953"
            ],
            [
             0.7777777777777778,
             "#fb9f3a"
            ],
            [
             0.8888888888888888,
             "#fdca26"
            ],
            [
             1,
             "#f0f921"
            ]
           ]
          },
          "colorway": [
           "#636efa",
           "#EF553B",
           "#00cc96",
           "#ab63fa",
           "#FFA15A",
           "#19d3f3",
           "#FF6692",
           "#B6E880",
           "#FF97FF",
           "#FECB52"
          ],
          "font": {
           "color": "#2a3f5f"
          },
          "geo": {
           "bgcolor": "white",
           "lakecolor": "white",
           "landcolor": "#E5ECF6",
           "showlakes": true,
           "showland": true,
           "subunitcolor": "white"
          },
          "hoverlabel": {
           "align": "left"
          },
          "hovermode": "closest",
          "mapbox": {
           "style": "light"
          },
          "paper_bgcolor": "white",
          "plot_bgcolor": "#E5ECF6",
          "polar": {
           "angularaxis": {
            "gridcolor": "white",
            "linecolor": "white",
            "ticks": ""
           },
           "bgcolor": "#E5ECF6",
           "radialaxis": {
            "gridcolor": "white",
            "linecolor": "white",
            "ticks": ""
           }
          },
          "scene": {
           "xaxis": {
            "backgroundcolor": "#E5ECF6",
            "gridcolor": "white",
            "gridwidth": 2,
            "linecolor": "white",
            "showbackground": true,
            "ticks": "",
            "zerolinecolor": "white"
           },
           "yaxis": {
            "backgroundcolor": "#E5ECF6",
            "gridcolor": "white",
            "gridwidth": 2,
            "linecolor": "white",
            "showbackground": true,
            "ticks": "",
            "zerolinecolor": "white"
           },
           "zaxis": {
            "backgroundcolor": "#E5ECF6",
            "gridcolor": "white",
            "gridwidth": 2,
            "linecolor": "white",
            "showbackground": true,
            "ticks": "",
            "zerolinecolor": "white"
           }
          },
          "shapedefaults": {
           "line": {
            "color": "#2a3f5f"
           }
          },
          "ternary": {
           "aaxis": {
            "gridcolor": "white",
            "linecolor": "white",
            "ticks": ""
           },
           "baxis": {
            "gridcolor": "white",
            "linecolor": "white",
            "ticks": ""
           },
           "bgcolor": "#E5ECF6",
           "caxis": {
            "gridcolor": "white",
            "linecolor": "white",
            "ticks": ""
           }
          },
          "title": {
           "x": 0.05
          },
          "xaxis": {
           "automargin": true,
           "gridcolor": "white",
           "linecolor": "white",
           "ticks": "",
           "title": {
            "standoff": 15
           },
           "zerolinecolor": "white",
           "zerolinewidth": 2
          },
          "yaxis": {
           "automargin": true,
           "gridcolor": "white",
           "linecolor": "white",
           "ticks": "",
           "title": {
            "standoff": 15
           },
           "zerolinecolor": "white",
           "zerolinewidth": 2
          }
         }
        },
        "title": {
         "text": "Popularity Distribution by Added By"
        },
        "xaxis": {
         "anchor": "y",
         "categoryarray": [
          "Riccardo",
          "Valentina",
          "Alessandro",
          "Lidia",
          "Giulia",
          "Pietro"
         ],
         "categoryorder": "array",
         "domain": [
          0,
          1
         ],
         "title": {
          "text": "Added By"
         }
        },
        "yaxis": {
         "anchor": "x",
         "domain": [
          0,
          1
         ],
         "title": {
          "text": "Popularity"
         }
        }
       }
      }
     },
     "metadata": {},
     "output_type": "display_data"
    }
   ],
   "source": [
    "import plotly.express as px\n",
    "\n",
    "fig = px.box(df, \n",
    "             x=\"Added By\", \n",
    "             y=\"Popularity\", \n",
    "             color=\"Added By\",  # Color each group by Added By\n",
    "             points=\"all\",\n",
    "             hover_data=[\"Artist\", \"Song\"])  # Add Artist and Song to hover\n",
    "\n",
    "# Optional: Customize the layout\n",
    "fig.update_layout(\n",
    "    title=\"Popularity Distribution by Added By\",\n",
    "    xaxis_title=\"Added By\",\n",
    "    yaxis_title=\"Popularity\"\n",
    ")\n",
    "\n",
    "fig.show()"
   ]
  },
  {
   "cell_type": "code",
   "execution_count": 17,
   "id": "2b6e924a",
   "metadata": {},
   "outputs": [
    {
     "data": {
      "application/vnd.plotly.v1+json": {
       "config": {
        "plotlyServerURL": "https://plot.ly"
       },
       "data": [
        {
         "alignmentgroup": "True",
         "boxpoints": "all",
         "customdata": [
          [
           "ATB",
           "9 PM (Till I Come) - Radio Edit"
          ],
          [
           "Ardian Bujupi,Capital T",
           "ANDIAMO"
          ],
          [
           "Marvin Gaye,Tammi Terrell",
           "Ain't No Mountain High Enough"
          ],
          [
           "Eyedress",
           "Cocaine Sunday"
          ],
          [
           "L I M",
           "Comet"
          ],
          [
           "BLACKPINK",
           "DDU-DU DDU-DU"
          ],
          [
           "Shahram Shabpareh",
           "Doomad"
          ],
          [
           "Freur",
           "Doot Doot"
          ],
          [
           "Kanye West",
           "Father Stretch My Hands Pt. 1"
          ],
          [
           "Sia",
           "Fire Meet Gasoline"
          ],
          [
           "Major Lazer,Amber of Dirty Projectors",
           "Get Free"
          ],
          [
           "Lea Rue,Broiler",
           "I Can't Say No! - Broiler Remix"
          ],
          [
           "Disclosure,Sam Smith",
           "Latch"
          ],
          [
           "George Michael",
           "One More Try - Remastered"
          ],
          [
           "Kali Uchis",
           "Ridin Round"
          ],
          [
           "Travis Scott,GloRilla",
           "SHYNE"
          ],
          [
           "Anri",
           "SHYNESS BOY"
          ],
          [
           "Flume,Tove Lo",
           "Say It"
          ],
          [
           "Mara Sattei",
           "Scusa - prod. thasup"
          ],
          [
           "Earth, Wind & Fire",
           "September"
          ],
          [
           "The Chords",
           "Sh-Boom"
          ],
          [
           "Robin S",
           "Show Me Love"
          ],
          [
           "Club Dogo",
           "Spacco Tutto"
          ],
          [
           "Blank Banshee",
           "Spirit Season"
          ],
          [
           "Edward Maya,Vika Jigulina",
           "Stereo Love"
          ],
          [
           "Thirty Seconds To Mars",
           "The Kill"
          ],
          [
           "Jack Ü,Skrillex,Diplo,Aluna,AlunaGeorge",
           "To Ü (feat. AlunaGeorge)"
          ],
          [
           "Daler Mehndi",
           "Tunak Tunak Tun"
          ],
          [
           "bôa",
           "Twilight"
          ],
          [
           "i cani",
           "Una cosa stupida"
          ],
          [
           "CAZZETTE",
           "Weapon"
          ],
          [
           "Yung Bae,Macross 82-99",
           "Welcome To The Disco"
          ],
          [
           "GAYLE",
           "abcdefu (angrier)"
          ],
          [
           "Moya Mishel",
           "Зима в сердце"
          ],
          [
           "Molchat Doma",
           "Тоска"
          ]
         ],
         "hovertemplate": "Added By=%{x}<br>Duration (ms)=%{y}<br>Artist=%{customdata[0]}<br>Song=%{customdata[1]}<extra></extra>",
         "legendgroup": "Riccardo",
         "marker": {
          "color": "#636efa"
         },
         "name": "Riccardo",
         "notched": false,
         "offsetgroup": "Riccardo",
         "orientation": "v",
         "showlegend": true,
         "type": "box",
         "x": [
          "Riccardo",
          "Riccardo",
          "Riccardo",
          "Riccardo",
          "Riccardo",
          "Riccardo",
          "Riccardo",
          "Riccardo",
          "Riccardo",
          "Riccardo",
          "Riccardo",
          "Riccardo",
          "Riccardo",
          "Riccardo",
          "Riccardo",
          "Riccardo",
          "Riccardo",
          "Riccardo",
          "Riccardo",
          "Riccardo",
          "Riccardo",
          "Riccardo",
          "Riccardo",
          "Riccardo",
          "Riccardo",
          "Riccardo",
          "Riccardo",
          "Riccardo",
          "Riccardo",
          "Riccardo",
          "Riccardo",
          "Riccardo",
          "Riccardo",
          "Riccardo",
          "Riccardo"
         ],
         "x0": " ",
         "xaxis": "x",
         "y": {
          "bdata": "YAsDAMDOAgByUAIAI5MCAKP+AwCWOQMAooEFAAC2AwDwEgIAVa8DALVsBABXHgMAj+YDANhZBQAUOAQAn/ICADoAAwB5AQQAxskCADVIAwB4PwIAytgDAChwAwCD8gEAPscDAG2IAwDInQMAHaAEAMB9AwCIGgMAI+UCAMr6AgBccAIAw70DAEviAgA=",
          "dtype": "i4"
         },
         "y0": " ",
         "yaxis": "y"
        },
        {
         "alignmentgroup": "True",
         "boxpoints": "all",
         "customdata": [
          [
           "Doechii,JT",
           "Alter Ego (with JT)"
          ],
          [
           "Jungle",
           "Back On 74"
          ],
          [
           "Jonas Brothers",
           "Burnin' Up"
          ],
          [
           "Gorillaz,Shaun Ryder,Roses Gabor",
           "DARE (feat. Shaun Ryder & Roses Gabor)"
          ],
          [
           "Backstreet Boys",
           "Everybody (Backstreet's Back) - Radio Edit"
          ],
          [
           "M¥SS KETA",
           "GIOVANNA HARDCORE"
          ],
          [
           "Anastacia",
           "I'm Outta Love"
          ],
          [
           "Avril Lavigne",
           "I'm with You"
          ],
          [
           "The 1975",
           "Love Me"
          ],
          [
           "Lady Gaga,Beyoncé",
           "Telephone"
          ],
          [
           "Caroline Polachek,Charli xcx,George Daniel",
           "Welcome To My Island - George Daniel & Charli XCX Remix"
          ]
         ],
         "hovertemplate": "Added By=%{x}<br>Duration (ms)=%{y}<br>Artist=%{customdata[0]}<br>Song=%{customdata[1]}<extra></extra>",
         "legendgroup": "Valentina",
         "marker": {
          "color": "#EF553B"
         },
         "name": "Valentina",
         "notched": false,
         "offsetgroup": "Valentina",
         "orientation": "v",
         "showlegend": true,
         "type": "box",
         "x": [
          "Valentina",
          "Valentina",
          "Valentina",
          "Valentina",
          "Valentina",
          "Valentina",
          "Valentina",
          "Valentina",
          "Valentina",
          "Valentina",
          "Valentina"
         ],
         "x0": " ",
         "xaxis": "x",
         "y": {
          "bdata": "Ph0DAEoyAwD1qwIAB70DAFBwAwBO1wIAELUDAFpnAwBXYwMA0l0DAP4WAwA=",
          "dtype": "i4"
         },
         "y0": " ",
         "yaxis": "y"
        },
        {
         "alignmentgroup": "True",
         "boxpoints": "all",
         "customdata": [
          [
           "Alfa Mist,Bongeziwe Mabandla",
           "Apho"
          ],
          [
           "ROSALÍA",
           "BIZCOCHITO"
          ],
          [
           "Deftones",
           "Be Quiet and Drive (Far Away)"
          ],
          [
           "Fleet Foxes",
           "Blue Ridge Mountains"
          ],
          [
           "Public Enemy,Benny Benassi",
           "Bring the Noise"
          ],
          [
           "Weezer",
           "Buddy Holly"
          ],
          [
           "Caroline Polachek",
           "Dang"
          ],
          [
           "Fred again..,Delilah Montagu",
           "Delilah (pull me out of this)"
          ],
          [
           "Jane Remover",
           "Experimental Skin"
          ],
          [
           "Korn",
           "Falling Away from Me"
          ],
          [
           "Porcupine Tree",
           "Fear Of A Blank Planet - 2024 Remaster"
          ],
          [
           "Franco Battiato,Abdul Halim Sabra",
           "Fogh In Nakhal - 2008 Remaster"
          ],
          [
           "KIDS SEE GHOSTS,Ty Dolla $ign",
           "Freeee (Ghost Town Pt. 2)"
          ],
          [
           "Lily Allen",
           "Fuck You"
          ],
          [
           "Charli xcx,Billie Eilish",
           "Guess featuring billie eilish"
          ],
          [
           "The Smiths",
           "Heaven Knows I'm Miserable Now - 2011 Remaster"
          ],
          [
           "PinkPantheress",
           "Illegal"
          ],
          [
           "Neutral Milk Hotel",
           "In the Aeroplane Over the Sea"
          ],
          [
           "Arca,ROSALÍA",
           "KLK"
          ],
          [
           "The Last Shadow Puppets",
           "Les Cactus"
          ],
          [
           "The Smashing Pumpkins",
           "Mayonaise - 2011 Remaster"
          ],
          [
           "Turnstile",
           "NEVER ENOUGH"
          ],
          [
           "Édith Piaf",
           "Non, je ne regrette rien"
          ],
          [
           "Fontaines D.C.",
           "Oh Such A Spring"
          ],
          [
           "Gilberto Gil",
           "Pega a Voga, Cabeludo"
          ],
          [
           "Arca",
           "Riquiquí"
          ],
          [
           "Troye Sivan,PinkPantheress,Hyunjin",
           "Rush (feat. PinkPantheress & Hyunjin of Stray Kids)"
          ],
          [
           "Joey Valence & Brae,Rebecca Black",
           "SEE U DANCE (feat. Rebecca Black)"
          ],
          [
           "Beach House",
           "Space Song"
          ],
          [
           "Bon Iver",
           "THINGS BEHIND THINGS BEHIND THINGS"
          ],
          [
           "COBRAH,VTSS,MCR-T",
           "TITS, LIPS, HIPS, KISS (10/10 Remix)"
          ],
          [
           "TOOL",
           "The Pot"
          ],
          [
           "Verdena",
           "Un Blu Sincero"
          ],
          [
           "Magdalena Bay",
           "Watching T.V."
          ],
          [
           "Bob Sinclar,Steve Edwards",
           "World Hold On (Children of the Sky) - Radio Edit"
          ]
         ],
         "hovertemplate": "Added By=%{x}<br>Duration (ms)=%{y}<br>Artist=%{customdata[0]}<br>Song=%{customdata[1]}<extra></extra>",
         "legendgroup": "Alessandro",
         "marker": {
          "color": "#00cc96"
         },
         "name": "Alessandro",
         "notched": false,
         "offsetgroup": "Alessandro",
         "orientation": "v",
         "showlegend": true,
         "type": "box",
         "x": [
          "Alessandro",
          "Alessandro",
          "Alessandro",
          "Alessandro",
          "Alessandro",
          "Alessandro",
          "Alessandro",
          "Alessandro",
          "Alessandro",
          "Alessandro",
          "Alessandro",
          "Alessandro",
          "Alessandro",
          "Alessandro",
          "Alessandro",
          "Alessandro",
          "Alessandro",
          "Alessandro",
          "Alessandro",
          "Alessandro",
          "Alessandro",
          "Alessandro",
          "Alessandro",
          "Alessandro",
          "Alessandro",
          "Alessandro",
          "Alessandro",
          "Alessandro",
          "Alessandro",
          "Alessandro",
          "Alessandro",
          "Alessandro",
          "Alessandro",
          "Alessandro",
          "Alessandro"
         ],
         "x0": " ",
         "xaxis": "x",
         "y": {
          "bdata": "/bcCAECqAQBakwQALQ4EAJpoAwD6bQIAooICAE7TAwCdlQQASCIEABXYBgAwQAMADScDAPVaAwDiLwIA0EoDAKJIAgBqFgMASXgDAOEPAwBlUgUAt2EEAMgrAgAVVQIAYFUEAIVvAgB3oAIAIYkCANLjBACNDwMA1U0DAPrTBQCwNwQApb4DABoKAwA=",
          "dtype": "i4"
         },
         "y0": " ",
         "yaxis": "y"
        },
        {
         "alignmentgroup": "True",
         "boxpoints": "all",
         "customdata": [
          [
           "Lady Gaga",
           "Applause"
          ],
          [
           "AC/DC",
           "Back In Black"
          ],
          [
           "Depeche Mode",
           "Black Celebration"
          ],
          [
           "Type O Negative",
           "Black No. 1 (Little Miss Scare -All)"
          ],
          [
           "Dead by April",
           "Breaking Point"
          ],
          [
           "Type O Negative",
           "Cinnamon Girl"
          ],
          [
           "Casey Edwards",
           "Devil Trigger"
          ],
          [
           "Basshunter",
           "DotA - Radio Edit"
          ],
          [
           "O-Zone",
           "Dragostea din tei"
          ],
          [
           "Depeche Mode",
           "Enjoy the Silence"
          ],
          [
           "Metallica",
           "Enter Sandman - Radio Edit"
          ],
          [
           "Vintage,Bedanokov,Люай",
           "Eva (Kavkaz remix)"
          ],
          [
           "Blue Foundation",
           "Eyes on Fire"
          ],
          [
           "Sonata Arctica",
           "Fade to Black"
          ],
          [
           "Dead by April",
           "I Can't Breathe"
          ],
          [
           "Lacuna Coil",
           "I Wish You Were Dead"
          ],
          [
           "Datura,U.S.U.R.A.",
           "Infinity"
          ],
          [
           "Type O Negative",
           "Kill All the White People"
          ],
          [
           "Killing Joke",
           "Love Like Blood"
          ],
          [
           "Eternxlkz",
           "Montagem Nada Tropica"
          ],
          [
           "STARSET",
           "My Demons"
          ],
          [
           "Type O Negative",
           "My Girlfriend's Girlfriend"
          ],
          [
           "Sonata Arctica",
           "My Land"
          ],
          [
           "Ciara",
           "Paint It, Black"
          ],
          [
           "cassö,RAYE,D-Block Europe",
           "Prada"
          ],
          [
           "Within Temptation,Anders Friden",
           "Raise Your Banner"
          ],
          [
           "Rihanna",
           "S&M"
          ],
          [
           "Bizarrap,Shakira",
           "Shakira: Bzrp Music Sessions, Vol. 53"
          ],
          [
           "Rammstein",
           "Sonne"
          ],
          [
           "Nightwish",
           "Storytime"
          ],
          [
           "Dead by April",
           "Swarm Mode"
          ],
          [
           "Maroon 5",
           "This Love"
          ],
          [
           "Green Day",
           "Wake Me up When September Ends"
          ],
          [
           "Five Finger Death Punch",
           "War is the Answer"
          ],
          [
           "Five Finger Death Punch",
           "Wrong Side of Heaven"
          ]
         ],
         "hovertemplate": "Added By=%{x}<br>Duration (ms)=%{y}<br>Artist=%{customdata[0]}<br>Song=%{customdata[1]}<extra></extra>",
         "legendgroup": "Lidia",
         "marker": {
          "color": "#ab63fa"
         },
         "name": "Lidia",
         "notched": false,
         "offsetgroup": "Lidia",
         "orientation": "v",
         "showlegend": true,
         "type": "box",
         "x": [
          "Lidia",
          "Lidia",
          "Lidia",
          "Lidia",
          "Lidia",
          "Lidia",
          "Lidia",
          "Lidia",
          "Lidia",
          "Lidia",
          "Lidia",
          "Lidia",
          "Lidia",
          "Lidia",
          "Lidia",
          "Lidia",
          "Lidia",
          "Lidia",
          "Lidia",
          "Lidia",
          "Lidia",
          "Lidia",
          "Lidia",
          "Lidia",
          "Lidia",
          "Lidia",
          "Lidia",
          "Lidia",
          "Lidia",
          "Lidia",
          "Lidia",
          "Lidia",
          "Lidia",
          "Lidia",
          "Lidia"
         ],
         "x0": " ",
         "xaxis": "x",
         "y": {
          "bdata": "bT0DAAXmAwD1hgQARU8KADp9AwANygMAMy8GAHAPAwBaSQMAWrAFAKCxAwAAKwIA6p4EAHg8BQC9sAMA+KACABj3BAAIHQMA+gwEAOXQAQAkZQQA2n0DABI7BACikgMABwUCABgaBQBNtwMALVADADgoBADo6gQAi4MDAHglAwDVWwQAsAYDAJgiBAA=",
          "dtype": "i4"
         },
         "y0": " ",
         "yaxis": "y"
        },
        {
         "alignmentgroup": "True",
         "boxpoints": "all",
         "customdata": [
          [
           "Hannah Holgersson",
           "Ave Maria - Schubert"
          ],
          [
           "Lady Gaga",
           "Bad Romance"
          ],
          [
           "Nicki Minaj,Ice Spice,Aqua",
           "Barbie World (with Aqua) [From Barbie The Album]"
          ],
          [
           "The Weeknd",
           "Blinding Lights"
          ],
          [
           "Lady Gaga",
           "Bloody Mary"
          ],
          [
           "Glee Cast",
           "Bust Your Windows"
          ],
          [
           "Lana Del Rey",
           "Cinnamon Girl"
          ],
          [
           "Dua Lipa",
           "Dance The Night - From Barbie The Album"
          ],
          [
           "Indila",
           "Dernière danse"
          ],
          [
           "Djo",
           "End of Beginning"
          ],
          [
           "Bruno Mars",
           "Finesse"
          ],
          [
           "PSY",
           "Gangnam Style (강남스타일)"
          ],
          [
           "Daft Punk",
           "Harder, Better, Faster, Stronger"
          ],
          [
           "Shakira,Wyclef Jean",
           "Hips Don't Lie (feat. Wyclef Jean)"
          ],
          [
           "Dua Lipa",
           "Houdini"
          ],
          [
           "Anne Hathaway",
           "I Dreamed A Dream - From  Les Misérables "
          ],
          [
           "Elton John",
           "I'm Still Standing"
          ],
          [
           "Master KG,Nomcebo Zikode",
           "Jerusalema (feat. Nomcebo Zikode)"
          ],
          [
           "Taylor Swift",
           "Karma"
          ],
          [
           "Christina Aguilera,Lil' Kim,Mýa,P!nk",
           "Lady Marmalade - From  Moulin Rouge  Soundtrack"
          ],
          [
           "Las Divinas",
           "Las Divinas"
          ],
          [
           "Meghan Trainor",
           "Made You Look"
          ],
          [
           "Chappell Roan",
           "My Kink Is Karma"
          ],
          [
           "Rio Romeo",
           "Nothing's New"
          ],
          [
           "Chappell Roan",
           "Pink Pony Club"
          ],
          [
           "Zach Bryan",
           "Pink Skies"
          ],
          [
           "James Blunt",
           "Postcards"
          ],
          [
           "Whitney Houston",
           "Queen of the Night - Radio Edit"
          ],
          [
           "Nicki Minaj",
           "Starships"
          ],
          [
           "Meryl Streep",
           "The Winner Takes It All - From  Mamma Mia! "
          ],
          [
           "Spice Girls",
           "Wannabe"
          ],
          [
           "Ariana Grande,Cynthia Erivo",
           "What Is This Feeling?"
          ],
          [
           "Beyoncé",
           "YA YA"
          ],
          [
           "Taylor Swift",
           "cardigan"
          ],
          [
           "girl in red",
           "we fell in love in october"
          ]
         ],
         "hovertemplate": "Added By=%{x}<br>Duration (ms)=%{y}<br>Artist=%{customdata[0]}<br>Song=%{customdata[1]}<extra></extra>",
         "legendgroup": "Giulia",
         "marker": {
          "color": "#FFA15A"
         },
         "name": "Giulia",
         "notched": false,
         "offsetgroup": "Giulia",
         "orientation": "v",
         "showlegend": true,
         "type": "box",
         "x": [
          "Giulia",
          "Giulia",
          "Giulia",
          "Giulia",
          "Giulia",
          "Giulia",
          "Giulia",
          "Giulia",
          "Giulia",
          "Giulia",
          "Giulia",
          "Giulia",
          "Giulia",
          "Giulia",
          "Giulia",
          "Giulia",
          "Giulia",
          "Giulia",
          "Giulia",
          "Giulia",
          "Giulia",
          "Giulia",
          "Giulia",
          "Giulia",
          "Giulia",
          "Giulia",
          "Giulia",
          "Giulia",
          "Giulia",
          "Giulia",
          "Giulia",
          "Giulia",
          "Giulia",
          "Giulia",
          "Giulia"
         ],
         "x0": " ",
         "xaxis": "x",
         "y": {
          "bdata": "EOsEAK1+BAC2rAEAaA0DABi8AwAl+AMAi5YEAMOxAgD1QQMADW4CABjqAgBlWQMAbXQDAMhcAwA91gIAHTwEAJDMAgBUOgUANCADAL0KBADlrQEAcAwCAHJlAwA4OAMA8u8DAGj5AgD9YAQAuOACAMI2AwDNiwQA4qMCAFN+AwBOMQQAyKcDAFnPAgA=",
          "dtype": "i4"
         },
         "y0": " ",
         "yaxis": "y"
        },
        {
         "alignmentgroup": "True",
         "boxpoints": "all",
         "customdata": [
          [
           "Lambrini Girls",
           "Big Dick Energy"
          ],
          [
           "Tyler, The Creator,Pharrell Williams",
           "Big Poe (feat. Sk8brd)"
          ],
          [
           "Limp Bizkit",
           "Break Stuff"
          ],
          [
           "Denzel Curry",
           "Bulls on Parade - triple j Like A Version"
          ],
          [
           "Verdena",
           "Crystal Ball"
          ],
          [
           "Sting,Cheb Mami",
           "Desert Rose"
          ],
          [
           "Hemant Kumar",
           "Ei Raat Tomar Amar"
          ],
          [
           "Crizin da Z.O.",
           "Festa da Carne"
          ],
          [
           "System Of A Down",
           "Fuck the System"
          ],
          [
           "Type O Negative",
           "Green Man"
          ],
          [
           "Booker T. & the M.G.'s",
           "Green Onions - 2022 Remaster"
          ],
          [
           "Puscifer",
           "Green Valley"
          ],
          [
           "YUNGBLUD",
           "Idols Pt. I"
          ],
          [
           "Franco Battiato",
           "Impressioni di settembre"
          ],
          [
           "Venamoris,Dave Lombardo",
           "In the Shadows"
          ],
          [
           "The Parlor Mob",
           "Into the Sun"
          ],
          [
           "Manu Chao",
           "La vie à 2"
          ],
          [
           "Dalila Kayros",
           "Leviatan"
          ],
          [
           "Fergie",
           "M.I.L.F. $"
          ],
          [
           "Nelly Furtado",
           "Maneater"
          ],
          [
           "Les Claypool",
           "Mushroom Men"
          ],
          [
           "Bodam Project,Pierpaolo Capovilla",
           "Niente - Radio Edit"
          ],
          [
           "Skiantos",
           "Non farò mai quello che vuoi"
          ],
          [
           "Slipknot",
           "People = Shit"
          ],
          [
           "Honningbarna",
           "Schäfer"
          ],
          [
           "Type O Negative",
           "September Sun"
          ],
          [
           "Within Temptation",
           "Summertime Sadness"
          ],
          [
           "Faith No More",
           "The Gentle Art of Making Enemies - 2016 Remaster"
          ],
          [
           "Nelly Furtado",
           "The Grass Is Green"
          ],
          [
           "Puscifer",
           "The Humbling River"
          ],
          [
           "Red Hot Chili Peppers",
           "The Longest Wave"
          ],
          [
           "Franco Battiato,Carmen Consoli",
           "Tutto L'Universo Obbedisce All'Amore"
          ],
          [
           "Vinicio Capossela",
           "Utrennyaya gimnastika"
          ],
          [
           "Rothadás",
           "Vértükör"
          ],
          [
           "Within Temptation",
           "Wireless"
          ]
         ],
         "hovertemplate": "Added By=%{x}<br>Duration (ms)=%{y}<br>Artist=%{customdata[0]}<br>Song=%{customdata[1]}<extra></extra>",
         "legendgroup": "Pietro",
         "marker": {
          "color": "#19d3f3"
         },
         "name": "Pietro",
         "notched": false,
         "offsetgroup": "Pietro",
         "orientation": "v",
         "showlegend": true,
         "type": "box",
         "x": [
          "Pietro",
          "Pietro",
          "Pietro",
          "Pietro",
          "Pietro",
          "Pietro",
          "Pietro",
          "Pietro",
          "Pietro",
          "Pietro",
          "Pietro",
          "Pietro",
          "Pietro",
          "Pietro",
          "Pietro",
          "Pietro",
          "Pietro",
          "Pietro",
          "Pietro",
          "Pietro",
          "Pietro",
          "Pietro",
          "Pietro",
          "Pietro",
          "Pietro",
          "Pietro",
          "Pietro",
          "Pietro",
          "Pietro",
          "Pietro",
          "Pietro",
          "Pietro",
          "Pietro",
          "Pietro",
          "Pietro"
         ],
         "x0": " ",
         "xaxis": "x",
         "y": {
          "bdata": "H+sDAIHIAgAyiwIArRwEAMqnAgAIXQQAssQCANq1AgB9BgIAOE8FAMqoAgBKlQMAtUkDAJBdAwCdigMAEs4CAF3BAgA4uwIA8XgCAE3zAwC18AIA02QDAALKAgAwSgMAVSQCAJf3CADAwwMAQi8DAECFAwBwqQQAQDoDACUrAwCiawIAJuYGACRLBAA=",
          "dtype": "i4"
         },
         "y0": " ",
         "yaxis": "y"
        }
       ],
       "layout": {
        "boxmode": "overlay",
        "legend": {
         "title": {
          "text": "Added By"
         },
         "tracegroupgap": 0
        },
        "margin": {
         "t": 60
        },
        "template": {
         "data": {
          "bar": [
           {
            "error_x": {
             "color": "#2a3f5f"
            },
            "error_y": {
             "color": "#2a3f5f"
            },
            "marker": {
             "line": {
              "color": "#E5ECF6",
              "width": 0.5
             },
             "pattern": {
              "fillmode": "overlay",
              "size": 10,
              "solidity": 0.2
             }
            },
            "type": "bar"
           }
          ],
          "barpolar": [
           {
            "marker": {
             "line": {
              "color": "#E5ECF6",
              "width": 0.5
             },
             "pattern": {
              "fillmode": "overlay",
              "size": 10,
              "solidity": 0.2
             }
            },
            "type": "barpolar"
           }
          ],
          "carpet": [
           {
            "aaxis": {
             "endlinecolor": "#2a3f5f",
             "gridcolor": "white",
             "linecolor": "white",
             "minorgridcolor": "white",
             "startlinecolor": "#2a3f5f"
            },
            "baxis": {
             "endlinecolor": "#2a3f5f",
             "gridcolor": "white",
             "linecolor": "white",
             "minorgridcolor": "white",
             "startlinecolor": "#2a3f5f"
            },
            "type": "carpet"
           }
          ],
          "choropleth": [
           {
            "colorbar": {
             "outlinewidth": 0,
             "ticks": ""
            },
            "type": "choropleth"
           }
          ],
          "contour": [
           {
            "colorbar": {
             "outlinewidth": 0,
             "ticks": ""
            },
            "colorscale": [
             [
              0,
              "#0d0887"
             ],
             [
              0.1111111111111111,
              "#46039f"
             ],
             [
              0.2222222222222222,
              "#7201a8"
             ],
             [
              0.3333333333333333,
              "#9c179e"
             ],
             [
              0.4444444444444444,
              "#bd3786"
             ],
             [
              0.5555555555555556,
              "#d8576b"
             ],
             [
              0.6666666666666666,
              "#ed7953"
             ],
             [
              0.7777777777777778,
              "#fb9f3a"
             ],
             [
              0.8888888888888888,
              "#fdca26"
             ],
             [
              1,
              "#f0f921"
             ]
            ],
            "type": "contour"
           }
          ],
          "contourcarpet": [
           {
            "colorbar": {
             "outlinewidth": 0,
             "ticks": ""
            },
            "type": "contourcarpet"
           }
          ],
          "heatmap": [
           {
            "colorbar": {
             "outlinewidth": 0,
             "ticks": ""
            },
            "colorscale": [
             [
              0,
              "#0d0887"
             ],
             [
              0.1111111111111111,
              "#46039f"
             ],
             [
              0.2222222222222222,
              "#7201a8"
             ],
             [
              0.3333333333333333,
              "#9c179e"
             ],
             [
              0.4444444444444444,
              "#bd3786"
             ],
             [
              0.5555555555555556,
              "#d8576b"
             ],
             [
              0.6666666666666666,
              "#ed7953"
             ],
             [
              0.7777777777777778,
              "#fb9f3a"
             ],
             [
              0.8888888888888888,
              "#fdca26"
             ],
             [
              1,
              "#f0f921"
             ]
            ],
            "type": "heatmap"
           }
          ],
          "histogram": [
           {
            "marker": {
             "pattern": {
              "fillmode": "overlay",
              "size": 10,
              "solidity": 0.2
             }
            },
            "type": "histogram"
           }
          ],
          "histogram2d": [
           {
            "colorbar": {
             "outlinewidth": 0,
             "ticks": ""
            },
            "colorscale": [
             [
              0,
              "#0d0887"
             ],
             [
              0.1111111111111111,
              "#46039f"
             ],
             [
              0.2222222222222222,
              "#7201a8"
             ],
             [
              0.3333333333333333,
              "#9c179e"
             ],
             [
              0.4444444444444444,
              "#bd3786"
             ],
             [
              0.5555555555555556,
              "#d8576b"
             ],
             [
              0.6666666666666666,
              "#ed7953"
             ],
             [
              0.7777777777777778,
              "#fb9f3a"
             ],
             [
              0.8888888888888888,
              "#fdca26"
             ],
             [
              1,
              "#f0f921"
             ]
            ],
            "type": "histogram2d"
           }
          ],
          "histogram2dcontour": [
           {
            "colorbar": {
             "outlinewidth": 0,
             "ticks": ""
            },
            "colorscale": [
             [
              0,
              "#0d0887"
             ],
             [
              0.1111111111111111,
              "#46039f"
             ],
             [
              0.2222222222222222,
              "#7201a8"
             ],
             [
              0.3333333333333333,
              "#9c179e"
             ],
             [
              0.4444444444444444,
              "#bd3786"
             ],
             [
              0.5555555555555556,
              "#d8576b"
             ],
             [
              0.6666666666666666,
              "#ed7953"
             ],
             [
              0.7777777777777778,
              "#fb9f3a"
             ],
             [
              0.8888888888888888,
              "#fdca26"
             ],
             [
              1,
              "#f0f921"
             ]
            ],
            "type": "histogram2dcontour"
           }
          ],
          "mesh3d": [
           {
            "colorbar": {
             "outlinewidth": 0,
             "ticks": ""
            },
            "type": "mesh3d"
           }
          ],
          "parcoords": [
           {
            "line": {
             "colorbar": {
              "outlinewidth": 0,
              "ticks": ""
             }
            },
            "type": "parcoords"
           }
          ],
          "pie": [
           {
            "automargin": true,
            "type": "pie"
           }
          ],
          "scatter": [
           {
            "fillpattern": {
             "fillmode": "overlay",
             "size": 10,
             "solidity": 0.2
            },
            "type": "scatter"
           }
          ],
          "scatter3d": [
           {
            "line": {
             "colorbar": {
              "outlinewidth": 0,
              "ticks": ""
             }
            },
            "marker": {
             "colorbar": {
              "outlinewidth": 0,
              "ticks": ""
             }
            },
            "type": "scatter3d"
           }
          ],
          "scattercarpet": [
           {
            "marker": {
             "colorbar": {
              "outlinewidth": 0,
              "ticks": ""
             }
            },
            "type": "scattercarpet"
           }
          ],
          "scattergeo": [
           {
            "marker": {
             "colorbar": {
              "outlinewidth": 0,
              "ticks": ""
             }
            },
            "type": "scattergeo"
           }
          ],
          "scattergl": [
           {
            "marker": {
             "colorbar": {
              "outlinewidth": 0,
              "ticks": ""
             }
            },
            "type": "scattergl"
           }
          ],
          "scattermap": [
           {
            "marker": {
             "colorbar": {
              "outlinewidth": 0,
              "ticks": ""
             }
            },
            "type": "scattermap"
           }
          ],
          "scattermapbox": [
           {
            "marker": {
             "colorbar": {
              "outlinewidth": 0,
              "ticks": ""
             }
            },
            "type": "scattermapbox"
           }
          ],
          "scatterpolar": [
           {
            "marker": {
             "colorbar": {
              "outlinewidth": 0,
              "ticks": ""
             }
            },
            "type": "scatterpolar"
           }
          ],
          "scatterpolargl": [
           {
            "marker": {
             "colorbar": {
              "outlinewidth": 0,
              "ticks": ""
             }
            },
            "type": "scatterpolargl"
           }
          ],
          "scatterternary": [
           {
            "marker": {
             "colorbar": {
              "outlinewidth": 0,
              "ticks": ""
             }
            },
            "type": "scatterternary"
           }
          ],
          "surface": [
           {
            "colorbar": {
             "outlinewidth": 0,
             "ticks": ""
            },
            "colorscale": [
             [
              0,
              "#0d0887"
             ],
             [
              0.1111111111111111,
              "#46039f"
             ],
             [
              0.2222222222222222,
              "#7201a8"
             ],
             [
              0.3333333333333333,
              "#9c179e"
             ],
             [
              0.4444444444444444,
              "#bd3786"
             ],
             [
              0.5555555555555556,
              "#d8576b"
             ],
             [
              0.6666666666666666,
              "#ed7953"
             ],
             [
              0.7777777777777778,
              "#fb9f3a"
             ],
             [
              0.8888888888888888,
              "#fdca26"
             ],
             [
              1,
              "#f0f921"
             ]
            ],
            "type": "surface"
           }
          ],
          "table": [
           {
            "cells": {
             "fill": {
              "color": "#EBF0F8"
             },
             "line": {
              "color": "white"
             }
            },
            "header": {
             "fill": {
              "color": "#C8D4E3"
             },
             "line": {
              "color": "white"
             }
            },
            "type": "table"
           }
          ]
         },
         "layout": {
          "annotationdefaults": {
           "arrowcolor": "#2a3f5f",
           "arrowhead": 0,
           "arrowwidth": 1
          },
          "autotypenumbers": "strict",
          "coloraxis": {
           "colorbar": {
            "outlinewidth": 0,
            "ticks": ""
           }
          },
          "colorscale": {
           "diverging": [
            [
             0,
             "#8e0152"
            ],
            [
             0.1,
             "#c51b7d"
            ],
            [
             0.2,
             "#de77ae"
            ],
            [
             0.3,
             "#f1b6da"
            ],
            [
             0.4,
             "#fde0ef"
            ],
            [
             0.5,
             "#f7f7f7"
            ],
            [
             0.6,
             "#e6f5d0"
            ],
            [
             0.7,
             "#b8e186"
            ],
            [
             0.8,
             "#7fbc41"
            ],
            [
             0.9,
             "#4d9221"
            ],
            [
             1,
             "#276419"
            ]
           ],
           "sequential": [
            [
             0,
             "#0d0887"
            ],
            [
             0.1111111111111111,
             "#46039f"
            ],
            [
             0.2222222222222222,
             "#7201a8"
            ],
            [
             0.3333333333333333,
             "#9c179e"
            ],
            [
             0.4444444444444444,
             "#bd3786"
            ],
            [
             0.5555555555555556,
             "#d8576b"
            ],
            [
             0.6666666666666666,
             "#ed7953"
            ],
            [
             0.7777777777777778,
             "#fb9f3a"
            ],
            [
             0.8888888888888888,
             "#fdca26"
            ],
            [
             1,
             "#f0f921"
            ]
           ],
           "sequentialminus": [
            [
             0,
             "#0d0887"
            ],
            [
             0.1111111111111111,
             "#46039f"
            ],
            [
             0.2222222222222222,
             "#7201a8"
            ],
            [
             0.3333333333333333,
             "#9c179e"
            ],
            [
             0.4444444444444444,
             "#bd3786"
            ],
            [
             0.5555555555555556,
             "#d8576b"
            ],
            [
             0.6666666666666666,
             "#ed7953"
            ],
            [
             0.7777777777777778,
             "#fb9f3a"
            ],
            [
             0.8888888888888888,
             "#fdca26"
            ],
            [
             1,
             "#f0f921"
            ]
           ]
          },
          "colorway": [
           "#636efa",
           "#EF553B",
           "#00cc96",
           "#ab63fa",
           "#FFA15A",
           "#19d3f3",
           "#FF6692",
           "#B6E880",
           "#FF97FF",
           "#FECB52"
          ],
          "font": {
           "color": "#2a3f5f"
          },
          "geo": {
           "bgcolor": "white",
           "lakecolor": "white",
           "landcolor": "#E5ECF6",
           "showlakes": true,
           "showland": true,
           "subunitcolor": "white"
          },
          "hoverlabel": {
           "align": "left"
          },
          "hovermode": "closest",
          "mapbox": {
           "style": "light"
          },
          "paper_bgcolor": "white",
          "plot_bgcolor": "#E5ECF6",
          "polar": {
           "angularaxis": {
            "gridcolor": "white",
            "linecolor": "white",
            "ticks": ""
           },
           "bgcolor": "#E5ECF6",
           "radialaxis": {
            "gridcolor": "white",
            "linecolor": "white",
            "ticks": ""
           }
          },
          "scene": {
           "xaxis": {
            "backgroundcolor": "#E5ECF6",
            "gridcolor": "white",
            "gridwidth": 2,
            "linecolor": "white",
            "showbackground": true,
            "ticks": "",
            "zerolinecolor": "white"
           },
           "yaxis": {
            "backgroundcolor": "#E5ECF6",
            "gridcolor": "white",
            "gridwidth": 2,
            "linecolor": "white",
            "showbackground": true,
            "ticks": "",
            "zerolinecolor": "white"
           },
           "zaxis": {
            "backgroundcolor": "#E5ECF6",
            "gridcolor": "white",
            "gridwidth": 2,
            "linecolor": "white",
            "showbackground": true,
            "ticks": "",
            "zerolinecolor": "white"
           }
          },
          "shapedefaults": {
           "line": {
            "color": "#2a3f5f"
           }
          },
          "ternary": {
           "aaxis": {
            "gridcolor": "white",
            "linecolor": "white",
            "ticks": ""
           },
           "baxis": {
            "gridcolor": "white",
            "linecolor": "white",
            "ticks": ""
           },
           "bgcolor": "#E5ECF6",
           "caxis": {
            "gridcolor": "white",
            "linecolor": "white",
            "ticks": ""
           }
          },
          "title": {
           "x": 0.05
          },
          "xaxis": {
           "automargin": true,
           "gridcolor": "white",
           "linecolor": "white",
           "ticks": "",
           "title": {
            "standoff": 15
           },
           "zerolinecolor": "white",
           "zerolinewidth": 2
          },
          "yaxis": {
           "automargin": true,
           "gridcolor": "white",
           "linecolor": "white",
           "ticks": "",
           "title": {
            "standoff": 15
           },
           "zerolinecolor": "white",
           "zerolinewidth": 2
          }
         }
        },
        "title": {
         "text": " Duration (ms) Distribution by Added By"
        },
        "xaxis": {
         "anchor": "y",
         "categoryarray": [
          "Riccardo",
          "Valentina",
          "Alessandro",
          "Lidia",
          "Giulia",
          "Pietro"
         ],
         "categoryorder": "array",
         "domain": [
          0,
          1
         ],
         "title": {
          "text": "Added By"
         }
        },
        "yaxis": {
         "anchor": "x",
         "domain": [
          0,
          1
         ],
         "title": {
          "text": " Duration (ms)"
         }
        }
       }
      }
     },
     "metadata": {},
     "output_type": "display_data"
    }
   ],
   "source": [
    "import plotly.express as px\n",
    "\n",
    "fig = px.box(df, \n",
    "             x=\"Added By\", \n",
    "             y=\"Duration (ms)\", \n",
    "             color=\"Added By\",  # Color each group by Added By\n",
    "             points=\"all\",\n",
    "             hover_data=[\"Artist\", \"Song\"])  # Add Artist and Song to hover\n",
    "\n",
    "# Optional: Customize the layout\n",
    "fig.update_layout(\n",
    "    title=\" Duration (ms) Distribution by Added By\",\n",
    "    xaxis_title=\"Added By\",\n",
    "    yaxis_title=\" Duration (ms)\"\n",
    ")\n",
    "\n",
    "fig.show()"
   ]
  },
  {
   "cell_type": "code",
   "execution_count": 18,
   "id": "b64f3aa0",
   "metadata": {},
   "outputs": [
    {
     "data": {
      "application/vnd.plotly.v1+json": {
       "config": {
        "plotlyServerURL": "https://plot.ly"
       },
       "data": [
        {
         "alignmentgroup": "True",
         "boxpoints": "all",
         "customdata": [
          [
           "ATB",
           "9 PM (Till I Come) - Radio Edit"
          ],
          [
           "Ardian Bujupi,Capital T",
           "ANDIAMO"
          ],
          [
           "Marvin Gaye,Tammi Terrell",
           "Ain't No Mountain High Enough"
          ],
          [
           "Eyedress",
           "Cocaine Sunday"
          ],
          [
           "L I M",
           "Comet"
          ],
          [
           "BLACKPINK",
           "DDU-DU DDU-DU"
          ],
          [
           "Shahram Shabpareh",
           "Doomad"
          ],
          [
           "Freur",
           "Doot Doot"
          ],
          [
           "Kanye West",
           "Father Stretch My Hands Pt. 1"
          ],
          [
           "Sia",
           "Fire Meet Gasoline"
          ],
          [
           "Major Lazer,Amber of Dirty Projectors",
           "Get Free"
          ],
          [
           "Lea Rue,Broiler",
           "I Can't Say No! - Broiler Remix"
          ],
          [
           "Disclosure,Sam Smith",
           "Latch"
          ],
          [
           "George Michael",
           "One More Try - Remastered"
          ],
          [
           "Kali Uchis",
           "Ridin Round"
          ],
          [
           "Travis Scott,GloRilla",
           "SHYNE"
          ],
          [
           "Anri",
           "SHYNESS BOY"
          ],
          [
           "Flume,Tove Lo",
           "Say It"
          ],
          [
           "Mara Sattei",
           "Scusa - prod. thasup"
          ],
          [
           "Earth, Wind & Fire",
           "September"
          ],
          [
           "The Chords",
           "Sh-Boom"
          ],
          [
           "Robin S",
           "Show Me Love"
          ],
          [
           "Club Dogo",
           "Spacco Tutto"
          ],
          [
           "Blank Banshee",
           "Spirit Season"
          ],
          [
           "Edward Maya,Vika Jigulina",
           "Stereo Love"
          ],
          [
           "Thirty Seconds To Mars",
           "The Kill"
          ],
          [
           "Jack Ü,Skrillex,Diplo,Aluna,AlunaGeorge",
           "To Ü (feat. AlunaGeorge)"
          ],
          [
           "Daler Mehndi",
           "Tunak Tunak Tun"
          ],
          [
           "bôa",
           "Twilight"
          ],
          [
           "i cani",
           "Una cosa stupida"
          ],
          [
           "CAZZETTE",
           "Weapon"
          ],
          [
           "Yung Bae,Macross 82-99",
           "Welcome To The Disco"
          ],
          [
           "GAYLE",
           "abcdefu (angrier)"
          ],
          [
           "Moya Mishel",
           "Зима в сердце"
          ],
          [
           "Molchat Doma",
           "Тоска"
          ]
         ],
         "hovertemplate": "Added By=%{x}<br>Happy=%{y}<br>Artist=%{customdata[0]}<br>Song=%{customdata[1]}<extra></extra>",
         "legendgroup": "Riccardo",
         "marker": {
          "color": "#636efa"
         },
         "name": "Riccardo",
         "notched": false,
         "offsetgroup": "Riccardo",
         "orientation": "v",
         "showlegend": true,
         "type": "box",
         "x": [
          "Riccardo",
          "Riccardo",
          "Riccardo",
          "Riccardo",
          "Riccardo",
          "Riccardo",
          "Riccardo",
          "Riccardo",
          "Riccardo",
          "Riccardo",
          "Riccardo",
          "Riccardo",
          "Riccardo",
          "Riccardo",
          "Riccardo",
          "Riccardo",
          "Riccardo",
          "Riccardo",
          "Riccardo",
          "Riccardo",
          "Riccardo",
          "Riccardo",
          "Riccardo",
          "Riccardo",
          "Riccardo",
          "Riccardo",
          "Riccardo",
          "Riccardo",
          "Riccardo",
          "Riccardo",
          "Riccardo",
          "Riccardo",
          "Riccardo",
          "Riccardo",
          "Riccardo"
         ],
         "x0": " ",
         "xaxis": "x",
         "y": {
          "bdata": "TFFQKycnNUksIU8XNQpfL1cbRGJYOUwEJB0jRSYcUUgtPCU=",
          "dtype": "i1"
         },
         "y0": " ",
         "yaxis": "y"
        },
        {
         "alignmentgroup": "True",
         "boxpoints": "all",
         "customdata": [
          [
           "Doechii,JT",
           "Alter Ego (with JT)"
          ],
          [
           "Jungle",
           "Back On 74"
          ],
          [
           "Jonas Brothers",
           "Burnin' Up"
          ],
          [
           "Gorillaz,Shaun Ryder,Roses Gabor",
           "DARE (feat. Shaun Ryder & Roses Gabor)"
          ],
          [
           "Backstreet Boys",
           "Everybody (Backstreet's Back) - Radio Edit"
          ],
          [
           "M¥SS KETA",
           "GIOVANNA HARDCORE"
          ],
          [
           "Anastacia",
           "I'm Outta Love"
          ],
          [
           "Avril Lavigne",
           "I'm with You"
          ],
          [
           "The 1975",
           "Love Me"
          ],
          [
           "Lady Gaga,Beyoncé",
           "Telephone"
          ],
          [
           "Caroline Polachek,Charli xcx,George Daniel",
           "Welcome To My Island - George Daniel & Charli XCX Remix"
          ]
         ],
         "hovertemplate": "Added By=%{x}<br>Happy=%{y}<br>Artist=%{customdata[0]}<br>Song=%{customdata[1]}<extra></extra>",
         "legendgroup": "Valentina",
         "marker": {
          "color": "#EF553B"
         },
         "name": "Valentina",
         "notched": false,
         "offsetgroup": "Valentina",
         "orientation": "v",
         "showlegend": true,
         "type": "box",
         "x": [
          "Valentina",
          "Valentina",
          "Valentina",
          "Valentina",
          "Valentina",
          "Valentina",
          "Valentina",
          "Valentina",
          "Valentina",
          "Valentina",
          "Valentina"
         ],
         "x0": " ",
         "xaxis": "x",
         "y": {
          "bdata": "SRNRYUFUQRVbRzM=",
          "dtype": "i1"
         },
         "y0": " ",
         "yaxis": "y"
        },
        {
         "alignmentgroup": "True",
         "boxpoints": "all",
         "customdata": [
          [
           "Alfa Mist,Bongeziwe Mabandla",
           "Apho"
          ],
          [
           "ROSALÍA",
           "BIZCOCHITO"
          ],
          [
           "Deftones",
           "Be Quiet and Drive (Far Away)"
          ],
          [
           "Fleet Foxes",
           "Blue Ridge Mountains"
          ],
          [
           "Public Enemy,Benny Benassi",
           "Bring the Noise"
          ],
          [
           "Weezer",
           "Buddy Holly"
          ],
          [
           "Caroline Polachek",
           "Dang"
          ],
          [
           "Fred again..,Delilah Montagu",
           "Delilah (pull me out of this)"
          ],
          [
           "Jane Remover",
           "Experimental Skin"
          ],
          [
           "Korn",
           "Falling Away from Me"
          ],
          [
           "Porcupine Tree",
           "Fear Of A Blank Planet - 2024 Remaster"
          ],
          [
           "Franco Battiato,Abdul Halim Sabra",
           "Fogh In Nakhal - 2008 Remaster"
          ],
          [
           "KIDS SEE GHOSTS,Ty Dolla $ign",
           "Freeee (Ghost Town Pt. 2)"
          ],
          [
           "Lily Allen",
           "Fuck You"
          ],
          [
           "Charli xcx,Billie Eilish",
           "Guess featuring billie eilish"
          ],
          [
           "The Smiths",
           "Heaven Knows I'm Miserable Now - 2011 Remaster"
          ],
          [
           "PinkPantheress",
           "Illegal"
          ],
          [
           "Neutral Milk Hotel",
           "In the Aeroplane Over the Sea"
          ],
          [
           "Arca,ROSALÍA",
           "KLK"
          ],
          [
           "The Last Shadow Puppets",
           "Les Cactus"
          ],
          [
           "The Smashing Pumpkins",
           "Mayonaise - 2011 Remaster"
          ],
          [
           "Turnstile",
           "NEVER ENOUGH"
          ],
          [
           "Édith Piaf",
           "Non, je ne regrette rien"
          ],
          [
           "Fontaines D.C.",
           "Oh Such A Spring"
          ],
          [
           "Gilberto Gil",
           "Pega a Voga, Cabeludo"
          ],
          [
           "Arca",
           "Riquiquí"
          ],
          [
           "Troye Sivan,PinkPantheress,Hyunjin",
           "Rush (feat. PinkPantheress & Hyunjin of Stray Kids)"
          ],
          [
           "Joey Valence & Brae,Rebecca Black",
           "SEE U DANCE (feat. Rebecca Black)"
          ],
          [
           "Beach House",
           "Space Song"
          ],
          [
           "Bon Iver",
           "THINGS BEHIND THINGS BEHIND THINGS"
          ],
          [
           "COBRAH,VTSS,MCR-T",
           "TITS, LIPS, HIPS, KISS (10/10 Remix)"
          ],
          [
           "TOOL",
           "The Pot"
          ],
          [
           "Verdena",
           "Un Blu Sincero"
          ],
          [
           "Magdalena Bay",
           "Watching T.V."
          ],
          [
           "Bob Sinclar,Steve Edwards",
           "World Hold On (Children of the Sky) - Radio Edit"
          ]
         ],
         "hovertemplate": "Added By=%{x}<br>Happy=%{y}<br>Artist=%{customdata[0]}<br>Song=%{customdata[1]}<extra></extra>",
         "legendgroup": "Alessandro",
         "marker": {
          "color": "#00cc96"
         },
         "name": "Alessandro",
         "notched": false,
         "offsetgroup": "Alessandro",
         "orientation": "v",
         "showlegend": true,
         "type": "box",
         "x": [
          "Alessandro",
          "Alessandro",
          "Alessandro",
          "Alessandro",
          "Alessandro",
          "Alessandro",
          "Alessandro",
          "Alessandro",
          "Alessandro",
          "Alessandro",
          "Alessandro",
          "Alessandro",
          "Alessandro",
          "Alessandro",
          "Alessandro",
          "Alessandro",
          "Alessandro",
          "Alessandro",
          "Alessandro",
          "Alessandro",
          "Alessandro",
          "Alessandro",
          "Alessandro",
          "Alessandro",
          "Alessandro",
          "Alessandro",
          "Alessandro",
          "Alessandro",
          "Alessandro",
          "Alessandro",
          "Alessandro",
          "Alessandro",
          "Alessandro",
          "Alessandro",
          "Alessandro"
         ],
         "x0": " ",
         "xaxis": "x",
         "y": {
          "bdata": "EE4RGzVNNTsuERsoH1Q+TTQYVSgJBCwPYDwmRT0mSi80Lz8=",
          "dtype": "i1"
         },
         "y0": " ",
         "yaxis": "y"
        },
        {
         "alignmentgroup": "True",
         "boxpoints": "all",
         "customdata": [
          [
           "Lady Gaga",
           "Applause"
          ],
          [
           "AC/DC",
           "Back In Black"
          ],
          [
           "Depeche Mode",
           "Black Celebration"
          ],
          [
           "Type O Negative",
           "Black No. 1 (Little Miss Scare -All)"
          ],
          [
           "Dead by April",
           "Breaking Point"
          ],
          [
           "Type O Negative",
           "Cinnamon Girl"
          ],
          [
           "Casey Edwards",
           "Devil Trigger"
          ],
          [
           "Basshunter",
           "DotA - Radio Edit"
          ],
          [
           "O-Zone",
           "Dragostea din tei"
          ],
          [
           "Depeche Mode",
           "Enjoy the Silence"
          ],
          [
           "Metallica",
           "Enter Sandman - Radio Edit"
          ],
          [
           "Vintage,Bedanokov,Люай",
           "Eva (Kavkaz remix)"
          ],
          [
           "Blue Foundation",
           "Eyes on Fire"
          ],
          [
           "Sonata Arctica",
           "Fade to Black"
          ],
          [
           "Dead by April",
           "I Can't Breathe"
          ],
          [
           "Lacuna Coil",
           "I Wish You Were Dead"
          ],
          [
           "Datura,U.S.U.R.A.",
           "Infinity"
          ],
          [
           "Type O Negative",
           "Kill All the White People"
          ],
          [
           "Killing Joke",
           "Love Like Blood"
          ],
          [
           "Eternxlkz",
           "Montagem Nada Tropica"
          ],
          [
           "STARSET",
           "My Demons"
          ],
          [
           "Type O Negative",
           "My Girlfriend's Girlfriend"
          ],
          [
           "Sonata Arctica",
           "My Land"
          ],
          [
           "Ciara",
           "Paint It, Black"
          ],
          [
           "cassö,RAYE,D-Block Europe",
           "Prada"
          ],
          [
           "Within Temptation,Anders Friden",
           "Raise Your Banner"
          ],
          [
           "Rihanna",
           "S&M"
          ],
          [
           "Bizarrap,Shakira",
           "Shakira: Bzrp Music Sessions, Vol. 53"
          ],
          [
           "Rammstein",
           "Sonne"
          ],
          [
           "Nightwish",
           "Storytime"
          ],
          [
           "Dead by April",
           "Swarm Mode"
          ],
          [
           "Maroon 5",
           "This Love"
          ],
          [
           "Green Day",
           "Wake Me up When September Ends"
          ],
          [
           "Five Finger Death Punch",
           "War is the Answer"
          ],
          [
           "Five Finger Death Punch",
           "Wrong Side of Heaven"
          ]
         ],
         "hovertemplate": "Added By=%{x}<br>Happy=%{y}<br>Artist=%{customdata[0]}<br>Song=%{customdata[1]}<extra></extra>",
         "legendgroup": "Lidia",
         "marker": {
          "color": "#ab63fa"
         },
         "name": "Lidia",
         "notched": false,
         "offsetgroup": "Lidia",
         "orientation": "v",
         "showlegend": true,
         "type": "box",
         "x": [
          "Lidia",
          "Lidia",
          "Lidia",
          "Lidia",
          "Lidia",
          "Lidia",
          "Lidia",
          "Lidia",
          "Lidia",
          "Lidia",
          "Lidia",
          "Lidia",
          "Lidia",
          "Lidia",
          "Lidia",
          "Lidia",
          "Lidia",
          "Lidia",
          "Lidia",
          "Lidia",
          "Lidia",
          "Lidia",
          "Lidia",
          "Lidia",
          "Lidia",
          "Lidia",
          "Lidia",
          "Lidia",
          "Lidia",
          "Lidia",
          "Lidia",
          "Lidia",
          "Lidia",
          "Lidia",
          "Lidia"
         ],
         "x0": " ",
         "xaxis": "x",
         "y": {
          "bdata": "SkwMKh4vJDVEF0AtJQoxIzcfKzQKQi8IKiBTNB8wD1EPKDY=",
          "dtype": "i1"
         },
         "y0": " ",
         "yaxis": "y"
        },
        {
         "alignmentgroup": "True",
         "boxpoints": "all",
         "customdata": [
          [
           "Hannah Holgersson",
           "Ave Maria - Schubert"
          ],
          [
           "Lady Gaga",
           "Bad Romance"
          ],
          [
           "Nicki Minaj,Ice Spice,Aqua",
           "Barbie World (with Aqua) [From Barbie The Album]"
          ],
          [
           "The Weeknd",
           "Blinding Lights"
          ],
          [
           "Lady Gaga",
           "Bloody Mary"
          ],
          [
           "Glee Cast",
           "Bust Your Windows"
          ],
          [
           "Lana Del Rey",
           "Cinnamon Girl"
          ],
          [
           "Dua Lipa",
           "Dance The Night - From Barbie The Album"
          ],
          [
           "Indila",
           "Dernière danse"
          ],
          [
           "Djo",
           "End of Beginning"
          ],
          [
           "Bruno Mars",
           "Finesse"
          ],
          [
           "PSY",
           "Gangnam Style (강남스타일)"
          ],
          [
           "Daft Punk",
           "Harder, Better, Faster, Stronger"
          ],
          [
           "Shakira,Wyclef Jean",
           "Hips Don't Lie (feat. Wyclef Jean)"
          ],
          [
           "Dua Lipa",
           "Houdini"
          ],
          [
           "Anne Hathaway",
           "I Dreamed A Dream - From  Les Misérables "
          ],
          [
           "Elton John",
           "I'm Still Standing"
          ],
          [
           "Master KG,Nomcebo Zikode",
           "Jerusalema (feat. Nomcebo Zikode)"
          ],
          [
           "Taylor Swift",
           "Karma"
          ],
          [
           "Christina Aguilera,Lil' Kim,Mýa,P!nk",
           "Lady Marmalade - From  Moulin Rouge  Soundtrack"
          ],
          [
           "Las Divinas",
           "Las Divinas"
          ],
          [
           "Meghan Trainor",
           "Made You Look"
          ],
          [
           "Chappell Roan",
           "My Kink Is Karma"
          ],
          [
           "Rio Romeo",
           "Nothing's New"
          ],
          [
           "Chappell Roan",
           "Pink Pony Club"
          ],
          [
           "Zach Bryan",
           "Pink Skies"
          ],
          [
           "James Blunt",
           "Postcards"
          ],
          [
           "Whitney Houston",
           "Queen of the Night - Radio Edit"
          ],
          [
           "Nicki Minaj",
           "Starships"
          ],
          [
           "Meryl Streep",
           "The Winner Takes It All - From  Mamma Mia! "
          ],
          [
           "Spice Girls",
           "Wannabe"
          ],
          [
           "Ariana Grande,Cynthia Erivo",
           "What Is This Feeling?"
          ],
          [
           "Beyoncé",
           "YA YA"
          ],
          [
           "Taylor Swift",
           "cardigan"
          ],
          [
           "girl in red",
           "we fell in love in october"
          ]
         ],
         "hovertemplate": "Added By=%{x}<br>Happy=%{y}<br>Artist=%{customdata[0]}<br>Song=%{customdata[1]}<extra></extra>",
         "legendgroup": "Giulia",
         "marker": {
          "color": "#FFA15A"
         },
         "name": "Giulia",
         "notched": false,
         "offsetgroup": "Giulia",
         "orientation": "v",
         "showlegend": true,
         "type": "box",
         "x": [
          "Giulia",
          "Giulia",
          "Giulia",
          "Giulia",
          "Giulia",
          "Giulia",
          "Giulia",
          "Giulia",
          "Giulia",
          "Giulia",
          "Giulia",
          "Giulia",
          "Giulia",
          "Giulia",
          "Giulia",
          "Giulia",
          "Giulia",
          "Giulia",
          "Giulia",
          "Giulia",
          "Giulia",
          "Giulia",
          "Giulia",
          "Giulia",
          "Giulia",
          "Giulia",
          "Giulia",
          "Giulia",
          "Giulia",
          "Giulia",
          "Giulia",
          "Giulia",
          "Giulia",
          "Giulia",
          "Giulia"
         ],
         "x0": " ",
         "xaxis": "x",
         "y": {
          "bdata": "BUdLISxJDk4hW15LRUxXD01TDEFeVSooMxlETEsZWUBMNxg=",
          "dtype": "i1"
         },
         "y0": " ",
         "yaxis": "y"
        },
        {
         "alignmentgroup": "True",
         "boxpoints": "all",
         "customdata": [
          [
           "Lambrini Girls",
           "Big Dick Energy"
          ],
          [
           "Tyler, The Creator,Pharrell Williams",
           "Big Poe (feat. Sk8brd)"
          ],
          [
           "Limp Bizkit",
           "Break Stuff"
          ],
          [
           "Denzel Curry",
           "Bulls on Parade - triple j Like A Version"
          ],
          [
           "Verdena",
           "Crystal Ball"
          ],
          [
           "Sting,Cheb Mami",
           "Desert Rose"
          ],
          [
           "Hemant Kumar",
           "Ei Raat Tomar Amar"
          ],
          [
           "Crizin da Z.O.",
           "Festa da Carne"
          ],
          [
           "System Of A Down",
           "Fuck the System"
          ],
          [
           "Type O Negative",
           "Green Man"
          ],
          [
           "Booker T. & the M.G.'s",
           "Green Onions - 2022 Remaster"
          ],
          [
           "Puscifer",
           "Green Valley"
          ],
          [
           "YUNGBLUD",
           "Idols Pt. I"
          ],
          [
           "Franco Battiato",
           "Impressioni di settembre"
          ],
          [
           "Venamoris,Dave Lombardo",
           "In the Shadows"
          ],
          [
           "The Parlor Mob",
           "Into the Sun"
          ],
          [
           "Manu Chao",
           "La vie à 2"
          ],
          [
           "Dalila Kayros",
           "Leviatan"
          ],
          [
           "Fergie",
           "M.I.L.F. $"
          ],
          [
           "Nelly Furtado",
           "Maneater"
          ],
          [
           "Les Claypool",
           "Mushroom Men"
          ],
          [
           "Bodam Project,Pierpaolo Capovilla",
           "Niente - Radio Edit"
          ],
          [
           "Skiantos",
           "Non farò mai quello che vuoi"
          ],
          [
           "Slipknot",
           "People = Shit"
          ],
          [
           "Honningbarna",
           "Schäfer"
          ],
          [
           "Type O Negative",
           "September Sun"
          ],
          [
           "Within Temptation",
           "Summertime Sadness"
          ],
          [
           "Faith No More",
           "The Gentle Art of Making Enemies - 2016 Remaster"
          ],
          [
           "Nelly Furtado",
           "The Grass Is Green"
          ],
          [
           "Puscifer",
           "The Humbling River"
          ],
          [
           "Red Hot Chili Peppers",
           "The Longest Wave"
          ],
          [
           "Franco Battiato,Carmen Consoli",
           "Tutto L'Universo Obbedisce All'Amore"
          ],
          [
           "Vinicio Capossela",
           "Utrennyaya gimnastika"
          ],
          [
           "Rothadás",
           "Vértükör"
          ],
          [
           "Within Temptation",
           "Wireless"
          ]
         ],
         "hovertemplate": "Added By=%{x}<br>Happy=%{y}<br>Artist=%{customdata[0]}<br>Song=%{customdata[1]}<extra></extra>",
         "legendgroup": "Pietro",
         "marker": {
          "color": "#19d3f3"
         },
         "name": "Pietro",
         "notched": false,
         "offsetgroup": "Pietro",
         "orientation": "v",
         "showlegend": true,
         "type": "box",
         "x": [
          "Pietro",
          "Pietro",
          "Pietro",
          "Pietro",
          "Pietro",
          "Pietro",
          "Pietro",
          "Pietro",
          "Pietro",
          "Pietro",
          "Pietro",
          "Pietro",
          "Pietro",
          "Pietro",
          "Pietro",
          "Pietro",
          "Pietro",
          "Pietro",
          "Pietro",
          "Pietro",
          "Pietro",
          "Pietro",
          "Pietro",
          "Pietro",
          "Pietro",
          "Pietro",
          "Pietro",
          "Pietro",
          "Pietro",
          "Pietro",
          "Pietro",
          "Pietro",
          "Pietro",
          "Pietro",
          "Pietro"
         ],
         "x0": " ",
         "xaxis": "x",
         "y": {
          "bdata": "Jjk+R0wPJ1VUJlkEEh4rPzs5R08aBmAOBRQyITUDIjNhCRg=",
          "dtype": "i1"
         },
         "y0": " ",
         "yaxis": "y"
        }
       ],
       "layout": {
        "boxmode": "overlay",
        "legend": {
         "title": {
          "text": "Added By"
         },
         "tracegroupgap": 0
        },
        "margin": {
         "t": 60
        },
        "template": {
         "data": {
          "bar": [
           {
            "error_x": {
             "color": "#2a3f5f"
            },
            "error_y": {
             "color": "#2a3f5f"
            },
            "marker": {
             "line": {
              "color": "#E5ECF6",
              "width": 0.5
             },
             "pattern": {
              "fillmode": "overlay",
              "size": 10,
              "solidity": 0.2
             }
            },
            "type": "bar"
           }
          ],
          "barpolar": [
           {
            "marker": {
             "line": {
              "color": "#E5ECF6",
              "width": 0.5
             },
             "pattern": {
              "fillmode": "overlay",
              "size": 10,
              "solidity": 0.2
             }
            },
            "type": "barpolar"
           }
          ],
          "carpet": [
           {
            "aaxis": {
             "endlinecolor": "#2a3f5f",
             "gridcolor": "white",
             "linecolor": "white",
             "minorgridcolor": "white",
             "startlinecolor": "#2a3f5f"
            },
            "baxis": {
             "endlinecolor": "#2a3f5f",
             "gridcolor": "white",
             "linecolor": "white",
             "minorgridcolor": "white",
             "startlinecolor": "#2a3f5f"
            },
            "type": "carpet"
           }
          ],
          "choropleth": [
           {
            "colorbar": {
             "outlinewidth": 0,
             "ticks": ""
            },
            "type": "choropleth"
           }
          ],
          "contour": [
           {
            "colorbar": {
             "outlinewidth": 0,
             "ticks": ""
            },
            "colorscale": [
             [
              0,
              "#0d0887"
             ],
             [
              0.1111111111111111,
              "#46039f"
             ],
             [
              0.2222222222222222,
              "#7201a8"
             ],
             [
              0.3333333333333333,
              "#9c179e"
             ],
             [
              0.4444444444444444,
              "#bd3786"
             ],
             [
              0.5555555555555556,
              "#d8576b"
             ],
             [
              0.6666666666666666,
              "#ed7953"
             ],
             [
              0.7777777777777778,
              "#fb9f3a"
             ],
             [
              0.8888888888888888,
              "#fdca26"
             ],
             [
              1,
              "#f0f921"
             ]
            ],
            "type": "contour"
           }
          ],
          "contourcarpet": [
           {
            "colorbar": {
             "outlinewidth": 0,
             "ticks": ""
            },
            "type": "contourcarpet"
           }
          ],
          "heatmap": [
           {
            "colorbar": {
             "outlinewidth": 0,
             "ticks": ""
            },
            "colorscale": [
             [
              0,
              "#0d0887"
             ],
             [
              0.1111111111111111,
              "#46039f"
             ],
             [
              0.2222222222222222,
              "#7201a8"
             ],
             [
              0.3333333333333333,
              "#9c179e"
             ],
             [
              0.4444444444444444,
              "#bd3786"
             ],
             [
              0.5555555555555556,
              "#d8576b"
             ],
             [
              0.6666666666666666,
              "#ed7953"
             ],
             [
              0.7777777777777778,
              "#fb9f3a"
             ],
             [
              0.8888888888888888,
              "#fdca26"
             ],
             [
              1,
              "#f0f921"
             ]
            ],
            "type": "heatmap"
           }
          ],
          "histogram": [
           {
            "marker": {
             "pattern": {
              "fillmode": "overlay",
              "size": 10,
              "solidity": 0.2
             }
            },
            "type": "histogram"
           }
          ],
          "histogram2d": [
           {
            "colorbar": {
             "outlinewidth": 0,
             "ticks": ""
            },
            "colorscale": [
             [
              0,
              "#0d0887"
             ],
             [
              0.1111111111111111,
              "#46039f"
             ],
             [
              0.2222222222222222,
              "#7201a8"
             ],
             [
              0.3333333333333333,
              "#9c179e"
             ],
             [
              0.4444444444444444,
              "#bd3786"
             ],
             [
              0.5555555555555556,
              "#d8576b"
             ],
             [
              0.6666666666666666,
              "#ed7953"
             ],
             [
              0.7777777777777778,
              "#fb9f3a"
             ],
             [
              0.8888888888888888,
              "#fdca26"
             ],
             [
              1,
              "#f0f921"
             ]
            ],
            "type": "histogram2d"
           }
          ],
          "histogram2dcontour": [
           {
            "colorbar": {
             "outlinewidth": 0,
             "ticks": ""
            },
            "colorscale": [
             [
              0,
              "#0d0887"
             ],
             [
              0.1111111111111111,
              "#46039f"
             ],
             [
              0.2222222222222222,
              "#7201a8"
             ],
             [
              0.3333333333333333,
              "#9c179e"
             ],
             [
              0.4444444444444444,
              "#bd3786"
             ],
             [
              0.5555555555555556,
              "#d8576b"
             ],
             [
              0.6666666666666666,
              "#ed7953"
             ],
             [
              0.7777777777777778,
              "#fb9f3a"
             ],
             [
              0.8888888888888888,
              "#fdca26"
             ],
             [
              1,
              "#f0f921"
             ]
            ],
            "type": "histogram2dcontour"
           }
          ],
          "mesh3d": [
           {
            "colorbar": {
             "outlinewidth": 0,
             "ticks": ""
            },
            "type": "mesh3d"
           }
          ],
          "parcoords": [
           {
            "line": {
             "colorbar": {
              "outlinewidth": 0,
              "ticks": ""
             }
            },
            "type": "parcoords"
           }
          ],
          "pie": [
           {
            "automargin": true,
            "type": "pie"
           }
          ],
          "scatter": [
           {
            "fillpattern": {
             "fillmode": "overlay",
             "size": 10,
             "solidity": 0.2
            },
            "type": "scatter"
           }
          ],
          "scatter3d": [
           {
            "line": {
             "colorbar": {
              "outlinewidth": 0,
              "ticks": ""
             }
            },
            "marker": {
             "colorbar": {
              "outlinewidth": 0,
              "ticks": ""
             }
            },
            "type": "scatter3d"
           }
          ],
          "scattercarpet": [
           {
            "marker": {
             "colorbar": {
              "outlinewidth": 0,
              "ticks": ""
             }
            },
            "type": "scattercarpet"
           }
          ],
          "scattergeo": [
           {
            "marker": {
             "colorbar": {
              "outlinewidth": 0,
              "ticks": ""
             }
            },
            "type": "scattergeo"
           }
          ],
          "scattergl": [
           {
            "marker": {
             "colorbar": {
              "outlinewidth": 0,
              "ticks": ""
             }
            },
            "type": "scattergl"
           }
          ],
          "scattermap": [
           {
            "marker": {
             "colorbar": {
              "outlinewidth": 0,
              "ticks": ""
             }
            },
            "type": "scattermap"
           }
          ],
          "scattermapbox": [
           {
            "marker": {
             "colorbar": {
              "outlinewidth": 0,
              "ticks": ""
             }
            },
            "type": "scattermapbox"
           }
          ],
          "scatterpolar": [
           {
            "marker": {
             "colorbar": {
              "outlinewidth": 0,
              "ticks": ""
             }
            },
            "type": "scatterpolar"
           }
          ],
          "scatterpolargl": [
           {
            "marker": {
             "colorbar": {
              "outlinewidth": 0,
              "ticks": ""
             }
            },
            "type": "scatterpolargl"
           }
          ],
          "scatterternary": [
           {
            "marker": {
             "colorbar": {
              "outlinewidth": 0,
              "ticks": ""
             }
            },
            "type": "scatterternary"
           }
          ],
          "surface": [
           {
            "colorbar": {
             "outlinewidth": 0,
             "ticks": ""
            },
            "colorscale": [
             [
              0,
              "#0d0887"
             ],
             [
              0.1111111111111111,
              "#46039f"
             ],
             [
              0.2222222222222222,
              "#7201a8"
             ],
             [
              0.3333333333333333,
              "#9c179e"
             ],
             [
              0.4444444444444444,
              "#bd3786"
             ],
             [
              0.5555555555555556,
              "#d8576b"
             ],
             [
              0.6666666666666666,
              "#ed7953"
             ],
             [
              0.7777777777777778,
              "#fb9f3a"
             ],
             [
              0.8888888888888888,
              "#fdca26"
             ],
             [
              1,
              "#f0f921"
             ]
            ],
            "type": "surface"
           }
          ],
          "table": [
           {
            "cells": {
             "fill": {
              "color": "#EBF0F8"
             },
             "line": {
              "color": "white"
             }
            },
            "header": {
             "fill": {
              "color": "#C8D4E3"
             },
             "line": {
              "color": "white"
             }
            },
            "type": "table"
           }
          ]
         },
         "layout": {
          "annotationdefaults": {
           "arrowcolor": "#2a3f5f",
           "arrowhead": 0,
           "arrowwidth": 1
          },
          "autotypenumbers": "strict",
          "coloraxis": {
           "colorbar": {
            "outlinewidth": 0,
            "ticks": ""
           }
          },
          "colorscale": {
           "diverging": [
            [
             0,
             "#8e0152"
            ],
            [
             0.1,
             "#c51b7d"
            ],
            [
             0.2,
             "#de77ae"
            ],
            [
             0.3,
             "#f1b6da"
            ],
            [
             0.4,
             "#fde0ef"
            ],
            [
             0.5,
             "#f7f7f7"
            ],
            [
             0.6,
             "#e6f5d0"
            ],
            [
             0.7,
             "#b8e186"
            ],
            [
             0.8,
             "#7fbc41"
            ],
            [
             0.9,
             "#4d9221"
            ],
            [
             1,
             "#276419"
            ]
           ],
           "sequential": [
            [
             0,
             "#0d0887"
            ],
            [
             0.1111111111111111,
             "#46039f"
            ],
            [
             0.2222222222222222,
             "#7201a8"
            ],
            [
             0.3333333333333333,
             "#9c179e"
            ],
            [
             0.4444444444444444,
             "#bd3786"
            ],
            [
             0.5555555555555556,
             "#d8576b"
            ],
            [
             0.6666666666666666,
             "#ed7953"
            ],
            [
             0.7777777777777778,
             "#fb9f3a"
            ],
            [
             0.8888888888888888,
             "#fdca26"
            ],
            [
             1,
             "#f0f921"
            ]
           ],
           "sequentialminus": [
            [
             0,
             "#0d0887"
            ],
            [
             0.1111111111111111,
             "#46039f"
            ],
            [
             0.2222222222222222,
             "#7201a8"
            ],
            [
             0.3333333333333333,
             "#9c179e"
            ],
            [
             0.4444444444444444,
             "#bd3786"
            ],
            [
             0.5555555555555556,
             "#d8576b"
            ],
            [
             0.6666666666666666,
             "#ed7953"
            ],
            [
             0.7777777777777778,
             "#fb9f3a"
            ],
            [
             0.8888888888888888,
             "#fdca26"
            ],
            [
             1,
             "#f0f921"
            ]
           ]
          },
          "colorway": [
           "#636efa",
           "#EF553B",
           "#00cc96",
           "#ab63fa",
           "#FFA15A",
           "#19d3f3",
           "#FF6692",
           "#B6E880",
           "#FF97FF",
           "#FECB52"
          ],
          "font": {
           "color": "#2a3f5f"
          },
          "geo": {
           "bgcolor": "white",
           "lakecolor": "white",
           "landcolor": "#E5ECF6",
           "showlakes": true,
           "showland": true,
           "subunitcolor": "white"
          },
          "hoverlabel": {
           "align": "left"
          },
          "hovermode": "closest",
          "mapbox": {
           "style": "light"
          },
          "paper_bgcolor": "white",
          "plot_bgcolor": "#E5ECF6",
          "polar": {
           "angularaxis": {
            "gridcolor": "white",
            "linecolor": "white",
            "ticks": ""
           },
           "bgcolor": "#E5ECF6",
           "radialaxis": {
            "gridcolor": "white",
            "linecolor": "white",
            "ticks": ""
           }
          },
          "scene": {
           "xaxis": {
            "backgroundcolor": "#E5ECF6",
            "gridcolor": "white",
            "gridwidth": 2,
            "linecolor": "white",
            "showbackground": true,
            "ticks": "",
            "zerolinecolor": "white"
           },
           "yaxis": {
            "backgroundcolor": "#E5ECF6",
            "gridcolor": "white",
            "gridwidth": 2,
            "linecolor": "white",
            "showbackground": true,
            "ticks": "",
            "zerolinecolor": "white"
           },
           "zaxis": {
            "backgroundcolor": "#E5ECF6",
            "gridcolor": "white",
            "gridwidth": 2,
            "linecolor": "white",
            "showbackground": true,
            "ticks": "",
            "zerolinecolor": "white"
           }
          },
          "shapedefaults": {
           "line": {
            "color": "#2a3f5f"
           }
          },
          "ternary": {
           "aaxis": {
            "gridcolor": "white",
            "linecolor": "white",
            "ticks": ""
           },
           "baxis": {
            "gridcolor": "white",
            "linecolor": "white",
            "ticks": ""
           },
           "bgcolor": "#E5ECF6",
           "caxis": {
            "gridcolor": "white",
            "linecolor": "white",
            "ticks": ""
           }
          },
          "title": {
           "x": 0.05
          },
          "xaxis": {
           "automargin": true,
           "gridcolor": "white",
           "linecolor": "white",
           "ticks": "",
           "title": {
            "standoff": 15
           },
           "zerolinecolor": "white",
           "zerolinewidth": 2
          },
          "yaxis": {
           "automargin": true,
           "gridcolor": "white",
           "linecolor": "white",
           "ticks": "",
           "title": {
            "standoff": 15
           },
           "zerolinecolor": "white",
           "zerolinewidth": 2
          }
         }
        },
        "title": {
         "text": "Happy Distribution by Added By"
        },
        "xaxis": {
         "anchor": "y",
         "categoryarray": [
          "Riccardo",
          "Valentina",
          "Alessandro",
          "Lidia",
          "Giulia",
          "Pietro"
         ],
         "categoryorder": "array",
         "domain": [
          0,
          1
         ],
         "title": {
          "text": "Added By"
         }
        },
        "yaxis": {
         "anchor": "x",
         "domain": [
          0,
          1
         ],
         "title": {
          "text": "Happy"
         }
        }
       }
      }
     },
     "metadata": {},
     "output_type": "display_data"
    }
   ],
   "source": [
    "import plotly.express as px\n",
    "\n",
    "fig = px.box(df, \n",
    "             x=\"Added By\", \n",
    "             y=\"Happy\", \n",
    "             color=\"Added By\",  # Color each group by Added By\n",
    "             points=\"all\",\n",
    "             hover_data=[\"Artist\", \"Song\"])  # Add Artist and Song to hover\n",
    "\n",
    "# Optional: Customize the layout\n",
    "fig.update_layout(\n",
    "    title=\"Happy Distribution by Added By\",\n",
    "    xaxis_title=\"Added By\",\n",
    "    yaxis_title=\"Happy\"\n",
    ")\n",
    "\n",
    "fig.show()"
   ]
  },
  {
   "cell_type": "code",
   "execution_count": 19,
   "id": "d5559425",
   "metadata": {},
   "outputs": [
    {
     "data": {
      "application/vnd.plotly.v1+json": {
       "config": {
        "plotlyServerURL": "https://plot.ly"
       },
       "data": [
        {
         "alignmentgroup": "True",
         "boxpoints": "all",
         "customdata": [
          [
           "ATB",
           "9 PM (Till I Come) - Radio Edit"
          ],
          [
           "Ardian Bujupi,Capital T",
           "ANDIAMO"
          ],
          [
           "Marvin Gaye,Tammi Terrell",
           "Ain't No Mountain High Enough"
          ],
          [
           "Eyedress",
           "Cocaine Sunday"
          ],
          [
           "L I M",
           "Comet"
          ],
          [
           "BLACKPINK",
           "DDU-DU DDU-DU"
          ],
          [
           "Shahram Shabpareh",
           "Doomad"
          ],
          [
           "Freur",
           "Doot Doot"
          ],
          [
           "Kanye West",
           "Father Stretch My Hands Pt. 1"
          ],
          [
           "Sia",
           "Fire Meet Gasoline"
          ],
          [
           "Major Lazer,Amber of Dirty Projectors",
           "Get Free"
          ],
          [
           "Lea Rue,Broiler",
           "I Can't Say No! - Broiler Remix"
          ],
          [
           "Disclosure,Sam Smith",
           "Latch"
          ],
          [
           "George Michael",
           "One More Try - Remastered"
          ],
          [
           "Kali Uchis",
           "Ridin Round"
          ],
          [
           "Travis Scott,GloRilla",
           "SHYNE"
          ],
          [
           "Anri",
           "SHYNESS BOY"
          ],
          [
           "Flume,Tove Lo",
           "Say It"
          ],
          [
           "Mara Sattei",
           "Scusa - prod. thasup"
          ],
          [
           "Earth, Wind & Fire",
           "September"
          ],
          [
           "The Chords",
           "Sh-Boom"
          ],
          [
           "Robin S",
           "Show Me Love"
          ],
          [
           "Club Dogo",
           "Spacco Tutto"
          ],
          [
           "Blank Banshee",
           "Spirit Season"
          ],
          [
           "Edward Maya,Vika Jigulina",
           "Stereo Love"
          ],
          [
           "Thirty Seconds To Mars",
           "The Kill"
          ],
          [
           "Jack Ü,Skrillex,Diplo,Aluna,AlunaGeorge",
           "To Ü (feat. AlunaGeorge)"
          ],
          [
           "Daler Mehndi",
           "Tunak Tunak Tun"
          ],
          [
           "bôa",
           "Twilight"
          ],
          [
           "i cani",
           "Una cosa stupida"
          ],
          [
           "CAZZETTE",
           "Weapon"
          ],
          [
           "Yung Bae,Macross 82-99",
           "Welcome To The Disco"
          ],
          [
           "GAYLE",
           "abcdefu (angrier)"
          ],
          [
           "Moya Mishel",
           "Зима в сердце"
          ],
          [
           "Molchat Doma",
           "Тоска"
          ]
         ],
         "hovertemplate": "Added By=%{x}<br>Energy=%{y}<br>Artist=%{customdata[0]}<br>Song=%{customdata[1]}<extra></extra>",
         "legendgroup": "Riccardo",
         "marker": {
          "color": "#636efa"
         },
         "name": "Riccardo",
         "notched": false,
         "offsetgroup": "Riccardo",
         "orientation": "v",
         "showlegend": true,
         "type": "box",
         "x": [
          "Riccardo",
          "Riccardo",
          "Riccardo",
          "Riccardo",
          "Riccardo",
          "Riccardo",
          "Riccardo",
          "Riccardo",
          "Riccardo",
          "Riccardo",
          "Riccardo",
          "Riccardo",
          "Riccardo",
          "Riccardo",
          "Riccardo",
          "Riccardo",
          "Riccardo",
          "Riccardo",
          "Riccardo",
          "Riccardo",
          "Riccardo",
          "Riccardo",
          "Riccardo",
          "Riccardo",
          "Riccardo",
          "Riccardo",
          "Riccardo",
          "Riccardo",
          "Riccardo",
          "Riccardo",
          "Riccardo",
          "Riccardo",
          "Riccardo",
          "Riccardo",
          "Riccardo"
         ],
         "x0": " ",
         "xaxis": "x",
         "y": {
          "bdata": "6SYxCKwc7j9qvHSTGATmPzMzMzMzM+M/exSuR+F66D+8dJMYBFbmP+XQItv5fuo/N4lBYOXQ2j+cxCCwcmjZP7x0kxgEVuI/ppvEILBy6D/NzMzMzMzkPwwCK4cW2eI/CKwcWmQ75z/fT42XbhLTPx1aZDvfT+k/pHA9Ctej6D93vp8aL93oP6AaL90kBuE/8KfGSzeJ5T85tMh2vp/qP76fGi/dJN4/Di2yne+n6j/LoUW28/3kP9Ei2/l+auw/d76fGi/d6D/Jdr6fGi/tPxkEVg4tsu0/3SQGgZVD7z8730+Nl27qP76fGi/dJNY/hxbZzvdT6z+TGARWDi3mP166SQwCK+M/JzEIrBxa6D8OLbKd76fiPw==",
          "dtype": "f8"
         },
         "y0": " ",
         "yaxis": "y"
        },
        {
         "alignmentgroup": "True",
         "boxpoints": "all",
         "customdata": [
          [
           "Doechii,JT",
           "Alter Ego (with JT)"
          ],
          [
           "Jungle",
           "Back On 74"
          ],
          [
           "Jonas Brothers",
           "Burnin' Up"
          ],
          [
           "Gorillaz,Shaun Ryder,Roses Gabor",
           "DARE (feat. Shaun Ryder & Roses Gabor)"
          ],
          [
           "Backstreet Boys",
           "Everybody (Backstreet's Back) - Radio Edit"
          ],
          [
           "M¥SS KETA",
           "GIOVANNA HARDCORE"
          ],
          [
           "Anastacia",
           "I'm Outta Love"
          ],
          [
           "Avril Lavigne",
           "I'm with You"
          ],
          [
           "The 1975",
           "Love Me"
          ],
          [
           "Lady Gaga,Beyoncé",
           "Telephone"
          ],
          [
           "Caroline Polachek,Charli xcx,George Daniel",
           "Welcome To My Island - George Daniel & Charli XCX Remix"
          ]
         ],
         "hovertemplate": "Added By=%{x}<br>Energy=%{y}<br>Artist=%{customdata[0]}<br>Song=%{customdata[1]}<extra></extra>",
         "legendgroup": "Valentina",
         "marker": {
          "color": "#EF553B"
         },
         "name": "Valentina",
         "notched": false,
         "offsetgroup": "Valentina",
         "orientation": "v",
         "showlegend": true,
         "type": "box",
         "x": [
          "Valentina",
          "Valentina",
          "Valentina",
          "Valentina",
          "Valentina",
          "Valentina",
          "Valentina",
          "Valentina",
          "Valentina",
          "Valentina",
          "Valentina"
         ],
         "x0": " ",
         "xaxis": "x",
         "y": {
          "bdata": "MzMzMzMz5z8nMQisHFroP7pJDAIrh+4/UI2XbhKD7D9cj8L1KFznP7bz/dR46eY/YhBYObTI5j+WQ4ts5/vZP5qZmZmZmek/ObTIdr6f6j9iEFg5tMjmPw==",
          "dtype": "f8"
         },
         "y0": " ",
         "yaxis": "y"
        },
        {
         "alignmentgroup": "True",
         "boxpoints": "all",
         "customdata": [
          [
           "Alfa Mist,Bongeziwe Mabandla",
           "Apho"
          ],
          [
           "ROSALÍA",
           "BIZCOCHITO"
          ],
          [
           "Deftones",
           "Be Quiet and Drive (Far Away)"
          ],
          [
           "Fleet Foxes",
           "Blue Ridge Mountains"
          ],
          [
           "Public Enemy,Benny Benassi",
           "Bring the Noise"
          ],
          [
           "Weezer",
           "Buddy Holly"
          ],
          [
           "Caroline Polachek",
           "Dang"
          ],
          [
           "Fred again..,Delilah Montagu",
           "Delilah (pull me out of this)"
          ],
          [
           "Jane Remover",
           "Experimental Skin"
          ],
          [
           "Korn",
           "Falling Away from Me"
          ],
          [
           "Porcupine Tree",
           "Fear Of A Blank Planet - 2024 Remaster"
          ],
          [
           "Franco Battiato,Abdul Halim Sabra",
           "Fogh In Nakhal - 2008 Remaster"
          ],
          [
           "KIDS SEE GHOSTS,Ty Dolla $ign",
           "Freeee (Ghost Town Pt. 2)"
          ],
          [
           "Lily Allen",
           "Fuck You"
          ],
          [
           "Charli xcx,Billie Eilish",
           "Guess featuring billie eilish"
          ],
          [
           "The Smiths",
           "Heaven Knows I'm Miserable Now - 2011 Remaster"
          ],
          [
           "PinkPantheress",
           "Illegal"
          ],
          [
           "Neutral Milk Hotel",
           "In the Aeroplane Over the Sea"
          ],
          [
           "Arca,ROSALÍA",
           "KLK"
          ],
          [
           "The Last Shadow Puppets",
           "Les Cactus"
          ],
          [
           "The Smashing Pumpkins",
           "Mayonaise - 2011 Remaster"
          ],
          [
           "Turnstile",
           "NEVER ENOUGH"
          ],
          [
           "Édith Piaf",
           "Non, je ne regrette rien"
          ],
          [
           "Fontaines D.C.",
           "Oh Such A Spring"
          ],
          [
           "Gilberto Gil",
           "Pega a Voga, Cabeludo"
          ],
          [
           "Arca",
           "Riquiquí"
          ],
          [
           "Troye Sivan,PinkPantheress,Hyunjin",
           "Rush (feat. PinkPantheress & Hyunjin of Stray Kids)"
          ],
          [
           "Joey Valence & Brae,Rebecca Black",
           "SEE U DANCE (feat. Rebecca Black)"
          ],
          [
           "Beach House",
           "Space Song"
          ],
          [
           "Bon Iver",
           "THINGS BEHIND THINGS BEHIND THINGS"
          ],
          [
           "COBRAH,VTSS,MCR-T",
           "TITS, LIPS, HIPS, KISS (10/10 Remix)"
          ],
          [
           "TOOL",
           "The Pot"
          ],
          [
           "Verdena",
           "Un Blu Sincero"
          ],
          [
           "Magdalena Bay",
           "Watching T.V."
          ],
          [
           "Bob Sinclar,Steve Edwards",
           "World Hold On (Children of the Sky) - Radio Edit"
          ]
         ],
         "hovertemplate": "Added By=%{x}<br>Energy=%{y}<br>Artist=%{customdata[0]}<br>Song=%{customdata[1]}<extra></extra>",
         "legendgroup": "Alessandro",
         "marker": {
          "color": "#00cc96"
         },
         "name": "Alessandro",
         "notched": false,
         "offsetgroup": "Alessandro",
         "orientation": "v",
         "showlegend": true,
         "type": "box",
         "x": [
          "Alessandro",
          "Alessandro",
          "Alessandro",
          "Alessandro",
          "Alessandro",
          "Alessandro",
          "Alessandro",
          "Alessandro",
          "Alessandro",
          "Alessandro",
          "Alessandro",
          "Alessandro",
          "Alessandro",
          "Alessandro",
          "Alessandro",
          "Alessandro",
          "Alessandro",
          "Alessandro",
          "Alessandro",
          "Alessandro",
          "Alessandro",
          "Alessandro",
          "Alessandro",
          "Alessandro",
          "Alessandro",
          "Alessandro",
          "Alessandro",
          "Alessandro",
          "Alessandro",
          "Alessandro",
          "Alessandro",
          "Alessandro",
          "Alessandro",
          "Alessandro",
          "Alessandro"
         ],
         "x0": " ",
         "xaxis": "x",
         "y": {
          "bdata": "aJHtfD813j/4U+Olm8ToP+F6FK5H4e4/JQaBlUOL3D/hehSuR+HmP3E9CtejcO0/AAAAAAAA2D8QWDm0yHbqP3e+nxov3ew/z/dT46Wb6D8K16NwPQrfPy2yne+nxuM/7FG4HoXr6T8hsHJoke3sPzeJQWDl0OY/fT81XrpJ6D97FK5H4XrsPwwCK4cW2eY/Vg4tsp3v6z8tsp3vp8brPyGwcmiR7eA/AAAAAAAA5D8OLbKd76fWPwwCK4cW2c4/lkOLbOf77T/ufD81XrrpPwisHFpkO+s/g8DKoUW26z/0/dR46SbpPxfZzvdT490/bef7qfHS5T9I4XoUrkfpP3E9CtejcOk/okW28/3U5D9CYOXQItvtPw==",
          "dtype": "f8"
         },
         "y0": " ",
         "yaxis": "y"
        },
        {
         "alignmentgroup": "True",
         "boxpoints": "all",
         "customdata": [
          [
           "Lady Gaga",
           "Applause"
          ],
          [
           "AC/DC",
           "Back In Black"
          ],
          [
           "Depeche Mode",
           "Black Celebration"
          ],
          [
           "Type O Negative",
           "Black No. 1 (Little Miss Scare -All)"
          ],
          [
           "Dead by April",
           "Breaking Point"
          ],
          [
           "Type O Negative",
           "Cinnamon Girl"
          ],
          [
           "Casey Edwards",
           "Devil Trigger"
          ],
          [
           "Basshunter",
           "DotA - Radio Edit"
          ],
          [
           "O-Zone",
           "Dragostea din tei"
          ],
          [
           "Depeche Mode",
           "Enjoy the Silence"
          ],
          [
           "Metallica",
           "Enter Sandman - Radio Edit"
          ],
          [
           "Vintage,Bedanokov,Люай",
           "Eva (Kavkaz remix)"
          ],
          [
           "Blue Foundation",
           "Eyes on Fire"
          ],
          [
           "Sonata Arctica",
           "Fade to Black"
          ],
          [
           "Dead by April",
           "I Can't Breathe"
          ],
          [
           "Lacuna Coil",
           "I Wish You Were Dead"
          ],
          [
           "Datura,U.S.U.R.A.",
           "Infinity"
          ],
          [
           "Type O Negative",
           "Kill All the White People"
          ],
          [
           "Killing Joke",
           "Love Like Blood"
          ],
          [
           "Eternxlkz",
           "Montagem Nada Tropica"
          ],
          [
           "STARSET",
           "My Demons"
          ],
          [
           "Type O Negative",
           "My Girlfriend's Girlfriend"
          ],
          [
           "Sonata Arctica",
           "My Land"
          ],
          [
           "Ciara",
           "Paint It, Black"
          ],
          [
           "cassö,RAYE,D-Block Europe",
           "Prada"
          ],
          [
           "Within Temptation,Anders Friden",
           "Raise Your Banner"
          ],
          [
           "Rihanna",
           "S&M"
          ],
          [
           "Bizarrap,Shakira",
           "Shakira: Bzrp Music Sessions, Vol. 53"
          ],
          [
           "Rammstein",
           "Sonne"
          ],
          [
           "Nightwish",
           "Storytime"
          ],
          [
           "Dead by April",
           "Swarm Mode"
          ],
          [
           "Maroon 5",
           "This Love"
          ],
          [
           "Green Day",
           "Wake Me up When September Ends"
          ],
          [
           "Five Finger Death Punch",
           "War is the Answer"
          ],
          [
           "Five Finger Death Punch",
           "Wrong Side of Heaven"
          ]
         ],
         "hovertemplate": "Added By=%{x}<br>Energy=%{y}<br>Artist=%{customdata[0]}<br>Song=%{customdata[1]}<extra></extra>",
         "legendgroup": "Lidia",
         "marker": {
          "color": "#ab63fa"
         },
         "name": "Lidia",
         "notched": false,
         "offsetgroup": "Lidia",
         "orientation": "v",
         "showlegend": true,
         "type": "box",
         "x": [
          "Lidia",
          "Lidia",
          "Lidia",
          "Lidia",
          "Lidia",
          "Lidia",
          "Lidia",
          "Lidia",
          "Lidia",
          "Lidia",
          "Lidia",
          "Lidia",
          "Lidia",
          "Lidia",
          "Lidia",
          "Lidia",
          "Lidia",
          "Lidia",
          "Lidia",
          "Lidia",
          "Lidia",
          "Lidia",
          "Lidia",
          "Lidia",
          "Lidia",
          "Lidia",
          "Lidia",
          "Lidia",
          "Lidia",
          "Lidia",
          "Lidia",
          "Lidia",
          "Lidia",
          "Lidia",
          "Lidia"
         ],
         "x0": " ",
         "xaxis": "x",
         "y": {
          "bdata": "9ihcj8L16D9mZmZmZmbmPxSuR+F6FOY/ZmZmZmZm5j/wp8ZLN4ntP57vp8ZLN+0/F9nO91Pj7T9iEFg5tMjuP7bz/dR46e4/tvP91Hjp4j/ByqFFtvPpP8P1KFyPwu0/UI2XbhKD2D9SuB6F61HkP83MzMzMzOw/9ihcj8L16D8zMzMzMzPrP1TjpZvEIOw/pHA9Ctej5D/dJAaBlUPrP3e+nxov3eQ//Knx0k1i6D+TGARWDi3uP65H4XoUruM/i2zn+6nx5j+mm8QgsHLsP23n+6nx0uU/3SQGgZVD5z/y0k1iEFjtP99PjZduEu8/O99PjZdu7j8v3SQGgZXrPz81XrpJDOo/Di2yne+n7j9t5/up8dLtPw==",
          "dtype": "f8"
         },
         "y0": " ",
         "yaxis": "y"
        },
        {
         "alignmentgroup": "True",
         "boxpoints": "all",
         "customdata": [
          [
           "Hannah Holgersson",
           "Ave Maria - Schubert"
          ],
          [
           "Lady Gaga",
           "Bad Romance"
          ],
          [
           "Nicki Minaj,Ice Spice,Aqua",
           "Barbie World (with Aqua) [From Barbie The Album]"
          ],
          [
           "The Weeknd",
           "Blinding Lights"
          ],
          [
           "Lady Gaga",
           "Bloody Mary"
          ],
          [
           "Glee Cast",
           "Bust Your Windows"
          ],
          [
           "Lana Del Rey",
           "Cinnamon Girl"
          ],
          [
           "Dua Lipa",
           "Dance The Night - From Barbie The Album"
          ],
          [
           "Indila",
           "Dernière danse"
          ],
          [
           "Djo",
           "End of Beginning"
          ],
          [
           "Bruno Mars",
           "Finesse"
          ],
          [
           "PSY",
           "Gangnam Style (강남스타일)"
          ],
          [
           "Daft Punk",
           "Harder, Better, Faster, Stronger"
          ],
          [
           "Shakira,Wyclef Jean",
           "Hips Don't Lie (feat. Wyclef Jean)"
          ],
          [
           "Dua Lipa",
           "Houdini"
          ],
          [
           "Anne Hathaway",
           "I Dreamed A Dream - From  Les Misérables "
          ],
          [
           "Elton John",
           "I'm Still Standing"
          ],
          [
           "Master KG,Nomcebo Zikode",
           "Jerusalema (feat. Nomcebo Zikode)"
          ],
          [
           "Taylor Swift",
           "Karma"
          ],
          [
           "Christina Aguilera,Lil' Kim,Mýa,P!nk",
           "Lady Marmalade - From  Moulin Rouge  Soundtrack"
          ],
          [
           "Las Divinas",
           "Las Divinas"
          ],
          [
           "Meghan Trainor",
           "Made You Look"
          ],
          [
           "Chappell Roan",
           "My Kink Is Karma"
          ],
          [
           "Rio Romeo",
           "Nothing's New"
          ],
          [
           "Chappell Roan",
           "Pink Pony Club"
          ],
          [
           "Zach Bryan",
           "Pink Skies"
          ],
          [
           "James Blunt",
           "Postcards"
          ],
          [
           "Whitney Houston",
           "Queen of the Night - Radio Edit"
          ],
          [
           "Nicki Minaj",
           "Starships"
          ],
          [
           "Meryl Streep",
           "The Winner Takes It All - From  Mamma Mia! "
          ],
          [
           "Spice Girls",
           "Wannabe"
          ],
          [
           "Ariana Grande,Cynthia Erivo",
           "What Is This Feeling?"
          ],
          [
           "Beyoncé",
           "YA YA"
          ],
          [
           "Taylor Swift",
           "cardigan"
          ],
          [
           "girl in red",
           "we fell in love in october"
          ]
         ],
         "hovertemplate": "Added By=%{x}<br>Energy=%{y}<br>Artist=%{customdata[0]}<br>Song=%{customdata[1]}<extra></extra>",
         "legendgroup": "Giulia",
         "marker": {
          "color": "#FFA15A"
         },
         "name": "Giulia",
         "notched": false,
         "offsetgroup": "Giulia",
         "orientation": "v",
         "showlegend": true,
         "type": "box",
         "x": [
          "Giulia",
          "Giulia",
          "Giulia",
          "Giulia",
          "Giulia",
          "Giulia",
          "Giulia",
          "Giulia",
          "Giulia",
          "Giulia",
          "Giulia",
          "Giulia",
          "Giulia",
          "Giulia",
          "Giulia",
          "Giulia",
          "Giulia",
          "Giulia",
          "Giulia",
          "Giulia",
          "Giulia",
          "Giulia",
          "Giulia",
          "Giulia",
          "Giulia",
          "Giulia",
          "Giulia",
          "Giulia",
          "Giulia",
          "Giulia",
          "Giulia",
          "Giulia",
          "Giulia",
          "Giulia",
          "Giulia"
         ],
         "x0": " ",
         "xaxis": "x",
         "y": {
          "bdata": "yJi7lpAPqj9GtvP91HjtP4/C9Shcj+I/XI/C9Shc5z99PzVeuknkP/hT46WbxOg/xSCwcmiR1T8K16NwPQrrPyPb+X5qvNw/dZMYBFYO3T/wp8ZLN4npP5ZDi2zn++0/tvP91Hjp5j+R7Xw/NV7qP3Noke18P+k/rfpcbcX+sj8hsHJoke3sP7bz/dR46d4/AiuHFtnO4z9vEoPAyqHpP0SLbOf7qek/TmIQWDm04D9eukkMAivjP57vp8ZLN9k/zczMzMzM5D8IrBxaZDvfP1g5tMh2vuM/+FPjpZvE7D+28/3UeOnmP1TjpZvEINg/2c73U+Ol6z+4HoXrUbjePyGwcmiR7ew/ZDvfT42X4j8GgZVDi2zXPw==",
          "dtype": "f8"
         },
         "y0": " ",
         "yaxis": "y"
        },
        {
         "alignmentgroup": "True",
         "boxpoints": "all",
         "customdata": [
          [
           "Lambrini Girls",
           "Big Dick Energy"
          ],
          [
           "Tyler, The Creator,Pharrell Williams",
           "Big Poe (feat. Sk8brd)"
          ],
          [
           "Limp Bizkit",
           "Break Stuff"
          ],
          [
           "Denzel Curry",
           "Bulls on Parade - triple j Like A Version"
          ],
          [
           "Verdena",
           "Crystal Ball"
          ],
          [
           "Sting,Cheb Mami",
           "Desert Rose"
          ],
          [
           "Hemant Kumar",
           "Ei Raat Tomar Amar"
          ],
          [
           "Crizin da Z.O.",
           "Festa da Carne"
          ],
          [
           "System Of A Down",
           "Fuck the System"
          ],
          [
           "Type O Negative",
           "Green Man"
          ],
          [
           "Booker T. & the M.G.'s",
           "Green Onions - 2022 Remaster"
          ],
          [
           "Puscifer",
           "Green Valley"
          ],
          [
           "YUNGBLUD",
           "Idols Pt. I"
          ],
          [
           "Franco Battiato",
           "Impressioni di settembre"
          ],
          [
           "Venamoris,Dave Lombardo",
           "In the Shadows"
          ],
          [
           "The Parlor Mob",
           "Into the Sun"
          ],
          [
           "Manu Chao",
           "La vie à 2"
          ],
          [
           "Dalila Kayros",
           "Leviatan"
          ],
          [
           "Fergie",
           "M.I.L.F. $"
          ],
          [
           "Nelly Furtado",
           "Maneater"
          ],
          [
           "Les Claypool",
           "Mushroom Men"
          ],
          [
           "Bodam Project,Pierpaolo Capovilla",
           "Niente - Radio Edit"
          ],
          [
           "Skiantos",
           "Non farò mai quello che vuoi"
          ],
          [
           "Slipknot",
           "People = Shit"
          ],
          [
           "Honningbarna",
           "Schäfer"
          ],
          [
           "Type O Negative",
           "September Sun"
          ],
          [
           "Within Temptation",
           "Summertime Sadness"
          ],
          [
           "Faith No More",
           "The Gentle Art of Making Enemies - 2016 Remaster"
          ],
          [
           "Nelly Furtado",
           "The Grass Is Green"
          ],
          [
           "Puscifer",
           "The Humbling River"
          ],
          [
           "Red Hot Chili Peppers",
           "The Longest Wave"
          ],
          [
           "Franco Battiato,Carmen Consoli",
           "Tutto L'Universo Obbedisce All'Amore"
          ],
          [
           "Vinicio Capossela",
           "Utrennyaya gimnastika"
          ],
          [
           "Rothadás",
           "Vértükör"
          ],
          [
           "Within Temptation",
           "Wireless"
          ]
         ],
         "hovertemplate": "Added By=%{x}<br>Energy=%{y}<br>Artist=%{customdata[0]}<br>Song=%{customdata[1]}<extra></extra>",
         "legendgroup": "Pietro",
         "marker": {
          "color": "#19d3f3"
         },
         "name": "Pietro",
         "notched": false,
         "offsetgroup": "Pietro",
         "orientation": "v",
         "showlegend": true,
         "type": "box",
         "x": [
          "Pietro",
          "Pietro",
          "Pietro",
          "Pietro",
          "Pietro",
          "Pietro",
          "Pietro",
          "Pietro",
          "Pietro",
          "Pietro",
          "Pietro",
          "Pietro",
          "Pietro",
          "Pietro",
          "Pietro",
          "Pietro",
          "Pietro",
          "Pietro",
          "Pietro",
          "Pietro",
          "Pietro",
          "Pietro",
          "Pietro",
          "Pietro",
          "Pietro",
          "Pietro",
          "Pietro",
          "Pietro",
          "Pietro",
          "Pietro",
          "Pietro",
          "Pietro",
          "Pietro",
          "Pietro",
          "Pietro"
         ],
         "x0": " ",
         "xaxis": "x",
         "y": {
          "bdata": "FK5H4XoU7j+4HoXrUbjmP30/NV66Sew/8tJNYhBY7T99PzVeuknsP0oMAiuHFuU/RIts5/upwT99PzVeuknsPwIrhxbZzu8/ZDvfT42X6j9iEFg5tMjePzMzMzMzM+M/vp8aL90k6j8IrBxaZDvjP3E9CtejcOU/F9nO91Pj7T8EVg4tsp3jP0a28/3UeOU/MQisHFpk5z9MN4lBYOXoPwaBlUOLbO8//Knx0k1i5D+amZmZmZntP6wcWmQ73+8/16NwPQrX7z+wcmiR7XznP0Jg5dAi2+0/PzVeukkM7j+PwvUoXI/qPyGwcmiR7dQ/JzEIrBxa4D8ZBFYOLbLhP8dLN4lBYN0/XI/C9Shc7z/RItv5fmrsPw==",
          "dtype": "f8"
         },
         "y0": " ",
         "yaxis": "y"
        }
       ],
       "layout": {
        "boxmode": "overlay",
        "legend": {
         "title": {
          "text": "Added By"
         },
         "tracegroupgap": 0
        },
        "margin": {
         "t": 60
        },
        "template": {
         "data": {
          "bar": [
           {
            "error_x": {
             "color": "#2a3f5f"
            },
            "error_y": {
             "color": "#2a3f5f"
            },
            "marker": {
             "line": {
              "color": "#E5ECF6",
              "width": 0.5
             },
             "pattern": {
              "fillmode": "overlay",
              "size": 10,
              "solidity": 0.2
             }
            },
            "type": "bar"
           }
          ],
          "barpolar": [
           {
            "marker": {
             "line": {
              "color": "#E5ECF6",
              "width": 0.5
             },
             "pattern": {
              "fillmode": "overlay",
              "size": 10,
              "solidity": 0.2
             }
            },
            "type": "barpolar"
           }
          ],
          "carpet": [
           {
            "aaxis": {
             "endlinecolor": "#2a3f5f",
             "gridcolor": "white",
             "linecolor": "white",
             "minorgridcolor": "white",
             "startlinecolor": "#2a3f5f"
            },
            "baxis": {
             "endlinecolor": "#2a3f5f",
             "gridcolor": "white",
             "linecolor": "white",
             "minorgridcolor": "white",
             "startlinecolor": "#2a3f5f"
            },
            "type": "carpet"
           }
          ],
          "choropleth": [
           {
            "colorbar": {
             "outlinewidth": 0,
             "ticks": ""
            },
            "type": "choropleth"
           }
          ],
          "contour": [
           {
            "colorbar": {
             "outlinewidth": 0,
             "ticks": ""
            },
            "colorscale": [
             [
              0,
              "#0d0887"
             ],
             [
              0.1111111111111111,
              "#46039f"
             ],
             [
              0.2222222222222222,
              "#7201a8"
             ],
             [
              0.3333333333333333,
              "#9c179e"
             ],
             [
              0.4444444444444444,
              "#bd3786"
             ],
             [
              0.5555555555555556,
              "#d8576b"
             ],
             [
              0.6666666666666666,
              "#ed7953"
             ],
             [
              0.7777777777777778,
              "#fb9f3a"
             ],
             [
              0.8888888888888888,
              "#fdca26"
             ],
             [
              1,
              "#f0f921"
             ]
            ],
            "type": "contour"
           }
          ],
          "contourcarpet": [
           {
            "colorbar": {
             "outlinewidth": 0,
             "ticks": ""
            },
            "type": "contourcarpet"
           }
          ],
          "heatmap": [
           {
            "colorbar": {
             "outlinewidth": 0,
             "ticks": ""
            },
            "colorscale": [
             [
              0,
              "#0d0887"
             ],
             [
              0.1111111111111111,
              "#46039f"
             ],
             [
              0.2222222222222222,
              "#7201a8"
             ],
             [
              0.3333333333333333,
              "#9c179e"
             ],
             [
              0.4444444444444444,
              "#bd3786"
             ],
             [
              0.5555555555555556,
              "#d8576b"
             ],
             [
              0.6666666666666666,
              "#ed7953"
             ],
             [
              0.7777777777777778,
              "#fb9f3a"
             ],
             [
              0.8888888888888888,
              "#fdca26"
             ],
             [
              1,
              "#f0f921"
             ]
            ],
            "type": "heatmap"
           }
          ],
          "histogram": [
           {
            "marker": {
             "pattern": {
              "fillmode": "overlay",
              "size": 10,
              "solidity": 0.2
             }
            },
            "type": "histogram"
           }
          ],
          "histogram2d": [
           {
            "colorbar": {
             "outlinewidth": 0,
             "ticks": ""
            },
            "colorscale": [
             [
              0,
              "#0d0887"
             ],
             [
              0.1111111111111111,
              "#46039f"
             ],
             [
              0.2222222222222222,
              "#7201a8"
             ],
             [
              0.3333333333333333,
              "#9c179e"
             ],
             [
              0.4444444444444444,
              "#bd3786"
             ],
             [
              0.5555555555555556,
              "#d8576b"
             ],
             [
              0.6666666666666666,
              "#ed7953"
             ],
             [
              0.7777777777777778,
              "#fb9f3a"
             ],
             [
              0.8888888888888888,
              "#fdca26"
             ],
             [
              1,
              "#f0f921"
             ]
            ],
            "type": "histogram2d"
           }
          ],
          "histogram2dcontour": [
           {
            "colorbar": {
             "outlinewidth": 0,
             "ticks": ""
            },
            "colorscale": [
             [
              0,
              "#0d0887"
             ],
             [
              0.1111111111111111,
              "#46039f"
             ],
             [
              0.2222222222222222,
              "#7201a8"
             ],
             [
              0.3333333333333333,
              "#9c179e"
             ],
             [
              0.4444444444444444,
              "#bd3786"
             ],
             [
              0.5555555555555556,
              "#d8576b"
             ],
             [
              0.6666666666666666,
              "#ed7953"
             ],
             [
              0.7777777777777778,
              "#fb9f3a"
             ],
             [
              0.8888888888888888,
              "#fdca26"
             ],
             [
              1,
              "#f0f921"
             ]
            ],
            "type": "histogram2dcontour"
           }
          ],
          "mesh3d": [
           {
            "colorbar": {
             "outlinewidth": 0,
             "ticks": ""
            },
            "type": "mesh3d"
           }
          ],
          "parcoords": [
           {
            "line": {
             "colorbar": {
              "outlinewidth": 0,
              "ticks": ""
             }
            },
            "type": "parcoords"
           }
          ],
          "pie": [
           {
            "automargin": true,
            "type": "pie"
           }
          ],
          "scatter": [
           {
            "fillpattern": {
             "fillmode": "overlay",
             "size": 10,
             "solidity": 0.2
            },
            "type": "scatter"
           }
          ],
          "scatter3d": [
           {
            "line": {
             "colorbar": {
              "outlinewidth": 0,
              "ticks": ""
             }
            },
            "marker": {
             "colorbar": {
              "outlinewidth": 0,
              "ticks": ""
             }
            },
            "type": "scatter3d"
           }
          ],
          "scattercarpet": [
           {
            "marker": {
             "colorbar": {
              "outlinewidth": 0,
              "ticks": ""
             }
            },
            "type": "scattercarpet"
           }
          ],
          "scattergeo": [
           {
            "marker": {
             "colorbar": {
              "outlinewidth": 0,
              "ticks": ""
             }
            },
            "type": "scattergeo"
           }
          ],
          "scattergl": [
           {
            "marker": {
             "colorbar": {
              "outlinewidth": 0,
              "ticks": ""
             }
            },
            "type": "scattergl"
           }
          ],
          "scattermap": [
           {
            "marker": {
             "colorbar": {
              "outlinewidth": 0,
              "ticks": ""
             }
            },
            "type": "scattermap"
           }
          ],
          "scattermapbox": [
           {
            "marker": {
             "colorbar": {
              "outlinewidth": 0,
              "ticks": ""
             }
            },
            "type": "scattermapbox"
           }
          ],
          "scatterpolar": [
           {
            "marker": {
             "colorbar": {
              "outlinewidth": 0,
              "ticks": ""
             }
            },
            "type": "scatterpolar"
           }
          ],
          "scatterpolargl": [
           {
            "marker": {
             "colorbar": {
              "outlinewidth": 0,
              "ticks": ""
             }
            },
            "type": "scatterpolargl"
           }
          ],
          "scatterternary": [
           {
            "marker": {
             "colorbar": {
              "outlinewidth": 0,
              "ticks": ""
             }
            },
            "type": "scatterternary"
           }
          ],
          "surface": [
           {
            "colorbar": {
             "outlinewidth": 0,
             "ticks": ""
            },
            "colorscale": [
             [
              0,
              "#0d0887"
             ],
             [
              0.1111111111111111,
              "#46039f"
             ],
             [
              0.2222222222222222,
              "#7201a8"
             ],
             [
              0.3333333333333333,
              "#9c179e"
             ],
             [
              0.4444444444444444,
              "#bd3786"
             ],
             [
              0.5555555555555556,
              "#d8576b"
             ],
             [
              0.6666666666666666,
              "#ed7953"
             ],
             [
              0.7777777777777778,
              "#fb9f3a"
             ],
             [
              0.8888888888888888,
              "#fdca26"
             ],
             [
              1,
              "#f0f921"
             ]
            ],
            "type": "surface"
           }
          ],
          "table": [
           {
            "cells": {
             "fill": {
              "color": "#EBF0F8"
             },
             "line": {
              "color": "white"
             }
            },
            "header": {
             "fill": {
              "color": "#C8D4E3"
             },
             "line": {
              "color": "white"
             }
            },
            "type": "table"
           }
          ]
         },
         "layout": {
          "annotationdefaults": {
           "arrowcolor": "#2a3f5f",
           "arrowhead": 0,
           "arrowwidth": 1
          },
          "autotypenumbers": "strict",
          "coloraxis": {
           "colorbar": {
            "outlinewidth": 0,
            "ticks": ""
           }
          },
          "colorscale": {
           "diverging": [
            [
             0,
             "#8e0152"
            ],
            [
             0.1,
             "#c51b7d"
            ],
            [
             0.2,
             "#de77ae"
            ],
            [
             0.3,
             "#f1b6da"
            ],
            [
             0.4,
             "#fde0ef"
            ],
            [
             0.5,
             "#f7f7f7"
            ],
            [
             0.6,
             "#e6f5d0"
            ],
            [
             0.7,
             "#b8e186"
            ],
            [
             0.8,
             "#7fbc41"
            ],
            [
             0.9,
             "#4d9221"
            ],
            [
             1,
             "#276419"
            ]
           ],
           "sequential": [
            [
             0,
             "#0d0887"
            ],
            [
             0.1111111111111111,
             "#46039f"
            ],
            [
             0.2222222222222222,
             "#7201a8"
            ],
            [
             0.3333333333333333,
             "#9c179e"
            ],
            [
             0.4444444444444444,
             "#bd3786"
            ],
            [
             0.5555555555555556,
             "#d8576b"
            ],
            [
             0.6666666666666666,
             "#ed7953"
            ],
            [
             0.7777777777777778,
             "#fb9f3a"
            ],
            [
             0.8888888888888888,
             "#fdca26"
            ],
            [
             1,
             "#f0f921"
            ]
           ],
           "sequentialminus": [
            [
             0,
             "#0d0887"
            ],
            [
             0.1111111111111111,
             "#46039f"
            ],
            [
             0.2222222222222222,
             "#7201a8"
            ],
            [
             0.3333333333333333,
             "#9c179e"
            ],
            [
             0.4444444444444444,
             "#bd3786"
            ],
            [
             0.5555555555555556,
             "#d8576b"
            ],
            [
             0.6666666666666666,
             "#ed7953"
            ],
            [
             0.7777777777777778,
             "#fb9f3a"
            ],
            [
             0.8888888888888888,
             "#fdca26"
            ],
            [
             1,
             "#f0f921"
            ]
           ]
          },
          "colorway": [
           "#636efa",
           "#EF553B",
           "#00cc96",
           "#ab63fa",
           "#FFA15A",
           "#19d3f3",
           "#FF6692",
           "#B6E880",
           "#FF97FF",
           "#FECB52"
          ],
          "font": {
           "color": "#2a3f5f"
          },
          "geo": {
           "bgcolor": "white",
           "lakecolor": "white",
           "landcolor": "#E5ECF6",
           "showlakes": true,
           "showland": true,
           "subunitcolor": "white"
          },
          "hoverlabel": {
           "align": "left"
          },
          "hovermode": "closest",
          "mapbox": {
           "style": "light"
          },
          "paper_bgcolor": "white",
          "plot_bgcolor": "#E5ECF6",
          "polar": {
           "angularaxis": {
            "gridcolor": "white",
            "linecolor": "white",
            "ticks": ""
           },
           "bgcolor": "#E5ECF6",
           "radialaxis": {
            "gridcolor": "white",
            "linecolor": "white",
            "ticks": ""
           }
          },
          "scene": {
           "xaxis": {
            "backgroundcolor": "#E5ECF6",
            "gridcolor": "white",
            "gridwidth": 2,
            "linecolor": "white",
            "showbackground": true,
            "ticks": "",
            "zerolinecolor": "white"
           },
           "yaxis": {
            "backgroundcolor": "#E5ECF6",
            "gridcolor": "white",
            "gridwidth": 2,
            "linecolor": "white",
            "showbackground": true,
            "ticks": "",
            "zerolinecolor": "white"
           },
           "zaxis": {
            "backgroundcolor": "#E5ECF6",
            "gridcolor": "white",
            "gridwidth": 2,
            "linecolor": "white",
            "showbackground": true,
            "ticks": "",
            "zerolinecolor": "white"
           }
          },
          "shapedefaults": {
           "line": {
            "color": "#2a3f5f"
           }
          },
          "ternary": {
           "aaxis": {
            "gridcolor": "white",
            "linecolor": "white",
            "ticks": ""
           },
           "baxis": {
            "gridcolor": "white",
            "linecolor": "white",
            "ticks": ""
           },
           "bgcolor": "#E5ECF6",
           "caxis": {
            "gridcolor": "white",
            "linecolor": "white",
            "ticks": ""
           }
          },
          "title": {
           "x": 0.05
          },
          "xaxis": {
           "automargin": true,
           "gridcolor": "white",
           "linecolor": "white",
           "ticks": "",
           "title": {
            "standoff": 15
           },
           "zerolinecolor": "white",
           "zerolinewidth": 2
          },
          "yaxis": {
           "automargin": true,
           "gridcolor": "white",
           "linecolor": "white",
           "ticks": "",
           "title": {
            "standoff": 15
           },
           "zerolinecolor": "white",
           "zerolinewidth": 2
          }
         }
        },
        "title": {
         "text": "Energy Distribution by Added By"
        },
        "xaxis": {
         "anchor": "y",
         "categoryarray": [
          "Riccardo",
          "Valentina",
          "Alessandro",
          "Lidia",
          "Giulia",
          "Pietro"
         ],
         "categoryorder": "array",
         "domain": [
          0,
          1
         ],
         "title": {
          "text": "Added By"
         }
        },
        "yaxis": {
         "anchor": "x",
         "domain": [
          0,
          1
         ],
         "title": {
          "text": "Energy"
         }
        }
       }
      }
     },
     "metadata": {},
     "output_type": "display_data"
    }
   ],
   "source": [
    "import plotly.express as px\n",
    "\n",
    "fig = px.box(df, \n",
    "             x=\"Added By\", \n",
    "             y=\"Energy\", \n",
    "             color=\"Added By\",  # Color each group by Added By\n",
    "             points=\"all\",\n",
    "             hover_data=[\"Artist\", \"Song\"])  # Add Artist and Song to hover\n",
    "\n",
    "# Optional: Customize the layout\n",
    "fig.update_layout(\n",
    "    title=\"Energy Distribution by Added By\",\n",
    "    xaxis_title=\"Added By\",\n",
    "    yaxis_title=\"Energy\"\n",
    ")\n",
    "\n",
    "fig.show()"
   ]
  },
  {
   "cell_type": "code",
   "execution_count": 20,
   "id": "da928f79",
   "metadata": {},
   "outputs": [
    {
     "data": {
      "application/vnd.plotly.v1+json": {
       "config": {
        "plotlyServerURL": "https://plot.ly"
       },
       "data": [
        {
         "alignmentgroup": "True",
         "boxpoints": "all",
         "customdata": [
          [
           "ATB",
           "9 PM (Till I Come) - Radio Edit"
          ],
          [
           "Ardian Bujupi,Capital T",
           "ANDIAMO"
          ],
          [
           "Marvin Gaye,Tammi Terrell",
           "Ain't No Mountain High Enough"
          ],
          [
           "Eyedress",
           "Cocaine Sunday"
          ],
          [
           "L I M",
           "Comet"
          ],
          [
           "BLACKPINK",
           "DDU-DU DDU-DU"
          ],
          [
           "Shahram Shabpareh",
           "Doomad"
          ],
          [
           "Freur",
           "Doot Doot"
          ],
          [
           "Kanye West",
           "Father Stretch My Hands Pt. 1"
          ],
          [
           "Sia",
           "Fire Meet Gasoline"
          ],
          [
           "Major Lazer,Amber of Dirty Projectors",
           "Get Free"
          ],
          [
           "Lea Rue,Broiler",
           "I Can't Say No! - Broiler Remix"
          ],
          [
           "Disclosure,Sam Smith",
           "Latch"
          ],
          [
           "George Michael",
           "One More Try - Remastered"
          ],
          [
           "Kali Uchis",
           "Ridin Round"
          ],
          [
           "Travis Scott,GloRilla",
           "SHYNE"
          ],
          [
           "Anri",
           "SHYNESS BOY"
          ],
          [
           "Flume,Tove Lo",
           "Say It"
          ],
          [
           "Mara Sattei",
           "Scusa - prod. thasup"
          ],
          [
           "Earth, Wind & Fire",
           "September"
          ],
          [
           "The Chords",
           "Sh-Boom"
          ],
          [
           "Robin S",
           "Show Me Love"
          ],
          [
           "Club Dogo",
           "Spacco Tutto"
          ],
          [
           "Blank Banshee",
           "Spirit Season"
          ],
          [
           "Edward Maya,Vika Jigulina",
           "Stereo Love"
          ],
          [
           "Thirty Seconds To Mars",
           "The Kill"
          ],
          [
           "Jack Ü,Skrillex,Diplo,Aluna,AlunaGeorge",
           "To Ü (feat. AlunaGeorge)"
          ],
          [
           "Daler Mehndi",
           "Tunak Tunak Tun"
          ],
          [
           "bôa",
           "Twilight"
          ],
          [
           "i cani",
           "Una cosa stupida"
          ],
          [
           "CAZZETTE",
           "Weapon"
          ],
          [
           "Yung Bae,Macross 82-99",
           "Welcome To The Disco"
          ],
          [
           "GAYLE",
           "abcdefu (angrier)"
          ],
          [
           "Moya Mishel",
           "Зима в сердце"
          ],
          [
           "Molchat Doma",
           "Тоска"
          ]
         ],
         "hovertemplate": "Added By=%{x}<br>Danceability=%{y}<br>Artist=%{customdata[0]}<br>Song=%{customdata[1]}<extra></extra>",
         "legendgroup": "Riccardo",
         "marker": {
          "color": "#636efa"
         },
         "name": "Riccardo",
         "notched": false,
         "offsetgroup": "Riccardo",
         "orientation": "v",
         "showlegend": true,
         "type": "box",
         "x": [
          "Riccardo",
          "Riccardo",
          "Riccardo",
          "Riccardo",
          "Riccardo",
          "Riccardo",
          "Riccardo",
          "Riccardo",
          "Riccardo",
          "Riccardo",
          "Riccardo",
          "Riccardo",
          "Riccardo",
          "Riccardo",
          "Riccardo",
          "Riccardo",
          "Riccardo",
          "Riccardo",
          "Riccardo",
          "Riccardo",
          "Riccardo",
          "Riccardo",
          "Riccardo",
          "Riccardo",
          "Riccardo",
          "Riccardo",
          "Riccardo",
          "Riccardo",
          "Riccardo",
          "Riccardo",
          "Riccardo",
          "Riccardo",
          "Riccardo",
          "Riccardo",
          "Riccardo"
         ],
         "x0": " ",
         "xaxis": "x",
         "y": {
          "bdata": "Gy/dJAaB5T+sHFpkO9/rP57vp8ZLN+U/nMQgsHJo4T/D9Shcj8LVP8dLN4lBYOU/YhBYObTI5j9Ei2zn+6nZP166SQwCK+c/jZduEoPA2j/NzMzMzMzgP7Kd76fGS+c/f2q8dJMY4D++nxov3STWP+f7qfHSTeo/i2zn+6nx5j97FK5H4XroP2IQWDm0yOI/BoGVQ4ts5z/n+6nx0k3mPxsv3SQGgeU/wcqhRbbz6T/l0CLb+X7mPxkEVg4tst0/TDeJQWDl6D+28/3UeOnGPwrXo3A9Ct8/nMQgsHJo6T9OYhBYObTYP2iR7Xw/NeY/vHSTGARW5j+R7Xw/NV7mP0a28/3UeOU/I9v5fmq85D9OYhBYObTYPw==",
          "dtype": "f8"
         },
         "y0": " ",
         "yaxis": "y"
        },
        {
         "alignmentgroup": "True",
         "boxpoints": "all",
         "customdata": [
          [
           "Doechii,JT",
           "Alter Ego (with JT)"
          ],
          [
           "Jungle",
           "Back On 74"
          ],
          [
           "Jonas Brothers",
           "Burnin' Up"
          ],
          [
           "Gorillaz,Shaun Ryder,Roses Gabor",
           "DARE (feat. Shaun Ryder & Roses Gabor)"
          ],
          [
           "Backstreet Boys",
           "Everybody (Backstreet's Back) - Radio Edit"
          ],
          [
           "M¥SS KETA",
           "GIOVANNA HARDCORE"
          ],
          [
           "Anastacia",
           "I'm Outta Love"
          ],
          [
           "Avril Lavigne",
           "I'm with You"
          ],
          [
           "The 1975",
           "Love Me"
          ],
          [
           "Lady Gaga,Beyoncé",
           "Telephone"
          ],
          [
           "Caroline Polachek,Charli xcx,George Daniel",
           "Welcome To My Island - George Daniel & Charli XCX Remix"
          ]
         ],
         "hovertemplate": "Added By=%{x}<br>Danceability=%{y}<br>Artist=%{customdata[0]}<br>Song=%{customdata[1]}<extra></extra>",
         "legendgroup": "Valentina",
         "marker": {
          "color": "#EF553B"
         },
         "name": "Valentina",
         "notched": false,
         "offsetgroup": "Valentina",
         "orientation": "v",
         "showlegend": true,
         "type": "box",
         "x": [
          "Valentina",
          "Valentina",
          "Valentina",
          "Valentina",
          "Valentina",
          "Valentina",
          "Valentina",
          "Valentina",
          "Valentina",
          "Valentina",
          "Valentina"
         ],
         "x0": " ",
         "xaxis": "x",
         "y": {
          "bdata": "tvP91Hjp6j/Xo3A9CtfjP/LSTWIQWOU/UrgehetR6D8zMzMzMzPnP2Dl0CLb+eo/fT81XrpJ6D9zaJHtfD/dP/7UeOkmMeQ/ZmZmZmZm6j+LbOf7qfHmPw==",
          "dtype": "f8"
         },
         "y0": " ",
         "yaxis": "y"
        },
        {
         "alignmentgroup": "True",
         "boxpoints": "all",
         "customdata": [
          [
           "Alfa Mist,Bongeziwe Mabandla",
           "Apho"
          ],
          [
           "ROSALÍA",
           "BIZCOCHITO"
          ],
          [
           "Deftones",
           "Be Quiet and Drive (Far Away)"
          ],
          [
           "Fleet Foxes",
           "Blue Ridge Mountains"
          ],
          [
           "Public Enemy,Benny Benassi",
           "Bring the Noise"
          ],
          [
           "Weezer",
           "Buddy Holly"
          ],
          [
           "Caroline Polachek",
           "Dang"
          ],
          [
           "Fred again..,Delilah Montagu",
           "Delilah (pull me out of this)"
          ],
          [
           "Jane Remover",
           "Experimental Skin"
          ],
          [
           "Korn",
           "Falling Away from Me"
          ],
          [
           "Porcupine Tree",
           "Fear Of A Blank Planet - 2024 Remaster"
          ],
          [
           "Franco Battiato,Abdul Halim Sabra",
           "Fogh In Nakhal - 2008 Remaster"
          ],
          [
           "KIDS SEE GHOSTS,Ty Dolla $ign",
           "Freeee (Ghost Town Pt. 2)"
          ],
          [
           "Lily Allen",
           "Fuck You"
          ],
          [
           "Charli xcx,Billie Eilish",
           "Guess featuring billie eilish"
          ],
          [
           "The Smiths",
           "Heaven Knows I'm Miserable Now - 2011 Remaster"
          ],
          [
           "PinkPantheress",
           "Illegal"
          ],
          [
           "Neutral Milk Hotel",
           "In the Aeroplane Over the Sea"
          ],
          [
           "Arca,ROSALÍA",
           "KLK"
          ],
          [
           "The Last Shadow Puppets",
           "Les Cactus"
          ],
          [
           "The Smashing Pumpkins",
           "Mayonaise - 2011 Remaster"
          ],
          [
           "Turnstile",
           "NEVER ENOUGH"
          ],
          [
           "Édith Piaf",
           "Non, je ne regrette rien"
          ],
          [
           "Fontaines D.C.",
           "Oh Such A Spring"
          ],
          [
           "Gilberto Gil",
           "Pega a Voga, Cabeludo"
          ],
          [
           "Arca",
           "Riquiquí"
          ],
          [
           "Troye Sivan,PinkPantheress,Hyunjin",
           "Rush (feat. PinkPantheress & Hyunjin of Stray Kids)"
          ],
          [
           "Joey Valence & Brae,Rebecca Black",
           "SEE U DANCE (feat. Rebecca Black)"
          ],
          [
           "Beach House",
           "Space Song"
          ],
          [
           "Bon Iver",
           "THINGS BEHIND THINGS BEHIND THINGS"
          ],
          [
           "COBRAH,VTSS,MCR-T",
           "TITS, LIPS, HIPS, KISS (10/10 Remix)"
          ],
          [
           "TOOL",
           "The Pot"
          ],
          [
           "Verdena",
           "Un Blu Sincero"
          ],
          [
           "Magdalena Bay",
           "Watching T.V."
          ],
          [
           "Bob Sinclar,Steve Edwards",
           "World Hold On (Children of the Sky) - Radio Edit"
          ]
         ],
         "hovertemplate": "Added By=%{x}<br>Danceability=%{y}<br>Artist=%{customdata[0]}<br>Song=%{customdata[1]}<extra></extra>",
         "legendgroup": "Alessandro",
         "marker": {
          "color": "#00cc96"
         },
         "name": "Alessandro",
         "notched": false,
         "offsetgroup": "Alessandro",
         "orientation": "v",
         "showlegend": true,
         "type": "box",
         "x": [
          "Alessandro",
          "Alessandro",
          "Alessandro",
          "Alessandro",
          "Alessandro",
          "Alessandro",
          "Alessandro",
          "Alessandro",
          "Alessandro",
          "Alessandro",
          "Alessandro",
          "Alessandro",
          "Alessandro",
          "Alessandro",
          "Alessandro",
          "Alessandro",
          "Alessandro",
          "Alessandro",
          "Alessandro",
          "Alessandro",
          "Alessandro",
          "Alessandro",
          "Alessandro",
          "Alessandro",
          "Alessandro",
          "Alessandro",
          "Alessandro",
          "Alessandro",
          "Alessandro",
          "Alessandro",
          "Alessandro",
          "Alessandro",
          "Alessandro",
          "Alessandro",
          "Alessandro"
         ],
         "x0": " ",
         "xaxis": "x",
         "y": {
          "bdata": "ppvEILBy0D/D9Shcj8LtP5HtfD81Xso/+FPjpZvE4D+WQ4ts5/vpP5huEoPAyuE/vp8aL90k6j/sUbgehevlP+xRuB6F69k/wcqhRbbz3T8GgZVDi2zXP/hT46WbxOA/x0s3iUFg1T/NzMzMzMzoP/YoXI/C9eg/sHJoke184z8rhxbZzvfjP/LSTWIQWNE/8KfGSzeJ6T/P91PjpZvUPwwCK4cW2d4/AiuHFtnOxz+mm8QgsHLYPxSuR+F6FOI/EFg5tMh24j+4HoXrUbjeP1yPwvUoXOc/AiuHFtnO6z+oxks3iUHgPzvfT42Xbto/0SLb+X5q6D9qvHSTGATeP3E9CtejcN0/ObTIdr6f4j8EVg4tsp3nPw==",
          "dtype": "f8"
         },
         "y0": " ",
         "yaxis": "y"
        },
        {
         "alignmentgroup": "True",
         "boxpoints": "all",
         "customdata": [
          [
           "Lady Gaga",
           "Applause"
          ],
          [
           "AC/DC",
           "Back In Black"
          ],
          [
           "Depeche Mode",
           "Black Celebration"
          ],
          [
           "Type O Negative",
           "Black No. 1 (Little Miss Scare -All)"
          ],
          [
           "Dead by April",
           "Breaking Point"
          ],
          [
           "Type O Negative",
           "Cinnamon Girl"
          ],
          [
           "Casey Edwards",
           "Devil Trigger"
          ],
          [
           "Basshunter",
           "DotA - Radio Edit"
          ],
          [
           "O-Zone",
           "Dragostea din tei"
          ],
          [
           "Depeche Mode",
           "Enjoy the Silence"
          ],
          [
           "Metallica",
           "Enter Sandman - Radio Edit"
          ],
          [
           "Vintage,Bedanokov,Люай",
           "Eva (Kavkaz remix)"
          ],
          [
           "Blue Foundation",
           "Eyes on Fire"
          ],
          [
           "Sonata Arctica",
           "Fade to Black"
          ],
          [
           "Dead by April",
           "I Can't Breathe"
          ],
          [
           "Lacuna Coil",
           "I Wish You Were Dead"
          ],
          [
           "Datura,U.S.U.R.A.",
           "Infinity"
          ],
          [
           "Type O Negative",
           "Kill All the White People"
          ],
          [
           "Killing Joke",
           "Love Like Blood"
          ],
          [
           "Eternxlkz",
           "Montagem Nada Tropica"
          ],
          [
           "STARSET",
           "My Demons"
          ],
          [
           "Type O Negative",
           "My Girlfriend's Girlfriend"
          ],
          [
           "Sonata Arctica",
           "My Land"
          ],
          [
           "Ciara",
           "Paint It, Black"
          ],
          [
           "cassö,RAYE,D-Block Europe",
           "Prada"
          ],
          [
           "Within Temptation,Anders Friden",
           "Raise Your Banner"
          ],
          [
           "Rihanna",
           "S&M"
          ],
          [
           "Bizarrap,Shakira",
           "Shakira: Bzrp Music Sessions, Vol. 53"
          ],
          [
           "Rammstein",
           "Sonne"
          ],
          [
           "Nightwish",
           "Storytime"
          ],
          [
           "Dead by April",
           "Swarm Mode"
          ],
          [
           "Maroon 5",
           "This Love"
          ],
          [
           "Green Day",
           "Wake Me up When September Ends"
          ],
          [
           "Five Finger Death Punch",
           "War is the Answer"
          ],
          [
           "Five Finger Death Punch",
           "Wrong Side of Heaven"
          ]
         ],
         "hovertemplate": "Added By=%{x}<br>Danceability=%{y}<br>Artist=%{customdata[0]}<br>Song=%{customdata[1]}<extra></extra>",
         "legendgroup": "Lidia",
         "marker": {
          "color": "#ab63fa"
         },
         "name": "Lidia",
         "notched": false,
         "offsetgroup": "Lidia",
         "orientation": "v",
         "showlegend": true,
         "type": "box",
         "x": [
          "Lidia",
          "Lidia",
          "Lidia",
          "Lidia",
          "Lidia",
          "Lidia",
          "Lidia",
          "Lidia",
          "Lidia",
          "Lidia",
          "Lidia",
          "Lidia",
          "Lidia",
          "Lidia",
          "Lidia",
          "Lidia",
          "Lidia",
          "Lidia",
          "Lidia",
          "Lidia",
          "Lidia",
          "Lidia",
          "Lidia",
          "Lidia",
          "Lidia",
          "Lidia",
          "Lidia",
          "Lidia",
          "Lidia",
          "Lidia",
          "Lidia",
          "Lidia",
          "Lidia",
          "Lidia",
          "Lidia"
         ],
         "x0": " ",
         "xaxis": "x",
         "y": {
          "bdata": "x0s3iUFg5T/Xo3A9CtfTP39qvHSTGOA/EoPAyqFF1j9eukkMAivXP2Dl0CLb+d4/VOOlm8Qg4D9xPQrXo3DdP0SLbOf7qek/BoGVQ4ts4z+Nl24Sg8DiP6RwPQrXo+Q/nMQgsHJo4T/P91PjpZvgP7pJDAIrh94/ZmZmZmZm3j/D9Shcj8LhPycxCKwcWtQ/46WbxCCw2j/jpZvEILDqP/Cnxks3idE/c2iR7Xw/4T/P91PjpZvEP9V46SYxCOQ/0SLb+X5q5D9QjZduEoPYPyUGgZVDi+g/hxbZzvdT6z9SuB6F61HgP8P1KFyPwt0/ppvEILBy0D9iEFg5tMjmP0a28/3UeOE/f2q8dJMY4D9iEFg5tMjePw==",
          "dtype": "f8"
         },
         "y0": " ",
         "yaxis": "y"
        },
        {
         "alignmentgroup": "True",
         "boxpoints": "all",
         "customdata": [
          [
           "Hannah Holgersson",
           "Ave Maria - Schubert"
          ],
          [
           "Lady Gaga",
           "Bad Romance"
          ],
          [
           "Nicki Minaj,Ice Spice,Aqua",
           "Barbie World (with Aqua) [From Barbie The Album]"
          ],
          [
           "The Weeknd",
           "Blinding Lights"
          ],
          [
           "Lady Gaga",
           "Bloody Mary"
          ],
          [
           "Glee Cast",
           "Bust Your Windows"
          ],
          [
           "Lana Del Rey",
           "Cinnamon Girl"
          ],
          [
           "Dua Lipa",
           "Dance The Night - From Barbie The Album"
          ],
          [
           "Indila",
           "Dernière danse"
          ],
          [
           "Djo",
           "End of Beginning"
          ],
          [
           "Bruno Mars",
           "Finesse"
          ],
          [
           "PSY",
           "Gangnam Style (강남스타일)"
          ],
          [
           "Daft Punk",
           "Harder, Better, Faster, Stronger"
          ],
          [
           "Shakira,Wyclef Jean",
           "Hips Don't Lie (feat. Wyclef Jean)"
          ],
          [
           "Dua Lipa",
           "Houdini"
          ],
          [
           "Anne Hathaway",
           "I Dreamed A Dream - From  Les Misérables "
          ],
          [
           "Elton John",
           "I'm Still Standing"
          ],
          [
           "Master KG,Nomcebo Zikode",
           "Jerusalema (feat. Nomcebo Zikode)"
          ],
          [
           "Taylor Swift",
           "Karma"
          ],
          [
           "Christina Aguilera,Lil' Kim,Mýa,P!nk",
           "Lady Marmalade - From  Moulin Rouge  Soundtrack"
          ],
          [
           "Las Divinas",
           "Las Divinas"
          ],
          [
           "Meghan Trainor",
           "Made You Look"
          ],
          [
           "Chappell Roan",
           "My Kink Is Karma"
          ],
          [
           "Rio Romeo",
           "Nothing's New"
          ],
          [
           "Chappell Roan",
           "Pink Pony Club"
          ],
          [
           "Zach Bryan",
           "Pink Skies"
          ],
          [
           "James Blunt",
           "Postcards"
          ],
          [
           "Whitney Houston",
           "Queen of the Night - Radio Edit"
          ],
          [
           "Nicki Minaj",
           "Starships"
          ],
          [
           "Meryl Streep",
           "The Winner Takes It All - From  Mamma Mia! "
          ],
          [
           "Spice Girls",
           "Wannabe"
          ],
          [
           "Ariana Grande,Cynthia Erivo",
           "What Is This Feeling?"
          ],
          [
           "Beyoncé",
           "YA YA"
          ],
          [
           "Taylor Swift",
           "cardigan"
          ],
          [
           "girl in red",
           "we fell in love in october"
          ]
         ],
         "hovertemplate": "Added By=%{x}<br>Danceability=%{y}<br>Artist=%{customdata[0]}<br>Song=%{customdata[1]}<extra></extra>",
         "legendgroup": "Giulia",
         "marker": {
          "color": "#FFA15A"
         },
         "name": "Giulia",
         "notched": false,
         "offsetgroup": "Giulia",
         "orientation": "v",
         "showlegend": true,
         "type": "box",
         "x": [
          "Giulia",
          "Giulia",
          "Giulia",
          "Giulia",
          "Giulia",
          "Giulia",
          "Giulia",
          "Giulia",
          "Giulia",
          "Giulia",
          "Giulia",
          "Giulia",
          "Giulia",
          "Giulia",
          "Giulia",
          "Giulia",
          "Giulia",
          "Giulia",
          "Giulia",
          "Giulia",
          "Giulia",
          "Giulia",
          "Giulia",
          "Giulia",
          "Giulia",
          "Giulia",
          "Giulia",
          "Giulia",
          "Giulia",
          "Giulia",
          "Giulia",
          "Giulia",
          "Giulia",
          "Giulia",
          "Giulia"
         ],
         "x0": " ",
         "xaxis": "x",
         "y": {
          "bdata": "XI/C9Shczz89CtejcD3mP6RwPQrXo+g/0SLb+X5q4D+28/3UeOniP5MYBFYOLdo/N4lBYOXQ0j9GtvP91HjlP5zEILByaOU/PzVeukkM5j+DwMqhRbbnP90kBoGVQ+c/vp8aL90k6j9MN4lBYOXoPwIrhxbZzuc/8KfGSzeJ0T8pXI/C9SjgPylcj8L1KOw/exSuR+F65D9SuB6F61HoP28Sg8DKoek/46WbxCCw6j/D9Shcj8LhP4ts5/up8do/hetRuB6F4z/NzMzMzMzgP4lBYOXQIuc/g8DKoUW25z+BlUOLbOfnP4cW2c73U9s/+n5qvHST6D8GgZVDi2zjP1g5tMh2vuM/BFYOLbKd4z/pJjEIrBziPw==",
          "dtype": "f8"
         },
         "y0": " ",
         "yaxis": "y"
        },
        {
         "alignmentgroup": "True",
         "boxpoints": "all",
         "customdata": [
          [
           "Lambrini Girls",
           "Big Dick Energy"
          ],
          [
           "Tyler, The Creator,Pharrell Williams",
           "Big Poe (feat. Sk8brd)"
          ],
          [
           "Limp Bizkit",
           "Break Stuff"
          ],
          [
           "Denzel Curry",
           "Bulls on Parade - triple j Like A Version"
          ],
          [
           "Verdena",
           "Crystal Ball"
          ],
          [
           "Sting,Cheb Mami",
           "Desert Rose"
          ],
          [
           "Hemant Kumar",
           "Ei Raat Tomar Amar"
          ],
          [
           "Crizin da Z.O.",
           "Festa da Carne"
          ],
          [
           "System Of A Down",
           "Fuck the System"
          ],
          [
           "Type O Negative",
           "Green Man"
          ],
          [
           "Booker T. & the M.G.'s",
           "Green Onions - 2022 Remaster"
          ],
          [
           "Puscifer",
           "Green Valley"
          ],
          [
           "YUNGBLUD",
           "Idols Pt. I"
          ],
          [
           "Franco Battiato",
           "Impressioni di settembre"
          ],
          [
           "Venamoris,Dave Lombardo",
           "In the Shadows"
          ],
          [
           "The Parlor Mob",
           "Into the Sun"
          ],
          [
           "Manu Chao",
           "La vie à 2"
          ],
          [
           "Dalila Kayros",
           "Leviatan"
          ],
          [
           "Fergie",
           "M.I.L.F. $"
          ],
          [
           "Nelly Furtado",
           "Maneater"
          ],
          [
           "Les Claypool",
           "Mushroom Men"
          ],
          [
           "Bodam Project,Pierpaolo Capovilla",
           "Niente - Radio Edit"
          ],
          [
           "Skiantos",
           "Non farò mai quello che vuoi"
          ],
          [
           "Slipknot",
           "People = Shit"
          ],
          [
           "Honningbarna",
           "Schäfer"
          ],
          [
           "Type O Negative",
           "September Sun"
          ],
          [
           "Within Temptation",
           "Summertime Sadness"
          ],
          [
           "Faith No More",
           "The Gentle Art of Making Enemies - 2016 Remaster"
          ],
          [
           "Nelly Furtado",
           "The Grass Is Green"
          ],
          [
           "Puscifer",
           "The Humbling River"
          ],
          [
           "Red Hot Chili Peppers",
           "The Longest Wave"
          ],
          [
           "Franco Battiato,Carmen Consoli",
           "Tutto L'Universo Obbedisce All'Amore"
          ],
          [
           "Vinicio Capossela",
           "Utrennyaya gimnastika"
          ],
          [
           "Rothadás",
           "Vértükör"
          ],
          [
           "Within Temptation",
           "Wireless"
          ]
         ],
         "hovertemplate": "Added By=%{x}<br>Danceability=%{y}<br>Artist=%{customdata[0]}<br>Song=%{customdata[1]}<extra></extra>",
         "legendgroup": "Pietro",
         "marker": {
          "color": "#19d3f3"
         },
         "name": "Pietro",
         "notched": false,
         "offsetgroup": "Pietro",
         "orientation": "v",
         "showlegend": true,
         "type": "box",
         "x": [
          "Pietro",
          "Pietro",
          "Pietro",
          "Pietro",
          "Pietro",
          "Pietro",
          "Pietro",
          "Pietro",
          "Pietro",
          "Pietro",
          "Pietro",
          "Pietro",
          "Pietro",
          "Pietro",
          "Pietro",
          "Pietro",
          "Pietro",
          "Pietro",
          "Pietro",
          "Pietro",
          "Pietro",
          "Pietro",
          "Pietro",
          "Pietro",
          "Pietro",
          "Pietro",
          "Pietro",
          "Pietro",
          "Pietro",
          "Pietro",
          "Pietro",
          "Pietro",
          "Pietro",
          "Pietro",
          "Pietro"
         ],
         "x0": " ",
         "xaxis": "x",
         "y": {
          "bdata": "z/dT46Wb4D+Nl24Sg8DmP9nO91Pjpds/sp3vp8ZL1z9xPQrXo3DhP2IQWDm0yOI/YhBYObTI1j9Ei2zn+6npPxKDwMqhRd4/wcqhRbbz3T8/NV66SQzqPwrXo3A9Ct8/DAIrhxbZ3j8dWmQ730/VP4/C9Shcj+I/qMZLN4lB4D8Sg8DKoUXmP3sUrkfheug/pHA9Ctej6D9GtvP91HjpP/7UeOkmMeg/mG4Sg8DK5T/fT42XbhLrP8UgsHJokd0/SgwCK4cWyT9OYhBYObTQP2IQWDm0yOI/ke18PzVe2j8xCKwcWmTjP+58PzVeuuE/EFg5tMh23j/fT42XbhLnPyUGgZVDi+w/001iEFg5xD9iEFg5tMjePw==",
          "dtype": "f8"
         },
         "y0": " ",
         "yaxis": "y"
        }
       ],
       "layout": {
        "boxmode": "overlay",
        "legend": {
         "title": {
          "text": "Added By"
         },
         "tracegroupgap": 0
        },
        "margin": {
         "t": 60
        },
        "template": {
         "data": {
          "bar": [
           {
            "error_x": {
             "color": "#2a3f5f"
            },
            "error_y": {
             "color": "#2a3f5f"
            },
            "marker": {
             "line": {
              "color": "#E5ECF6",
              "width": 0.5
             },
             "pattern": {
              "fillmode": "overlay",
              "size": 10,
              "solidity": 0.2
             }
            },
            "type": "bar"
           }
          ],
          "barpolar": [
           {
            "marker": {
             "line": {
              "color": "#E5ECF6",
              "width": 0.5
             },
             "pattern": {
              "fillmode": "overlay",
              "size": 10,
              "solidity": 0.2
             }
            },
            "type": "barpolar"
           }
          ],
          "carpet": [
           {
            "aaxis": {
             "endlinecolor": "#2a3f5f",
             "gridcolor": "white",
             "linecolor": "white",
             "minorgridcolor": "white",
             "startlinecolor": "#2a3f5f"
            },
            "baxis": {
             "endlinecolor": "#2a3f5f",
             "gridcolor": "white",
             "linecolor": "white",
             "minorgridcolor": "white",
             "startlinecolor": "#2a3f5f"
            },
            "type": "carpet"
           }
          ],
          "choropleth": [
           {
            "colorbar": {
             "outlinewidth": 0,
             "ticks": ""
            },
            "type": "choropleth"
           }
          ],
          "contour": [
           {
            "colorbar": {
             "outlinewidth": 0,
             "ticks": ""
            },
            "colorscale": [
             [
              0,
              "#0d0887"
             ],
             [
              0.1111111111111111,
              "#46039f"
             ],
             [
              0.2222222222222222,
              "#7201a8"
             ],
             [
              0.3333333333333333,
              "#9c179e"
             ],
             [
              0.4444444444444444,
              "#bd3786"
             ],
             [
              0.5555555555555556,
              "#d8576b"
             ],
             [
              0.6666666666666666,
              "#ed7953"
             ],
             [
              0.7777777777777778,
              "#fb9f3a"
             ],
             [
              0.8888888888888888,
              "#fdca26"
             ],
             [
              1,
              "#f0f921"
             ]
            ],
            "type": "contour"
           }
          ],
          "contourcarpet": [
           {
            "colorbar": {
             "outlinewidth": 0,
             "ticks": ""
            },
            "type": "contourcarpet"
           }
          ],
          "heatmap": [
           {
            "colorbar": {
             "outlinewidth": 0,
             "ticks": ""
            },
            "colorscale": [
             [
              0,
              "#0d0887"
             ],
             [
              0.1111111111111111,
              "#46039f"
             ],
             [
              0.2222222222222222,
              "#7201a8"
             ],
             [
              0.3333333333333333,
              "#9c179e"
             ],
             [
              0.4444444444444444,
              "#bd3786"
             ],
             [
              0.5555555555555556,
              "#d8576b"
             ],
             [
              0.6666666666666666,
              "#ed7953"
             ],
             [
              0.7777777777777778,
              "#fb9f3a"
             ],
             [
              0.8888888888888888,
              "#fdca26"
             ],
             [
              1,
              "#f0f921"
             ]
            ],
            "type": "heatmap"
           }
          ],
          "histogram": [
           {
            "marker": {
             "pattern": {
              "fillmode": "overlay",
              "size": 10,
              "solidity": 0.2
             }
            },
            "type": "histogram"
           }
          ],
          "histogram2d": [
           {
            "colorbar": {
             "outlinewidth": 0,
             "ticks": ""
            },
            "colorscale": [
             [
              0,
              "#0d0887"
             ],
             [
              0.1111111111111111,
              "#46039f"
             ],
             [
              0.2222222222222222,
              "#7201a8"
             ],
             [
              0.3333333333333333,
              "#9c179e"
             ],
             [
              0.4444444444444444,
              "#bd3786"
             ],
             [
              0.5555555555555556,
              "#d8576b"
             ],
             [
              0.6666666666666666,
              "#ed7953"
             ],
             [
              0.7777777777777778,
              "#fb9f3a"
             ],
             [
              0.8888888888888888,
              "#fdca26"
             ],
             [
              1,
              "#f0f921"
             ]
            ],
            "type": "histogram2d"
           }
          ],
          "histogram2dcontour": [
           {
            "colorbar": {
             "outlinewidth": 0,
             "ticks": ""
            },
            "colorscale": [
             [
              0,
              "#0d0887"
             ],
             [
              0.1111111111111111,
              "#46039f"
             ],
             [
              0.2222222222222222,
              "#7201a8"
             ],
             [
              0.3333333333333333,
              "#9c179e"
             ],
             [
              0.4444444444444444,
              "#bd3786"
             ],
             [
              0.5555555555555556,
              "#d8576b"
             ],
             [
              0.6666666666666666,
              "#ed7953"
             ],
             [
              0.7777777777777778,
              "#fb9f3a"
             ],
             [
              0.8888888888888888,
              "#fdca26"
             ],
             [
              1,
              "#f0f921"
             ]
            ],
            "type": "histogram2dcontour"
           }
          ],
          "mesh3d": [
           {
            "colorbar": {
             "outlinewidth": 0,
             "ticks": ""
            },
            "type": "mesh3d"
           }
          ],
          "parcoords": [
           {
            "line": {
             "colorbar": {
              "outlinewidth": 0,
              "ticks": ""
             }
            },
            "type": "parcoords"
           }
          ],
          "pie": [
           {
            "automargin": true,
            "type": "pie"
           }
          ],
          "scatter": [
           {
            "fillpattern": {
             "fillmode": "overlay",
             "size": 10,
             "solidity": 0.2
            },
            "type": "scatter"
           }
          ],
          "scatter3d": [
           {
            "line": {
             "colorbar": {
              "outlinewidth": 0,
              "ticks": ""
             }
            },
            "marker": {
             "colorbar": {
              "outlinewidth": 0,
              "ticks": ""
             }
            },
            "type": "scatter3d"
           }
          ],
          "scattercarpet": [
           {
            "marker": {
             "colorbar": {
              "outlinewidth": 0,
              "ticks": ""
             }
            },
            "type": "scattercarpet"
           }
          ],
          "scattergeo": [
           {
            "marker": {
             "colorbar": {
              "outlinewidth": 0,
              "ticks": ""
             }
            },
            "type": "scattergeo"
           }
          ],
          "scattergl": [
           {
            "marker": {
             "colorbar": {
              "outlinewidth": 0,
              "ticks": ""
             }
            },
            "type": "scattergl"
           }
          ],
          "scattermap": [
           {
            "marker": {
             "colorbar": {
              "outlinewidth": 0,
              "ticks": ""
             }
            },
            "type": "scattermap"
           }
          ],
          "scattermapbox": [
           {
            "marker": {
             "colorbar": {
              "outlinewidth": 0,
              "ticks": ""
             }
            },
            "type": "scattermapbox"
           }
          ],
          "scatterpolar": [
           {
            "marker": {
             "colorbar": {
              "outlinewidth": 0,
              "ticks": ""
             }
            },
            "type": "scatterpolar"
           }
          ],
          "scatterpolargl": [
           {
            "marker": {
             "colorbar": {
              "outlinewidth": 0,
              "ticks": ""
             }
            },
            "type": "scatterpolargl"
           }
          ],
          "scatterternary": [
           {
            "marker": {
             "colorbar": {
              "outlinewidth": 0,
              "ticks": ""
             }
            },
            "type": "scatterternary"
           }
          ],
          "surface": [
           {
            "colorbar": {
             "outlinewidth": 0,
             "ticks": ""
            },
            "colorscale": [
             [
              0,
              "#0d0887"
             ],
             [
              0.1111111111111111,
              "#46039f"
             ],
             [
              0.2222222222222222,
              "#7201a8"
             ],
             [
              0.3333333333333333,
              "#9c179e"
             ],
             [
              0.4444444444444444,
              "#bd3786"
             ],
             [
              0.5555555555555556,
              "#d8576b"
             ],
             [
              0.6666666666666666,
              "#ed7953"
             ],
             [
              0.7777777777777778,
              "#fb9f3a"
             ],
             [
              0.8888888888888888,
              "#fdca26"
             ],
             [
              1,
              "#f0f921"
             ]
            ],
            "type": "surface"
           }
          ],
          "table": [
           {
            "cells": {
             "fill": {
              "color": "#EBF0F8"
             },
             "line": {
              "color": "white"
             }
            },
            "header": {
             "fill": {
              "color": "#C8D4E3"
             },
             "line": {
              "color": "white"
             }
            },
            "type": "table"
           }
          ]
         },
         "layout": {
          "annotationdefaults": {
           "arrowcolor": "#2a3f5f",
           "arrowhead": 0,
           "arrowwidth": 1
          },
          "autotypenumbers": "strict",
          "coloraxis": {
           "colorbar": {
            "outlinewidth": 0,
            "ticks": ""
           }
          },
          "colorscale": {
           "diverging": [
            [
             0,
             "#8e0152"
            ],
            [
             0.1,
             "#c51b7d"
            ],
            [
             0.2,
             "#de77ae"
            ],
            [
             0.3,
             "#f1b6da"
            ],
            [
             0.4,
             "#fde0ef"
            ],
            [
             0.5,
             "#f7f7f7"
            ],
            [
             0.6,
             "#e6f5d0"
            ],
            [
             0.7,
             "#b8e186"
            ],
            [
             0.8,
             "#7fbc41"
            ],
            [
             0.9,
             "#4d9221"
            ],
            [
             1,
             "#276419"
            ]
           ],
           "sequential": [
            [
             0,
             "#0d0887"
            ],
            [
             0.1111111111111111,
             "#46039f"
            ],
            [
             0.2222222222222222,
             "#7201a8"
            ],
            [
             0.3333333333333333,
             "#9c179e"
            ],
            [
             0.4444444444444444,
             "#bd3786"
            ],
            [
             0.5555555555555556,
             "#d8576b"
            ],
            [
             0.6666666666666666,
             "#ed7953"
            ],
            [
             0.7777777777777778,
             "#fb9f3a"
            ],
            [
             0.8888888888888888,
             "#fdca26"
            ],
            [
             1,
             "#f0f921"
            ]
           ],
           "sequentialminus": [
            [
             0,
             "#0d0887"
            ],
            [
             0.1111111111111111,
             "#46039f"
            ],
            [
             0.2222222222222222,
             "#7201a8"
            ],
            [
             0.3333333333333333,
             "#9c179e"
            ],
            [
             0.4444444444444444,
             "#bd3786"
            ],
            [
             0.5555555555555556,
             "#d8576b"
            ],
            [
             0.6666666666666666,
             "#ed7953"
            ],
            [
             0.7777777777777778,
             "#fb9f3a"
            ],
            [
             0.8888888888888888,
             "#fdca26"
            ],
            [
             1,
             "#f0f921"
            ]
           ]
          },
          "colorway": [
           "#636efa",
           "#EF553B",
           "#00cc96",
           "#ab63fa",
           "#FFA15A",
           "#19d3f3",
           "#FF6692",
           "#B6E880",
           "#FF97FF",
           "#FECB52"
          ],
          "font": {
           "color": "#2a3f5f"
          },
          "geo": {
           "bgcolor": "white",
           "lakecolor": "white",
           "landcolor": "#E5ECF6",
           "showlakes": true,
           "showland": true,
           "subunitcolor": "white"
          },
          "hoverlabel": {
           "align": "left"
          },
          "hovermode": "closest",
          "mapbox": {
           "style": "light"
          },
          "paper_bgcolor": "white",
          "plot_bgcolor": "#E5ECF6",
          "polar": {
           "angularaxis": {
            "gridcolor": "white",
            "linecolor": "white",
            "ticks": ""
           },
           "bgcolor": "#E5ECF6",
           "radialaxis": {
            "gridcolor": "white",
            "linecolor": "white",
            "ticks": ""
           }
          },
          "scene": {
           "xaxis": {
            "backgroundcolor": "#E5ECF6",
            "gridcolor": "white",
            "gridwidth": 2,
            "linecolor": "white",
            "showbackground": true,
            "ticks": "",
            "zerolinecolor": "white"
           },
           "yaxis": {
            "backgroundcolor": "#E5ECF6",
            "gridcolor": "white",
            "gridwidth": 2,
            "linecolor": "white",
            "showbackground": true,
            "ticks": "",
            "zerolinecolor": "white"
           },
           "zaxis": {
            "backgroundcolor": "#E5ECF6",
            "gridcolor": "white",
            "gridwidth": 2,
            "linecolor": "white",
            "showbackground": true,
            "ticks": "",
            "zerolinecolor": "white"
           }
          },
          "shapedefaults": {
           "line": {
            "color": "#2a3f5f"
           }
          },
          "ternary": {
           "aaxis": {
            "gridcolor": "white",
            "linecolor": "white",
            "ticks": ""
           },
           "baxis": {
            "gridcolor": "white",
            "linecolor": "white",
            "ticks": ""
           },
           "bgcolor": "#E5ECF6",
           "caxis": {
            "gridcolor": "white",
            "linecolor": "white",
            "ticks": ""
           }
          },
          "title": {
           "x": 0.05
          },
          "xaxis": {
           "automargin": true,
           "gridcolor": "white",
           "linecolor": "white",
           "ticks": "",
           "title": {
            "standoff": 15
           },
           "zerolinecolor": "white",
           "zerolinewidth": 2
          },
          "yaxis": {
           "automargin": true,
           "gridcolor": "white",
           "linecolor": "white",
           "ticks": "",
           "title": {
            "standoff": 15
           },
           "zerolinecolor": "white",
           "zerolinewidth": 2
          }
         }
        },
        "title": {
         "text": "Danceability Distribution by Added By"
        },
        "xaxis": {
         "anchor": "y",
         "categoryarray": [
          "Riccardo",
          "Valentina",
          "Alessandro",
          "Lidia",
          "Giulia",
          "Pietro"
         ],
         "categoryorder": "array",
         "domain": [
          0,
          1
         ],
         "title": {
          "text": "Added By"
         }
        },
        "yaxis": {
         "anchor": "x",
         "domain": [
          0,
          1
         ],
         "title": {
          "text": "Danceability"
         }
        }
       }
      }
     },
     "metadata": {},
     "output_type": "display_data"
    }
   ],
   "source": [
    "import plotly.express as px\n",
    "\n",
    "fig = px.box(df, \n",
    "             x=\"Added By\", \n",
    "             y=\"Danceability\", \n",
    "             color=\"Added By\",  # Color each group by Added By\n",
    "             points=\"all\",\n",
    "             hover_data=[\"Artist\", \"Song\"])  # Add Artist and Song to hover\n",
    "\n",
    "# Optional: Customize the layout\n",
    "fig.update_layout(\n",
    "    title=\"Danceability Distribution by Added By\",\n",
    "    xaxis_title=\"Added By\",\n",
    "    yaxis_title=\"Danceability\"\n",
    ")\n",
    "\n",
    "fig.show()"
   ]
  },
  {
   "cell_type": "code",
   "execution_count": 21,
   "id": "34dc8a6e",
   "metadata": {},
   "outputs": [
    {
     "data": {
      "application/vnd.plotly.v1+json": {
       "config": {
        "plotlyServerURL": "https://plot.ly"
       },
       "data": [
        {
         "alignmentgroup": "True",
         "boxpoints": "all",
         "customdata": [
          [
           "ATB",
           "9 PM (Till I Come) - Radio Edit"
          ],
          [
           "Ardian Bujupi,Capital T",
           "ANDIAMO"
          ],
          [
           "Marvin Gaye,Tammi Terrell",
           "Ain't No Mountain High Enough"
          ],
          [
           "Eyedress",
           "Cocaine Sunday"
          ],
          [
           "L I M",
           "Comet"
          ],
          [
           "BLACKPINK",
           "DDU-DU DDU-DU"
          ],
          [
           "Shahram Shabpareh",
           "Doomad"
          ],
          [
           "Freur",
           "Doot Doot"
          ],
          [
           "Kanye West",
           "Father Stretch My Hands Pt. 1"
          ],
          [
           "Sia",
           "Fire Meet Gasoline"
          ],
          [
           "Major Lazer,Amber of Dirty Projectors",
           "Get Free"
          ],
          [
           "Lea Rue,Broiler",
           "I Can't Say No! - Broiler Remix"
          ],
          [
           "Disclosure,Sam Smith",
           "Latch"
          ],
          [
           "George Michael",
           "One More Try - Remastered"
          ],
          [
           "Kali Uchis",
           "Ridin Round"
          ],
          [
           "Travis Scott,GloRilla",
           "SHYNE"
          ],
          [
           "Anri",
           "SHYNESS BOY"
          ],
          [
           "Flume,Tove Lo",
           "Say It"
          ],
          [
           "Mara Sattei",
           "Scusa - prod. thasup"
          ],
          [
           "Earth, Wind & Fire",
           "September"
          ],
          [
           "The Chords",
           "Sh-Boom"
          ],
          [
           "Robin S",
           "Show Me Love"
          ],
          [
           "Club Dogo",
           "Spacco Tutto"
          ],
          [
           "Blank Banshee",
           "Spirit Season"
          ],
          [
           "Edward Maya,Vika Jigulina",
           "Stereo Love"
          ],
          [
           "Thirty Seconds To Mars",
           "The Kill"
          ],
          [
           "Jack Ü,Skrillex,Diplo,Aluna,AlunaGeorge",
           "To Ü (feat. AlunaGeorge)"
          ],
          [
           "Daler Mehndi",
           "Tunak Tunak Tun"
          ],
          [
           "bôa",
           "Twilight"
          ],
          [
           "i cani",
           "Una cosa stupida"
          ],
          [
           "CAZZETTE",
           "Weapon"
          ],
          [
           "Yung Bae,Macross 82-99",
           "Welcome To The Disco"
          ],
          [
           "GAYLE",
           "abcdefu (angrier)"
          ],
          [
           "Moya Mishel",
           "Зима в сердце"
          ],
          [
           "Molchat Doma",
           "Тоска"
          ]
         ],
         "hovertemplate": "Added By=%{x}<br>Speechiness=%{y}<br>Artist=%{customdata[0]}<br>Song=%{customdata[1]}<extra></extra>",
         "legendgroup": "Riccardo",
         "marker": {
          "color": "#636efa"
         },
         "name": "Riccardo",
         "notched": false,
         "offsetgroup": "Riccardo",
         "orientation": "v",
         "showlegend": true,
         "type": "box",
         "x": [
          "Riccardo",
          "Riccardo",
          "Riccardo",
          "Riccardo",
          "Riccardo",
          "Riccardo",
          "Riccardo",
          "Riccardo",
          "Riccardo",
          "Riccardo",
          "Riccardo",
          "Riccardo",
          "Riccardo",
          "Riccardo",
          "Riccardo",
          "Riccardo",
          "Riccardo",
          "Riccardo",
          "Riccardo",
          "Riccardo",
          "Riccardo",
          "Riccardo",
          "Riccardo",
          "Riccardo",
          "Riccardo",
          "Riccardo",
          "Riccardo",
          "Riccardo",
          "Riccardo",
          "Riccardo",
          "Riccardo",
          "Riccardo",
          "Riccardo",
          "Riccardo",
          "Riccardo"
         ],
         "x0": " ",
         "xaxis": "x",
         "y": {
          "bdata": "eAskKH6MqT8v3SQGgZXDP/yp8dJNYqA/9pfdk4eFmj9I4XoUrkfBP3qlLEMc67I/N4lBYOXQwj/sUbgeheuxPwfOGVHaG6w/V1uxv+yerD/OGVHaG3yxPxB6Nqs+V6s/x0s3iUFgxT+P5PIf0m+fP18pyxDHuqg/EoPAyqFFxj9LyAc9m1WfP4Lix5i7lqA/c2iR7Xw/pT8y5q4l5IOeP6JFtvP91Kg/L90kBoGVwz8xCKwcWmTLP8rDQq1p3qE/f/s6cM6Ioj/kFB3J5T+0P3sUrkfhetw/YhBYObTIxj/Jdr6fGi+9P/8h/fZ14Kw/GQRWDi2yrT/pJjEIrBy6PyPb+X5qvKQ/zojS3uALoz8Spb3BFyajPw==",
          "dtype": "f8"
         },
         "y0": " ",
         "yaxis": "y"
        },
        {
         "alignmentgroup": "True",
         "boxpoints": "all",
         "customdata": [
          [
           "Doechii,JT",
           "Alter Ego (with JT)"
          ],
          [
           "Jungle",
           "Back On 74"
          ],
          [
           "Jonas Brothers",
           "Burnin' Up"
          ],
          [
           "Gorillaz,Shaun Ryder,Roses Gabor",
           "DARE (feat. Shaun Ryder & Roses Gabor)"
          ],
          [
           "Backstreet Boys",
           "Everybody (Backstreet's Back) - Radio Edit"
          ],
          [
           "M¥SS KETA",
           "GIOVANNA HARDCORE"
          ],
          [
           "Anastacia",
           "I'm Outta Love"
          ],
          [
           "Avril Lavigne",
           "I'm with You"
          ],
          [
           "The 1975",
           "Love Me"
          ],
          [
           "Lady Gaga,Beyoncé",
           "Telephone"
          ],
          [
           "Caroline Polachek,Charli xcx,George Daniel",
           "Welcome To My Island - George Daniel & Charli XCX Remix"
          ]
         ],
         "hovertemplate": "Added By=%{x}<br>Speechiness=%{y}<br>Artist=%{customdata[0]}<br>Song=%{customdata[1]}<extra></extra>",
         "legendgroup": "Valentina",
         "marker": {
          "color": "#EF553B"
         },
         "name": "Valentina",
         "notched": false,
         "offsetgroup": "Valentina",
         "orientation": "v",
         "showlegend": true,
         "type": "box",
         "x": [
          "Valentina",
          "Valentina",
          "Valentina",
          "Valentina",
          "Valentina",
          "Valentina",
          "Valentina",
          "Valentina",
          "Valentina",
          "Valentina",
          "Valentina"
         ],
         "x0": " ",
         "xaxis": "x",
         "y": {
          "bdata": "3nGKjuTyrz9mZmZmZmbGP5hMFYxK6rQ/zojS3uALoz/sUbgeheuhPxueXinLELc/iUFg5dAiqz9cIEHxY8ydP11txf6ye6I/4L4OnDOipD/4U+Olm8SwPw==",
          "dtype": "f8"
         },
         "y0": " ",
         "yaxis": "y"
        },
        {
         "alignmentgroup": "True",
         "boxpoints": "all",
         "customdata": [
          [
           "Alfa Mist,Bongeziwe Mabandla",
           "Apho"
          ],
          [
           "ROSALÍA",
           "BIZCOCHITO"
          ],
          [
           "Deftones",
           "Be Quiet and Drive (Far Away)"
          ],
          [
           "Fleet Foxes",
           "Blue Ridge Mountains"
          ],
          [
           "Public Enemy,Benny Benassi",
           "Bring the Noise"
          ],
          [
           "Weezer",
           "Buddy Holly"
          ],
          [
           "Caroline Polachek",
           "Dang"
          ],
          [
           "Fred again..,Delilah Montagu",
           "Delilah (pull me out of this)"
          ],
          [
           "Jane Remover",
           "Experimental Skin"
          ],
          [
           "Korn",
           "Falling Away from Me"
          ],
          [
           "Porcupine Tree",
           "Fear Of A Blank Planet - 2024 Remaster"
          ],
          [
           "Franco Battiato,Abdul Halim Sabra",
           "Fogh In Nakhal - 2008 Remaster"
          ],
          [
           "KIDS SEE GHOSTS,Ty Dolla $ign",
           "Freeee (Ghost Town Pt. 2)"
          ],
          [
           "Lily Allen",
           "Fuck You"
          ],
          [
           "Charli xcx,Billie Eilish",
           "Guess featuring billie eilish"
          ],
          [
           "The Smiths",
           "Heaven Knows I'm Miserable Now - 2011 Remaster"
          ],
          [
           "PinkPantheress",
           "Illegal"
          ],
          [
           "Neutral Milk Hotel",
           "In the Aeroplane Over the Sea"
          ],
          [
           "Arca,ROSALÍA",
           "KLK"
          ],
          [
           "The Last Shadow Puppets",
           "Les Cactus"
          ],
          [
           "The Smashing Pumpkins",
           "Mayonaise - 2011 Remaster"
          ],
          [
           "Turnstile",
           "NEVER ENOUGH"
          ],
          [
           "Édith Piaf",
           "Non, je ne regrette rien"
          ],
          [
           "Fontaines D.C.",
           "Oh Such A Spring"
          ],
          [
           "Gilberto Gil",
           "Pega a Voga, Cabeludo"
          ],
          [
           "Arca",
           "Riquiquí"
          ],
          [
           "Troye Sivan,PinkPantheress,Hyunjin",
           "Rush (feat. PinkPantheress & Hyunjin of Stray Kids)"
          ],
          [
           "Joey Valence & Brae,Rebecca Black",
           "SEE U DANCE (feat. Rebecca Black)"
          ],
          [
           "Beach House",
           "Space Song"
          ],
          [
           "Bon Iver",
           "THINGS BEHIND THINGS BEHIND THINGS"
          ],
          [
           "COBRAH,VTSS,MCR-T",
           "TITS, LIPS, HIPS, KISS (10/10 Remix)"
          ],
          [
           "TOOL",
           "The Pot"
          ],
          [
           "Verdena",
           "Un Blu Sincero"
          ],
          [
           "Magdalena Bay",
           "Watching T.V."
          ],
          [
           "Bob Sinclar,Steve Edwards",
           "World Hold On (Children of the Sky) - Radio Edit"
          ]
         ],
         "hovertemplate": "Added By=%{x}<br>Speechiness=%{y}<br>Artist=%{customdata[0]}<br>Song=%{customdata[1]}<extra></extra>",
         "legendgroup": "Alessandro",
         "marker": {
          "color": "#00cc96"
         },
         "name": "Alessandro",
         "notched": false,
         "offsetgroup": "Alessandro",
         "orientation": "v",
         "showlegend": true,
         "type": "box",
         "x": [
          "Alessandro",
          "Alessandro",
          "Alessandro",
          "Alessandro",
          "Alessandro",
          "Alessandro",
          "Alessandro",
          "Alessandro",
          "Alessandro",
          "Alessandro",
          "Alessandro",
          "Alessandro",
          "Alessandro",
          "Alessandro",
          "Alessandro",
          "Alessandro",
          "Alessandro",
          "Alessandro",
          "Alessandro",
          "Alessandro",
          "Alessandro",
          "Alessandro",
          "Alessandro",
          "Alessandro",
          "Alessandro",
          "Alessandro",
          "Alessandro",
          "Alessandro",
          "Alessandro",
          "Alessandro",
          "Alessandro",
          "Alessandro",
          "Alessandro",
          "Alessandro",
          "Alessandro"
         ],
         "x0": " ",
         "xaxis": "x",
         "y": {
          "bdata": "nl4pyxDHqj/OiNLe4AuzP9NNYhBYObQ/KVyPwvUonD9eukkMAivXPyfChqdXyqI/rK3YX3ZPrj956SYxCKzMP5HtfD81Xro/y6FFtvP9pD/iWBe30QCeP8X+snvysKA/dnEbDeAtsD9Wn6ut2F+mP0GC4seYu7Y/bHh6pSxDnD90RpT2Bl+oPyqpE9BE2KA/kQ96Nqs+tz/0/dR46SbBPxzr4jYawJs/bqMBvAUSpD/V52or9pedP71SliGOdaE/Gw3gLZCgqD/HSzeJQWDdP7prCfmgZ7M//Bhz1xLysT/iWBe30QCeP588LNSa5p0/aLPqc7UVqz9NFYxK6gSkP+SDns2qz6U/H/RsVn2upj8PnDOitDe4Pw==",
          "dtype": "f8"
         },
         "y0": " ",
         "yaxis": "y"
        },
        {
         "alignmentgroup": "True",
         "boxpoints": "all",
         "customdata": [
          [
           "Lady Gaga",
           "Applause"
          ],
          [
           "AC/DC",
           "Back In Black"
          ],
          [
           "Depeche Mode",
           "Black Celebration"
          ],
          [
           "Type O Negative",
           "Black No. 1 (Little Miss Scare -All)"
          ],
          [
           "Dead by April",
           "Breaking Point"
          ],
          [
           "Type O Negative",
           "Cinnamon Girl"
          ],
          [
           "Casey Edwards",
           "Devil Trigger"
          ],
          [
           "Basshunter",
           "DotA - Radio Edit"
          ],
          [
           "O-Zone",
           "Dragostea din tei"
          ],
          [
           "Depeche Mode",
           "Enjoy the Silence"
          ],
          [
           "Metallica",
           "Enter Sandman - Radio Edit"
          ],
          [
           "Vintage,Bedanokov,Люай",
           "Eva (Kavkaz remix)"
          ],
          [
           "Blue Foundation",
           "Eyes on Fire"
          ],
          [
           "Sonata Arctica",
           "Fade to Black"
          ],
          [
           "Dead by April",
           "I Can't Breathe"
          ],
          [
           "Lacuna Coil",
           "I Wish You Were Dead"
          ],
          [
           "Datura,U.S.U.R.A.",
           "Infinity"
          ],
          [
           "Type O Negative",
           "Kill All the White People"
          ],
          [
           "Killing Joke",
           "Love Like Blood"
          ],
          [
           "Eternxlkz",
           "Montagem Nada Tropica"
          ],
          [
           "STARSET",
           "My Demons"
          ],
          [
           "Type O Negative",
           "My Girlfriend's Girlfriend"
          ],
          [
           "Sonata Arctica",
           "My Land"
          ],
          [
           "Ciara",
           "Paint It, Black"
          ],
          [
           "cassö,RAYE,D-Block Europe",
           "Prada"
          ],
          [
           "Within Temptation,Anders Friden",
           "Raise Your Banner"
          ],
          [
           "Rihanna",
           "S&M"
          ],
          [
           "Bizarrap,Shakira",
           "Shakira: Bzrp Music Sessions, Vol. 53"
          ],
          [
           "Rammstein",
           "Sonne"
          ],
          [
           "Nightwish",
           "Storytime"
          ],
          [
           "Dead by April",
           "Swarm Mode"
          ],
          [
           "Maroon 5",
           "This Love"
          ],
          [
           "Green Day",
           "Wake Me up When September Ends"
          ],
          [
           "Five Finger Death Punch",
           "War is the Answer"
          ],
          [
           "Five Finger Death Punch",
           "Wrong Side of Heaven"
          ]
         ],
         "hovertemplate": "Added By=%{x}<br>Speechiness=%{y}<br>Artist=%{customdata[0]}<br>Song=%{customdata[1]}<extra></extra>",
         "legendgroup": "Lidia",
         "marker": {
          "color": "#ab63fa"
         },
         "name": "Lidia",
         "notched": false,
         "offsetgroup": "Lidia",
         "orientation": "v",
         "showlegend": true,
         "type": "box",
         "x": [
          "Lidia",
          "Lidia",
          "Lidia",
          "Lidia",
          "Lidia",
          "Lidia",
          "Lidia",
          "Lidia",
          "Lidia",
          "Lidia",
          "Lidia",
          "Lidia",
          "Lidia",
          "Lidia",
          "Lidia",
          "Lidia",
          "Lidia",
          "Lidia",
          "Lidia",
          "Lidia",
          "Lidia",
          "Lidia",
          "Lidia",
          "Lidia",
          "Lidia",
          "Lidia",
          "Lidia",
          "Lidia",
          "Lidia",
          "Lidia",
          "Lidia",
          "Lidia",
          "Lidia",
          "Lidia",
          "Lidia"
         ],
         "x0": " ",
         "xaxis": "x",
         "y": {
          "bdata": "iUFg5dAiqz+q8dJNYhCoP3o2qz5XW6E/KjqSy39Irz+8dJMYBFbOPwrXo3A9Cqc//Knx0k1i0D956SYxCKy8P6Fns+pztaU/3nGKjuTynz/F/rJ78rCgP36MuWsJ+bA/0m9fB84ZoT8/V1uxv+yeP9DVVuwvu7c/DJOpglFJnT/9h/Tb14GjP0Ck374OnLM/J6CJsOHppT9dbcX+snuiPwAAAAAAALA/ejarPldboT9QjZduEoOwP+lILv8h/bY/MzMzMzMzoz+utmJ/2T25Pxsv3SQGgaU/dk8eFmpNoz8GEhQ/xty1PyJseHqlLLM/LbKd76fGyz+Y3ZOHhVqjPzJVMCqpE6A/ObTIdr6fuj9zaJHtfD+1Pw==",
          "dtype": "f8"
         },
         "y0": " ",
         "yaxis": "y"
        },
        {
         "alignmentgroup": "True",
         "boxpoints": "all",
         "customdata": [
          [
           "Hannah Holgersson",
           "Ave Maria - Schubert"
          ],
          [
           "Lady Gaga",
           "Bad Romance"
          ],
          [
           "Nicki Minaj,Ice Spice,Aqua",
           "Barbie World (with Aqua) [From Barbie The Album]"
          ],
          [
           "The Weeknd",
           "Blinding Lights"
          ],
          [
           "Lady Gaga",
           "Bloody Mary"
          ],
          [
           "Glee Cast",
           "Bust Your Windows"
          ],
          [
           "Lana Del Rey",
           "Cinnamon Girl"
          ],
          [
           "Dua Lipa",
           "Dance The Night - From Barbie The Album"
          ],
          [
           "Indila",
           "Dernière danse"
          ],
          [
           "Djo",
           "End of Beginning"
          ],
          [
           "Bruno Mars",
           "Finesse"
          ],
          [
           "PSY",
           "Gangnam Style (강남스타일)"
          ],
          [
           "Daft Punk",
           "Harder, Better, Faster, Stronger"
          ],
          [
           "Shakira,Wyclef Jean",
           "Hips Don't Lie (feat. Wyclef Jean)"
          ],
          [
           "Dua Lipa",
           "Houdini"
          ],
          [
           "Anne Hathaway",
           "I Dreamed A Dream - From  Les Misérables "
          ],
          [
           "Elton John",
           "I'm Still Standing"
          ],
          [
           "Master KG,Nomcebo Zikode",
           "Jerusalema (feat. Nomcebo Zikode)"
          ],
          [
           "Taylor Swift",
           "Karma"
          ],
          [
           "Christina Aguilera,Lil' Kim,Mýa,P!nk",
           "Lady Marmalade - From  Moulin Rouge  Soundtrack"
          ],
          [
           "Las Divinas",
           "Las Divinas"
          ],
          [
           "Meghan Trainor",
           "Made You Look"
          ],
          [
           "Chappell Roan",
           "My Kink Is Karma"
          ],
          [
           "Rio Romeo",
           "Nothing's New"
          ],
          [
           "Chappell Roan",
           "Pink Pony Club"
          ],
          [
           "Zach Bryan",
           "Pink Skies"
          ],
          [
           "James Blunt",
           "Postcards"
          ],
          [
           "Whitney Houston",
           "Queen of the Night - Radio Edit"
          ],
          [
           "Nicki Minaj",
           "Starships"
          ],
          [
           "Meryl Streep",
           "The Winner Takes It All - From  Mamma Mia! "
          ],
          [
           "Spice Girls",
           "Wannabe"
          ],
          [
           "Ariana Grande,Cynthia Erivo",
           "What Is This Feeling?"
          ],
          [
           "Beyoncé",
           "YA YA"
          ],
          [
           "Taylor Swift",
           "cardigan"
          ],
          [
           "girl in red",
           "we fell in love in october"
          ]
         ],
         "hovertemplate": "Added By=%{x}<br>Speechiness=%{y}<br>Artist=%{customdata[0]}<br>Song=%{customdata[1]}<extra></extra>",
         "legendgroup": "Giulia",
         "marker": {
          "color": "#FFA15A"
         },
         "name": "Giulia",
         "notched": false,
         "offsetgroup": "Giulia",
         "orientation": "v",
         "showlegend": true,
         "type": "box",
         "x": [
          "Giulia",
          "Giulia",
          "Giulia",
          "Giulia",
          "Giulia",
          "Giulia",
          "Giulia",
          "Giulia",
          "Giulia",
          "Giulia",
          "Giulia",
          "Giulia",
          "Giulia",
          "Giulia",
          "Giulia",
          "Giulia",
          "Giulia",
          "Giulia",
          "Giulia",
          "Giulia",
          "Giulia",
          "Giulia",
          "Giulia",
          "Giulia",
          "Giulia",
          "Giulia",
          "Giulia",
          "Giulia",
          "Giulia",
          "Giulia",
          "Giulia",
          "Giulia",
          "Giulia",
          "Giulia",
          "Giulia"
         ],
         "x0": " ",
         "xaxis": "x",
         "y": {
          "bdata": "xty1hHzQoz+gibDh6ZWiPwRWDi2ync8/dQKaCBuerj9cIEHxY8ydPwisHFpkO78/O99PjZduoj/6fmq8dJOoP0oMAiuHFqk/nzws1JrmrT8aUdobfGGyP+f7qfHSTdI/O99PjZduwj9hw9MrZRmyP2iR7Xw/Na4/1CtlGeJYpz+28/3UeOnGP0Jg5dAi26k/pHA9CtejsD8QejarPlerP+Olm8QgsMI/HqfoSC7/sT85tMh2vp+qP6+UZYhjXZw/MCqpE9BEqD/b+X5qvHSjP/s6cM6I0p4/YhBYObTIpj9E+u3rwDmzP9JvXwfOGaE/guLHmLuWoD+4HoXrUbi+P23n+6nx0tU/oWez6nO1pT956SYxCKycPw==",
          "dtype": "f8"
         },
         "y0": " ",
         "yaxis": "y"
        },
        {
         "alignmentgroup": "True",
         "boxpoints": "all",
         "customdata": [
          [
           "Lambrini Girls",
           "Big Dick Energy"
          ],
          [
           "Tyler, The Creator,Pharrell Williams",
           "Big Poe (feat. Sk8brd)"
          ],
          [
           "Limp Bizkit",
           "Break Stuff"
          ],
          [
           "Denzel Curry",
           "Bulls on Parade - triple j Like A Version"
          ],
          [
           "Verdena",
           "Crystal Ball"
          ],
          [
           "Sting,Cheb Mami",
           "Desert Rose"
          ],
          [
           "Hemant Kumar",
           "Ei Raat Tomar Amar"
          ],
          [
           "Crizin da Z.O.",
           "Festa da Carne"
          ],
          [
           "System Of A Down",
           "Fuck the System"
          ],
          [
           "Type O Negative",
           "Green Man"
          ],
          [
           "Booker T. & the M.G.'s",
           "Green Onions - 2022 Remaster"
          ],
          [
           "Puscifer",
           "Green Valley"
          ],
          [
           "YUNGBLUD",
           "Idols Pt. I"
          ],
          [
           "Franco Battiato",
           "Impressioni di settembre"
          ],
          [
           "Venamoris,Dave Lombardo",
           "In the Shadows"
          ],
          [
           "The Parlor Mob",
           "Into the Sun"
          ],
          [
           "Manu Chao",
           "La vie à 2"
          ],
          [
           "Dalila Kayros",
           "Leviatan"
          ],
          [
           "Fergie",
           "M.I.L.F. $"
          ],
          [
           "Nelly Furtado",
           "Maneater"
          ],
          [
           "Les Claypool",
           "Mushroom Men"
          ],
          [
           "Bodam Project,Pierpaolo Capovilla",
           "Niente - Radio Edit"
          ],
          [
           "Skiantos",
           "Non farò mai quello che vuoi"
          ],
          [
           "Slipknot",
           "People = Shit"
          ],
          [
           "Honningbarna",
           "Schäfer"
          ],
          [
           "Type O Negative",
           "September Sun"
          ],
          [
           "Within Temptation",
           "Summertime Sadness"
          ],
          [
           "Faith No More",
           "The Gentle Art of Making Enemies - 2016 Remaster"
          ],
          [
           "Nelly Furtado",
           "The Grass Is Green"
          ],
          [
           "Puscifer",
           "The Humbling River"
          ],
          [
           "Red Hot Chili Peppers",
           "The Longest Wave"
          ],
          [
           "Franco Battiato,Carmen Consoli",
           "Tutto L'Universo Obbedisce All'Amore"
          ],
          [
           "Vinicio Capossela",
           "Utrennyaya gimnastika"
          ],
          [
           "Rothadás",
           "Vértükör"
          ],
          [
           "Within Temptation",
           "Wireless"
          ]
         ],
         "hovertemplate": "Added By=%{x}<br>Speechiness=%{y}<br>Artist=%{customdata[0]}<br>Song=%{customdata[1]}<extra></extra>",
         "legendgroup": "Pietro",
         "marker": {
          "color": "#19d3f3"
         },
         "name": "Pietro",
         "notched": false,
         "offsetgroup": "Pietro",
         "orientation": "v",
         "showlegend": true,
         "type": "box",
         "x": [
          "Pietro",
          "Pietro",
          "Pietro",
          "Pietro",
          "Pietro",
          "Pietro",
          "Pietro",
          "Pietro",
          "Pietro",
          "Pietro",
          "Pietro",
          "Pietro",
          "Pietro",
          "Pietro",
          "Pietro",
          "Pietro",
          "Pietro",
          "Pietro",
          "Pietro",
          "Pietro",
          "Pietro",
          "Pietro",
          "Pietro",
          "Pietro",
          "Pietro",
          "Pietro",
          "Pietro",
          "Pietro",
          "Pietro",
          "Pietro",
          "Pietro",
          "Pietro",
          "Pietro",
          "Pietro",
          "Pietro"
         ],
         "x0": " ",
         "xaxis": "x",
         "y": {
          "bdata": "1CtlGeJYtz81XrpJDALTP/yp8dJNYsA/CtejcD0Kxz/b+X5qvHSjP8WPMXctIZ8/j1N0JJf/oD+LbOf7qfHCPzm0yHa+n7o/WKg1zTtOoT/aG3xhMlWgP/T91HjpJrE/UrgehetRqD8CK4cW2c6nP+xRuB6F66E/EFg5tMh2rj8bL90kBoGlPysYldQJaLI/YOXQItv5vj8Wak3zjlOkP+XyH9JvX7c/7C+7Jw8LpT+NKO0NvjCpP8UgsHJokc0/3SQGgZVDyz9rmnecoiOpP8P1KFyPwqU/Gy/dJAaBxT8OvjCZKhilP7gehetRuJ4/guLHmLuWoD9KDAIrhxaZPx+F61G4HsU/e4MvTKYKtj+TGARWDi2yPw==",
          "dtype": "f8"
         },
         "y0": " ",
         "yaxis": "y"
        }
       ],
       "layout": {
        "boxmode": "overlay",
        "legend": {
         "title": {
          "text": "Added By"
         },
         "tracegroupgap": 0
        },
        "margin": {
         "t": 60
        },
        "template": {
         "data": {
          "bar": [
           {
            "error_x": {
             "color": "#2a3f5f"
            },
            "error_y": {
             "color": "#2a3f5f"
            },
            "marker": {
             "line": {
              "color": "#E5ECF6",
              "width": 0.5
             },
             "pattern": {
              "fillmode": "overlay",
              "size": 10,
              "solidity": 0.2
             }
            },
            "type": "bar"
           }
          ],
          "barpolar": [
           {
            "marker": {
             "line": {
              "color": "#E5ECF6",
              "width": 0.5
             },
             "pattern": {
              "fillmode": "overlay",
              "size": 10,
              "solidity": 0.2
             }
            },
            "type": "barpolar"
           }
          ],
          "carpet": [
           {
            "aaxis": {
             "endlinecolor": "#2a3f5f",
             "gridcolor": "white",
             "linecolor": "white",
             "minorgridcolor": "white",
             "startlinecolor": "#2a3f5f"
            },
            "baxis": {
             "endlinecolor": "#2a3f5f",
             "gridcolor": "white",
             "linecolor": "white",
             "minorgridcolor": "white",
             "startlinecolor": "#2a3f5f"
            },
            "type": "carpet"
           }
          ],
          "choropleth": [
           {
            "colorbar": {
             "outlinewidth": 0,
             "ticks": ""
            },
            "type": "choropleth"
           }
          ],
          "contour": [
           {
            "colorbar": {
             "outlinewidth": 0,
             "ticks": ""
            },
            "colorscale": [
             [
              0,
              "#0d0887"
             ],
             [
              0.1111111111111111,
              "#46039f"
             ],
             [
              0.2222222222222222,
              "#7201a8"
             ],
             [
              0.3333333333333333,
              "#9c179e"
             ],
             [
              0.4444444444444444,
              "#bd3786"
             ],
             [
              0.5555555555555556,
              "#d8576b"
             ],
             [
              0.6666666666666666,
              "#ed7953"
             ],
             [
              0.7777777777777778,
              "#fb9f3a"
             ],
             [
              0.8888888888888888,
              "#fdca26"
             ],
             [
              1,
              "#f0f921"
             ]
            ],
            "type": "contour"
           }
          ],
          "contourcarpet": [
           {
            "colorbar": {
             "outlinewidth": 0,
             "ticks": ""
            },
            "type": "contourcarpet"
           }
          ],
          "heatmap": [
           {
            "colorbar": {
             "outlinewidth": 0,
             "ticks": ""
            },
            "colorscale": [
             [
              0,
              "#0d0887"
             ],
             [
              0.1111111111111111,
              "#46039f"
             ],
             [
              0.2222222222222222,
              "#7201a8"
             ],
             [
              0.3333333333333333,
              "#9c179e"
             ],
             [
              0.4444444444444444,
              "#bd3786"
             ],
             [
              0.5555555555555556,
              "#d8576b"
             ],
             [
              0.6666666666666666,
              "#ed7953"
             ],
             [
              0.7777777777777778,
              "#fb9f3a"
             ],
             [
              0.8888888888888888,
              "#fdca26"
             ],
             [
              1,
              "#f0f921"
             ]
            ],
            "type": "heatmap"
           }
          ],
          "histogram": [
           {
            "marker": {
             "pattern": {
              "fillmode": "overlay",
              "size": 10,
              "solidity": 0.2
             }
            },
            "type": "histogram"
           }
          ],
          "histogram2d": [
           {
            "colorbar": {
             "outlinewidth": 0,
             "ticks": ""
            },
            "colorscale": [
             [
              0,
              "#0d0887"
             ],
             [
              0.1111111111111111,
              "#46039f"
             ],
             [
              0.2222222222222222,
              "#7201a8"
             ],
             [
              0.3333333333333333,
              "#9c179e"
             ],
             [
              0.4444444444444444,
              "#bd3786"
             ],
             [
              0.5555555555555556,
              "#d8576b"
             ],
             [
              0.6666666666666666,
              "#ed7953"
             ],
             [
              0.7777777777777778,
              "#fb9f3a"
             ],
             [
              0.8888888888888888,
              "#fdca26"
             ],
             [
              1,
              "#f0f921"
             ]
            ],
            "type": "histogram2d"
           }
          ],
          "histogram2dcontour": [
           {
            "colorbar": {
             "outlinewidth": 0,
             "ticks": ""
            },
            "colorscale": [
             [
              0,
              "#0d0887"
             ],
             [
              0.1111111111111111,
              "#46039f"
             ],
             [
              0.2222222222222222,
              "#7201a8"
             ],
             [
              0.3333333333333333,
              "#9c179e"
             ],
             [
              0.4444444444444444,
              "#bd3786"
             ],
             [
              0.5555555555555556,
              "#d8576b"
             ],
             [
              0.6666666666666666,
              "#ed7953"
             ],
             [
              0.7777777777777778,
              "#fb9f3a"
             ],
             [
              0.8888888888888888,
              "#fdca26"
             ],
             [
              1,
              "#f0f921"
             ]
            ],
            "type": "histogram2dcontour"
           }
          ],
          "mesh3d": [
           {
            "colorbar": {
             "outlinewidth": 0,
             "ticks": ""
            },
            "type": "mesh3d"
           }
          ],
          "parcoords": [
           {
            "line": {
             "colorbar": {
              "outlinewidth": 0,
              "ticks": ""
             }
            },
            "type": "parcoords"
           }
          ],
          "pie": [
           {
            "automargin": true,
            "type": "pie"
           }
          ],
          "scatter": [
           {
            "fillpattern": {
             "fillmode": "overlay",
             "size": 10,
             "solidity": 0.2
            },
            "type": "scatter"
           }
          ],
          "scatter3d": [
           {
            "line": {
             "colorbar": {
              "outlinewidth": 0,
              "ticks": ""
             }
            },
            "marker": {
             "colorbar": {
              "outlinewidth": 0,
              "ticks": ""
             }
            },
            "type": "scatter3d"
           }
          ],
          "scattercarpet": [
           {
            "marker": {
             "colorbar": {
              "outlinewidth": 0,
              "ticks": ""
             }
            },
            "type": "scattercarpet"
           }
          ],
          "scattergeo": [
           {
            "marker": {
             "colorbar": {
              "outlinewidth": 0,
              "ticks": ""
             }
            },
            "type": "scattergeo"
           }
          ],
          "scattergl": [
           {
            "marker": {
             "colorbar": {
              "outlinewidth": 0,
              "ticks": ""
             }
            },
            "type": "scattergl"
           }
          ],
          "scattermap": [
           {
            "marker": {
             "colorbar": {
              "outlinewidth": 0,
              "ticks": ""
             }
            },
            "type": "scattermap"
           }
          ],
          "scattermapbox": [
           {
            "marker": {
             "colorbar": {
              "outlinewidth": 0,
              "ticks": ""
             }
            },
            "type": "scattermapbox"
           }
          ],
          "scatterpolar": [
           {
            "marker": {
             "colorbar": {
              "outlinewidth": 0,
              "ticks": ""
             }
            },
            "type": "scatterpolar"
           }
          ],
          "scatterpolargl": [
           {
            "marker": {
             "colorbar": {
              "outlinewidth": 0,
              "ticks": ""
             }
            },
            "type": "scatterpolargl"
           }
          ],
          "scatterternary": [
           {
            "marker": {
             "colorbar": {
              "outlinewidth": 0,
              "ticks": ""
             }
            },
            "type": "scatterternary"
           }
          ],
          "surface": [
           {
            "colorbar": {
             "outlinewidth": 0,
             "ticks": ""
            },
            "colorscale": [
             [
              0,
              "#0d0887"
             ],
             [
              0.1111111111111111,
              "#46039f"
             ],
             [
              0.2222222222222222,
              "#7201a8"
             ],
             [
              0.3333333333333333,
              "#9c179e"
             ],
             [
              0.4444444444444444,
              "#bd3786"
             ],
             [
              0.5555555555555556,
              "#d8576b"
             ],
             [
              0.6666666666666666,
              "#ed7953"
             ],
             [
              0.7777777777777778,
              "#fb9f3a"
             ],
             [
              0.8888888888888888,
              "#fdca26"
             ],
             [
              1,
              "#f0f921"
             ]
            ],
            "type": "surface"
           }
          ],
          "table": [
           {
            "cells": {
             "fill": {
              "color": "#EBF0F8"
             },
             "line": {
              "color": "white"
             }
            },
            "header": {
             "fill": {
              "color": "#C8D4E3"
             },
             "line": {
              "color": "white"
             }
            },
            "type": "table"
           }
          ]
         },
         "layout": {
          "annotationdefaults": {
           "arrowcolor": "#2a3f5f",
           "arrowhead": 0,
           "arrowwidth": 1
          },
          "autotypenumbers": "strict",
          "coloraxis": {
           "colorbar": {
            "outlinewidth": 0,
            "ticks": ""
           }
          },
          "colorscale": {
           "diverging": [
            [
             0,
             "#8e0152"
            ],
            [
             0.1,
             "#c51b7d"
            ],
            [
             0.2,
             "#de77ae"
            ],
            [
             0.3,
             "#f1b6da"
            ],
            [
             0.4,
             "#fde0ef"
            ],
            [
             0.5,
             "#f7f7f7"
            ],
            [
             0.6,
             "#e6f5d0"
            ],
            [
             0.7,
             "#b8e186"
            ],
            [
             0.8,
             "#7fbc41"
            ],
            [
             0.9,
             "#4d9221"
            ],
            [
             1,
             "#276419"
            ]
           ],
           "sequential": [
            [
             0,
             "#0d0887"
            ],
            [
             0.1111111111111111,
             "#46039f"
            ],
            [
             0.2222222222222222,
             "#7201a8"
            ],
            [
             0.3333333333333333,
             "#9c179e"
            ],
            [
             0.4444444444444444,
             "#bd3786"
            ],
            [
             0.5555555555555556,
             "#d8576b"
            ],
            [
             0.6666666666666666,
             "#ed7953"
            ],
            [
             0.7777777777777778,
             "#fb9f3a"
            ],
            [
             0.8888888888888888,
             "#fdca26"
            ],
            [
             1,
             "#f0f921"
            ]
           ],
           "sequentialminus": [
            [
             0,
             "#0d0887"
            ],
            [
             0.1111111111111111,
             "#46039f"
            ],
            [
             0.2222222222222222,
             "#7201a8"
            ],
            [
             0.3333333333333333,
             "#9c179e"
            ],
            [
             0.4444444444444444,
             "#bd3786"
            ],
            [
             0.5555555555555556,
             "#d8576b"
            ],
            [
             0.6666666666666666,
             "#ed7953"
            ],
            [
             0.7777777777777778,
             "#fb9f3a"
            ],
            [
             0.8888888888888888,
             "#fdca26"
            ],
            [
             1,
             "#f0f921"
            ]
           ]
          },
          "colorway": [
           "#636efa",
           "#EF553B",
           "#00cc96",
           "#ab63fa",
           "#FFA15A",
           "#19d3f3",
           "#FF6692",
           "#B6E880",
           "#FF97FF",
           "#FECB52"
          ],
          "font": {
           "color": "#2a3f5f"
          },
          "geo": {
           "bgcolor": "white",
           "lakecolor": "white",
           "landcolor": "#E5ECF6",
           "showlakes": true,
           "showland": true,
           "subunitcolor": "white"
          },
          "hoverlabel": {
           "align": "left"
          },
          "hovermode": "closest",
          "mapbox": {
           "style": "light"
          },
          "paper_bgcolor": "white",
          "plot_bgcolor": "#E5ECF6",
          "polar": {
           "angularaxis": {
            "gridcolor": "white",
            "linecolor": "white",
            "ticks": ""
           },
           "bgcolor": "#E5ECF6",
           "radialaxis": {
            "gridcolor": "white",
            "linecolor": "white",
            "ticks": ""
           }
          },
          "scene": {
           "xaxis": {
            "backgroundcolor": "#E5ECF6",
            "gridcolor": "white",
            "gridwidth": 2,
            "linecolor": "white",
            "showbackground": true,
            "ticks": "",
            "zerolinecolor": "white"
           },
           "yaxis": {
            "backgroundcolor": "#E5ECF6",
            "gridcolor": "white",
            "gridwidth": 2,
            "linecolor": "white",
            "showbackground": true,
            "ticks": "",
            "zerolinecolor": "white"
           },
           "zaxis": {
            "backgroundcolor": "#E5ECF6",
            "gridcolor": "white",
            "gridwidth": 2,
            "linecolor": "white",
            "showbackground": true,
            "ticks": "",
            "zerolinecolor": "white"
           }
          },
          "shapedefaults": {
           "line": {
            "color": "#2a3f5f"
           }
          },
          "ternary": {
           "aaxis": {
            "gridcolor": "white",
            "linecolor": "white",
            "ticks": ""
           },
           "baxis": {
            "gridcolor": "white",
            "linecolor": "white",
            "ticks": ""
           },
           "bgcolor": "#E5ECF6",
           "caxis": {
            "gridcolor": "white",
            "linecolor": "white",
            "ticks": ""
           }
          },
          "title": {
           "x": 0.05
          },
          "xaxis": {
           "automargin": true,
           "gridcolor": "white",
           "linecolor": "white",
           "ticks": "",
           "title": {
            "standoff": 15
           },
           "zerolinecolor": "white",
           "zerolinewidth": 2
          },
          "yaxis": {
           "automargin": true,
           "gridcolor": "white",
           "linecolor": "white",
           "ticks": "",
           "title": {
            "standoff": 15
           },
           "zerolinecolor": "white",
           "zerolinewidth": 2
          }
         }
        },
        "title": {
         "text": "Speechiness Distribution by Added By"
        },
        "xaxis": {
         "anchor": "y",
         "categoryarray": [
          "Riccardo",
          "Valentina",
          "Alessandro",
          "Lidia",
          "Giulia",
          "Pietro"
         ],
         "categoryorder": "array",
         "domain": [
          0,
          1
         ],
         "title": {
          "text": "Added By"
         }
        },
        "yaxis": {
         "anchor": "x",
         "domain": [
          0,
          1
         ],
         "title": {
          "text": "Speechiness"
         }
        }
       }
      }
     },
     "metadata": {},
     "output_type": "display_data"
    }
   ],
   "source": [
    "import plotly.express as px\n",
    "\n",
    "fig = px.box(df, \n",
    "             x=\"Added By\", \n",
    "             y=\"Speechiness\", \n",
    "             color=\"Added By\",  # Color each group by Added By\n",
    "             points=\"all\",\n",
    "             hover_data=[\"Artist\", \"Song\"])  # Add Artist and Song to hover\n",
    "\n",
    "# Optional: Customize the layout\n",
    "fig.update_layout(\n",
    "    title=\"Speechiness Distribution by Added By\",\n",
    "    xaxis_title=\"Added By\",\n",
    "    yaxis_title=\"Speechiness\"\n",
    ")\n",
    "\n",
    "fig.show()"
   ]
  },
  {
   "cell_type": "code",
   "execution_count": 22,
   "id": "3d4a344d",
   "metadata": {},
   "outputs": [
    {
     "data": {
      "application/vnd.plotly.v1+json": {
       "config": {
        "plotlyServerURL": "https://plot.ly"
       },
       "data": [
        {
         "alignmentgroup": "True",
         "boxpoints": "all",
         "customdata": [
          [
           "ATB",
           "9 PM (Till I Come) - Radio Edit"
          ],
          [
           "Ardian Bujupi,Capital T",
           "ANDIAMO"
          ],
          [
           "Marvin Gaye,Tammi Terrell",
           "Ain't No Mountain High Enough"
          ],
          [
           "Eyedress",
           "Cocaine Sunday"
          ],
          [
           "L I M",
           "Comet"
          ],
          [
           "BLACKPINK",
           "DDU-DU DDU-DU"
          ],
          [
           "Shahram Shabpareh",
           "Doomad"
          ],
          [
           "Freur",
           "Doot Doot"
          ],
          [
           "Kanye West",
           "Father Stretch My Hands Pt. 1"
          ],
          [
           "Sia",
           "Fire Meet Gasoline"
          ],
          [
           "Major Lazer,Amber of Dirty Projectors",
           "Get Free"
          ],
          [
           "Lea Rue,Broiler",
           "I Can't Say No! - Broiler Remix"
          ],
          [
           "Disclosure,Sam Smith",
           "Latch"
          ],
          [
           "George Michael",
           "One More Try - Remastered"
          ],
          [
           "Kali Uchis",
           "Ridin Round"
          ],
          [
           "Travis Scott,GloRilla",
           "SHYNE"
          ],
          [
           "Anri",
           "SHYNESS BOY"
          ],
          [
           "Flume,Tove Lo",
           "Say It"
          ],
          [
           "Mara Sattei",
           "Scusa - prod. thasup"
          ],
          [
           "Earth, Wind & Fire",
           "September"
          ],
          [
           "The Chords",
           "Sh-Boom"
          ],
          [
           "Robin S",
           "Show Me Love"
          ],
          [
           "Club Dogo",
           "Spacco Tutto"
          ],
          [
           "Blank Banshee",
           "Spirit Season"
          ],
          [
           "Edward Maya,Vika Jigulina",
           "Stereo Love"
          ],
          [
           "Thirty Seconds To Mars",
           "The Kill"
          ],
          [
           "Jack Ü,Skrillex,Diplo,Aluna,AlunaGeorge",
           "To Ü (feat. AlunaGeorge)"
          ],
          [
           "Daler Mehndi",
           "Tunak Tunak Tun"
          ],
          [
           "bôa",
           "Twilight"
          ],
          [
           "i cani",
           "Una cosa stupida"
          ],
          [
           "CAZZETTE",
           "Weapon"
          ],
          [
           "Yung Bae,Macross 82-99",
           "Welcome To The Disco"
          ],
          [
           "GAYLE",
           "abcdefu (angrier)"
          ],
          [
           "Moya Mishel",
           "Зима в сердце"
          ],
          [
           "Molchat Doma",
           "Тоска"
          ]
         ],
         "hovertemplate": "Added By=%{x}<br>Acousticness=%{y}<br>Artist=%{customdata[0]}<br>Song=%{customdata[1]}<extra></extra>",
         "legendgroup": "Riccardo",
         "marker": {
          "color": "#636efa"
         },
         "name": "Riccardo",
         "notched": false,
         "offsetgroup": "Riccardo",
         "orientation": "v",
         "showlegend": true,
         "type": "box",
         "x": [
          "Riccardo",
          "Riccardo",
          "Riccardo",
          "Riccardo",
          "Riccardo",
          "Riccardo",
          "Riccardo",
          "Riccardo",
          "Riccardo",
          "Riccardo",
          "Riccardo",
          "Riccardo",
          "Riccardo",
          "Riccardo",
          "Riccardo",
          "Riccardo",
          "Riccardo",
          "Riccardo",
          "Riccardo",
          "Riccardo",
          "Riccardo",
          "Riccardo",
          "Riccardo",
          "Riccardo",
          "Riccardo",
          "Riccardo",
          "Riccardo",
          "Riccardo",
          "Riccardo",
          "Riccardo",
          "Riccardo",
          "Riccardo",
          "Riccardo",
          "Riccardo",
          "Riccardo"
         ],
         "x0": " ",
         "xaxis": "x",
         "y": {
          "bdata": "rthfdk8elj9xPQrXo3DhP4XrUbgehds/VKnZA63AgD/l0CLb+X7KPzvfT42XbqI/ObTIdr6fuj8pXI/C9SjMP2iR7Xw/Nb4/kZvhBnx+eD/kg57Nqs+1P5zEILByaME/uY0G8BZIkD8GgZVDi2zfP0c4LXjRV4A/1CtlGeJYpz+TGARWDi3CP9/gC5OpgrE/vHSTGARW4j8bL90kBoHFP6AaL90kBuk/eekmMQisjD851sVtNICnPxNJ9DKK5XY/WKg1zTtOoT/HuriNBvBWP/T91HjpJsE/okW28/3U4D/TTWIQWDnEP0jhehSuR+U/MzMzMzMzwz9RZoNMMnJWPyqpE9BE2LA/6SYxCKwcuj8UrkfhehTOPw==",
          "dtype": "f8"
         },
         "y0": " ",
         "yaxis": "y"
        },
        {
         "alignmentgroup": "True",
         "boxpoints": "all",
         "customdata": [
          [
           "Doechii,JT",
           "Alter Ego (with JT)"
          ],
          [
           "Jungle",
           "Back On 74"
          ],
          [
           "Jonas Brothers",
           "Burnin' Up"
          ],
          [
           "Gorillaz,Shaun Ryder,Roses Gabor",
           "DARE (feat. Shaun Ryder & Roses Gabor)"
          ],
          [
           "Backstreet Boys",
           "Everybody (Backstreet's Back) - Radio Edit"
          ],
          [
           "M¥SS KETA",
           "GIOVANNA HARDCORE"
          ],
          [
           "Anastacia",
           "I'm Outta Love"
          ],
          [
           "Avril Lavigne",
           "I'm with You"
          ],
          [
           "The 1975",
           "Love Me"
          ],
          [
           "Lady Gaga,Beyoncé",
           "Telephone"
          ],
          [
           "Caroline Polachek,Charli xcx,George Daniel",
           "Welcome To My Island - George Daniel & Charli XCX Remix"
          ]
         ],
         "hovertemplate": "Added By=%{x}<br>Acousticness=%{y}<br>Artist=%{customdata[0]}<br>Song=%{customdata[1]}<extra></extra>",
         "legendgroup": "Valentina",
         "marker": {
          "color": "#EF553B"
         },
         "name": "Valentina",
         "notched": false,
         "offsetgroup": "Valentina",
         "orientation": "v",
         "showlegend": true,
         "type": "box",
         "x": [
          "Valentina",
          "Valentina",
          "Valentina",
          "Valentina",
          "Valentina",
          "Valentina",
          "Valentina",
          "Valentina",
          "Valentina",
          "Valentina",
          "Valentina"
         ],
         "x0": " ",
         "xaxis": "x",
         "y": {
          "bdata": "41MAjGfQgD/l0CLb+X7KP6yt2F92T54/F0hQ/Bhzlz9SuB6F61GoPxsv3SQGgYU/XI/C9Shc1z97FK5H4Xq0P7gGtkqwOHw/0LhwICQLeD+U9gZfmEyFPw==",
          "dtype": "f8"
         },
         "y0": " ",
         "yaxis": "y"
        },
        {
         "alignmentgroup": "True",
         "boxpoints": "all",
         "customdata": [
          [
           "Alfa Mist,Bongeziwe Mabandla",
           "Apho"
          ],
          [
           "ROSALÍA",
           "BIZCOCHITO"
          ],
          [
           "Deftones",
           "Be Quiet and Drive (Far Away)"
          ],
          [
           "Fleet Foxes",
           "Blue Ridge Mountains"
          ],
          [
           "Public Enemy,Benny Benassi",
           "Bring the Noise"
          ],
          [
           "Weezer",
           "Buddy Holly"
          ],
          [
           "Caroline Polachek",
           "Dang"
          ],
          [
           "Fred again..,Delilah Montagu",
           "Delilah (pull me out of this)"
          ],
          [
           "Jane Remover",
           "Experimental Skin"
          ],
          [
           "Korn",
           "Falling Away from Me"
          ],
          [
           "Porcupine Tree",
           "Fear Of A Blank Planet - 2024 Remaster"
          ],
          [
           "Franco Battiato,Abdul Halim Sabra",
           "Fogh In Nakhal - 2008 Remaster"
          ],
          [
           "KIDS SEE GHOSTS,Ty Dolla $ign",
           "Freeee (Ghost Town Pt. 2)"
          ],
          [
           "Lily Allen",
           "Fuck You"
          ],
          [
           "Charli xcx,Billie Eilish",
           "Guess featuring billie eilish"
          ],
          [
           "The Smiths",
           "Heaven Knows I'm Miserable Now - 2011 Remaster"
          ],
          [
           "PinkPantheress",
           "Illegal"
          ],
          [
           "Neutral Milk Hotel",
           "In the Aeroplane Over the Sea"
          ],
          [
           "Arca,ROSALÍA",
           "KLK"
          ],
          [
           "The Last Shadow Puppets",
           "Les Cactus"
          ],
          [
           "The Smashing Pumpkins",
           "Mayonaise - 2011 Remaster"
          ],
          [
           "Turnstile",
           "NEVER ENOUGH"
          ],
          [
           "Édith Piaf",
           "Non, je ne regrette rien"
          ],
          [
           "Fontaines D.C.",
           "Oh Such A Spring"
          ],
          [
           "Gilberto Gil",
           "Pega a Voga, Cabeludo"
          ],
          [
           "Arca",
           "Riquiquí"
          ],
          [
           "Troye Sivan,PinkPantheress,Hyunjin",
           "Rush (feat. PinkPantheress & Hyunjin of Stray Kids)"
          ],
          [
           "Joey Valence & Brae,Rebecca Black",
           "SEE U DANCE (feat. Rebecca Black)"
          ],
          [
           "Beach House",
           "Space Song"
          ],
          [
           "Bon Iver",
           "THINGS BEHIND THINGS BEHIND THINGS"
          ],
          [
           "COBRAH,VTSS,MCR-T",
           "TITS, LIPS, HIPS, KISS (10/10 Remix)"
          ],
          [
           "TOOL",
           "The Pot"
          ],
          [
           "Verdena",
           "Un Blu Sincero"
          ],
          [
           "Magdalena Bay",
           "Watching T.V."
          ],
          [
           "Bob Sinclar,Steve Edwards",
           "World Hold On (Children of the Sky) - Radio Edit"
          ]
         ],
         "hovertemplate": "Added By=%{x}<br>Acousticness=%{y}<br>Artist=%{customdata[0]}<br>Song=%{customdata[1]}<extra></extra>",
         "legendgroup": "Alessandro",
         "marker": {
          "color": "#00cc96"
         },
         "name": "Alessandro",
         "notched": false,
         "offsetgroup": "Alessandro",
         "orientation": "v",
         "showlegend": true,
         "type": "box",
         "x": [
          "Alessandro",
          "Alessandro",
          "Alessandro",
          "Alessandro",
          "Alessandro",
          "Alessandro",
          "Alessandro",
          "Alessandro",
          "Alessandro",
          "Alessandro",
          "Alessandro",
          "Alessandro",
          "Alessandro",
          "Alessandro",
          "Alessandro",
          "Alessandro",
          "Alessandro",
          "Alessandro",
          "Alessandro",
          "Alessandro",
          "Alessandro",
          "Alessandro",
          "Alessandro",
          "Alessandro",
          "Alessandro",
          "Alessandro",
          "Alessandro",
          "Alessandro",
          "Alessandro",
          "Alessandro",
          "Alessandro",
          "Alessandro",
          "Alessandro",
          "Alessandro",
          "Alessandro"
         ],
         "x0": " ",
         "xaxis": "x",
         "y": {
          "bdata": "HXdKB+v/fD9cj8L1KFzjP7V7ZgdkyOQ+arx0kxgE5j/Jdr6fGi+9Pxe86CtIM2Y/+n5qvHSTiD9Ei2zn+6nBP4ts5/up8ZI/0vvG155ZIj8Nq3gj88hPP5ZDi2zn++E/K/uuCP63cj8c6+I2GsCbP9JvXwfOGZE/eekmMQisnD/f4AuTqYKxP0oMAiuHFtk//Knx0k1isD9RZoNMMnJ2PygpsACmDBw/VTAqqRPQtD/b+X5qvHTrP9v5fmq8dOc/MzMzMzMzwz+X/5B++zqgP7Abti3KbHA/hlrTvOMUnT8hsHJoke3MPwaBlUOLbOc/NlmjHqLRTT+rWtJRDmYjP11txf6ye6I/RUdy+Q/ptz8eFmpN846zPw==",
          "dtype": "f8"
         },
         "y0": " ",
         "yaxis": "y"
        },
        {
         "alignmentgroup": "True",
         "boxpoints": "all",
         "customdata": [
          [
           "Lady Gaga",
           "Applause"
          ],
          [
           "AC/DC",
           "Back In Black"
          ],
          [
           "Depeche Mode",
           "Black Celebration"
          ],
          [
           "Type O Negative",
           "Black No. 1 (Little Miss Scare -All)"
          ],
          [
           "Dead by April",
           "Breaking Point"
          ],
          [
           "Type O Negative",
           "Cinnamon Girl"
          ],
          [
           "Casey Edwards",
           "Devil Trigger"
          ],
          [
           "Basshunter",
           "DotA - Radio Edit"
          ],
          [
           "O-Zone",
           "Dragostea din tei"
          ],
          [
           "Depeche Mode",
           "Enjoy the Silence"
          ],
          [
           "Metallica",
           "Enter Sandman - Radio Edit"
          ],
          [
           "Vintage,Bedanokov,Люай",
           "Eva (Kavkaz remix)"
          ],
          [
           "Blue Foundation",
           "Eyes on Fire"
          ],
          [
           "Sonata Arctica",
           "Fade to Black"
          ],
          [
           "Dead by April",
           "I Can't Breathe"
          ],
          [
           "Lacuna Coil",
           "I Wish You Were Dead"
          ],
          [
           "Datura,U.S.U.R.A.",
           "Infinity"
          ],
          [
           "Type O Negative",
           "Kill All the White People"
          ],
          [
           "Killing Joke",
           "Love Like Blood"
          ],
          [
           "Eternxlkz",
           "Montagem Nada Tropica"
          ],
          [
           "STARSET",
           "My Demons"
          ],
          [
           "Type O Negative",
           "My Girlfriend's Girlfriend"
          ],
          [
           "Sonata Arctica",
           "My Land"
          ],
          [
           "Ciara",
           "Paint It, Black"
          ],
          [
           "cassö,RAYE,D-Block Europe",
           "Prada"
          ],
          [
           "Within Temptation,Anders Friden",
           "Raise Your Banner"
          ],
          [
           "Rihanna",
           "S&M"
          ],
          [
           "Bizarrap,Shakira",
           "Shakira: Bzrp Music Sessions, Vol. 53"
          ],
          [
           "Rammstein",
           "Sonne"
          ],
          [
           "Nightwish",
           "Storytime"
          ],
          [
           "Dead by April",
           "Swarm Mode"
          ],
          [
           "Maroon 5",
           "This Love"
          ],
          [
           "Green Day",
           "Wake Me up When September Ends"
          ],
          [
           "Five Finger Death Punch",
           "War is the Answer"
          ],
          [
           "Five Finger Death Punch",
           "Wrong Side of Heaven"
          ]
         ],
         "hovertemplate": "Added By=%{x}<br>Acousticness=%{y}<br>Artist=%{customdata[0]}<br>Song=%{customdata[1]}<extra></extra>",
         "legendgroup": "Lidia",
         "marker": {
          "color": "#ab63fa"
         },
         "name": "Lidia",
         "notched": false,
         "offsetgroup": "Lidia",
         "orientation": "v",
         "showlegend": true,
         "type": "box",
         "x": [
          "Lidia",
          "Lidia",
          "Lidia",
          "Lidia",
          "Lidia",
          "Lidia",
          "Lidia",
          "Lidia",
          "Lidia",
          "Lidia",
          "Lidia",
          "Lidia",
          "Lidia",
          "Lidia",
          "Lidia",
          "Lidia",
          "Lidia",
          "Lidia",
          "Lidia",
          "Lidia",
          "Lidia",
          "Lidia",
          "Lidia",
          "Lidia",
          "Lidia",
          "Lidia",
          "Lidia",
          "Lidia",
          "Lidia",
          "Lidia",
          "Lidia",
          "Lidia",
          "Lidia",
          "Lidia",
          "Lidia"
         ],
         "x0": " ",
         "xaxis": "x",
         "y": {
          "bdata": "iUFg5dAimz+6SQwCK4eGP+CcEaW9wYc/FmpN845TpD8R13s705UZP6RwPQrXo8A/BaInZVJDGz8VjErqBDSBPwrXo3A9Csc/tMh2vp8a1z/zyB8MPPdePxBYObTIdr4/cT0K16Nw5T8wKqkT0ESYP/NXyFwZVEs/PZ6WH7jKIz9fB84ZUdqbPx8xem6hKyE/2ht8YTJVoD8j2/l+arzEP2kdVU0QdX8/001iEFg5xD/a5sb0hCUuP/7UeOkmMcg//Knx0k1iUD+dKt8zEqExP03zjlN0JIc/46WbxCCw0j+u2F92Tx52PwggtYmT+20/znADPj+MYD/hehSuR+GqP1pkO99PjZc/7E53nnjOBj9HPUSjO4h9Pw==",
          "dtype": "f8"
         },
         "y0": " ",
         "yaxis": "y"
        },
        {
         "alignmentgroup": "True",
         "boxpoints": "all",
         "customdata": [
          [
           "Hannah Holgersson",
           "Ave Maria - Schubert"
          ],
          [
           "Lady Gaga",
           "Bad Romance"
          ],
          [
           "Nicki Minaj,Ice Spice,Aqua",
           "Barbie World (with Aqua) [From Barbie The Album]"
          ],
          [
           "The Weeknd",
           "Blinding Lights"
          ],
          [
           "Lady Gaga",
           "Bloody Mary"
          ],
          [
           "Glee Cast",
           "Bust Your Windows"
          ],
          [
           "Lana Del Rey",
           "Cinnamon Girl"
          ],
          [
           "Dua Lipa",
           "Dance The Night - From Barbie The Album"
          ],
          [
           "Indila",
           "Dernière danse"
          ],
          [
           "Djo",
           "End of Beginning"
          ],
          [
           "Bruno Mars",
           "Finesse"
          ],
          [
           "PSY",
           "Gangnam Style (강남스타일)"
          ],
          [
           "Daft Punk",
           "Harder, Better, Faster, Stronger"
          ],
          [
           "Shakira,Wyclef Jean",
           "Hips Don't Lie (feat. Wyclef Jean)"
          ],
          [
           "Dua Lipa",
           "Houdini"
          ],
          [
           "Anne Hathaway",
           "I Dreamed A Dream - From  Les Misérables "
          ],
          [
           "Elton John",
           "I'm Still Standing"
          ],
          [
           "Master KG,Nomcebo Zikode",
           "Jerusalema (feat. Nomcebo Zikode)"
          ],
          [
           "Taylor Swift",
           "Karma"
          ],
          [
           "Christina Aguilera,Lil' Kim,Mýa,P!nk",
           "Lady Marmalade - From  Moulin Rouge  Soundtrack"
          ],
          [
           "Las Divinas",
           "Las Divinas"
          ],
          [
           "Meghan Trainor",
           "Made You Look"
          ],
          [
           "Chappell Roan",
           "My Kink Is Karma"
          ],
          [
           "Rio Romeo",
           "Nothing's New"
          ],
          [
           "Chappell Roan",
           "Pink Pony Club"
          ],
          [
           "Zach Bryan",
           "Pink Skies"
          ],
          [
           "James Blunt",
           "Postcards"
          ],
          [
           "Whitney Houston",
           "Queen of the Night - Radio Edit"
          ],
          [
           "Nicki Minaj",
           "Starships"
          ],
          [
           "Meryl Streep",
           "The Winner Takes It All - From  Mamma Mia! "
          ],
          [
           "Spice Girls",
           "Wannabe"
          ],
          [
           "Ariana Grande,Cynthia Erivo",
           "What Is This Feeling?"
          ],
          [
           "Beyoncé",
           "YA YA"
          ],
          [
           "Taylor Swift",
           "cardigan"
          ],
          [
           "girl in red",
           "we fell in love in october"
          ]
         ],
         "hovertemplate": "Added By=%{x}<br>Acousticness=%{y}<br>Artist=%{customdata[0]}<br>Song=%{customdata[1]}<extra></extra>",
         "legendgroup": "Giulia",
         "marker": {
          "color": "#FFA15A"
         },
         "name": "Giulia",
         "notched": false,
         "offsetgroup": "Giulia",
         "orientation": "v",
         "showlegend": true,
         "type": "box",
         "x": [
          "Giulia",
          "Giulia",
          "Giulia",
          "Giulia",
          "Giulia",
          "Giulia",
          "Giulia",
          "Giulia",
          "Giulia",
          "Giulia",
          "Giulia",
          "Giulia",
          "Giulia",
          "Giulia",
          "Giulia",
          "Giulia",
          "Giulia",
          "Giulia",
          "Giulia",
          "Giulia",
          "Giulia",
          "Giulia",
          "Giulia",
          "Giulia",
          "Giulia",
          "Giulia",
          "Giulia",
          "Giulia",
          "Giulia",
          "Giulia",
          "Giulia",
          "Giulia",
          "Giulia",
          "Giulia",
          "Giulia"
         ],
         "x0": " ",
         "xaxis": "x",
         "y": {
          "bdata": "WmQ730+N7z+37uapDrlpP8/3U+Olm+A/PQ/uztptVz8noImw4emFPzEIrBxaZOM/PzVeukkM6j9R2ht8YTKVP1pkO99Pjcc/DeAtkKD4oT+T407pYP1/P/g2/dmPFHE/BhIUP8bcpT+TGARWDi3SP5LLf0i/fW0/FK5H4XoU7j+4HoXrUbjWP4ts5/up8ZI/WDm0yHa+rz+Sy39Iv32NP39qvHSTGMQ/w/UoXI/C1T+LbOf7qfGCPwRWDi2ynes/8KfGSzeJ2T+mm8QgsHLIP+kmMQisHOI/XRjpRe1+RT9I4XoUrkfBP23n+6nx0uU/QmDl0CLbuT/pJjEIrBzmP30/NV66SdQ/yXa+nxov4T8hsHJoke28Pw==",
          "dtype": "f8"
         },
         "y0": " ",
         "yaxis": "y"
        },
        {
         "alignmentgroup": "True",
         "boxpoints": "all",
         "customdata": [
          [
           "Lambrini Girls",
           "Big Dick Energy"
          ],
          [
           "Tyler, The Creator,Pharrell Williams",
           "Big Poe (feat. Sk8brd)"
          ],
          [
           "Limp Bizkit",
           "Break Stuff"
          ],
          [
           "Denzel Curry",
           "Bulls on Parade - triple j Like A Version"
          ],
          [
           "Verdena",
           "Crystal Ball"
          ],
          [
           "Sting,Cheb Mami",
           "Desert Rose"
          ],
          [
           "Hemant Kumar",
           "Ei Raat Tomar Amar"
          ],
          [
           "Crizin da Z.O.",
           "Festa da Carne"
          ],
          [
           "System Of A Down",
           "Fuck the System"
          ],
          [
           "Type O Negative",
           "Green Man"
          ],
          [
           "Booker T. & the M.G.'s",
           "Green Onions - 2022 Remaster"
          ],
          [
           "Puscifer",
           "Green Valley"
          ],
          [
           "YUNGBLUD",
           "Idols Pt. I"
          ],
          [
           "Franco Battiato",
           "Impressioni di settembre"
          ],
          [
           "Venamoris,Dave Lombardo",
           "In the Shadows"
          ],
          [
           "The Parlor Mob",
           "Into the Sun"
          ],
          [
           "Manu Chao",
           "La vie à 2"
          ],
          [
           "Dalila Kayros",
           "Leviatan"
          ],
          [
           "Fergie",
           "M.I.L.F. $"
          ],
          [
           "Nelly Furtado",
           "Maneater"
          ],
          [
           "Les Claypool",
           "Mushroom Men"
          ],
          [
           "Bodam Project,Pierpaolo Capovilla",
           "Niente - Radio Edit"
          ],
          [
           "Skiantos",
           "Non farò mai quello che vuoi"
          ],
          [
           "Slipknot",
           "People = Shit"
          ],
          [
           "Honningbarna",
           "Schäfer"
          ],
          [
           "Type O Negative",
           "September Sun"
          ],
          [
           "Within Temptation",
           "Summertime Sadness"
          ],
          [
           "Faith No More",
           "The Gentle Art of Making Enemies - 2016 Remaster"
          ],
          [
           "Nelly Furtado",
           "The Grass Is Green"
          ],
          [
           "Puscifer",
           "The Humbling River"
          ],
          [
           "Red Hot Chili Peppers",
           "The Longest Wave"
          ],
          [
           "Franco Battiato,Carmen Consoli",
           "Tutto L'Universo Obbedisce All'Amore"
          ],
          [
           "Vinicio Capossela",
           "Utrennyaya gimnastika"
          ],
          [
           "Rothadás",
           "Vértükör"
          ],
          [
           "Within Temptation",
           "Wireless"
          ]
         ],
         "hovertemplate": "Added By=%{x}<br>Acousticness=%{y}<br>Artist=%{customdata[0]}<br>Song=%{customdata[1]}<extra></extra>",
         "legendgroup": "Pietro",
         "marker": {
          "color": "#19d3f3"
         },
         "name": "Pietro",
         "notched": false,
         "offsetgroup": "Pietro",
         "orientation": "v",
         "showlegend": true,
         "type": "box",
         "x": [
          "Pietro",
          "Pietro",
          "Pietro",
          "Pietro",
          "Pietro",
          "Pietro",
          "Pietro",
          "Pietro",
          "Pietro",
          "Pietro",
          "Pietro",
          "Pietro",
          "Pietro",
          "Pietro",
          "Pietro",
          "Pietro",
          "Pietro",
          "Pietro",
          "Pietro",
          "Pietro",
          "Pietro",
          "Pietro",
          "Pietro",
          "Pietro",
          "Pietro",
          "Pietro",
          "Pietro",
          "Pietro",
          "Pietro",
          "Pietro",
          "Pietro",
          "Pietro",
          "Pietro",
          "Pietro",
          "Pietro"
         ],
         "x0": " ",
         "xaxis": "x",
         "y": {
          "bdata": "7E53nnjONj/ByqFFtvO9Py1DHOviNoo/+mAZG7rZPz+Zgcr49xlnP7pJDAIrh4Y/mpmZmZmZ7T9eS8gHPZuVPyL99nXgnGE//Knx0k1iwD/wp8ZLN4npP57vp8ZLN+U/0vvG155ZUj/NzMzMzMzMPx1aZDvfT+U/b2JITiZuNT/0/dR46SbpPy9uowG8BaI/ObTIdr6fij+ze/KwUGuaP65H4XoUrsc/xY8xdy0hnz/0/dR46SbBP5C+SdOgaA4//Knx0k1iID/qBDQRNjytPxe86CtIM2Y/zH9Iv30dqD+U9gZfmEyFP0a28/3UeOk/0SLb+X5q1D8lBoGVQ4vcP8/3U+Olm+Q/RMpoRx5GwD7sUbgeheuBPw==",
          "dtype": "f8"
         },
         "y0": " ",
         "yaxis": "y"
        }
       ],
       "layout": {
        "boxmode": "overlay",
        "legend": {
         "title": {
          "text": "Added By"
         },
         "tracegroupgap": 0
        },
        "margin": {
         "t": 60
        },
        "template": {
         "data": {
          "bar": [
           {
            "error_x": {
             "color": "#2a3f5f"
            },
            "error_y": {
             "color": "#2a3f5f"
            },
            "marker": {
             "line": {
              "color": "#E5ECF6",
              "width": 0.5
             },
             "pattern": {
              "fillmode": "overlay",
              "size": 10,
              "solidity": 0.2
             }
            },
            "type": "bar"
           }
          ],
          "barpolar": [
           {
            "marker": {
             "line": {
              "color": "#E5ECF6",
              "width": 0.5
             },
             "pattern": {
              "fillmode": "overlay",
              "size": 10,
              "solidity": 0.2
             }
            },
            "type": "barpolar"
           }
          ],
          "carpet": [
           {
            "aaxis": {
             "endlinecolor": "#2a3f5f",
             "gridcolor": "white",
             "linecolor": "white",
             "minorgridcolor": "white",
             "startlinecolor": "#2a3f5f"
            },
            "baxis": {
             "endlinecolor": "#2a3f5f",
             "gridcolor": "white",
             "linecolor": "white",
             "minorgridcolor": "white",
             "startlinecolor": "#2a3f5f"
            },
            "type": "carpet"
           }
          ],
          "choropleth": [
           {
            "colorbar": {
             "outlinewidth": 0,
             "ticks": ""
            },
            "type": "choropleth"
           }
          ],
          "contour": [
           {
            "colorbar": {
             "outlinewidth": 0,
             "ticks": ""
            },
            "colorscale": [
             [
              0,
              "#0d0887"
             ],
             [
              0.1111111111111111,
              "#46039f"
             ],
             [
              0.2222222222222222,
              "#7201a8"
             ],
             [
              0.3333333333333333,
              "#9c179e"
             ],
             [
              0.4444444444444444,
              "#bd3786"
             ],
             [
              0.5555555555555556,
              "#d8576b"
             ],
             [
              0.6666666666666666,
              "#ed7953"
             ],
             [
              0.7777777777777778,
              "#fb9f3a"
             ],
             [
              0.8888888888888888,
              "#fdca26"
             ],
             [
              1,
              "#f0f921"
             ]
            ],
            "type": "contour"
           }
          ],
          "contourcarpet": [
           {
            "colorbar": {
             "outlinewidth": 0,
             "ticks": ""
            },
            "type": "contourcarpet"
           }
          ],
          "heatmap": [
           {
            "colorbar": {
             "outlinewidth": 0,
             "ticks": ""
            },
            "colorscale": [
             [
              0,
              "#0d0887"
             ],
             [
              0.1111111111111111,
              "#46039f"
             ],
             [
              0.2222222222222222,
              "#7201a8"
             ],
             [
              0.3333333333333333,
              "#9c179e"
             ],
             [
              0.4444444444444444,
              "#bd3786"
             ],
             [
              0.5555555555555556,
              "#d8576b"
             ],
             [
              0.6666666666666666,
              "#ed7953"
             ],
             [
              0.7777777777777778,
              "#fb9f3a"
             ],
             [
              0.8888888888888888,
              "#fdca26"
             ],
             [
              1,
              "#f0f921"
             ]
            ],
            "type": "heatmap"
           }
          ],
          "histogram": [
           {
            "marker": {
             "pattern": {
              "fillmode": "overlay",
              "size": 10,
              "solidity": 0.2
             }
            },
            "type": "histogram"
           }
          ],
          "histogram2d": [
           {
            "colorbar": {
             "outlinewidth": 0,
             "ticks": ""
            },
            "colorscale": [
             [
              0,
              "#0d0887"
             ],
             [
              0.1111111111111111,
              "#46039f"
             ],
             [
              0.2222222222222222,
              "#7201a8"
             ],
             [
              0.3333333333333333,
              "#9c179e"
             ],
             [
              0.4444444444444444,
              "#bd3786"
             ],
             [
              0.5555555555555556,
              "#d8576b"
             ],
             [
              0.6666666666666666,
              "#ed7953"
             ],
             [
              0.7777777777777778,
              "#fb9f3a"
             ],
             [
              0.8888888888888888,
              "#fdca26"
             ],
             [
              1,
              "#f0f921"
             ]
            ],
            "type": "histogram2d"
           }
          ],
          "histogram2dcontour": [
           {
            "colorbar": {
             "outlinewidth": 0,
             "ticks": ""
            },
            "colorscale": [
             [
              0,
              "#0d0887"
             ],
             [
              0.1111111111111111,
              "#46039f"
             ],
             [
              0.2222222222222222,
              "#7201a8"
             ],
             [
              0.3333333333333333,
              "#9c179e"
             ],
             [
              0.4444444444444444,
              "#bd3786"
             ],
             [
              0.5555555555555556,
              "#d8576b"
             ],
             [
              0.6666666666666666,
              "#ed7953"
             ],
             [
              0.7777777777777778,
              "#fb9f3a"
             ],
             [
              0.8888888888888888,
              "#fdca26"
             ],
             [
              1,
              "#f0f921"
             ]
            ],
            "type": "histogram2dcontour"
           }
          ],
          "mesh3d": [
           {
            "colorbar": {
             "outlinewidth": 0,
             "ticks": ""
            },
            "type": "mesh3d"
           }
          ],
          "parcoords": [
           {
            "line": {
             "colorbar": {
              "outlinewidth": 0,
              "ticks": ""
             }
            },
            "type": "parcoords"
           }
          ],
          "pie": [
           {
            "automargin": true,
            "type": "pie"
           }
          ],
          "scatter": [
           {
            "fillpattern": {
             "fillmode": "overlay",
             "size": 10,
             "solidity": 0.2
            },
            "type": "scatter"
           }
          ],
          "scatter3d": [
           {
            "line": {
             "colorbar": {
              "outlinewidth": 0,
              "ticks": ""
             }
            },
            "marker": {
             "colorbar": {
              "outlinewidth": 0,
              "ticks": ""
             }
            },
            "type": "scatter3d"
           }
          ],
          "scattercarpet": [
           {
            "marker": {
             "colorbar": {
              "outlinewidth": 0,
              "ticks": ""
             }
            },
            "type": "scattercarpet"
           }
          ],
          "scattergeo": [
           {
            "marker": {
             "colorbar": {
              "outlinewidth": 0,
              "ticks": ""
             }
            },
            "type": "scattergeo"
           }
          ],
          "scattergl": [
           {
            "marker": {
             "colorbar": {
              "outlinewidth": 0,
              "ticks": ""
             }
            },
            "type": "scattergl"
           }
          ],
          "scattermap": [
           {
            "marker": {
             "colorbar": {
              "outlinewidth": 0,
              "ticks": ""
             }
            },
            "type": "scattermap"
           }
          ],
          "scattermapbox": [
           {
            "marker": {
             "colorbar": {
              "outlinewidth": 0,
              "ticks": ""
             }
            },
            "type": "scattermapbox"
           }
          ],
          "scatterpolar": [
           {
            "marker": {
             "colorbar": {
              "outlinewidth": 0,
              "ticks": ""
             }
            },
            "type": "scatterpolar"
           }
          ],
          "scatterpolargl": [
           {
            "marker": {
             "colorbar": {
              "outlinewidth": 0,
              "ticks": ""
             }
            },
            "type": "scatterpolargl"
           }
          ],
          "scatterternary": [
           {
            "marker": {
             "colorbar": {
              "outlinewidth": 0,
              "ticks": ""
             }
            },
            "type": "scatterternary"
           }
          ],
          "surface": [
           {
            "colorbar": {
             "outlinewidth": 0,
             "ticks": ""
            },
            "colorscale": [
             [
              0,
              "#0d0887"
             ],
             [
              0.1111111111111111,
              "#46039f"
             ],
             [
              0.2222222222222222,
              "#7201a8"
             ],
             [
              0.3333333333333333,
              "#9c179e"
             ],
             [
              0.4444444444444444,
              "#bd3786"
             ],
             [
              0.5555555555555556,
              "#d8576b"
             ],
             [
              0.6666666666666666,
              "#ed7953"
             ],
             [
              0.7777777777777778,
              "#fb9f3a"
             ],
             [
              0.8888888888888888,
              "#fdca26"
             ],
             [
              1,
              "#f0f921"
             ]
            ],
            "type": "surface"
           }
          ],
          "table": [
           {
            "cells": {
             "fill": {
              "color": "#EBF0F8"
             },
             "line": {
              "color": "white"
             }
            },
            "header": {
             "fill": {
              "color": "#C8D4E3"
             },
             "line": {
              "color": "white"
             }
            },
            "type": "table"
           }
          ]
         },
         "layout": {
          "annotationdefaults": {
           "arrowcolor": "#2a3f5f",
           "arrowhead": 0,
           "arrowwidth": 1
          },
          "autotypenumbers": "strict",
          "coloraxis": {
           "colorbar": {
            "outlinewidth": 0,
            "ticks": ""
           }
          },
          "colorscale": {
           "diverging": [
            [
             0,
             "#8e0152"
            ],
            [
             0.1,
             "#c51b7d"
            ],
            [
             0.2,
             "#de77ae"
            ],
            [
             0.3,
             "#f1b6da"
            ],
            [
             0.4,
             "#fde0ef"
            ],
            [
             0.5,
             "#f7f7f7"
            ],
            [
             0.6,
             "#e6f5d0"
            ],
            [
             0.7,
             "#b8e186"
            ],
            [
             0.8,
             "#7fbc41"
            ],
            [
             0.9,
             "#4d9221"
            ],
            [
             1,
             "#276419"
            ]
           ],
           "sequential": [
            [
             0,
             "#0d0887"
            ],
            [
             0.1111111111111111,
             "#46039f"
            ],
            [
             0.2222222222222222,
             "#7201a8"
            ],
            [
             0.3333333333333333,
             "#9c179e"
            ],
            [
             0.4444444444444444,
             "#bd3786"
            ],
            [
             0.5555555555555556,
             "#d8576b"
            ],
            [
             0.6666666666666666,
             "#ed7953"
            ],
            [
             0.7777777777777778,
             "#fb9f3a"
            ],
            [
             0.8888888888888888,
             "#fdca26"
            ],
            [
             1,
             "#f0f921"
            ]
           ],
           "sequentialminus": [
            [
             0,
             "#0d0887"
            ],
            [
             0.1111111111111111,
             "#46039f"
            ],
            [
             0.2222222222222222,
             "#7201a8"
            ],
            [
             0.3333333333333333,
             "#9c179e"
            ],
            [
             0.4444444444444444,
             "#bd3786"
            ],
            [
             0.5555555555555556,
             "#d8576b"
            ],
            [
             0.6666666666666666,
             "#ed7953"
            ],
            [
             0.7777777777777778,
             "#fb9f3a"
            ],
            [
             0.8888888888888888,
             "#fdca26"
            ],
            [
             1,
             "#f0f921"
            ]
           ]
          },
          "colorway": [
           "#636efa",
           "#EF553B",
           "#00cc96",
           "#ab63fa",
           "#FFA15A",
           "#19d3f3",
           "#FF6692",
           "#B6E880",
           "#FF97FF",
           "#FECB52"
          ],
          "font": {
           "color": "#2a3f5f"
          },
          "geo": {
           "bgcolor": "white",
           "lakecolor": "white",
           "landcolor": "#E5ECF6",
           "showlakes": true,
           "showland": true,
           "subunitcolor": "white"
          },
          "hoverlabel": {
           "align": "left"
          },
          "hovermode": "closest",
          "mapbox": {
           "style": "light"
          },
          "paper_bgcolor": "white",
          "plot_bgcolor": "#E5ECF6",
          "polar": {
           "angularaxis": {
            "gridcolor": "white",
            "linecolor": "white",
            "ticks": ""
           },
           "bgcolor": "#E5ECF6",
           "radialaxis": {
            "gridcolor": "white",
            "linecolor": "white",
            "ticks": ""
           }
          },
          "scene": {
           "xaxis": {
            "backgroundcolor": "#E5ECF6",
            "gridcolor": "white",
            "gridwidth": 2,
            "linecolor": "white",
            "showbackground": true,
            "ticks": "",
            "zerolinecolor": "white"
           },
           "yaxis": {
            "backgroundcolor": "#E5ECF6",
            "gridcolor": "white",
            "gridwidth": 2,
            "linecolor": "white",
            "showbackground": true,
            "ticks": "",
            "zerolinecolor": "white"
           },
           "zaxis": {
            "backgroundcolor": "#E5ECF6",
            "gridcolor": "white",
            "gridwidth": 2,
            "linecolor": "white",
            "showbackground": true,
            "ticks": "",
            "zerolinecolor": "white"
           }
          },
          "shapedefaults": {
           "line": {
            "color": "#2a3f5f"
           }
          },
          "ternary": {
           "aaxis": {
            "gridcolor": "white",
            "linecolor": "white",
            "ticks": ""
           },
           "baxis": {
            "gridcolor": "white",
            "linecolor": "white",
            "ticks": ""
           },
           "bgcolor": "#E5ECF6",
           "caxis": {
            "gridcolor": "white",
            "linecolor": "white",
            "ticks": ""
           }
          },
          "title": {
           "x": 0.05
          },
          "xaxis": {
           "automargin": true,
           "gridcolor": "white",
           "linecolor": "white",
           "ticks": "",
           "title": {
            "standoff": 15
           },
           "zerolinecolor": "white",
           "zerolinewidth": 2
          },
          "yaxis": {
           "automargin": true,
           "gridcolor": "white",
           "linecolor": "white",
           "ticks": "",
           "title": {
            "standoff": 15
           },
           "zerolinecolor": "white",
           "zerolinewidth": 2
          }
         }
        },
        "title": {
         "text": "Acousticness Distribution by Added By"
        },
        "xaxis": {
         "anchor": "y",
         "categoryarray": [
          "Riccardo",
          "Valentina",
          "Alessandro",
          "Lidia",
          "Giulia",
          "Pietro"
         ],
         "categoryorder": "array",
         "domain": [
          0,
          1
         ],
         "title": {
          "text": "Added By"
         }
        },
        "yaxis": {
         "anchor": "x",
         "domain": [
          0,
          1
         ],
         "title": {
          "text": "Acousticness"
         }
        }
       }
      }
     },
     "metadata": {},
     "output_type": "display_data"
    }
   ],
   "source": [
    "import plotly.express as px\n",
    "\n",
    "fig = px.box(df, \n",
    "             x=\"Added By\", \n",
    "             y=\"Acousticness\", \n",
    "             color=\"Added By\",  # Color each group by Added By\n",
    "             points=\"all\",\n",
    "             hover_data=[\"Artist\", \"Song\"])  # Add Artist and Song to hover\n",
    "\n",
    "# Optional: Customize the layout\n",
    "fig.update_layout(\n",
    "    title=\"Acousticness Distribution by Added By\",\n",
    "    xaxis_title=\"Added By\",\n",
    "    yaxis_title=\"Acousticness\"\n",
    ")\n",
    "\n",
    "fig.show()"
   ]
  },
  {
   "cell_type": "code",
   "execution_count": 23,
   "id": "e1806ce0",
   "metadata": {},
   "outputs": [
    {
     "data": {
      "application/vnd.plotly.v1+json": {
       "config": {
        "plotlyServerURL": "https://plot.ly"
       },
       "data": [
        {
         "alignmentgroup": "True",
         "boxpoints": "all",
         "customdata": [
          [
           "ATB",
           "9 PM (Till I Come) - Radio Edit"
          ],
          [
           "Ardian Bujupi,Capital T",
           "ANDIAMO"
          ],
          [
           "Marvin Gaye,Tammi Terrell",
           "Ain't No Mountain High Enough"
          ],
          [
           "Eyedress",
           "Cocaine Sunday"
          ],
          [
           "L I M",
           "Comet"
          ],
          [
           "BLACKPINK",
           "DDU-DU DDU-DU"
          ],
          [
           "Shahram Shabpareh",
           "Doomad"
          ],
          [
           "Freur",
           "Doot Doot"
          ],
          [
           "Kanye West",
           "Father Stretch My Hands Pt. 1"
          ],
          [
           "Sia",
           "Fire Meet Gasoline"
          ],
          [
           "Major Lazer,Amber of Dirty Projectors",
           "Get Free"
          ],
          [
           "Lea Rue,Broiler",
           "I Can't Say No! - Broiler Remix"
          ],
          [
           "Disclosure,Sam Smith",
           "Latch"
          ],
          [
           "George Michael",
           "One More Try - Remastered"
          ],
          [
           "Kali Uchis",
           "Ridin Round"
          ],
          [
           "Travis Scott,GloRilla",
           "SHYNE"
          ],
          [
           "Anri",
           "SHYNESS BOY"
          ],
          [
           "Flume,Tove Lo",
           "Say It"
          ],
          [
           "Mara Sattei",
           "Scusa - prod. thasup"
          ],
          [
           "Earth, Wind & Fire",
           "September"
          ],
          [
           "The Chords",
           "Sh-Boom"
          ],
          [
           "Robin S",
           "Show Me Love"
          ],
          [
           "Club Dogo",
           "Spacco Tutto"
          ],
          [
           "Blank Banshee",
           "Spirit Season"
          ],
          [
           "Edward Maya,Vika Jigulina",
           "Stereo Love"
          ],
          [
           "Thirty Seconds To Mars",
           "The Kill"
          ],
          [
           "Jack Ü,Skrillex,Diplo,Aluna,AlunaGeorge",
           "To Ü (feat. AlunaGeorge)"
          ],
          [
           "Daler Mehndi",
           "Tunak Tunak Tun"
          ],
          [
           "bôa",
           "Twilight"
          ],
          [
           "i cani",
           "Una cosa stupida"
          ],
          [
           "CAZZETTE",
           "Weapon"
          ],
          [
           "Yung Bae,Macross 82-99",
           "Welcome To The Disco"
          ],
          [
           "GAYLE",
           "abcdefu (angrier)"
          ],
          [
           "Moya Mishel",
           "Зима в сердце"
          ],
          [
           "Molchat Doma",
           "Тоска"
          ]
         ],
         "hovertemplate": "Added By=%{x}<br>Instrumentalness=%{y}<br>Artist=%{customdata[0]}<br>Song=%{customdata[1]}<extra></extra>",
         "legendgroup": "Riccardo",
         "marker": {
          "color": "#636efa"
         },
         "name": "Riccardo",
         "notched": false,
         "offsetgroup": "Riccardo",
         "orientation": "v",
         "showlegend": true,
         "type": "box",
         "x": [
          "Riccardo",
          "Riccardo",
          "Riccardo",
          "Riccardo",
          "Riccardo",
          "Riccardo",
          "Riccardo",
          "Riccardo",
          "Riccardo",
          "Riccardo",
          "Riccardo",
          "Riccardo",
          "Riccardo",
          "Riccardo",
          "Riccardo",
          "Riccardo",
          "Riccardo",
          "Riccardo",
          "Riccardo",
          "Riccardo",
          "Riccardo",
          "Riccardo",
          "Riccardo",
          "Riccardo",
          "Riccardo",
          "Riccardo",
          "Riccardo",
          "Riccardo",
          "Riccardo",
          "Riccardo",
          "Riccardo",
          "Riccardo",
          "Riccardo",
          "Riccardo",
          "Riccardo"
         ],
         "x0": " ",
         "xaxis": "x",
         "y": {
          "bdata": "F9nO91Pj7T+uW05TFWTlPgAAAAAAAAAAEoPAyqFF6j8dWmQ730/pPwAAAAAAAAAA7zd/uFCe7j4EVg4tsp3jPwAAAAAAAAAAAAAAAAAAAACgGi/dJAbBP/XVVYFaDE4/mQqWj0nrFD/VzFoKSPsfP8qvehv21gs/AAAAAAAAAADVzFoKSPsfP3toYUfKs84+AAAAAAAAAABmvRjKiXZVPwAAAAAAAAAADNWDOMWZ9T4AAAAAAAAAAB+F61G4HuU/NBE2PL1Slj/Q7pBigEQzP+83f7hQnv4+WBzO/GoOYD9hwf2ABwZAPy90gLtHkfA+T+IYbmUu5T5vEoPAyqHpPwAAAAAAAAAAAAAAAAAAAAB56SYxCKzsPw==",
          "dtype": "f8"
         },
         "y0": " ",
         "yaxis": "y"
        },
        {
         "alignmentgroup": "True",
         "boxpoints": "all",
         "customdata": [
          [
           "Doechii,JT",
           "Alter Ego (with JT)"
          ],
          [
           "Jungle",
           "Back On 74"
          ],
          [
           "Jonas Brothers",
           "Burnin' Up"
          ],
          [
           "Gorillaz,Shaun Ryder,Roses Gabor",
           "DARE (feat. Shaun Ryder & Roses Gabor)"
          ],
          [
           "Backstreet Boys",
           "Everybody (Backstreet's Back) - Radio Edit"
          ],
          [
           "M¥SS KETA",
           "GIOVANNA HARDCORE"
          ],
          [
           "Anastacia",
           "I'm Outta Love"
          ],
          [
           "Avril Lavigne",
           "I'm with You"
          ],
          [
           "The 1975",
           "Love Me"
          ],
          [
           "Lady Gaga,Beyoncé",
           "Telephone"
          ],
          [
           "Caroline Polachek,Charli xcx,George Daniel",
           "Welcome To My Island - George Daniel & Charli XCX Remix"
          ]
         ],
         "hovertemplate": "Added By=%{x}<br>Instrumentalness=%{y}<br>Artist=%{customdata[0]}<br>Song=%{customdata[1]}<extra></extra>",
         "legendgroup": "Valentina",
         "marker": {
          "color": "#EF553B"
         },
         "name": "Valentina",
         "notched": false,
         "offsetgroup": "Valentina",
         "orientation": "v",
         "showlegend": true,
         "type": "box",
         "x": [
          "Valentina",
          "Valentina",
          "Valentina",
          "Valentina",
          "Valentina",
          "Valentina",
          "Valentina",
          "Valentina",
          "Valentina",
          "Valentina",
          "Valentina"
         ],
         "x0": " ",
         "xaxis": "x",
         "y": {
          "bdata": "xcX2/xYJwj7Q7pBigEQjPwAAAAAAAAAAArwFEhQ/tj8AAAAAAAAAAHRGlPYGX5g/AAAAAAAAAAAAAAAAAAAAAGY0TTM4pQc/l3SUg9kESD9BmrFoOjtZPw==",
          "dtype": "f8"
         },
         "y0": " ",
         "yaxis": "y"
        },
        {
         "alignmentgroup": "True",
         "boxpoints": "all",
         "customdata": [
          [
           "Alfa Mist,Bongeziwe Mabandla",
           "Apho"
          ],
          [
           "ROSALÍA",
           "BIZCOCHITO"
          ],
          [
           "Deftones",
           "Be Quiet and Drive (Far Away)"
          ],
          [
           "Fleet Foxes",
           "Blue Ridge Mountains"
          ],
          [
           "Public Enemy,Benny Benassi",
           "Bring the Noise"
          ],
          [
           "Weezer",
           "Buddy Holly"
          ],
          [
           "Caroline Polachek",
           "Dang"
          ],
          [
           "Fred again..,Delilah Montagu",
           "Delilah (pull me out of this)"
          ],
          [
           "Jane Remover",
           "Experimental Skin"
          ],
          [
           "Korn",
           "Falling Away from Me"
          ],
          [
           "Porcupine Tree",
           "Fear Of A Blank Planet - 2024 Remaster"
          ],
          [
           "Franco Battiato,Abdul Halim Sabra",
           "Fogh In Nakhal - 2008 Remaster"
          ],
          [
           "KIDS SEE GHOSTS,Ty Dolla $ign",
           "Freeee (Ghost Town Pt. 2)"
          ],
          [
           "Lily Allen",
           "Fuck You"
          ],
          [
           "Charli xcx,Billie Eilish",
           "Guess featuring billie eilish"
          ],
          [
           "The Smiths",
           "Heaven Knows I'm Miserable Now - 2011 Remaster"
          ],
          [
           "PinkPantheress",
           "Illegal"
          ],
          [
           "Neutral Milk Hotel",
           "In the Aeroplane Over the Sea"
          ],
          [
           "Arca,ROSALÍA",
           "KLK"
          ],
          [
           "The Last Shadow Puppets",
           "Les Cactus"
          ],
          [
           "The Smashing Pumpkins",
           "Mayonaise - 2011 Remaster"
          ],
          [
           "Turnstile",
           "NEVER ENOUGH"
          ],
          [
           "Édith Piaf",
           "Non, je ne regrette rien"
          ],
          [
           "Fontaines D.C.",
           "Oh Such A Spring"
          ],
          [
           "Gilberto Gil",
           "Pega a Voga, Cabeludo"
          ],
          [
           "Arca",
           "Riquiquí"
          ],
          [
           "Troye Sivan,PinkPantheress,Hyunjin",
           "Rush (feat. PinkPantheress & Hyunjin of Stray Kids)"
          ],
          [
           "Joey Valence & Brae,Rebecca Black",
           "SEE U DANCE (feat. Rebecca Black)"
          ],
          [
           "Beach House",
           "Space Song"
          ],
          [
           "Bon Iver",
           "THINGS BEHIND THINGS BEHIND THINGS"
          ],
          [
           "COBRAH,VTSS,MCR-T",
           "TITS, LIPS, HIPS, KISS (10/10 Remix)"
          ],
          [
           "TOOL",
           "The Pot"
          ],
          [
           "Verdena",
           "Un Blu Sincero"
          ],
          [
           "Magdalena Bay",
           "Watching T.V."
          ],
          [
           "Bob Sinclar,Steve Edwards",
           "World Hold On (Children of the Sky) - Radio Edit"
          ]
         ],
         "hovertemplate": "Added By=%{x}<br>Instrumentalness=%{y}<br>Artist=%{customdata[0]}<br>Song=%{customdata[1]}<extra></extra>",
         "legendgroup": "Alessandro",
         "marker": {
          "color": "#00cc96"
         },
         "name": "Alessandro",
         "notched": false,
         "offsetgroup": "Alessandro",
         "orientation": "v",
         "showlegend": true,
         "type": "box",
         "x": [
          "Alessandro",
          "Alessandro",
          "Alessandro",
          "Alessandro",
          "Alessandro",
          "Alessandro",
          "Alessandro",
          "Alessandro",
          "Alessandro",
          "Alessandro",
          "Alessandro",
          "Alessandro",
          "Alessandro",
          "Alessandro",
          "Alessandro",
          "Alessandro",
          "Alessandro",
          "Alessandro",
          "Alessandro",
          "Alessandro",
          "Alessandro",
          "Alessandro",
          "Alessandro",
          "Alessandro",
          "Alessandro",
          "Alessandro",
          "Alessandro",
          "Alessandro",
          "Alessandro",
          "Alessandro",
          "Alessandro",
          "Alessandro",
          "Alessandro",
          "Alessandro",
          "Alessandro"
         ],
         "x0": " ",
         "xaxis": "x",
         "y": {
          "bdata": "zEV8J2a9WD90RpT2Bl+YPxBYObTIduo/KLhYUYNpSD8mEMAXcODfPrx5qkNuhis/aJHtfD81vj/a4a/JGvVgPwAAAAAAAAAAqU2c3O9QVD8zMzMzMzPbP+CcEaW9wVc/AAAAAAAAAAAqVDcXf9szP5HtfD81Xso/AAAAAAAAAAAouFhRg2lYPwAAAAAAAAAA/4Y/eQ4bCz+U8CmlDMEGP0a28/3UeOE/iUFg5dAi0z9a+siUrBbKPiYQwBdw4M8+AAAAAAAAAABcKy1lEXHQPh8lwPqJFAQ/AAAAAAAAAADsUbgehevBP0GC4seYu4Y/YhBYObTI6j8CK4cW2c7XP9nO91Pjpds/MQisHFpkuz/eADPfwU8cPw==",
          "dtype": "f8"
         },
         "y0": " ",
         "yaxis": "y"
        },
        {
         "alignmentgroup": "True",
         "boxpoints": "all",
         "customdata": [
          [
           "Lady Gaga",
           "Applause"
          ],
          [
           "AC/DC",
           "Back In Black"
          ],
          [
           "Depeche Mode",
           "Black Celebration"
          ],
          [
           "Type O Negative",
           "Black No. 1 (Little Miss Scare -All)"
          ],
          [
           "Dead by April",
           "Breaking Point"
          ],
          [
           "Type O Negative",
           "Cinnamon Girl"
          ],
          [
           "Casey Edwards",
           "Devil Trigger"
          ],
          [
           "Basshunter",
           "DotA - Radio Edit"
          ],
          [
           "O-Zone",
           "Dragostea din tei"
          ],
          [
           "Depeche Mode",
           "Enjoy the Silence"
          ],
          [
           "Metallica",
           "Enter Sandman - Radio Edit"
          ],
          [
           "Vintage,Bedanokov,Люай",
           "Eva (Kavkaz remix)"
          ],
          [
           "Blue Foundation",
           "Eyes on Fire"
          ],
          [
           "Sonata Arctica",
           "Fade to Black"
          ],
          [
           "Dead by April",
           "I Can't Breathe"
          ],
          [
           "Lacuna Coil",
           "I Wish You Were Dead"
          ],
          [
           "Datura,U.S.U.R.A.",
           "Infinity"
          ],
          [
           "Type O Negative",
           "Kill All the White People"
          ],
          [
           "Killing Joke",
           "Love Like Blood"
          ],
          [
           "Eternxlkz",
           "Montagem Nada Tropica"
          ],
          [
           "STARSET",
           "My Demons"
          ],
          [
           "Type O Negative",
           "My Girlfriend's Girlfriend"
          ],
          [
           "Sonata Arctica",
           "My Land"
          ],
          [
           "Ciara",
           "Paint It, Black"
          ],
          [
           "cassö,RAYE,D-Block Europe",
           "Prada"
          ],
          [
           "Within Temptation,Anders Friden",
           "Raise Your Banner"
          ],
          [
           "Rihanna",
           "S&M"
          ],
          [
           "Bizarrap,Shakira",
           "Shakira: Bzrp Music Sessions, Vol. 53"
          ],
          [
           "Rammstein",
           "Sonne"
          ],
          [
           "Nightwish",
           "Storytime"
          ],
          [
           "Dead by April",
           "Swarm Mode"
          ],
          [
           "Maroon 5",
           "This Love"
          ],
          [
           "Green Day",
           "Wake Me up When September Ends"
          ],
          [
           "Five Finger Death Punch",
           "War is the Answer"
          ],
          [
           "Five Finger Death Punch",
           "Wrong Side of Heaven"
          ]
         ],
         "hovertemplate": "Added By=%{x}<br>Instrumentalness=%{y}<br>Artist=%{customdata[0]}<br>Song=%{customdata[1]}<extra></extra>",
         "legendgroup": "Lidia",
         "marker": {
          "color": "#ab63fa"
         },
         "name": "Lidia",
         "notched": false,
         "offsetgroup": "Lidia",
         "orientation": "v",
         "showlegend": true,
         "type": "box",
         "x": [
          "Lidia",
          "Lidia",
          "Lidia",
          "Lidia",
          "Lidia",
          "Lidia",
          "Lidia",
          "Lidia",
          "Lidia",
          "Lidia",
          "Lidia",
          "Lidia",
          "Lidia",
          "Lidia",
          "Lidia",
          "Lidia",
          "Lidia",
          "Lidia",
          "Lidia",
          "Lidia",
          "Lidia",
          "Lidia",
          "Lidia",
          "Lidia",
          "Lidia",
          "Lidia",
          "Lidia",
          "Lidia",
          "Lidia",
          "Lidia",
          "Lidia",
          "Lidia",
          "Lidia",
          "Lidia",
          "Lidia"
         ],
         "x0": " ",
         "xaxis": "x",
         "y": {
          "bdata": "ktIJ9MtYuz6lTkATYcODP3506spneV4/donqrYGtYj9Ei2zn+6nBP/YoXI/C9eg/okW28/3U2D+TxmgdVU1gPwAAAAAAAAAAsb/snjwslD+wG7YtymxwPyM/LOXGPvI+oDcVqTC2YD/VeOkmMQjMP0GC4seYu4Y/vpKaLKSy9z60yHa+nxrPP5zEILByaNE/+n5qvHSTiD8GgZVDi2zjP+VLA5pj1BA/dZMYBFYO7T/Q+krWl1vAPlTkEHFzKuk+GeRP0P0Hvj5Pd554zhZAP/Fo44i1+CQ/5TOPsjSm5j7VCP1MvW4hP7gehetRuG4/Q8U4fxMKcT8AAAAAAAAAAAAAAAAAAAAAXwfOGVHaiz8AAAAAAAAAAA==",
          "dtype": "f8"
         },
         "y0": " ",
         "yaxis": "y"
        },
        {
         "alignmentgroup": "True",
         "boxpoints": "all",
         "customdata": [
          [
           "Hannah Holgersson",
           "Ave Maria - Schubert"
          ],
          [
           "Lady Gaga",
           "Bad Romance"
          ],
          [
           "Nicki Minaj,Ice Spice,Aqua",
           "Barbie World (with Aqua) [From Barbie The Album]"
          ],
          [
           "The Weeknd",
           "Blinding Lights"
          ],
          [
           "Lady Gaga",
           "Bloody Mary"
          ],
          [
           "Glee Cast",
           "Bust Your Windows"
          ],
          [
           "Lana Del Rey",
           "Cinnamon Girl"
          ],
          [
           "Dua Lipa",
           "Dance The Night - From Barbie The Album"
          ],
          [
           "Indila",
           "Dernière danse"
          ],
          [
           "Djo",
           "End of Beginning"
          ],
          [
           "Bruno Mars",
           "Finesse"
          ],
          [
           "PSY",
           "Gangnam Style (강남스타일)"
          ],
          [
           "Daft Punk",
           "Harder, Better, Faster, Stronger"
          ],
          [
           "Shakira,Wyclef Jean",
           "Hips Don't Lie (feat. Wyclef Jean)"
          ],
          [
           "Dua Lipa",
           "Houdini"
          ],
          [
           "Anne Hathaway",
           "I Dreamed A Dream - From  Les Misérables "
          ],
          [
           "Elton John",
           "I'm Still Standing"
          ],
          [
           "Master KG,Nomcebo Zikode",
           "Jerusalema (feat. Nomcebo Zikode)"
          ],
          [
           "Taylor Swift",
           "Karma"
          ],
          [
           "Christina Aguilera,Lil' Kim,Mýa,P!nk",
           "Lady Marmalade - From  Moulin Rouge  Soundtrack"
          ],
          [
           "Las Divinas",
           "Las Divinas"
          ],
          [
           "Meghan Trainor",
           "Made You Look"
          ],
          [
           "Chappell Roan",
           "My Kink Is Karma"
          ],
          [
           "Rio Romeo",
           "Nothing's New"
          ],
          [
           "Chappell Roan",
           "Pink Pony Club"
          ],
          [
           "Zach Bryan",
           "Pink Skies"
          ],
          [
           "James Blunt",
           "Postcards"
          ],
          [
           "Whitney Houston",
           "Queen of the Night - Radio Edit"
          ],
          [
           "Nicki Minaj",
           "Starships"
          ],
          [
           "Meryl Streep",
           "The Winner Takes It All - From  Mamma Mia! "
          ],
          [
           "Spice Girls",
           "Wannabe"
          ],
          [
           "Ariana Grande,Cynthia Erivo",
           "What Is This Feeling?"
          ],
          [
           "Beyoncé",
           "YA YA"
          ],
          [
           "Taylor Swift",
           "cardigan"
          ],
          [
           "girl in red",
           "we fell in love in october"
          ]
         ],
         "hovertemplate": "Added By=%{x}<br>Instrumentalness=%{y}<br>Artist=%{customdata[0]}<br>Song=%{customdata[1]}<extra></extra>",
         "legendgroup": "Giulia",
         "marker": {
          "color": "#FFA15A"
         },
         "name": "Giulia",
         "notched": false,
         "offsetgroup": "Giulia",
         "orientation": "v",
         "showlegend": true,
         "type": "box",
         "x": [
          "Giulia",
          "Giulia",
          "Giulia",
          "Giulia",
          "Giulia",
          "Giulia",
          "Giulia",
          "Giulia",
          "Giulia",
          "Giulia",
          "Giulia",
          "Giulia",
          "Giulia",
          "Giulia",
          "Giulia",
          "Giulia",
          "Giulia",
          "Giulia",
          "Giulia",
          "Giulia",
          "Giulia",
          "Giulia",
          "Giulia",
          "Giulia",
          "Giulia",
          "Giulia",
          "Giulia",
          "Giulia",
          "Giulia",
          "Giulia",
          "Giulia",
          "Giulia",
          "Giulia",
          "Giulia",
          "Giulia"
         ],
         "x0": " ",
         "xaxis": "x",
         "y": {
          "bdata": "TDeJQWDl6D8T2Pc82pMLP7KBdLFppSA/TckohS8CGT/Q+krWl1vAPpLSCfTLWLs+5dAi2/l+2j8AAAAAAAAAAAAAAAAAAAAAKxN+qZ83ZT8AAAAAAAAAAAAAAAAAAAAAz6Chf4KLZT8AAAAAAAAAAA/W/znMl1c/Rq5AmevZ+D5oke18PzW+P90mux0KNOI+AAAAAAAAAAAKpB9oYD/vPgAAAAAAAAAAME74fP+suj4AAAAAAAAAANLxZkeJ4dM+AAAAAAAAAAD4a1eNyvIKPwAAAAAAAAAA5j+k374OjD8AAAAAAAAAAAAAAAAAAAAAAAAAAAAAAAAAAAAAAAAAAAAAAAAAAAAAIy2VtyOcNj9eukkMAivHPw==",
          "dtype": "f8"
         },
         "y0": " ",
         "yaxis": "y"
        },
        {
         "alignmentgroup": "True",
         "boxpoints": "all",
         "customdata": [
          [
           "Lambrini Girls",
           "Big Dick Energy"
          ],
          [
           "Tyler, The Creator,Pharrell Williams",
           "Big Poe (feat. Sk8brd)"
          ],
          [
           "Limp Bizkit",
           "Break Stuff"
          ],
          [
           "Denzel Curry",
           "Bulls on Parade - triple j Like A Version"
          ],
          [
           "Verdena",
           "Crystal Ball"
          ],
          [
           "Sting,Cheb Mami",
           "Desert Rose"
          ],
          [
           "Hemant Kumar",
           "Ei Raat Tomar Amar"
          ],
          [
           "Crizin da Z.O.",
           "Festa da Carne"
          ],
          [
           "System Of A Down",
           "Fuck the System"
          ],
          [
           "Type O Negative",
           "Green Man"
          ],
          [
           "Booker T. & the M.G.'s",
           "Green Onions - 2022 Remaster"
          ],
          [
           "Puscifer",
           "Green Valley"
          ],
          [
           "YUNGBLUD",
           "Idols Pt. I"
          ],
          [
           "Franco Battiato",
           "Impressioni di settembre"
          ],
          [
           "Venamoris,Dave Lombardo",
           "In the Shadows"
          ],
          [
           "The Parlor Mob",
           "Into the Sun"
          ],
          [
           "Manu Chao",
           "La vie à 2"
          ],
          [
           "Dalila Kayros",
           "Leviatan"
          ],
          [
           "Fergie",
           "M.I.L.F. $"
          ],
          [
           "Nelly Furtado",
           "Maneater"
          ],
          [
           "Les Claypool",
           "Mushroom Men"
          ],
          [
           "Bodam Project,Pierpaolo Capovilla",
           "Niente - Radio Edit"
          ],
          [
           "Skiantos",
           "Non farò mai quello che vuoi"
          ],
          [
           "Slipknot",
           "People = Shit"
          ],
          [
           "Honningbarna",
           "Schäfer"
          ],
          [
           "Type O Negative",
           "September Sun"
          ],
          [
           "Within Temptation",
           "Summertime Sadness"
          ],
          [
           "Faith No More",
           "The Gentle Art of Making Enemies - 2016 Remaster"
          ],
          [
           "Nelly Furtado",
           "The Grass Is Green"
          ],
          [
           "Puscifer",
           "The Humbling River"
          ],
          [
           "Red Hot Chili Peppers",
           "The Longest Wave"
          ],
          [
           "Franco Battiato,Carmen Consoli",
           "Tutto L'Universo Obbedisce All'Amore"
          ],
          [
           "Vinicio Capossela",
           "Utrennyaya gimnastika"
          ],
          [
           "Rothadás",
           "Vértükör"
          ],
          [
           "Within Temptation",
           "Wireless"
          ]
         ],
         "hovertemplate": "Added By=%{x}<br>Instrumentalness=%{y}<br>Artist=%{customdata[0]}<br>Song=%{customdata[1]}<extra></extra>",
         "legendgroup": "Pietro",
         "marker": {
          "color": "#19d3f3"
         },
         "name": "Pietro",
         "notched": false,
         "offsetgroup": "Pietro",
         "orientation": "v",
         "showlegend": true,
         "type": "box",
         "x": [
          "Pietro",
          "Pietro",
          "Pietro",
          "Pietro",
          "Pietro",
          "Pietro",
          "Pietro",
          "Pietro",
          "Pietro",
          "Pietro",
          "Pietro",
          "Pietro",
          "Pietro",
          "Pietro",
          "Pietro",
          "Pietro",
          "Pietro",
          "Pietro",
          "Pietro",
          "Pietro",
          "Pietro",
          "Pietro",
          "Pietro",
          "Pietro",
          "Pietro",
          "Pietro",
          "Pietro",
          "Pietro",
          "Pietro",
          "Pietro",
          "Pietro",
          "Pietro",
          "Pietro",
          "Pietro",
          "Pietro"
         ],
         "x0": " ",
         "xaxis": "x",
         "y": {
          "bdata": "8KfGSzeJwT8AAAAAAAAAABHF5A0w8z0/i7xR0JJs+j76fmq8dJPkPwAAAAAAAAAAbef7qfHS3T8AAAAAAAAAALByaJHtfL8/rBxaZDvfzz+uR+F6FK7rPz2S3KugswY/GArYDkbsIz8Gv8sUjK3kPvLSTWIQWMk//wkuVtRgaj/jMhOxLagUPzEIrBxaZNs/CRueXinLYD8vUFJgAUw5P+f7qfHSTeI/O99PjZdu4j/xaOOItfj0PorlllZD4m4/I9v5fmq84D/qspjYfFx7P6ASOlxpIdo+TDeJQWDlsD8Bpgwc0NI1P+LkfoeiQH8/aFn3j4XoID+dJAJ6hhXjPgAAAAAAAAAA9P3UeOkm6T+XxcTm49qAPw==",
          "dtype": "f8"
         },
         "y0": " ",
         "yaxis": "y"
        }
       ],
       "layout": {
        "boxmode": "overlay",
        "legend": {
         "title": {
          "text": "Added By"
         },
         "tracegroupgap": 0
        },
        "margin": {
         "t": 60
        },
        "template": {
         "data": {
          "bar": [
           {
            "error_x": {
             "color": "#2a3f5f"
            },
            "error_y": {
             "color": "#2a3f5f"
            },
            "marker": {
             "line": {
              "color": "#E5ECF6",
              "width": 0.5
             },
             "pattern": {
              "fillmode": "overlay",
              "size": 10,
              "solidity": 0.2
             }
            },
            "type": "bar"
           }
          ],
          "barpolar": [
           {
            "marker": {
             "line": {
              "color": "#E5ECF6",
              "width": 0.5
             },
             "pattern": {
              "fillmode": "overlay",
              "size": 10,
              "solidity": 0.2
             }
            },
            "type": "barpolar"
           }
          ],
          "carpet": [
           {
            "aaxis": {
             "endlinecolor": "#2a3f5f",
             "gridcolor": "white",
             "linecolor": "white",
             "minorgridcolor": "white",
             "startlinecolor": "#2a3f5f"
            },
            "baxis": {
             "endlinecolor": "#2a3f5f",
             "gridcolor": "white",
             "linecolor": "white",
             "minorgridcolor": "white",
             "startlinecolor": "#2a3f5f"
            },
            "type": "carpet"
           }
          ],
          "choropleth": [
           {
            "colorbar": {
             "outlinewidth": 0,
             "ticks": ""
            },
            "type": "choropleth"
           }
          ],
          "contour": [
           {
            "colorbar": {
             "outlinewidth": 0,
             "ticks": ""
            },
            "colorscale": [
             [
              0,
              "#0d0887"
             ],
             [
              0.1111111111111111,
              "#46039f"
             ],
             [
              0.2222222222222222,
              "#7201a8"
             ],
             [
              0.3333333333333333,
              "#9c179e"
             ],
             [
              0.4444444444444444,
              "#bd3786"
             ],
             [
              0.5555555555555556,
              "#d8576b"
             ],
             [
              0.6666666666666666,
              "#ed7953"
             ],
             [
              0.7777777777777778,
              "#fb9f3a"
             ],
             [
              0.8888888888888888,
              "#fdca26"
             ],
             [
              1,
              "#f0f921"
             ]
            ],
            "type": "contour"
           }
          ],
          "contourcarpet": [
           {
            "colorbar": {
             "outlinewidth": 0,
             "ticks": ""
            },
            "type": "contourcarpet"
           }
          ],
          "heatmap": [
           {
            "colorbar": {
             "outlinewidth": 0,
             "ticks": ""
            },
            "colorscale": [
             [
              0,
              "#0d0887"
             ],
             [
              0.1111111111111111,
              "#46039f"
             ],
             [
              0.2222222222222222,
              "#7201a8"
             ],
             [
              0.3333333333333333,
              "#9c179e"
             ],
             [
              0.4444444444444444,
              "#bd3786"
             ],
             [
              0.5555555555555556,
              "#d8576b"
             ],
             [
              0.6666666666666666,
              "#ed7953"
             ],
             [
              0.7777777777777778,
              "#fb9f3a"
             ],
             [
              0.8888888888888888,
              "#fdca26"
             ],
             [
              1,
              "#f0f921"
             ]
            ],
            "type": "heatmap"
           }
          ],
          "histogram": [
           {
            "marker": {
             "pattern": {
              "fillmode": "overlay",
              "size": 10,
              "solidity": 0.2
             }
            },
            "type": "histogram"
           }
          ],
          "histogram2d": [
           {
            "colorbar": {
             "outlinewidth": 0,
             "ticks": ""
            },
            "colorscale": [
             [
              0,
              "#0d0887"
             ],
             [
              0.1111111111111111,
              "#46039f"
             ],
             [
              0.2222222222222222,
              "#7201a8"
             ],
             [
              0.3333333333333333,
              "#9c179e"
             ],
             [
              0.4444444444444444,
              "#bd3786"
             ],
             [
              0.5555555555555556,
              "#d8576b"
             ],
             [
              0.6666666666666666,
              "#ed7953"
             ],
             [
              0.7777777777777778,
              "#fb9f3a"
             ],
             [
              0.8888888888888888,
              "#fdca26"
             ],
             [
              1,
              "#f0f921"
             ]
            ],
            "type": "histogram2d"
           }
          ],
          "histogram2dcontour": [
           {
            "colorbar": {
             "outlinewidth": 0,
             "ticks": ""
            },
            "colorscale": [
             [
              0,
              "#0d0887"
             ],
             [
              0.1111111111111111,
              "#46039f"
             ],
             [
              0.2222222222222222,
              "#7201a8"
             ],
             [
              0.3333333333333333,
              "#9c179e"
             ],
             [
              0.4444444444444444,
              "#bd3786"
             ],
             [
              0.5555555555555556,
              "#d8576b"
             ],
             [
              0.6666666666666666,
              "#ed7953"
             ],
             [
              0.7777777777777778,
              "#fb9f3a"
             ],
             [
              0.8888888888888888,
              "#fdca26"
             ],
             [
              1,
              "#f0f921"
             ]
            ],
            "type": "histogram2dcontour"
           }
          ],
          "mesh3d": [
           {
            "colorbar": {
             "outlinewidth": 0,
             "ticks": ""
            },
            "type": "mesh3d"
           }
          ],
          "parcoords": [
           {
            "line": {
             "colorbar": {
              "outlinewidth": 0,
              "ticks": ""
             }
            },
            "type": "parcoords"
           }
          ],
          "pie": [
           {
            "automargin": true,
            "type": "pie"
           }
          ],
          "scatter": [
           {
            "fillpattern": {
             "fillmode": "overlay",
             "size": 10,
             "solidity": 0.2
            },
            "type": "scatter"
           }
          ],
          "scatter3d": [
           {
            "line": {
             "colorbar": {
              "outlinewidth": 0,
              "ticks": ""
             }
            },
            "marker": {
             "colorbar": {
              "outlinewidth": 0,
              "ticks": ""
             }
            },
            "type": "scatter3d"
           }
          ],
          "scattercarpet": [
           {
            "marker": {
             "colorbar": {
              "outlinewidth": 0,
              "ticks": ""
             }
            },
            "type": "scattercarpet"
           }
          ],
          "scattergeo": [
           {
            "marker": {
             "colorbar": {
              "outlinewidth": 0,
              "ticks": ""
             }
            },
            "type": "scattergeo"
           }
          ],
          "scattergl": [
           {
            "marker": {
             "colorbar": {
              "outlinewidth": 0,
              "ticks": ""
             }
            },
            "type": "scattergl"
           }
          ],
          "scattermap": [
           {
            "marker": {
             "colorbar": {
              "outlinewidth": 0,
              "ticks": ""
             }
            },
            "type": "scattermap"
           }
          ],
          "scattermapbox": [
           {
            "marker": {
             "colorbar": {
              "outlinewidth": 0,
              "ticks": ""
             }
            },
            "type": "scattermapbox"
           }
          ],
          "scatterpolar": [
           {
            "marker": {
             "colorbar": {
              "outlinewidth": 0,
              "ticks": ""
             }
            },
            "type": "scatterpolar"
           }
          ],
          "scatterpolargl": [
           {
            "marker": {
             "colorbar": {
              "outlinewidth": 0,
              "ticks": ""
             }
            },
            "type": "scatterpolargl"
           }
          ],
          "scatterternary": [
           {
            "marker": {
             "colorbar": {
              "outlinewidth": 0,
              "ticks": ""
             }
            },
            "type": "scatterternary"
           }
          ],
          "surface": [
           {
            "colorbar": {
             "outlinewidth": 0,
             "ticks": ""
            },
            "colorscale": [
             [
              0,
              "#0d0887"
             ],
             [
              0.1111111111111111,
              "#46039f"
             ],
             [
              0.2222222222222222,
              "#7201a8"
             ],
             [
              0.3333333333333333,
              "#9c179e"
             ],
             [
              0.4444444444444444,
              "#bd3786"
             ],
             [
              0.5555555555555556,
              "#d8576b"
             ],
             [
              0.6666666666666666,
              "#ed7953"
             ],
             [
              0.7777777777777778,
              "#fb9f3a"
             ],
             [
              0.8888888888888888,
              "#fdca26"
             ],
             [
              1,
              "#f0f921"
             ]
            ],
            "type": "surface"
           }
          ],
          "table": [
           {
            "cells": {
             "fill": {
              "color": "#EBF0F8"
             },
             "line": {
              "color": "white"
             }
            },
            "header": {
             "fill": {
              "color": "#C8D4E3"
             },
             "line": {
              "color": "white"
             }
            },
            "type": "table"
           }
          ]
         },
         "layout": {
          "annotationdefaults": {
           "arrowcolor": "#2a3f5f",
           "arrowhead": 0,
           "arrowwidth": 1
          },
          "autotypenumbers": "strict",
          "coloraxis": {
           "colorbar": {
            "outlinewidth": 0,
            "ticks": ""
           }
          },
          "colorscale": {
           "diverging": [
            [
             0,
             "#8e0152"
            ],
            [
             0.1,
             "#c51b7d"
            ],
            [
             0.2,
             "#de77ae"
            ],
            [
             0.3,
             "#f1b6da"
            ],
            [
             0.4,
             "#fde0ef"
            ],
            [
             0.5,
             "#f7f7f7"
            ],
            [
             0.6,
             "#e6f5d0"
            ],
            [
             0.7,
             "#b8e186"
            ],
            [
             0.8,
             "#7fbc41"
            ],
            [
             0.9,
             "#4d9221"
            ],
            [
             1,
             "#276419"
            ]
           ],
           "sequential": [
            [
             0,
             "#0d0887"
            ],
            [
             0.1111111111111111,
             "#46039f"
            ],
            [
             0.2222222222222222,
             "#7201a8"
            ],
            [
             0.3333333333333333,
             "#9c179e"
            ],
            [
             0.4444444444444444,
             "#bd3786"
            ],
            [
             0.5555555555555556,
             "#d8576b"
            ],
            [
             0.6666666666666666,
             "#ed7953"
            ],
            [
             0.7777777777777778,
             "#fb9f3a"
            ],
            [
             0.8888888888888888,
             "#fdca26"
            ],
            [
             1,
             "#f0f921"
            ]
           ],
           "sequentialminus": [
            [
             0,
             "#0d0887"
            ],
            [
             0.1111111111111111,
             "#46039f"
            ],
            [
             0.2222222222222222,
             "#7201a8"
            ],
            [
             0.3333333333333333,
             "#9c179e"
            ],
            [
             0.4444444444444444,
             "#bd3786"
            ],
            [
             0.5555555555555556,
             "#d8576b"
            ],
            [
             0.6666666666666666,
             "#ed7953"
            ],
            [
             0.7777777777777778,
             "#fb9f3a"
            ],
            [
             0.8888888888888888,
             "#fdca26"
            ],
            [
             1,
             "#f0f921"
            ]
           ]
          },
          "colorway": [
           "#636efa",
           "#EF553B",
           "#00cc96",
           "#ab63fa",
           "#FFA15A",
           "#19d3f3",
           "#FF6692",
           "#B6E880",
           "#FF97FF",
           "#FECB52"
          ],
          "font": {
           "color": "#2a3f5f"
          },
          "geo": {
           "bgcolor": "white",
           "lakecolor": "white",
           "landcolor": "#E5ECF6",
           "showlakes": true,
           "showland": true,
           "subunitcolor": "white"
          },
          "hoverlabel": {
           "align": "left"
          },
          "hovermode": "closest",
          "mapbox": {
           "style": "light"
          },
          "paper_bgcolor": "white",
          "plot_bgcolor": "#E5ECF6",
          "polar": {
           "angularaxis": {
            "gridcolor": "white",
            "linecolor": "white",
            "ticks": ""
           },
           "bgcolor": "#E5ECF6",
           "radialaxis": {
            "gridcolor": "white",
            "linecolor": "white",
            "ticks": ""
           }
          },
          "scene": {
           "xaxis": {
            "backgroundcolor": "#E5ECF6",
            "gridcolor": "white",
            "gridwidth": 2,
            "linecolor": "white",
            "showbackground": true,
            "ticks": "",
            "zerolinecolor": "white"
           },
           "yaxis": {
            "backgroundcolor": "#E5ECF6",
            "gridcolor": "white",
            "gridwidth": 2,
            "linecolor": "white",
            "showbackground": true,
            "ticks": "",
            "zerolinecolor": "white"
           },
           "zaxis": {
            "backgroundcolor": "#E5ECF6",
            "gridcolor": "white",
            "gridwidth": 2,
            "linecolor": "white",
            "showbackground": true,
            "ticks": "",
            "zerolinecolor": "white"
           }
          },
          "shapedefaults": {
           "line": {
            "color": "#2a3f5f"
           }
          },
          "ternary": {
           "aaxis": {
            "gridcolor": "white",
            "linecolor": "white",
            "ticks": ""
           },
           "baxis": {
            "gridcolor": "white",
            "linecolor": "white",
            "ticks": ""
           },
           "bgcolor": "#E5ECF6",
           "caxis": {
            "gridcolor": "white",
            "linecolor": "white",
            "ticks": ""
           }
          },
          "title": {
           "x": 0.05
          },
          "xaxis": {
           "automargin": true,
           "gridcolor": "white",
           "linecolor": "white",
           "ticks": "",
           "title": {
            "standoff": 15
           },
           "zerolinecolor": "white",
           "zerolinewidth": 2
          },
          "yaxis": {
           "automargin": true,
           "gridcolor": "white",
           "linecolor": "white",
           "ticks": "",
           "title": {
            "standoff": 15
           },
           "zerolinecolor": "white",
           "zerolinewidth": 2
          }
         }
        },
        "title": {
         "text": "Instrumentalness Distribution by Added By"
        },
        "xaxis": {
         "anchor": "y",
         "categoryarray": [
          "Riccardo",
          "Valentina",
          "Alessandro",
          "Lidia",
          "Giulia",
          "Pietro"
         ],
         "categoryorder": "array",
         "domain": [
          0,
          1
         ],
         "title": {
          "text": "Added By"
         }
        },
        "yaxis": {
         "anchor": "x",
         "domain": [
          0,
          1
         ],
         "title": {
          "text": "Instrumentalness"
         }
        }
       }
      }
     },
     "metadata": {},
     "output_type": "display_data"
    }
   ],
   "source": [
    "import plotly.express as px\n",
    "\n",
    "fig = px.box(df, \n",
    "             x=\"Added By\", \n",
    "             y=\"Instrumentalness\", \n",
    "             color=\"Added By\",  # Color each group by Added By\n",
    "             points=\"all\",\n",
    "             hover_data=[\"Artist\", \"Song\"])  # Add Artist and Song to hover\n",
    "\n",
    "# Optional: Customize the layout\n",
    "fig.update_layout(\n",
    "    title=\"Instrumentalness Distribution by Added By\",\n",
    "    xaxis_title=\"Added By\",\n",
    "    yaxis_title=\"Instrumentalness\"\n",
    ")\n",
    "\n",
    "fig.show()"
   ]
  },
  {
   "cell_type": "markdown",
   "id": "05aa02d6",
   "metadata": {},
   "source": [
    "# 4. Artisti"
   ]
  },
  {
   "cell_type": "code",
   "execution_count": 24,
   "id": "96abae83",
   "metadata": {},
   "outputs": [],
   "source": [
    "df[\"Artist\"] = df[\"Artist\"].apply(lambda x: x.replace(\"\\\"\", \"\").split(\",\"))\n",
    "df_artists = df.explode(\"Artist\")"
   ]
  },
  {
   "cell_type": "code",
   "execution_count": 25,
   "id": "7c9725b0",
   "metadata": {},
   "outputs": [
    {
     "data": {
      "application/vnd.plotly.v1+json": {
       "config": {
        "plotlyServerURL": "https://plot.ly"
       },
       "data": [
        {
         "hovertemplate": "Added By=Alessandro<br>Artist=%{x}<br>Number of Songs=%{y}<extra></extra>",
         "legendgroup": "Alessandro",
         "marker": {
          "color": "#636efa",
          "pattern": {
           "shape": ""
          }
         },
         "name": "Alessandro",
         "orientation": "v",
         "showlegend": true,
         "textposition": "auto",
         "type": "bar",
         "x": [
          "Type O Negative",
          "Lady Gaga",
          "Franco Battiato",
          "Within Temptation",
          "Dead by April",
          "Arca",
          "Charli xcx",
          "Chappell Roan",
          "Caroline Polachek",
          "Beyoncé",
          "Five Finger Death Punch",
          "Nelly Furtado",
          "Dua Lipa",
          "Depeche Mode",
          "PinkPantheress",
          "Nicki Minaj",
          "Puscifer",
          "ROSALÍA",
          "Sonata Arctica",
          "Shakira",
          "Taylor Swift",
          "Verdena"
         ],
         "xaxis": "x",
         "y": {
          "bdata": "AAABAAACAQABAAAAAAACAAACAAAAAQ==",
          "dtype": "i1"
         },
         "yaxis": "y"
        },
        {
         "hovertemplate": "Added By=Giulia<br>Artist=%{x}<br>Number of Songs=%{y}<extra></extra>",
         "legendgroup": "Giulia",
         "marker": {
          "color": "#EF553B",
          "pattern": {
           "shape": ""
          }
         },
         "name": "Giulia",
         "orientation": "v",
         "showlegend": true,
         "textposition": "auto",
         "type": "bar",
         "x": [
          "Type O Negative",
          "Lady Gaga",
          "Franco Battiato",
          "Within Temptation",
          "Dead by April",
          "Arca",
          "Charli xcx",
          "Chappell Roan",
          "Caroline Polachek",
          "Beyoncé",
          "Five Finger Death Punch",
          "Nelly Furtado",
          "Dua Lipa",
          "Depeche Mode",
          "PinkPantheress",
          "Nicki Minaj",
          "Puscifer",
          "ROSALÍA",
          "Sonata Arctica",
          "Shakira",
          "Taylor Swift",
          "Verdena"
         ],
         "xaxis": "x",
         "y": {
          "bdata": "AAIAAAAAAAIAAQAAAgAAAgAAAAECAA==",
          "dtype": "i1"
         },
         "yaxis": "y"
        },
        {
         "hovertemplate": "Added By=Lidia<br>Artist=%{x}<br>Number of Songs=%{y}<extra></extra>",
         "legendgroup": "Lidia",
         "marker": {
          "color": "#00cc96",
          "pattern": {
           "shape": ""
          }
         },
         "name": "Lidia",
         "orientation": "v",
         "showlegend": true,
         "textposition": "auto",
         "type": "bar",
         "x": [
          "Type O Negative",
          "Lady Gaga",
          "Franco Battiato",
          "Within Temptation",
          "Dead by April",
          "Arca",
          "Charli xcx",
          "Chappell Roan",
          "Caroline Polachek",
          "Beyoncé",
          "Five Finger Death Punch",
          "Nelly Furtado",
          "Dua Lipa",
          "Depeche Mode",
          "PinkPantheress",
          "Nicki Minaj",
          "Puscifer",
          "ROSALÍA",
          "Sonata Arctica",
          "Shakira",
          "Taylor Swift",
          "Verdena"
         ],
         "xaxis": "x",
         "y": {
          "bdata": "BAEAAQMAAAAAAAIAAAIAAAAAAgEAAA==",
          "dtype": "i1"
         },
         "yaxis": "y"
        },
        {
         "hovertemplate": "Added By=Pietro<br>Artist=%{x}<br>Number of Songs=%{y}<extra></extra>",
         "legendgroup": "Pietro",
         "marker": {
          "color": "#ab63fa",
          "pattern": {
           "shape": ""
          }
         },
         "name": "Pietro",
         "orientation": "v",
         "showlegend": true,
         "textposition": "auto",
         "type": "bar",
         "x": [
          "Type O Negative",
          "Lady Gaga",
          "Franco Battiato",
          "Within Temptation",
          "Dead by April",
          "Arca",
          "Charli xcx",
          "Chappell Roan",
          "Caroline Polachek",
          "Beyoncé",
          "Five Finger Death Punch",
          "Nelly Furtado",
          "Dua Lipa",
          "Depeche Mode",
          "PinkPantheress",
          "Nicki Minaj",
          "Puscifer",
          "ROSALÍA",
          "Sonata Arctica",
          "Shakira",
          "Taylor Swift",
          "Verdena"
         ],
         "xaxis": "x",
         "y": {
          "bdata": "AgACAgAAAAAAAAACAAAAAAIAAAAAAQ==",
          "dtype": "i1"
         },
         "yaxis": "y"
        },
        {
         "hovertemplate": "Added By=Valentina<br>Artist=%{x}<br>Number of Songs=%{y}<extra></extra>",
         "legendgroup": "Valentina",
         "marker": {
          "color": "#FFA15A",
          "pattern": {
           "shape": ""
          }
         },
         "name": "Valentina",
         "orientation": "v",
         "showlegend": true,
         "textposition": "auto",
         "type": "bar",
         "x": [
          "Type O Negative",
          "Lady Gaga",
          "Franco Battiato",
          "Within Temptation",
          "Dead by April",
          "Arca",
          "Charli xcx",
          "Chappell Roan",
          "Caroline Polachek",
          "Beyoncé",
          "Five Finger Death Punch",
          "Nelly Furtado",
          "Dua Lipa",
          "Depeche Mode",
          "PinkPantheress",
          "Nicki Minaj",
          "Puscifer",
          "ROSALÍA",
          "Sonata Arctica",
          "Shakira",
          "Taylor Swift",
          "Verdena"
         ],
         "xaxis": "x",
         "y": {
          "bdata": "AAEAAAAAAQABAQAAAAAAAAAAAAAAAA==",
          "dtype": "i1"
         },
         "yaxis": "y"
        }
       ],
       "layout": {
        "annotations": [
         {
          "font": {
           "color": "black",
           "size": 12
          },
          "showarrow": false,
          "text": "6",
          "x": 0,
          "y": 6.1
         },
         {
          "font": {
           "color": "black",
           "size": 12
          },
          "showarrow": false,
          "text": "4",
          "x": 1,
          "y": 4.1
         },
         {
          "font": {
           "color": "black",
           "size": 12
          },
          "showarrow": false,
          "text": "3",
          "x": 2,
          "y": 3.1
         },
         {
          "font": {
           "color": "black",
           "size": 12
          },
          "showarrow": false,
          "text": "3",
          "x": 3,
          "y": 3.1
         },
         {
          "font": {
           "color": "black",
           "size": 12
          },
          "showarrow": false,
          "text": "3",
          "x": 4,
          "y": 3.1
         },
         {
          "font": {
           "color": "black",
           "size": 12
          },
          "showarrow": false,
          "text": "2",
          "x": 5,
          "y": 2.1
         },
         {
          "font": {
           "color": "black",
           "size": 12
          },
          "showarrow": false,
          "text": "2",
          "x": 6,
          "y": 2.1
         },
         {
          "font": {
           "color": "black",
           "size": 12
          },
          "showarrow": false,
          "text": "2",
          "x": 7,
          "y": 2.1
         },
         {
          "font": {
           "color": "black",
           "size": 12
          },
          "showarrow": false,
          "text": "2",
          "x": 8,
          "y": 2.1
         },
         {
          "font": {
           "color": "black",
           "size": 12
          },
          "showarrow": false,
          "text": "2",
          "x": 9,
          "y": 2.1
         },
         {
          "font": {
           "color": "black",
           "size": 12
          },
          "showarrow": false,
          "text": "2",
          "x": 10,
          "y": 2.1
         },
         {
          "font": {
           "color": "black",
           "size": 12
          },
          "showarrow": false,
          "text": "2",
          "x": 11,
          "y": 2.1
         },
         {
          "font": {
           "color": "black",
           "size": 12
          },
          "showarrow": false,
          "text": "2",
          "x": 12,
          "y": 2.1
         },
         {
          "font": {
           "color": "black",
           "size": 12
          },
          "showarrow": false,
          "text": "2",
          "x": 13,
          "y": 2.1
         },
         {
          "font": {
           "color": "black",
           "size": 12
          },
          "showarrow": false,
          "text": "2",
          "x": 14,
          "y": 2.1
         },
         {
          "font": {
           "color": "black",
           "size": 12
          },
          "showarrow": false,
          "text": "2",
          "x": 15,
          "y": 2.1
         },
         {
          "font": {
           "color": "black",
           "size": 12
          },
          "showarrow": false,
          "text": "2",
          "x": 16,
          "y": 2.1
         },
         {
          "font": {
           "color": "black",
           "size": 12
          },
          "showarrow": false,
          "text": "2",
          "x": 17,
          "y": 2.1
         },
         {
          "font": {
           "color": "black",
           "size": 12
          },
          "showarrow": false,
          "text": "2",
          "x": 18,
          "y": 2.1
         },
         {
          "font": {
           "color": "black",
           "size": 12
          },
          "showarrow": false,
          "text": "2",
          "x": 19,
          "y": 2.1
         },
         {
          "font": {
           "color": "black",
           "size": 12
          },
          "showarrow": false,
          "text": "2",
          "x": 20,
          "y": 2.1
         },
         {
          "font": {
           "color": "black",
           "size": 12
          },
          "showarrow": false,
          "text": "2",
          "x": 21,
          "y": 2.1
         }
        ],
        "barmode": "relative",
        "legend": {
         "title": {
          "text": "Added By"
         },
         "tracegroupgap": 0
        },
        "template": {
         "data": {
          "bar": [
           {
            "error_x": {
             "color": "#2a3f5f"
            },
            "error_y": {
             "color": "#2a3f5f"
            },
            "marker": {
             "line": {
              "color": "#E5ECF6",
              "width": 0.5
             },
             "pattern": {
              "fillmode": "overlay",
              "size": 10,
              "solidity": 0.2
             }
            },
            "type": "bar"
           }
          ],
          "barpolar": [
           {
            "marker": {
             "line": {
              "color": "#E5ECF6",
              "width": 0.5
             },
             "pattern": {
              "fillmode": "overlay",
              "size": 10,
              "solidity": 0.2
             }
            },
            "type": "barpolar"
           }
          ],
          "carpet": [
           {
            "aaxis": {
             "endlinecolor": "#2a3f5f",
             "gridcolor": "white",
             "linecolor": "white",
             "minorgridcolor": "white",
             "startlinecolor": "#2a3f5f"
            },
            "baxis": {
             "endlinecolor": "#2a3f5f",
             "gridcolor": "white",
             "linecolor": "white",
             "minorgridcolor": "white",
             "startlinecolor": "#2a3f5f"
            },
            "type": "carpet"
           }
          ],
          "choropleth": [
           {
            "colorbar": {
             "outlinewidth": 0,
             "ticks": ""
            },
            "type": "choropleth"
           }
          ],
          "contour": [
           {
            "colorbar": {
             "outlinewidth": 0,
             "ticks": ""
            },
            "colorscale": [
             [
              0,
              "#0d0887"
             ],
             [
              0.1111111111111111,
              "#46039f"
             ],
             [
              0.2222222222222222,
              "#7201a8"
             ],
             [
              0.3333333333333333,
              "#9c179e"
             ],
             [
              0.4444444444444444,
              "#bd3786"
             ],
             [
              0.5555555555555556,
              "#d8576b"
             ],
             [
              0.6666666666666666,
              "#ed7953"
             ],
             [
              0.7777777777777778,
              "#fb9f3a"
             ],
             [
              0.8888888888888888,
              "#fdca26"
             ],
             [
              1,
              "#f0f921"
             ]
            ],
            "type": "contour"
           }
          ],
          "contourcarpet": [
           {
            "colorbar": {
             "outlinewidth": 0,
             "ticks": ""
            },
            "type": "contourcarpet"
           }
          ],
          "heatmap": [
           {
            "colorbar": {
             "outlinewidth": 0,
             "ticks": ""
            },
            "colorscale": [
             [
              0,
              "#0d0887"
             ],
             [
              0.1111111111111111,
              "#46039f"
             ],
             [
              0.2222222222222222,
              "#7201a8"
             ],
             [
              0.3333333333333333,
              "#9c179e"
             ],
             [
              0.4444444444444444,
              "#bd3786"
             ],
             [
              0.5555555555555556,
              "#d8576b"
             ],
             [
              0.6666666666666666,
              "#ed7953"
             ],
             [
              0.7777777777777778,
              "#fb9f3a"
             ],
             [
              0.8888888888888888,
              "#fdca26"
             ],
             [
              1,
              "#f0f921"
             ]
            ],
            "type": "heatmap"
           }
          ],
          "histogram": [
           {
            "marker": {
             "pattern": {
              "fillmode": "overlay",
              "size": 10,
              "solidity": 0.2
             }
            },
            "type": "histogram"
           }
          ],
          "histogram2d": [
           {
            "colorbar": {
             "outlinewidth": 0,
             "ticks": ""
            },
            "colorscale": [
             [
              0,
              "#0d0887"
             ],
             [
              0.1111111111111111,
              "#46039f"
             ],
             [
              0.2222222222222222,
              "#7201a8"
             ],
             [
              0.3333333333333333,
              "#9c179e"
             ],
             [
              0.4444444444444444,
              "#bd3786"
             ],
             [
              0.5555555555555556,
              "#d8576b"
             ],
             [
              0.6666666666666666,
              "#ed7953"
             ],
             [
              0.7777777777777778,
              "#fb9f3a"
             ],
             [
              0.8888888888888888,
              "#fdca26"
             ],
             [
              1,
              "#f0f921"
             ]
            ],
            "type": "histogram2d"
           }
          ],
          "histogram2dcontour": [
           {
            "colorbar": {
             "outlinewidth": 0,
             "ticks": ""
            },
            "colorscale": [
             [
              0,
              "#0d0887"
             ],
             [
              0.1111111111111111,
              "#46039f"
             ],
             [
              0.2222222222222222,
              "#7201a8"
             ],
             [
              0.3333333333333333,
              "#9c179e"
             ],
             [
              0.4444444444444444,
              "#bd3786"
             ],
             [
              0.5555555555555556,
              "#d8576b"
             ],
             [
              0.6666666666666666,
              "#ed7953"
             ],
             [
              0.7777777777777778,
              "#fb9f3a"
             ],
             [
              0.8888888888888888,
              "#fdca26"
             ],
             [
              1,
              "#f0f921"
             ]
            ],
            "type": "histogram2dcontour"
           }
          ],
          "mesh3d": [
           {
            "colorbar": {
             "outlinewidth": 0,
             "ticks": ""
            },
            "type": "mesh3d"
           }
          ],
          "parcoords": [
           {
            "line": {
             "colorbar": {
              "outlinewidth": 0,
              "ticks": ""
             }
            },
            "type": "parcoords"
           }
          ],
          "pie": [
           {
            "automargin": true,
            "type": "pie"
           }
          ],
          "scatter": [
           {
            "fillpattern": {
             "fillmode": "overlay",
             "size": 10,
             "solidity": 0.2
            },
            "type": "scatter"
           }
          ],
          "scatter3d": [
           {
            "line": {
             "colorbar": {
              "outlinewidth": 0,
              "ticks": ""
             }
            },
            "marker": {
             "colorbar": {
              "outlinewidth": 0,
              "ticks": ""
             }
            },
            "type": "scatter3d"
           }
          ],
          "scattercarpet": [
           {
            "marker": {
             "colorbar": {
              "outlinewidth": 0,
              "ticks": ""
             }
            },
            "type": "scattercarpet"
           }
          ],
          "scattergeo": [
           {
            "marker": {
             "colorbar": {
              "outlinewidth": 0,
              "ticks": ""
             }
            },
            "type": "scattergeo"
           }
          ],
          "scattergl": [
           {
            "marker": {
             "colorbar": {
              "outlinewidth": 0,
              "ticks": ""
             }
            },
            "type": "scattergl"
           }
          ],
          "scattermap": [
           {
            "marker": {
             "colorbar": {
              "outlinewidth": 0,
              "ticks": ""
             }
            },
            "type": "scattermap"
           }
          ],
          "scattermapbox": [
           {
            "marker": {
             "colorbar": {
              "outlinewidth": 0,
              "ticks": ""
             }
            },
            "type": "scattermapbox"
           }
          ],
          "scatterpolar": [
           {
            "marker": {
             "colorbar": {
              "outlinewidth": 0,
              "ticks": ""
             }
            },
            "type": "scatterpolar"
           }
          ],
          "scatterpolargl": [
           {
            "marker": {
             "colorbar": {
              "outlinewidth": 0,
              "ticks": ""
             }
            },
            "type": "scatterpolargl"
           }
          ],
          "scatterternary": [
           {
            "marker": {
             "colorbar": {
              "outlinewidth": 0,
              "ticks": ""
             }
            },
            "type": "scatterternary"
           }
          ],
          "surface": [
           {
            "colorbar": {
             "outlinewidth": 0,
             "ticks": ""
            },
            "colorscale": [
             [
              0,
              "#0d0887"
             ],
             [
              0.1111111111111111,
              "#46039f"
             ],
             [
              0.2222222222222222,
              "#7201a8"
             ],
             [
              0.3333333333333333,
              "#9c179e"
             ],
             [
              0.4444444444444444,
              "#bd3786"
             ],
             [
              0.5555555555555556,
              "#d8576b"
             ],
             [
              0.6666666666666666,
              "#ed7953"
             ],
             [
              0.7777777777777778,
              "#fb9f3a"
             ],
             [
              0.8888888888888888,
              "#fdca26"
             ],
             [
              1,
              "#f0f921"
             ]
            ],
            "type": "surface"
           }
          ],
          "table": [
           {
            "cells": {
             "fill": {
              "color": "#EBF0F8"
             },
             "line": {
              "color": "white"
             }
            },
            "header": {
             "fill": {
              "color": "#C8D4E3"
             },
             "line": {
              "color": "white"
             }
            },
            "type": "table"
           }
          ]
         },
         "layout": {
          "annotationdefaults": {
           "arrowcolor": "#2a3f5f",
           "arrowhead": 0,
           "arrowwidth": 1
          },
          "autotypenumbers": "strict",
          "coloraxis": {
           "colorbar": {
            "outlinewidth": 0,
            "ticks": ""
           }
          },
          "colorscale": {
           "diverging": [
            [
             0,
             "#8e0152"
            ],
            [
             0.1,
             "#c51b7d"
            ],
            [
             0.2,
             "#de77ae"
            ],
            [
             0.3,
             "#f1b6da"
            ],
            [
             0.4,
             "#fde0ef"
            ],
            [
             0.5,
             "#f7f7f7"
            ],
            [
             0.6,
             "#e6f5d0"
            ],
            [
             0.7,
             "#b8e186"
            ],
            [
             0.8,
             "#7fbc41"
            ],
            [
             0.9,
             "#4d9221"
            ],
            [
             1,
             "#276419"
            ]
           ],
           "sequential": [
            [
             0,
             "#0d0887"
            ],
            [
             0.1111111111111111,
             "#46039f"
            ],
            [
             0.2222222222222222,
             "#7201a8"
            ],
            [
             0.3333333333333333,
             "#9c179e"
            ],
            [
             0.4444444444444444,
             "#bd3786"
            ],
            [
             0.5555555555555556,
             "#d8576b"
            ],
            [
             0.6666666666666666,
             "#ed7953"
            ],
            [
             0.7777777777777778,
             "#fb9f3a"
            ],
            [
             0.8888888888888888,
             "#fdca26"
            ],
            [
             1,
             "#f0f921"
            ]
           ],
           "sequentialminus": [
            [
             0,
             "#0d0887"
            ],
            [
             0.1111111111111111,
             "#46039f"
            ],
            [
             0.2222222222222222,
             "#7201a8"
            ],
            [
             0.3333333333333333,
             "#9c179e"
            ],
            [
             0.4444444444444444,
             "#bd3786"
            ],
            [
             0.5555555555555556,
             "#d8576b"
            ],
            [
             0.6666666666666666,
             "#ed7953"
            ],
            [
             0.7777777777777778,
             "#fb9f3a"
            ],
            [
             0.8888888888888888,
             "#fdca26"
            ],
            [
             1,
             "#f0f921"
            ]
           ]
          },
          "colorway": [
           "#636efa",
           "#EF553B",
           "#00cc96",
           "#ab63fa",
           "#FFA15A",
           "#19d3f3",
           "#FF6692",
           "#B6E880",
           "#FF97FF",
           "#FECB52"
          ],
          "font": {
           "color": "#2a3f5f"
          },
          "geo": {
           "bgcolor": "white",
           "lakecolor": "white",
           "landcolor": "#E5ECF6",
           "showlakes": true,
           "showland": true,
           "subunitcolor": "white"
          },
          "hoverlabel": {
           "align": "left"
          },
          "hovermode": "closest",
          "mapbox": {
           "style": "light"
          },
          "paper_bgcolor": "white",
          "plot_bgcolor": "#E5ECF6",
          "polar": {
           "angularaxis": {
            "gridcolor": "white",
            "linecolor": "white",
            "ticks": ""
           },
           "bgcolor": "#E5ECF6",
           "radialaxis": {
            "gridcolor": "white",
            "linecolor": "white",
            "ticks": ""
           }
          },
          "scene": {
           "xaxis": {
            "backgroundcolor": "#E5ECF6",
            "gridcolor": "white",
            "gridwidth": 2,
            "linecolor": "white",
            "showbackground": true,
            "ticks": "",
            "zerolinecolor": "white"
           },
           "yaxis": {
            "backgroundcolor": "#E5ECF6",
            "gridcolor": "white",
            "gridwidth": 2,
            "linecolor": "white",
            "showbackground": true,
            "ticks": "",
            "zerolinecolor": "white"
           },
           "zaxis": {
            "backgroundcolor": "#E5ECF6",
            "gridcolor": "white",
            "gridwidth": 2,
            "linecolor": "white",
            "showbackground": true,
            "ticks": "",
            "zerolinecolor": "white"
           }
          },
          "shapedefaults": {
           "line": {
            "color": "#2a3f5f"
           }
          },
          "ternary": {
           "aaxis": {
            "gridcolor": "white",
            "linecolor": "white",
            "ticks": ""
           },
           "baxis": {
            "gridcolor": "white",
            "linecolor": "white",
            "ticks": ""
           },
           "bgcolor": "#E5ECF6",
           "caxis": {
            "gridcolor": "white",
            "linecolor": "white",
            "ticks": ""
           }
          },
          "title": {
           "x": 0.05
          },
          "xaxis": {
           "automargin": true,
           "gridcolor": "white",
           "linecolor": "white",
           "ticks": "",
           "title": {
            "standoff": 15
           },
           "zerolinecolor": "white",
           "zerolinewidth": 2
          },
          "yaxis": {
           "automargin": true,
           "gridcolor": "white",
           "linecolor": "white",
           "ticks": "",
           "title": {
            "standoff": 15
           },
           "zerolinecolor": "white",
           "zerolinewidth": 2
          }
         }
        },
        "title": {
         "text": "Artists with Multiple Songs (by Who Added Them)"
        },
        "xaxis": {
         "anchor": "y",
         "domain": [
          0,
          1
         ],
         "tickangle": -45,
         "title": {
          "text": "Artist"
         }
        },
        "yaxis": {
         "anchor": "x",
         "domain": [
          0,
          1
         ],
         "title": {
          "text": "Number of Songs"
         }
        }
       }
      }
     },
     "metadata": {},
     "output_type": "display_data"
    }
   ],
   "source": [
    "import plotly.express as px\n",
    "import pandas as pd\n",
    "\n",
    "# Count occurrences of each artist\n",
    "artist_counts = df_artists['Artist'].value_counts()\n",
    "\n",
    "# Filter artists that appear more than once\n",
    "artists_multiple = artist_counts[artist_counts > 1].index\n",
    "\n",
    "# Filter the dataframe to only include artists with multiple songs\n",
    "df_filtered = df_artists[df_artists['Artist'].isin(artists_multiple)]\n",
    "\n",
    "# Create a crosstab to count songs by Artist and Added By\n",
    "artist_adder_counts = pd.crosstab(df_filtered['Artist'], df_filtered['Added By'])\n",
    "\n",
    "# Sort by total sum (descending order)\n",
    "artist_adder_counts_sorted = artist_adder_counts.loc[artist_adder_counts.sum(axis=1).sort_values(ascending=False).index]\n",
    "\n",
    "# Calculate totals for each artist\n",
    "totals = artist_adder_counts_sorted.sum(axis=1)\n",
    "\n",
    "# Create stacked bar plot\n",
    "fig = px.bar(artist_adder_counts_sorted, \n",
    "             x=artist_adder_counts_sorted.index,\n",
    "             y=artist_adder_counts_sorted.columns,\n",
    "             title='Artists with Multiple Songs (by Who Added Them)',\n",
    "             labels={'x': 'Artist', 'value': 'Number of Songs', 'variable': 'Added By'})\n",
    "\n",
    "# Add total numbers outside the bars\n",
    "for i, artist in enumerate(artist_adder_counts_sorted.index):\n",
    "    fig.add_annotation(\n",
    "        x=i,\n",
    "        y=totals[artist] + 0.1,  # Position slightly above the bar\n",
    "        text=str(totals[artist]),\n",
    "        showarrow=False,\n",
    "        font=dict(size=12, color=\"black\")\n",
    "    )\n",
    "\n",
    "# Customize the layout\n",
    "fig.update_layout(\n",
    "    xaxis_title=\"Artist\",\n",
    "    yaxis_title=\"Number of Songs\",\n",
    "    xaxis_tickangle=-45,  # Rotate x-axis labels for better readability\n",
    "    legend_title=\"Added By\"\n",
    ")\n",
    "\n",
    "fig.show()"
   ]
  },
  {
   "cell_type": "markdown",
   "id": "4f149891",
   "metadata": {},
   "source": [
    "# 5. Generi"
   ]
  },
  {
   "cell_type": "code",
   "execution_count": 26,
   "id": "a00cf764",
   "metadata": {},
   "outputs": [],
   "source": [
    "df[\"Genres\"] = df[\"Genres\"].fillna(\"\").apply(lambda x: x.replace(\"\\\"\", \"\").split(\",\"))"
   ]
  },
  {
   "cell_type": "code",
   "execution_count": 27,
   "id": "0ff56ef5",
   "metadata": {},
   "outputs": [],
   "source": [
    "df_genres = df.explode(\"Genres\")"
   ]
  },
  {
   "cell_type": "code",
   "execution_count": 28,
   "id": "5c76f77c",
   "metadata": {},
   "outputs": [
    {
     "data": {
      "application/vnd.plotly.v1+json": {
       "config": {
        "plotlyServerURL": "https://plot.ly"
       },
       "data": [
        {
         "hovertemplate": "Added By=Alessandro<br>Genres=%{x}<br>Number of Songs=%{y}<extra></extra>",
         "legendgroup": "Alessandro",
         "marker": {
          "color": "#636efa",
          "pattern": {
           "shape": ""
          }
         },
         "name": "Alessandro",
         "orientation": "v",
         "showlegend": true,
         "textposition": "auto",
         "type": "bar",
         "x": [
          "",
          "metal",
          "rock gotico",
          "gothic metal",
          "art pop",
          "rock",
          "pop",
          "doom metal",
          "hyperpop",
          "metal sinfonico",
          "metal alternativo",
          "power metal",
          "rap metal",
          "cantautorato italiano",
          "eurodance",
          "new wave",
          "nu metal",
          "industrial rock",
          "heavy metal",
          "hard rock",
          "darkwave",
          "cantautorato",
          "progressive metal",
          "funk rock",
          "folk metal",
          "bedroom pop",
          "synthpop",
          "post-punk",
          "rock alternativo",
          "europop",
          "musical",
          "rock progressivo",
          "metalcore",
          "indie",
          "cold wave",
          "city pop",
          "edm",
          "hip hop dell'east coast",
          "groove metal",
          "elettronica",
          "electro",
          "french touch",
          "industrial metal",
          "industrial",
          "musica house",
          "moombahton",
          "latina",
          "k-pop",
          "miami bass",
          "neoperreo",
          "pop latino",
          "pop norvegese",
          "rap",
          "speed metal",
          "sperimentale",
          "thrash metal",
          "trap italiana",
          "vaporwave"
         ],
         "xaxis": "x",
         "y": {
          "bdata": "BAIAAAQCAAAGAAMAAgEAAQIAAAAAAQIAAAIAAQIAAAIAAQAAAAEAAAABAAABAAIAAQIAAAAAAgAAAA==",
          "dtype": "i1"
         },
         "yaxis": "y"
        },
        {
         "hovertemplate": "Added By=Giulia<br>Genres=%{x}<br>Number of Songs=%{y}<extra></extra>",
         "legendgroup": "Giulia",
         "marker": {
          "color": "#EF553B",
          "pattern": {
           "shape": ""
          }
         },
         "name": "Giulia",
         "orientation": "v",
         "showlegend": true,
         "textposition": "auto",
         "type": "bar",
         "x": [
          "",
          "metal",
          "rock gotico",
          "gothic metal",
          "art pop",
          "rock",
          "pop",
          "doom metal",
          "hyperpop",
          "metal sinfonico",
          "metal alternativo",
          "power metal",
          "rap metal",
          "cantautorato italiano",
          "eurodance",
          "new wave",
          "nu metal",
          "industrial rock",
          "heavy metal",
          "hard rock",
          "darkwave",
          "cantautorato",
          "progressive metal",
          "funk rock",
          "folk metal",
          "bedroom pop",
          "synthpop",
          "post-punk",
          "rock alternativo",
          "europop",
          "musical",
          "rock progressivo",
          "metalcore",
          "indie",
          "cold wave",
          "city pop",
          "edm",
          "hip hop dell'east coast",
          "groove metal",
          "elettronica",
          "electro",
          "french touch",
          "industrial metal",
          "industrial",
          "musica house",
          "moombahton",
          "latina",
          "k-pop",
          "miami bass",
          "neoperreo",
          "pop latino",
          "pop norvegese",
          "rap",
          "speed metal",
          "sperimentale",
          "thrash metal",
          "trap italiana",
          "vaporwave"
         ],
         "xaxis": "x",
         "y": {
          "bdata": "EgAAAAIABQAAAAAAAAABAAAAAAAAAAAAAAEAAAABAwAAAAAAAAEAAQEBAAAAAAABAAABAAAAAAAAAA==",
          "dtype": "i1"
         },
         "yaxis": "y"
        },
        {
         "hovertemplate": "Added By=Lidia<br>Genres=%{x}<br>Number of Songs=%{y}<extra></extra>",
         "legendgroup": "Lidia",
         "marker": {
          "color": "#00cc96",
          "pattern": {
           "shape": ""
          }
         },
         "name": "Lidia",
         "orientation": "v",
         "showlegend": true,
         "textposition": "auto",
         "type": "bar",
         "x": [
          "",
          "metal",
          "rock gotico",
          "gothic metal",
          "art pop",
          "rock",
          "pop",
          "doom metal",
          "hyperpop",
          "metal sinfonico",
          "metal alternativo",
          "power metal",
          "rap metal",
          "cantautorato italiano",
          "eurodance",
          "new wave",
          "nu metal",
          "industrial rock",
          "heavy metal",
          "hard rock",
          "darkwave",
          "cantautorato",
          "progressive metal",
          "funk rock",
          "folk metal",
          "bedroom pop",
          "synthpop",
          "post-punk",
          "rock alternativo",
          "europop",
          "musical",
          "rock progressivo",
          "metalcore",
          "indie",
          "cold wave",
          "city pop",
          "edm",
          "hip hop dell'east coast",
          "groove metal",
          "elettronica",
          "electro",
          "french touch",
          "industrial metal",
          "industrial",
          "musica house",
          "moombahton",
          "latina",
          "k-pop",
          "miami bass",
          "neoperreo",
          "pop latino",
          "pop norvegese",
          "rap",
          "speed metal",
          "sperimentale",
          "thrash metal",
          "trap italiana",
          "vaporwave"
         ],
         "xaxis": "x",
         "y": {
          "bdata": "BQkIBwEEAgQABQAEAAADAwACAwQDAAIAAwACAQACAAADAAEAAAACAAAAAgIAAAAAAAABAAACAAEAAA==",
          "dtype": "i1"
         },
         "yaxis": "y"
        },
        {
         "hovertemplate": "Added By=Pietro<br>Genres=%{x}<br>Number of Songs=%{y}<extra></extra>",
         "legendgroup": "Pietro",
         "marker": {
          "color": "#ab63fa",
          "pattern": {
           "shape": ""
          }
         },
         "name": "Pietro",
         "orientation": "v",
         "showlegend": true,
         "textposition": "auto",
         "type": "bar",
         "x": [
          "",
          "metal",
          "rock gotico",
          "gothic metal",
          "art pop",
          "rock",
          "pop",
          "doom metal",
          "hyperpop",
          "metal sinfonico",
          "metal alternativo",
          "power metal",
          "rap metal",
          "cantautorato italiano",
          "eurodance",
          "new wave",
          "nu metal",
          "industrial rock",
          "heavy metal",
          "hard rock",
          "darkwave",
          "cantautorato",
          "progressive metal",
          "funk rock",
          "folk metal",
          "bedroom pop",
          "synthpop",
          "post-punk",
          "rock alternativo",
          "europop",
          "musical",
          "rock progressivo",
          "metalcore",
          "indie",
          "cold wave",
          "city pop",
          "edm",
          "hip hop dell'east coast",
          "groove metal",
          "elettronica",
          "electro",
          "french touch",
          "industrial metal",
          "industrial",
          "musica house",
          "moombahton",
          "latina",
          "k-pop",
          "miami bass",
          "neoperreo",
          "pop latino",
          "pop norvegese",
          "rap",
          "speed metal",
          "sperimentale",
          "thrash metal",
          "trap italiana",
          "vaporwave"
         ],
         "xaxis": "x",
         "y": {
          "bdata": "CAQEBAACAAMAAgQCBAUAAAMCAQAAAwADAAAAAAEAAAEAAAAAAAAAAAAAAAAAAAAAAQAAAQAAAAEAAA==",
          "dtype": "i1"
         },
         "yaxis": "y"
        },
        {
         "hovertemplate": "Added By=Riccardo<br>Genres=%{x}<br>Number of Songs=%{y}<extra></extra>",
         "legendgroup": "Riccardo",
         "marker": {
          "color": "#FFA15A",
          "pattern": {
           "shape": ""
          }
         },
         "name": "Riccardo",
         "orientation": "v",
         "showlegend": true,
         "textposition": "auto",
         "type": "bar",
         "x": [
          "",
          "metal",
          "rock gotico",
          "gothic metal",
          "art pop",
          "rock",
          "pop",
          "doom metal",
          "hyperpop",
          "metal sinfonico",
          "metal alternativo",
          "power metal",
          "rap metal",
          "cantautorato italiano",
          "eurodance",
          "new wave",
          "nu metal",
          "industrial rock",
          "heavy metal",
          "hard rock",
          "darkwave",
          "cantautorato",
          "progressive metal",
          "funk rock",
          "folk metal",
          "bedroom pop",
          "synthpop",
          "post-punk",
          "rock alternativo",
          "europop",
          "musical",
          "rock progressivo",
          "metalcore",
          "indie",
          "cold wave",
          "city pop",
          "edm",
          "hip hop dell'east coast",
          "groove metal",
          "elettronica",
          "electro",
          "french touch",
          "industrial metal",
          "industrial",
          "musica house",
          "moombahton",
          "latina",
          "k-pop",
          "miami bass",
          "neoperreo",
          "pop latino",
          "pop norvegese",
          "rap",
          "speed metal",
          "sperimentale",
          "thrash metal",
          "trap italiana",
          "vaporwave"
         ],
         "xaxis": "x",
         "y": {
          "bdata": "CwABAAAAAAAAAAAAAAABAQAAAAABAAAAAAABAQAAAAAAAQECAgAAAQEAAAABAgABAAAAAQIAAAACAg==",
          "dtype": "i1"
         },
         "yaxis": "y"
        },
        {
         "hovertemplate": "Added By=Valentina<br>Genres=%{x}<br>Number of Songs=%{y}<extra></extra>",
         "legendgroup": "Valentina",
         "marker": {
          "color": "#19d3f3",
          "pattern": {
           "shape": ""
          }
         },
         "name": "Valentina",
         "orientation": "v",
         "showlegend": true,
         "textposition": "auto",
         "type": "bar",
         "x": [
          "",
          "metal",
          "rock gotico",
          "gothic metal",
          "art pop",
          "rock",
          "pop",
          "doom metal",
          "hyperpop",
          "metal sinfonico",
          "metal alternativo",
          "power metal",
          "rap metal",
          "cantautorato italiano",
          "eurodance",
          "new wave",
          "nu metal",
          "industrial rock",
          "heavy metal",
          "hard rock",
          "darkwave",
          "cantautorato",
          "progressive metal",
          "funk rock",
          "folk metal",
          "bedroom pop",
          "synthpop",
          "post-punk",
          "rock alternativo",
          "europop",
          "musical",
          "rock progressivo",
          "metalcore",
          "indie",
          "cold wave",
          "city pop",
          "edm",
          "hip hop dell'east coast",
          "groove metal",
          "elettronica",
          "electro",
          "french touch",
          "industrial metal",
          "industrial",
          "musica house",
          "moombahton",
          "latina",
          "k-pop",
          "miami bass",
          "neoperreo",
          "pop latino",
          "pop norvegese",
          "rap",
          "speed metal",
          "sperimentale",
          "thrash metal",
          "trap italiana",
          "vaporwave"
         ],
         "xaxis": "x",
         "y": {
          "bdata": "CQAAAAIAAQABAAAAAAAAAAAAAAAAAAAAAAAAAAAAAAAAAAAAAAAAAAAAAAAAAAAAAAAAAAAAAAAAAA==",
          "dtype": "i1"
         },
         "yaxis": "y"
        }
       ],
       "layout": {
        "annotations": [
         {
          "font": {
           "color": "black",
           "size": 12
          },
          "showarrow": false,
          "text": "55",
          "x": 0,
          "y": 55.1
         },
         {
          "font": {
           "color": "black",
           "size": 12
          },
          "showarrow": false,
          "text": "15",
          "x": 1,
          "y": 15.1
         },
         {
          "font": {
           "color": "black",
           "size": 12
          },
          "showarrow": false,
          "text": "13",
          "x": 2,
          "y": 13.1
         },
         {
          "font": {
           "color": "black",
           "size": 12
          },
          "showarrow": false,
          "text": "11",
          "x": 3,
          "y": 11.1
         },
         {
          "font": {
           "color": "black",
           "size": 12
          },
          "showarrow": false,
          "text": "9",
          "x": 4,
          "y": 9.1
         },
         {
          "font": {
           "color": "black",
           "size": 12
          },
          "showarrow": false,
          "text": "8",
          "x": 5,
          "y": 8.1
         },
         {
          "font": {
           "color": "black",
           "size": 12
          },
          "showarrow": false,
          "text": "8",
          "x": 6,
          "y": 8.1
         },
         {
          "font": {
           "color": "black",
           "size": 12
          },
          "showarrow": false,
          "text": "7",
          "x": 7,
          "y": 7.1
         },
         {
          "font": {
           "color": "black",
           "size": 12
          },
          "showarrow": false,
          "text": "7",
          "x": 8,
          "y": 7.1
         },
         {
          "font": {
           "color": "black",
           "size": 12
          },
          "showarrow": false,
          "text": "7",
          "x": 9,
          "y": 7.1
         },
         {
          "font": {
           "color": "black",
           "size": 12
          },
          "showarrow": false,
          "text": "7",
          "x": 10,
          "y": 7.1
         },
         {
          "font": {
           "color": "black",
           "size": 12
          },
          "showarrow": false,
          "text": "6",
          "x": 11,
          "y": 6.1
         },
         {
          "font": {
           "color": "black",
           "size": 12
          },
          "showarrow": false,
          "text": "6",
          "x": 12,
          "y": 6.1
         },
         {
          "font": {
           "color": "black",
           "size": 12
          },
          "showarrow": false,
          "text": "6",
          "x": 13,
          "y": 6.1
         },
         {
          "font": {
           "color": "black",
           "size": 12
          },
          "showarrow": false,
          "text": "5",
          "x": 14,
          "y": 5.1
         },
         {
          "font": {
           "color": "black",
           "size": 12
          },
          "showarrow": false,
          "text": "5",
          "x": 15,
          "y": 5.1
         },
         {
          "font": {
           "color": "black",
           "size": 12
          },
          "showarrow": false,
          "text": "5",
          "x": 16,
          "y": 5.1
         },
         {
          "font": {
           "color": "black",
           "size": 12
          },
          "showarrow": false,
          "text": "4",
          "x": 17,
          "y": 4.1
         },
         {
          "font": {
           "color": "black",
           "size": 12
          },
          "showarrow": false,
          "text": "4",
          "x": 18,
          "y": 4.1
         },
         {
          "font": {
           "color": "black",
           "size": 12
          },
          "showarrow": false,
          "text": "4",
          "x": 19,
          "y": 4.1
         },
         {
          "font": {
           "color": "black",
           "size": 12
          },
          "showarrow": false,
          "text": "4",
          "x": 20,
          "y": 4.1
         },
         {
          "font": {
           "color": "black",
           "size": 12
          },
          "showarrow": false,
          "text": "4",
          "x": 21,
          "y": 4.1
         },
         {
          "font": {
           "color": "black",
           "size": 12
          },
          "showarrow": false,
          "text": "4",
          "x": 22,
          "y": 4.1
         },
         {
          "font": {
           "color": "black",
           "size": 12
          },
          "showarrow": false,
          "text": "3",
          "x": 23,
          "y": 3.1
         },
         {
          "font": {
           "color": "black",
           "size": 12
          },
          "showarrow": false,
          "text": "3",
          "x": 24,
          "y": 3.1
         },
         {
          "font": {
           "color": "black",
           "size": 12
          },
          "showarrow": false,
          "text": "3",
          "x": 25,
          "y": 3.1
         },
         {
          "font": {
           "color": "black",
           "size": 12
          },
          "showarrow": false,
          "text": "3",
          "x": 26,
          "y": 3.1
         },
         {
          "font": {
           "color": "black",
           "size": 12
          },
          "showarrow": false,
          "text": "3",
          "x": 27,
          "y": 3.1
         },
         {
          "font": {
           "color": "black",
           "size": 12
          },
          "showarrow": false,
          "text": "3",
          "x": 28,
          "y": 3.1
         },
         {
          "font": {
           "color": "black",
           "size": 12
          },
          "showarrow": false,
          "text": "3",
          "x": 29,
          "y": 3.1
         },
         {
          "font": {
           "color": "black",
           "size": 12
          },
          "showarrow": false,
          "text": "3",
          "x": 30,
          "y": 3.1
         },
         {
          "font": {
           "color": "black",
           "size": 12
          },
          "showarrow": false,
          "text": "3",
          "x": 31,
          "y": 3.1
         },
         {
          "font": {
           "color": "black",
           "size": 12
          },
          "showarrow": false,
          "text": "3",
          "x": 32,
          "y": 3.1
         },
         {
          "font": {
           "color": "black",
           "size": 12
          },
          "showarrow": false,
          "text": "2",
          "x": 33,
          "y": 2.1
         },
         {
          "font": {
           "color": "black",
           "size": 12
          },
          "showarrow": false,
          "text": "2",
          "x": 34,
          "y": 2.1
         },
         {
          "font": {
           "color": "black",
           "size": 12
          },
          "showarrow": false,
          "text": "2",
          "x": 35,
          "y": 2.1
         },
         {
          "font": {
           "color": "black",
           "size": 12
          },
          "showarrow": false,
          "text": "2",
          "x": 36,
          "y": 2.1
         },
         {
          "font": {
           "color": "black",
           "size": 12
          },
          "showarrow": false,
          "text": "2",
          "x": 37,
          "y": 2.1
         },
         {
          "font": {
           "color": "black",
           "size": 12
          },
          "showarrow": false,
          "text": "2",
          "x": 38,
          "y": 2.1
         },
         {
          "font": {
           "color": "black",
           "size": 12
          },
          "showarrow": false,
          "text": "2",
          "x": 39,
          "y": 2.1
         },
         {
          "font": {
           "color": "black",
           "size": 12
          },
          "showarrow": false,
          "text": "2",
          "x": 40,
          "y": 2.1
         },
         {
          "font": {
           "color": "black",
           "size": 12
          },
          "showarrow": false,
          "text": "2",
          "x": 41,
          "y": 2.1
         },
         {
          "font": {
           "color": "black",
           "size": 12
          },
          "showarrow": false,
          "text": "2",
          "x": 42,
          "y": 2.1
         },
         {
          "font": {
           "color": "black",
           "size": 12
          },
          "showarrow": false,
          "text": "2",
          "x": 43,
          "y": 2.1
         },
         {
          "font": {
           "color": "black",
           "size": 12
          },
          "showarrow": false,
          "text": "2",
          "x": 44,
          "y": 2.1
         },
         {
          "font": {
           "color": "black",
           "size": 12
          },
          "showarrow": false,
          "text": "2",
          "x": 45,
          "y": 2.1
         },
         {
          "font": {
           "color": "black",
           "size": 12
          },
          "showarrow": false,
          "text": "2",
          "x": 46,
          "y": 2.1
         },
         {
          "font": {
           "color": "black",
           "size": 12
          },
          "showarrow": false,
          "text": "2",
          "x": 47,
          "y": 2.1
         },
         {
          "font": {
           "color": "black",
           "size": 12
          },
          "showarrow": false,
          "text": "2",
          "x": 48,
          "y": 2.1
         },
         {
          "font": {
           "color": "black",
           "size": 12
          },
          "showarrow": false,
          "text": "2",
          "x": 49,
          "y": 2.1
         },
         {
          "font": {
           "color": "black",
           "size": 12
          },
          "showarrow": false,
          "text": "2",
          "x": 50,
          "y": 2.1
         },
         {
          "font": {
           "color": "black",
           "size": 12
          },
          "showarrow": false,
          "text": "2",
          "x": 51,
          "y": 2.1
         },
         {
          "font": {
           "color": "black",
           "size": 12
          },
          "showarrow": false,
          "text": "2",
          "x": 52,
          "y": 2.1
         },
         {
          "font": {
           "color": "black",
           "size": 12
          },
          "showarrow": false,
          "text": "2",
          "x": 53,
          "y": 2.1
         },
         {
          "font": {
           "color": "black",
           "size": 12
          },
          "showarrow": false,
          "text": "2",
          "x": 54,
          "y": 2.1
         },
         {
          "font": {
           "color": "black",
           "size": 12
          },
          "showarrow": false,
          "text": "2",
          "x": 55,
          "y": 2.1
         },
         {
          "font": {
           "color": "black",
           "size": 12
          },
          "showarrow": false,
          "text": "2",
          "x": 56,
          "y": 2.1
         },
         {
          "font": {
           "color": "black",
           "size": 12
          },
          "showarrow": false,
          "text": "2",
          "x": 57,
          "y": 2.1
         }
        ],
        "barmode": "relative",
        "legend": {
         "title": {
          "text": "Added By"
         },
         "tracegroupgap": 0
        },
        "template": {
         "data": {
          "bar": [
           {
            "error_x": {
             "color": "#2a3f5f"
            },
            "error_y": {
             "color": "#2a3f5f"
            },
            "marker": {
             "line": {
              "color": "#E5ECF6",
              "width": 0.5
             },
             "pattern": {
              "fillmode": "overlay",
              "size": 10,
              "solidity": 0.2
             }
            },
            "type": "bar"
           }
          ],
          "barpolar": [
           {
            "marker": {
             "line": {
              "color": "#E5ECF6",
              "width": 0.5
             },
             "pattern": {
              "fillmode": "overlay",
              "size": 10,
              "solidity": 0.2
             }
            },
            "type": "barpolar"
           }
          ],
          "carpet": [
           {
            "aaxis": {
             "endlinecolor": "#2a3f5f",
             "gridcolor": "white",
             "linecolor": "white",
             "minorgridcolor": "white",
             "startlinecolor": "#2a3f5f"
            },
            "baxis": {
             "endlinecolor": "#2a3f5f",
             "gridcolor": "white",
             "linecolor": "white",
             "minorgridcolor": "white",
             "startlinecolor": "#2a3f5f"
            },
            "type": "carpet"
           }
          ],
          "choropleth": [
           {
            "colorbar": {
             "outlinewidth": 0,
             "ticks": ""
            },
            "type": "choropleth"
           }
          ],
          "contour": [
           {
            "colorbar": {
             "outlinewidth": 0,
             "ticks": ""
            },
            "colorscale": [
             [
              0,
              "#0d0887"
             ],
             [
              0.1111111111111111,
              "#46039f"
             ],
             [
              0.2222222222222222,
              "#7201a8"
             ],
             [
              0.3333333333333333,
              "#9c179e"
             ],
             [
              0.4444444444444444,
              "#bd3786"
             ],
             [
              0.5555555555555556,
              "#d8576b"
             ],
             [
              0.6666666666666666,
              "#ed7953"
             ],
             [
              0.7777777777777778,
              "#fb9f3a"
             ],
             [
              0.8888888888888888,
              "#fdca26"
             ],
             [
              1,
              "#f0f921"
             ]
            ],
            "type": "contour"
           }
          ],
          "contourcarpet": [
           {
            "colorbar": {
             "outlinewidth": 0,
             "ticks": ""
            },
            "type": "contourcarpet"
           }
          ],
          "heatmap": [
           {
            "colorbar": {
             "outlinewidth": 0,
             "ticks": ""
            },
            "colorscale": [
             [
              0,
              "#0d0887"
             ],
             [
              0.1111111111111111,
              "#46039f"
             ],
             [
              0.2222222222222222,
              "#7201a8"
             ],
             [
              0.3333333333333333,
              "#9c179e"
             ],
             [
              0.4444444444444444,
              "#bd3786"
             ],
             [
              0.5555555555555556,
              "#d8576b"
             ],
             [
              0.6666666666666666,
              "#ed7953"
             ],
             [
              0.7777777777777778,
              "#fb9f3a"
             ],
             [
              0.8888888888888888,
              "#fdca26"
             ],
             [
              1,
              "#f0f921"
             ]
            ],
            "type": "heatmap"
           }
          ],
          "histogram": [
           {
            "marker": {
             "pattern": {
              "fillmode": "overlay",
              "size": 10,
              "solidity": 0.2
             }
            },
            "type": "histogram"
           }
          ],
          "histogram2d": [
           {
            "colorbar": {
             "outlinewidth": 0,
             "ticks": ""
            },
            "colorscale": [
             [
              0,
              "#0d0887"
             ],
             [
              0.1111111111111111,
              "#46039f"
             ],
             [
              0.2222222222222222,
              "#7201a8"
             ],
             [
              0.3333333333333333,
              "#9c179e"
             ],
             [
              0.4444444444444444,
              "#bd3786"
             ],
             [
              0.5555555555555556,
              "#d8576b"
             ],
             [
              0.6666666666666666,
              "#ed7953"
             ],
             [
              0.7777777777777778,
              "#fb9f3a"
             ],
             [
              0.8888888888888888,
              "#fdca26"
             ],
             [
              1,
              "#f0f921"
             ]
            ],
            "type": "histogram2d"
           }
          ],
          "histogram2dcontour": [
           {
            "colorbar": {
             "outlinewidth": 0,
             "ticks": ""
            },
            "colorscale": [
             [
              0,
              "#0d0887"
             ],
             [
              0.1111111111111111,
              "#46039f"
             ],
             [
              0.2222222222222222,
              "#7201a8"
             ],
             [
              0.3333333333333333,
              "#9c179e"
             ],
             [
              0.4444444444444444,
              "#bd3786"
             ],
             [
              0.5555555555555556,
              "#d8576b"
             ],
             [
              0.6666666666666666,
              "#ed7953"
             ],
             [
              0.7777777777777778,
              "#fb9f3a"
             ],
             [
              0.8888888888888888,
              "#fdca26"
             ],
             [
              1,
              "#f0f921"
             ]
            ],
            "type": "histogram2dcontour"
           }
          ],
          "mesh3d": [
           {
            "colorbar": {
             "outlinewidth": 0,
             "ticks": ""
            },
            "type": "mesh3d"
           }
          ],
          "parcoords": [
           {
            "line": {
             "colorbar": {
              "outlinewidth": 0,
              "ticks": ""
             }
            },
            "type": "parcoords"
           }
          ],
          "pie": [
           {
            "automargin": true,
            "type": "pie"
           }
          ],
          "scatter": [
           {
            "fillpattern": {
             "fillmode": "overlay",
             "size": 10,
             "solidity": 0.2
            },
            "type": "scatter"
           }
          ],
          "scatter3d": [
           {
            "line": {
             "colorbar": {
              "outlinewidth": 0,
              "ticks": ""
             }
            },
            "marker": {
             "colorbar": {
              "outlinewidth": 0,
              "ticks": ""
             }
            },
            "type": "scatter3d"
           }
          ],
          "scattercarpet": [
           {
            "marker": {
             "colorbar": {
              "outlinewidth": 0,
              "ticks": ""
             }
            },
            "type": "scattercarpet"
           }
          ],
          "scattergeo": [
           {
            "marker": {
             "colorbar": {
              "outlinewidth": 0,
              "ticks": ""
             }
            },
            "type": "scattergeo"
           }
          ],
          "scattergl": [
           {
            "marker": {
             "colorbar": {
              "outlinewidth": 0,
              "ticks": ""
             }
            },
            "type": "scattergl"
           }
          ],
          "scattermap": [
           {
            "marker": {
             "colorbar": {
              "outlinewidth": 0,
              "ticks": ""
             }
            },
            "type": "scattermap"
           }
          ],
          "scattermapbox": [
           {
            "marker": {
             "colorbar": {
              "outlinewidth": 0,
              "ticks": ""
             }
            },
            "type": "scattermapbox"
           }
          ],
          "scatterpolar": [
           {
            "marker": {
             "colorbar": {
              "outlinewidth": 0,
              "ticks": ""
             }
            },
            "type": "scatterpolar"
           }
          ],
          "scatterpolargl": [
           {
            "marker": {
             "colorbar": {
              "outlinewidth": 0,
              "ticks": ""
             }
            },
            "type": "scatterpolargl"
           }
          ],
          "scatterternary": [
           {
            "marker": {
             "colorbar": {
              "outlinewidth": 0,
              "ticks": ""
             }
            },
            "type": "scatterternary"
           }
          ],
          "surface": [
           {
            "colorbar": {
             "outlinewidth": 0,
             "ticks": ""
            },
            "colorscale": [
             [
              0,
              "#0d0887"
             ],
             [
              0.1111111111111111,
              "#46039f"
             ],
             [
              0.2222222222222222,
              "#7201a8"
             ],
             [
              0.3333333333333333,
              "#9c179e"
             ],
             [
              0.4444444444444444,
              "#bd3786"
             ],
             [
              0.5555555555555556,
              "#d8576b"
             ],
             [
              0.6666666666666666,
              "#ed7953"
             ],
             [
              0.7777777777777778,
              "#fb9f3a"
             ],
             [
              0.8888888888888888,
              "#fdca26"
             ],
             [
              1,
              "#f0f921"
             ]
            ],
            "type": "surface"
           }
          ],
          "table": [
           {
            "cells": {
             "fill": {
              "color": "#EBF0F8"
             },
             "line": {
              "color": "white"
             }
            },
            "header": {
             "fill": {
              "color": "#C8D4E3"
             },
             "line": {
              "color": "white"
             }
            },
            "type": "table"
           }
          ]
         },
         "layout": {
          "annotationdefaults": {
           "arrowcolor": "#2a3f5f",
           "arrowhead": 0,
           "arrowwidth": 1
          },
          "autotypenumbers": "strict",
          "coloraxis": {
           "colorbar": {
            "outlinewidth": 0,
            "ticks": ""
           }
          },
          "colorscale": {
           "diverging": [
            [
             0,
             "#8e0152"
            ],
            [
             0.1,
             "#c51b7d"
            ],
            [
             0.2,
             "#de77ae"
            ],
            [
             0.3,
             "#f1b6da"
            ],
            [
             0.4,
             "#fde0ef"
            ],
            [
             0.5,
             "#f7f7f7"
            ],
            [
             0.6,
             "#e6f5d0"
            ],
            [
             0.7,
             "#b8e186"
            ],
            [
             0.8,
             "#7fbc41"
            ],
            [
             0.9,
             "#4d9221"
            ],
            [
             1,
             "#276419"
            ]
           ],
           "sequential": [
            [
             0,
             "#0d0887"
            ],
            [
             0.1111111111111111,
             "#46039f"
            ],
            [
             0.2222222222222222,
             "#7201a8"
            ],
            [
             0.3333333333333333,
             "#9c179e"
            ],
            [
             0.4444444444444444,
             "#bd3786"
            ],
            [
             0.5555555555555556,
             "#d8576b"
            ],
            [
             0.6666666666666666,
             "#ed7953"
            ],
            [
             0.7777777777777778,
             "#fb9f3a"
            ],
            [
             0.8888888888888888,
             "#fdca26"
            ],
            [
             1,
             "#f0f921"
            ]
           ],
           "sequentialminus": [
            [
             0,
             "#0d0887"
            ],
            [
             0.1111111111111111,
             "#46039f"
            ],
            [
             0.2222222222222222,
             "#7201a8"
            ],
            [
             0.3333333333333333,
             "#9c179e"
            ],
            [
             0.4444444444444444,
             "#bd3786"
            ],
            [
             0.5555555555555556,
             "#d8576b"
            ],
            [
             0.6666666666666666,
             "#ed7953"
            ],
            [
             0.7777777777777778,
             "#fb9f3a"
            ],
            [
             0.8888888888888888,
             "#fdca26"
            ],
            [
             1,
             "#f0f921"
            ]
           ]
          },
          "colorway": [
           "#636efa",
           "#EF553B",
           "#00cc96",
           "#ab63fa",
           "#FFA15A",
           "#19d3f3",
           "#FF6692",
           "#B6E880",
           "#FF97FF",
           "#FECB52"
          ],
          "font": {
           "color": "#2a3f5f"
          },
          "geo": {
           "bgcolor": "white",
           "lakecolor": "white",
           "landcolor": "#E5ECF6",
           "showlakes": true,
           "showland": true,
           "subunitcolor": "white"
          },
          "hoverlabel": {
           "align": "left"
          },
          "hovermode": "closest",
          "mapbox": {
           "style": "light"
          },
          "paper_bgcolor": "white",
          "plot_bgcolor": "#E5ECF6",
          "polar": {
           "angularaxis": {
            "gridcolor": "white",
            "linecolor": "white",
            "ticks": ""
           },
           "bgcolor": "#E5ECF6",
           "radialaxis": {
            "gridcolor": "white",
            "linecolor": "white",
            "ticks": ""
           }
          },
          "scene": {
           "xaxis": {
            "backgroundcolor": "#E5ECF6",
            "gridcolor": "white",
            "gridwidth": 2,
            "linecolor": "white",
            "showbackground": true,
            "ticks": "",
            "zerolinecolor": "white"
           },
           "yaxis": {
            "backgroundcolor": "#E5ECF6",
            "gridcolor": "white",
            "gridwidth": 2,
            "linecolor": "white",
            "showbackground": true,
            "ticks": "",
            "zerolinecolor": "white"
           },
           "zaxis": {
            "backgroundcolor": "#E5ECF6",
            "gridcolor": "white",
            "gridwidth": 2,
            "linecolor": "white",
            "showbackground": true,
            "ticks": "",
            "zerolinecolor": "white"
           }
          },
          "shapedefaults": {
           "line": {
            "color": "#2a3f5f"
           }
          },
          "ternary": {
           "aaxis": {
            "gridcolor": "white",
            "linecolor": "white",
            "ticks": ""
           },
           "baxis": {
            "gridcolor": "white",
            "linecolor": "white",
            "ticks": ""
           },
           "bgcolor": "#E5ECF6",
           "caxis": {
            "gridcolor": "white",
            "linecolor": "white",
            "ticks": ""
           }
          },
          "title": {
           "x": 0.05
          },
          "xaxis": {
           "automargin": true,
           "gridcolor": "white",
           "linecolor": "white",
           "ticks": "",
           "title": {
            "standoff": 15
           },
           "zerolinecolor": "white",
           "zerolinewidth": 2
          },
          "yaxis": {
           "automargin": true,
           "gridcolor": "white",
           "linecolor": "white",
           "ticks": "",
           "title": {
            "standoff": 15
           },
           "zerolinecolor": "white",
           "zerolinewidth": 2
          }
         }
        },
        "title": {
         "text": "Genres with Multiple Songs (by Who Added Them)"
        },
        "xaxis": {
         "anchor": "y",
         "domain": [
          0,
          1
         ],
         "tickangle": -45,
         "title": {
          "text": "Artist"
         }
        },
        "yaxis": {
         "anchor": "x",
         "domain": [
          0,
          1
         ],
         "title": {
          "text": "Number of Songs"
         }
        }
       }
      }
     },
     "metadata": {},
     "output_type": "display_data"
    }
   ],
   "source": [
    "import plotly.express as px\n",
    "import pandas as pd\n",
    "\n",
    "# Count occurrences of each artist\n",
    "artist_counts = df_genres['Genres'].value_counts()\n",
    "\n",
    "# Filter artists that appear more than once\n",
    "artists_multiple = artist_counts[artist_counts > 1].index\n",
    "\n",
    "# Filter the dataframe to only include artists with multiple songs\n",
    "df_filtered = df_genres[df_genres['Genres'].isin(artists_multiple)]\n",
    "\n",
    "# Create a crosstab to count songs by Artist and Added By\n",
    "artist_adder_counts = pd.crosstab(df_filtered['Genres'], df_filtered['Added By'])\n",
    "\n",
    "# Sort by total sum (descending order)\n",
    "artist_adder_counts_sorted = artist_adder_counts.loc[artist_adder_counts.sum(axis=1).sort_values(ascending=False).index]\n",
    "\n",
    "# Calculate totals for each artist\n",
    "totals = artist_adder_counts_sorted.sum(axis=1)\n",
    "\n",
    "# Create stacked bar plot\n",
    "fig = px.bar(artist_adder_counts_sorted, \n",
    "             x=artist_adder_counts_sorted.index,\n",
    "             y=artist_adder_counts_sorted.columns,\n",
    "             title='Genres with Multiple Songs (by Who Added Them)',\n",
    "             labels={'x': 'Genres', 'value': 'Number of Songs', 'variable': 'Added By'})\n",
    "\n",
    "# Add total numbers outside the bars\n",
    "for i, artist in enumerate(artist_adder_counts_sorted.index):\n",
    "    fig.add_annotation(\n",
    "        x=i,\n",
    "        y=totals[artist] + 0.1,  # Position slightly above the bar\n",
    "        text=str(totals[artist]),\n",
    "        showarrow=False,\n",
    "        font=dict(size=12, color=\"black\")\n",
    "    )\n",
    "\n",
    "# Customize the layout\n",
    "fig.update_layout(\n",
    "    xaxis_title=\"Artist\",\n",
    "    yaxis_title=\"Number of Songs\",\n",
    "    xaxis_tickangle=-45,  # Rotate x-axis labels for better readability\n",
    "    legend_title=\"Added By\"\n",
    ")\n",
    "\n",
    "fig.show()"
   ]
  },
  {
   "cell_type": "code",
   "execution_count": 29,
   "id": "ab8b30c7",
   "metadata": {},
   "outputs": [
    {
     "data": {
      "text/plain": [
       "array(['trance', 'hip hop tedesco', 'motown', 'soul classico', 'soul',\n",
       "       'northern soul', 'quiet storm', '', 'nu jazz', 'jazz rap',\n",
       "       'jazz fusion', 'jazz', 'indie jazz', 'soul afro', 'afropop',\n",
       "       'art pop', 'pop', 'latina', 'rock', 'hard rock', 'rock classico',\n",
       "       'rock and roll', 'europop', 'eurodance', 'nu metal',\n",
       "       'metal alternativo', 'rap metal', 'shoegaze', 'riot grrrl',\n",
       "       'queercore', 'new wave', 'synthpop', 'darkwave', 'gothic metal',\n",
       "       'rock gotico', 'doom metal', 'indie folk', 'folk', 'indie',\n",
       "       'rap rock', 'metalcore', 'old school hip hop',\n",
       "       \"hip hop dell'east coast\", 'hip hop', 'hardcore hip hop',\n",
       "       'electro house', 'rock alternativo', 'natale', 'k-pop',\n",
       "       'stutter house', 'musica house', 'pop francese', 'soft rock',\n",
       "       'raï', 'gnawa', 'pop marocchino', 'chaabi marocchino',\n",
       "       'chaabi algerino', 'vgm giapponese', 'pop bangla', 'ghazal',\n",
       "       'pop marathi', 'metal', 'thrash metal', 'heavy metal', 'hyperpop',\n",
       "       'power metal', 'metal sinfonico', 'speed metal',\n",
       "       'progressive metal', 'folk metal', 'rap', 'rock progressivo',\n",
       "       'art rock', 'space rock', 'experimental hip hop', 'miami bass',\n",
       "       'cantautorato italiano', 'cantautorato', 'trap soul', 'moombahton',\n",
       "       'industrial rock', 'french touch', 'elettronica', 'electro',\n",
       "       'madchester', 'jangle pop', 'pop latino', 'pop norvegese',\n",
       "       'russelåter', 'musical', 'bedroom pop', 'anti-folk', 'folk punk',\n",
       "       'synthwave', 'italo dance', 'hip house', 'blues rock',\n",
       "       'blues moderno', 'amapiano', 'gqom', 'afrobeats', 'neoperreo',\n",
       "       'sperimentale', 'latina alternativa', 'soft pop', 'pop barocco',\n",
       "       'avant-garde', 'post-punk', 'industrial metal', 'deathrock',\n",
       "       'industrial', 'cold wave', 'phonk', 'phonk brasiliano',\n",
       "       'funk rock', 'jam band', 'hardcore punk', 'hardcore',\n",
       "       'melodic techno', 'minimal techno', 'chanson', 'variété française',\n",
       "       'jazz francese', 'mpb', 'bossa nova', 'forró tradicional', 'samba',\n",
       "       'iazz brasiliano', 'country', 'red dirt', 'hypertechno', 'grime',\n",
       "       'city pop', 'j-pop', 'kayokyoku', 'future bass', 'rock norvegese',\n",
       "       'noise rock', 'trap italiana', 'funk', 'disco', 'doo-wop',\n",
       "       'trap argentina', 'latin trap', 'urbano latino', 'dream pop',\n",
       "       'vaporwave', 'chillwave', 'ballroom vogue', 'acid techno',\n",
       "       'techno', 'gabber', 'grunge', 'dubstep', 'edm', 'bhangra',\n",
       "       'bollywood', 'death metal', 'punk', 'pop punk', 'groove metal',\n",
       "       'nu disco', 'disco house'], dtype=object)"
      ]
     },
     "execution_count": 29,
     "metadata": {},
     "output_type": "execute_result"
    }
   ],
   "source": [
    "df_genres[\"Genres\"].unique()"
   ]
  },
  {
   "cell_type": "code",
   "execution_count": 30,
   "id": "da9f653a",
   "metadata": {},
   "outputs": [
    {
     "data": {
      "text/html": [
       "<div>\n",
       "<style scoped>\n",
       "    .dataframe tbody tr th:only-of-type {\n",
       "        vertical-align: middle;\n",
       "    }\n",
       "\n",
       "    .dataframe tbody tr th {\n",
       "        vertical-align: top;\n",
       "    }\n",
       "\n",
       "    .dataframe thead th {\n",
       "        text-align: right;\n",
       "    }\n",
       "</style>\n",
       "<table border=\"1\" class=\"dataframe\">\n",
       "  <thead>\n",
       "    <tr style=\"text-align: right;\">\n",
       "      <th></th>\n",
       "      <th>Track URI</th>\n",
       "      <th>Release Date</th>\n",
       "      <th>Duration (ms)</th>\n",
       "      <th>Popularity</th>\n",
       "      <th>Explicit</th>\n",
       "      <th>Added By</th>\n",
       "      <th>Added At</th>\n",
       "      <th>Genres</th>\n",
       "      <th>Record Label</th>\n",
       "      <th>Danceability</th>\n",
       "      <th>...</th>\n",
       "      <th>Instrumentalness</th>\n",
       "      <th>Liveness</th>\n",
       "      <th>Time Signature</th>\n",
       "      <th>Song</th>\n",
       "      <th>Artist</th>\n",
       "      <th>BPM</th>\n",
       "      <th>Album</th>\n",
       "      <th>Happy</th>\n",
       "      <th>ISRC</th>\n",
       "      <th>MinorMajor</th>\n",
       "    </tr>\n",
       "  </thead>\n",
       "  <tbody>\n",
       "    <tr>\n",
       "      <th>15</th>\n",
       "      <td>spotify:track:6Ufh0H4emPePwyjusICVKb</td>\n",
       "      <td>1986-03-17</td>\n",
       "      <td>296693</td>\n",
       "      <td>49</td>\n",
       "      <td>False</td>\n",
       "      <td>Lidia</td>\n",
       "      <td>2025-09-17 05:39:16+00:00</td>\n",
       "      <td>darkwave</td>\n",
       "      <td>Mute Records</td>\n",
       "      <td>0.503</td>\n",
       "      <td>...</td>\n",
       "      <td>0.00186</td>\n",
       "      <td>0.169</td>\n",
       "      <td>4</td>\n",
       "      <td>Black Celebration</td>\n",
       "      <td>[Depeche Mode]</td>\n",
       "      <td>154</td>\n",
       "      <td>Black Celebration (Deluxe)</td>\n",
       "      <td>12</td>\n",
       "      <td>GBAJH0602654</td>\n",
       "      <td>Minor</td>\n",
       "    </tr>\n",
       "    <tr>\n",
       "      <th>46</th>\n",
       "      <td>spotify:track:4U21h8AueaOxQ30agnDk6R</td>\n",
       "      <td>1990-03-19</td>\n",
       "      <td>372826</td>\n",
       "      <td>44</td>\n",
       "      <td>False</td>\n",
       "      <td>Lidia</td>\n",
       "      <td>2025-09-06 06:10:32+00:00</td>\n",
       "      <td>darkwave</td>\n",
       "      <td>Venusnote Ltd.</td>\n",
       "      <td>0.607</td>\n",
       "      <td>...</td>\n",
       "      <td>0.01970</td>\n",
       "      <td>0.116</td>\n",
       "      <td>4</td>\n",
       "      <td>Enjoy the Silence</td>\n",
       "      <td>[Depeche Mode]</td>\n",
       "      <td>113</td>\n",
       "      <td>Violator</td>\n",
       "      <td>23</td>\n",
       "      <td>GBAJH0600292</td>\n",
       "      <td>Minor</td>\n",
       "    </tr>\n",
       "    <tr>\n",
       "      <th>98</th>\n",
       "      <td>spotify:track:6VzXOkU7pVXaVMR6e4hRAg</td>\n",
       "      <td>1992-01-01</td>\n",
       "      <td>265466</td>\n",
       "      <td>51</td>\n",
       "      <td>False</td>\n",
       "      <td>Lidia</td>\n",
       "      <td>2025-09-06 06:09:09+00:00</td>\n",
       "      <td>darkwave</td>\n",
       "      <td>[PIAS] Recordings Catalogue</td>\n",
       "      <td>0.417</td>\n",
       "      <td>...</td>\n",
       "      <td>0.01200</td>\n",
       "      <td>0.488</td>\n",
       "      <td>4</td>\n",
       "      <td>Love Like Blood</td>\n",
       "      <td>[Killing Joke]</td>\n",
       "      <td>125</td>\n",
       "      <td>Laugh? I Nearly Bought One!</td>\n",
       "      <td>43</td>\n",
       "      <td>GBAAA8500023</td>\n",
       "      <td>Minor</td>\n",
       "    </tr>\n",
       "    <tr>\n",
       "      <th>185</th>\n",
       "      <td>spotify:track:0sMra9TqwOskuvn4eR11n3</td>\n",
       "      <td>2018-09-07</td>\n",
       "      <td>189003</td>\n",
       "      <td>64</td>\n",
       "      <td>False</td>\n",
       "      <td>Riccardo</td>\n",
       "      <td>2025-08-07 13:52:19+00:00</td>\n",
       "      <td>darkwave</td>\n",
       "      <td>Sacred Bones Records</td>\n",
       "      <td>0.386</td>\n",
       "      <td>...</td>\n",
       "      <td>0.89600</td>\n",
       "      <td>0.112</td>\n",
       "      <td>4</td>\n",
       "      <td>Тоска</td>\n",
       "      <td>[Molchat Doma]</td>\n",
       "      <td>160</td>\n",
       "      <td>Этажи</td>\n",
       "      <td>37</td>\n",
       "      <td>AEA0D1846144</td>\n",
       "      <td>Major</td>\n",
       "    </tr>\n",
       "  </tbody>\n",
       "</table>\n",
       "<p>4 rows × 24 columns</p>\n",
       "</div>"
      ],
      "text/plain": [
       "                                Track URI Release Date  Duration (ms)  \\\n",
       "15   spotify:track:6Ufh0H4emPePwyjusICVKb   1986-03-17         296693   \n",
       "46   spotify:track:4U21h8AueaOxQ30agnDk6R   1990-03-19         372826   \n",
       "98   spotify:track:6VzXOkU7pVXaVMR6e4hRAg   1992-01-01         265466   \n",
       "185  spotify:track:0sMra9TqwOskuvn4eR11n3   2018-09-07         189003   \n",
       "\n",
       "     Popularity  Explicit  Added By                  Added At    Genres  \\\n",
       "15           49     False     Lidia 2025-09-17 05:39:16+00:00  darkwave   \n",
       "46           44     False     Lidia 2025-09-06 06:10:32+00:00  darkwave   \n",
       "98           51     False     Lidia 2025-09-06 06:09:09+00:00  darkwave   \n",
       "185          64     False  Riccardo 2025-08-07 13:52:19+00:00  darkwave   \n",
       "\n",
       "                    Record Label  Danceability  ...  Instrumentalness  \\\n",
       "15                  Mute Records         0.503  ...           0.00186   \n",
       "46                Venusnote Ltd.         0.607  ...           0.01970   \n",
       "98   [PIAS] Recordings Catalogue         0.417  ...           0.01200   \n",
       "185         Sacred Bones Records         0.386  ...           0.89600   \n",
       "\n",
       "     Liveness  Time Signature               Song          Artist  BPM  \\\n",
       "15      0.169               4  Black Celebration  [Depeche Mode]  154   \n",
       "46      0.116               4  Enjoy the Silence  [Depeche Mode]  113   \n",
       "98      0.488               4    Love Like Blood  [Killing Joke]  125   \n",
       "185     0.112               4              Тоска  [Molchat Doma]  160   \n",
       "\n",
       "                           Album Happy          ISRC  MinorMajor  \n",
       "15    Black Celebration (Deluxe)    12  GBAJH0602654       Minor  \n",
       "46                      Violator    23  GBAJH0600292       Minor  \n",
       "98   Laugh? I Nearly Bought One!    43  GBAAA8500023       Minor  \n",
       "185                        Этажи    37  AEA0D1846144       Major  \n",
       "\n",
       "[4 rows x 24 columns]"
      ]
     },
     "execution_count": 30,
     "metadata": {},
     "output_type": "execute_result"
    }
   ],
   "source": [
    "df_genres[df_genres[\"Genres\"] == \"darkwave\"]"
   ]
  },
  {
   "cell_type": "code",
   "execution_count": 31,
   "id": "63f5dfae",
   "metadata": {},
   "outputs": [],
   "source": [
    "remapping = {\n",
    "    \"hip hop tedesco\": \"hip hop\",\n",
    "    \"soul classico\": \"soul\",\n",
    "    \"northern soul\": \"soul\",\n",
    "    \"nu jazz\": \"jazz\",\n",
    "    \"jazz rap\": \"jazz\",\n",
    "    \"jazz fusion\": \"jazz\",\n",
    "    \"indie jazz\": \"jazz\",\n",
    "    \"soul afro\": \"soul\",\n",
    "    \"afro pop\": \"pop\",\n",
    "    \"art pop\": \"pop\",\n",
    "    \"hard rock\": \"rock\",\n",
    "    \"rock classico\": \"rock\",\n",
    "    \"rock and roll\": \"rock\",\n",
    "    \"europop\": \"dance\",\n",
    "    \"eurodance\": \"dance\",\n",
    "    \"nu metal\": \"metal\",\n",
    "    \"metal alternativo\": \"metal\",\n",
    "    \"synthpop\": \"pop\",\n",
    "    \"synthpop\": \"pop\",\n",
    "}"
   ]
  },
  {
   "cell_type": "code",
   "execution_count": null,
   "id": "4692e644",
   "metadata": {},
   "outputs": [],
   "source": []
  }
 ],
 "metadata": {
  "kernelspec": {
   "display_name": ".venv",
   "language": "python",
   "name": "python3"
  },
  "language_info": {
   "codemirror_mode": {
    "name": "ipython",
    "version": 3
   },
   "file_extension": ".py",
   "mimetype": "text/x-python",
   "name": "python",
   "nbconvert_exporter": "python",
   "pygments_lexer": "ipython3",
   "version": "3.12.10"
  }
 },
 "nbformat": 4,
 "nbformat_minor": 5
}
